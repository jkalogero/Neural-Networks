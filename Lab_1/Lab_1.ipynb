{
  "nbformat": 4,
  "nbformat_minor": 0,
  "metadata": {
    "orig_nbformat": 2,
    "kernelspec": {
      "name": "python3",
      "display_name": "Python 3"
    },
    "colab": {
      "name": "Lab_1.ipynb",
      "provenance": [],
      "toc_visible": true
    }
  },
  "cells": [
    {
      "cell_type": "markdown",
      "metadata": {
        "id": "LgM-C62wlQTm"
      },
      "source": [
        "---\n",
        "#Άσκηση 1. Επιβλεπόμενη Μάθηση: Ταξινόμηση\n",
        "---\n"
      ]
    },
    {
      "cell_type": "markdown",
      "metadata": {
        "id": "rTjsQhI7orML"
      },
      "source": [
        "#Στοιχεία Ομάδας\n",
        "<u>Συνεργάτες</u>:\n",
        "\n",
        "Δούλης Κωνσταντίνος 03116175\n",
        "\n",
        "Καλογερόπουλος Ιωάννης 03116117\n",
        "\n",
        "Κατσίκας-Μουρούτσος Γεώργιος 03116132\n",
        "\n",
        "---"
      ]
    },
    {
      "cell_type": "markdown",
      "metadata": {
        "id": "Ik7SPquAmwND"
      },
      "source": [
        "Αρχικά, ενημερώνουμε τις βιβλιοθήκες που θα χρησιμοποιηθούν (έχει προστεθεί στην αρχή του κελιού η magic command %%capture ώστε να μην εμφανίζονται στο stdouput οι πληροφορίες των εγκαταστάσεων, για να είναι πιο ευανάγνωστο):"
      ]
    },
    {
      "cell_type": "code",
      "metadata": {
        "id": "N7_jP0HklpR1",
        "colab": {
          "base_uri": "https://localhost:8080/",
          "height": 1000
        },
        "outputId": "b9f94569-8fe6-4356-dfe2-af00f2a03bff"
      },
      "source": [
        "!pip install --upgrade pip #upgrade pip package installer\n",
        "!pip install scikit-learn --upgrade #upgrade scikit-learn package\n",
        "!pip install numpy --upgrade #upgrade numpy package\n",
        "!pip install pandas --upgrade #--upgrade #upgrade pandas package\n",
        "!pip install -U tensorflow\n",
        "!pip install --upgrade imbalanced-learn"
      ],
      "execution_count": 1,
      "outputs": [
        {
          "output_type": "stream",
          "text": [
            "Requirement already satisfied: pip in /usr/local/lib/python3.6/dist-packages (20.3.1)\n",
            "Requirement already satisfied: scikit-learn in /usr/local/lib/python3.6/dist-packages (0.23.2)\n",
            "Requirement already satisfied: scipy>=0.19.1 in /usr/local/lib/python3.6/dist-packages (from scikit-learn) (1.4.1)\n",
            "Requirement already satisfied: numpy>=1.13.3 in /usr/local/lib/python3.6/dist-packages (from scikit-learn) (1.18.5)\n",
            "Requirement already satisfied: threadpoolctl>=2.0.0 in /usr/local/lib/python3.6/dist-packages (from scikit-learn) (2.1.0)\n",
            "Requirement already satisfied: joblib>=0.11 in /usr/local/lib/python3.6/dist-packages (from scikit-learn) (0.17.0)\n",
            "Requirement already satisfied: numpy>=1.13.3 in /usr/local/lib/python3.6/dist-packages (from scikit-learn) (1.18.5)\n",
            "Requirement already satisfied: numpy in /usr/local/lib/python3.6/dist-packages (1.18.5)\n",
            "Collecting numpy\n",
            "  Using cached numpy-1.19.4-cp36-cp36m-manylinux2010_x86_64.whl (14.5 MB)\n",
            "Installing collected packages: numpy\n",
            "  Attempting uninstall: numpy\n",
            "    Found existing installation: numpy 1.18.5\n",
            "    Uninstalling numpy-1.18.5:\n",
            "      Successfully uninstalled numpy-1.18.5\n",
            "\u001b[31mERROR: pip's dependency resolver does not currently take into account all the packages that are installed. This behaviour is the source of the following dependency conflicts.\n",
            "tensorflow 2.3.1 requires numpy<1.19.0,>=1.16.0, but you have numpy 1.19.4 which is incompatible.\n",
            "datascience 0.10.6 requires folium==0.2.1, but you have folium 0.8.3 which is incompatible.\n",
            "albumentations 0.1.12 requires imgaug<0.2.7,>=0.2.5, but you have imgaug 0.2.9 which is incompatible.\u001b[0m\n",
            "Successfully installed numpy-1.19.4\n"
          ],
          "name": "stdout"
        },
        {
          "output_type": "display_data",
          "data": {
            "application/vnd.colab-display-data+json": {
              "pip_warning": {
                "packages": [
                  "numpy"
                ]
              }
            }
          },
          "metadata": {
            "tags": []
          }
        },
        {
          "output_type": "stream",
          "text": [
            "Requirement already satisfied: pandas in /usr/local/lib/python3.6/dist-packages (1.1.4)\n",
            "Requirement already satisfied: python-dateutil>=2.7.3 in /usr/local/lib/python3.6/dist-packages (from pandas) (2.8.1)\n",
            "Requirement already satisfied: numpy>=1.15.4 in /usr/local/lib/python3.6/dist-packages (from pandas) (1.19.4)\n",
            "Requirement already satisfied: pytz>=2017.2 in /usr/local/lib/python3.6/dist-packages (from pandas) (2018.9)\n",
            "Requirement already satisfied: six>=1.5 in /usr/local/lib/python3.6/dist-packages (from python-dateutil>=2.7.3->pandas) (1.15.0)\n",
            "Requirement already satisfied: tensorflow in /usr/local/lib/python3.6/dist-packages (2.3.1)\n",
            "Requirement already satisfied: tensorboard<3,>=2.3.0 in /usr/local/lib/python3.6/dist-packages (from tensorflow) (2.3.0)\n",
            "Requirement already satisfied: h5py<2.11.0,>=2.10.0 in /usr/local/lib/python3.6/dist-packages (from tensorflow) (2.10.0)\n",
            "Requirement already satisfied: six>=1.12.0 in /usr/local/lib/python3.6/dist-packages (from tensorflow) (1.15.0)\n",
            "Requirement already satisfied: astunparse==1.6.3 in /usr/local/lib/python3.6/dist-packages (from tensorflow) (1.6.3)\n",
            "Requirement already satisfied: absl-py>=0.7.0 in /usr/local/lib/python3.6/dist-packages (from tensorflow) (0.10.0)\n",
            "Requirement already satisfied: wrapt>=1.11.1 in /usr/local/lib/python3.6/dist-packages (from tensorflow) (1.12.1)\n",
            "Requirement already satisfied: termcolor>=1.1.0 in /usr/local/lib/python3.6/dist-packages (from tensorflow) (1.1.0)\n",
            "Requirement already satisfied: google-pasta>=0.1.8 in /usr/local/lib/python3.6/dist-packages (from tensorflow) (0.2.0)\n",
            "Requirement already satisfied: keras-preprocessing<1.2,>=1.1.1 in /usr/local/lib/python3.6/dist-packages (from tensorflow) (1.1.2)\n",
            "Requirement already satisfied: protobuf>=3.9.2 in /usr/local/lib/python3.6/dist-packages (from tensorflow) (3.12.4)\n",
            "Requirement already satisfied: tensorflow-estimator<2.4.0,>=2.3.0 in /usr/local/lib/python3.6/dist-packages (from tensorflow) (2.3.0)\n",
            "Requirement already satisfied: opt-einsum>=2.3.2 in /usr/local/lib/python3.6/dist-packages (from tensorflow) (3.3.0)\n",
            "Requirement already satisfied: grpcio>=1.8.6 in /usr/local/lib/python3.6/dist-packages (from tensorflow) (1.33.2)\n",
            "Requirement already satisfied: wheel>=0.26 in /usr/local/lib/python3.6/dist-packages (from tensorflow) (0.35.1)\n",
            "Requirement already satisfied: gast==0.3.3 in /usr/local/lib/python3.6/dist-packages (from tensorflow) (0.3.3)\n",
            "Requirement already satisfied: six>=1.12.0 in /usr/local/lib/python3.6/dist-packages (from tensorflow) (1.15.0)\n",
            "Requirement already satisfied: wheel>=0.26 in /usr/local/lib/python3.6/dist-packages (from tensorflow) (0.35.1)\n",
            "Requirement already satisfied: six>=1.12.0 in /usr/local/lib/python3.6/dist-packages (from tensorflow) (1.15.0)\n",
            "Requirement already satisfied: six>=1.12.0 in /usr/local/lib/python3.6/dist-packages (from tensorflow) (1.15.0)\n",
            "Requirement already satisfied: six>=1.12.0 in /usr/local/lib/python3.6/dist-packages (from tensorflow) (1.15.0)\n",
            "Requirement already satisfied: six>=1.12.0 in /usr/local/lib/python3.6/dist-packages (from tensorflow) (1.15.0)\n",
            "Requirement already satisfied: six>=1.12.0 in /usr/local/lib/python3.6/dist-packages (from tensorflow) (1.15.0)\n",
            "Collecting numpy<1.19.0,>=1.16.0\n",
            "  Using cached numpy-1.18.5-cp36-cp36m-manylinux1_x86_64.whl (20.1 MB)\n",
            "Requirement already satisfied: six>=1.12.0 in /usr/local/lib/python3.6/dist-packages (from tensorflow) (1.15.0)\n",
            "Requirement already satisfied: setuptools in /usr/local/lib/python3.6/dist-packages (from protobuf>=3.9.2->tensorflow) (50.3.2)\n",
            "Requirement already satisfied: markdown>=2.6.8 in /usr/local/lib/python3.6/dist-packages (from tensorboard<3,>=2.3.0->tensorflow) (3.3.3)\n",
            "Requirement already satisfied: six>=1.12.0 in /usr/local/lib/python3.6/dist-packages (from tensorflow) (1.15.0)\n",
            "Requirement already satisfied: google-auth-oauthlib<0.5,>=0.4.1 in /usr/local/lib/python3.6/dist-packages (from tensorboard<3,>=2.3.0->tensorflow) (0.4.2)\n",
            "Requirement already satisfied: werkzeug>=0.11.15 in /usr/local/lib/python3.6/dist-packages (from tensorboard<3,>=2.3.0->tensorflow) (1.0.1)\n",
            "Requirement already satisfied: wheel>=0.26 in /usr/local/lib/python3.6/dist-packages (from tensorflow) (0.35.1)\n",
            "Requirement already satisfied: protobuf>=3.9.2 in /usr/local/lib/python3.6/dist-packages (from tensorflow) (3.12.4)\n",
            "Requirement already satisfied: requests<3,>=2.21.0 in /usr/local/lib/python3.6/dist-packages (from tensorboard<3,>=2.3.0->tensorflow) (2.23.0)\n",
            "Requirement already satisfied: setuptools in /usr/local/lib/python3.6/dist-packages (from protobuf>=3.9.2->tensorflow) (50.3.2)\n",
            "Requirement already satisfied: absl-py>=0.7.0 in /usr/local/lib/python3.6/dist-packages (from tensorflow) (0.10.0)\n",
            "Requirement already satisfied: grpcio>=1.8.6 in /usr/local/lib/python3.6/dist-packages (from tensorflow) (1.33.2)\n",
            "Requirement already satisfied: tensorboard-plugin-wit>=1.6.0 in /usr/local/lib/python3.6/dist-packages (from tensorboard<3,>=2.3.0->tensorflow) (1.7.0)\n",
            "Requirement already satisfied: google-auth<2,>=1.6.3 in /usr/local/lib/python3.6/dist-packages (from tensorboard<3,>=2.3.0->tensorflow) (1.17.2)\n",
            "Requirement already satisfied: cachetools<5.0,>=2.0.0 in /usr/local/lib/python3.6/dist-packages (from google-auth<2,>=1.6.3->tensorboard<3,>=2.3.0->tensorflow) (4.1.1)\n",
            "Requirement already satisfied: rsa<5,>=3.1.4 in /usr/local/lib/python3.6/dist-packages (from google-auth<2,>=1.6.3->tensorboard<3,>=2.3.0->tensorflow) (4.6)\n",
            "Requirement already satisfied: six>=1.12.0 in /usr/local/lib/python3.6/dist-packages (from tensorflow) (1.15.0)\n",
            "Requirement already satisfied: pyasn1-modules>=0.2.1 in /usr/local/lib/python3.6/dist-packages (from google-auth<2,>=1.6.3->tensorboard<3,>=2.3.0->tensorflow) (0.2.8)\n",
            "Requirement already satisfied: setuptools in /usr/local/lib/python3.6/dist-packages (from protobuf>=3.9.2->tensorflow) (50.3.2)\n",
            "Requirement already satisfied: requests-oauthlib>=0.7.0 in /usr/local/lib/python3.6/dist-packages (from google-auth-oauthlib<0.5,>=0.4.1->tensorboard<3,>=2.3.0->tensorflow) (1.3.0)\n",
            "Requirement already satisfied: google-auth<2,>=1.6.3 in /usr/local/lib/python3.6/dist-packages (from tensorboard<3,>=2.3.0->tensorflow) (1.17.2)\n",
            "Requirement already satisfied: importlib-metadata in /usr/local/lib/python3.6/dist-packages (from markdown>=2.6.8->tensorboard<3,>=2.3.0->tensorflow) (2.0.0)\n",
            "Requirement already satisfied: zipp>=0.5 in /usr/local/lib/python3.6/dist-packages (from importlib-metadata->markdown>=2.6.8->tensorboard<3,>=2.3.0->tensorflow) (3.4.0)\n",
            "Requirement already satisfied: pyasn1<0.5.0,>=0.4.6 in /usr/local/lib/python3.6/dist-packages (from pyasn1-modules>=0.2.1->google-auth<2,>=1.6.3->tensorboard<3,>=2.3.0->tensorflow) (0.4.8)\n",
            "Requirement already satisfied: idna<3,>=2.5 in /usr/local/lib/python3.6/dist-packages (from requests<3,>=2.21.0->tensorboard<3,>=2.3.0->tensorflow) (2.10)\n",
            "Requirement already satisfied: certifi>=2017.4.17 in /usr/local/lib/python3.6/dist-packages (from requests<3,>=2.21.0->tensorboard<3,>=2.3.0->tensorflow) (2020.11.8)\n",
            "Requirement already satisfied: chardet<4,>=3.0.2 in /usr/local/lib/python3.6/dist-packages (from requests<3,>=2.21.0->tensorboard<3,>=2.3.0->tensorflow) (3.0.4)\n",
            "Requirement already satisfied: urllib3!=1.25.0,!=1.25.1,<1.26,>=1.21.1 in /usr/local/lib/python3.6/dist-packages (from requests<3,>=2.21.0->tensorboard<3,>=2.3.0->tensorflow) (1.24.3)\n",
            "Requirement already satisfied: requests<3,>=2.21.0 in /usr/local/lib/python3.6/dist-packages (from tensorboard<3,>=2.3.0->tensorflow) (2.23.0)\n",
            "Requirement already satisfied: oauthlib>=3.0.0 in /usr/local/lib/python3.6/dist-packages (from requests-oauthlib>=0.7.0->google-auth-oauthlib<0.5,>=0.4.1->tensorboard<3,>=2.3.0->tensorflow) (3.1.0)\n",
            "Requirement already satisfied: pyasn1<0.5.0,>=0.4.6 in /usr/local/lib/python3.6/dist-packages (from pyasn1-modules>=0.2.1->google-auth<2,>=1.6.3->tensorboard<3,>=2.3.0->tensorflow) (0.4.8)\n",
            "Installing collected packages: numpy\n",
            "  Attempting uninstall: numpy\n",
            "    Found existing installation: numpy 1.19.4\n",
            "    Uninstalling numpy-1.19.4:\n",
            "      Successfully uninstalled numpy-1.19.4\n",
            "\u001b[31mERROR: pip's dependency resolver does not currently take into account all the packages that are installed. This behaviour is the source of the following dependency conflicts.\n",
            "datascience 0.10.6 requires folium==0.2.1, but you have folium 0.8.3 which is incompatible.\n",
            "albumentations 0.1.12 requires imgaug<0.2.7,>=0.2.5, but you have imgaug 0.2.9 which is incompatible.\u001b[0m\n",
            "Successfully installed numpy-1.18.5\n"
          ],
          "name": "stdout"
        },
        {
          "output_type": "display_data",
          "data": {
            "application/vnd.colab-display-data+json": {
              "pip_warning": {
                "packages": [
                  "numpy"
                ]
              }
            }
          },
          "metadata": {
            "tags": []
          }
        },
        {
          "output_type": "stream",
          "text": [
            "Requirement already satisfied: imbalanced-learn in /usr/local/lib/python3.6/dist-packages (0.7.0)\n",
            "Requirement already satisfied: joblib>=0.11 in /usr/local/lib/python3.6/dist-packages (from imbalanced-learn) (0.17.0)\n",
            "Requirement already satisfied: scikit-learn>=0.23 in /usr/local/lib/python3.6/dist-packages (from imbalanced-learn) (0.23.2)\n",
            "Requirement already satisfied: scipy>=0.19.1 in /usr/local/lib/python3.6/dist-packages (from imbalanced-learn) (1.4.1)\n",
            "Requirement already satisfied: numpy>=1.13.3 in /usr/local/lib/python3.6/dist-packages (from imbalanced-learn) (1.18.5)\n",
            "Requirement already satisfied: joblib>=0.11 in /usr/local/lib/python3.6/dist-packages (from imbalanced-learn) (0.17.0)\n",
            "Requirement already satisfied: threadpoolctl>=2.0.0 in /usr/local/lib/python3.6/dist-packages (from scikit-learn>=0.23->imbalanced-learn) (2.1.0)\n",
            "Requirement already satisfied: scipy>=0.19.1 in /usr/local/lib/python3.6/dist-packages (from imbalanced-learn) (1.4.1)\n",
            "Requirement already satisfied: numpy>=1.13.3 in /usr/local/lib/python3.6/dist-packages (from imbalanced-learn) (1.18.5)\n",
            "Requirement already satisfied: numpy>=1.13.3 in /usr/local/lib/python3.6/dist-packages (from imbalanced-learn) (1.18.5)\n"
          ],
          "name": "stdout"
        }
      ]
    },
    {
      "cell_type": "code",
      "metadata": {
        "id": "jUYHWBBvjb9w"
      },
      "source": [
        "import warnings \n",
        "warnings.filterwarnings('ignore')"
      ],
      "execution_count": null,
      "outputs": []
    },
    {
      "cell_type": "code",
      "metadata": {
        "id": "F9L1ZXDKncGu",
        "colab": {
          "base_uri": "https://localhost:8080/"
        },
        "outputId": "d2c85a80-2a72-47ad-f7dc-d56af7a77291"
      },
      "source": [
        "from urllib.request import urlretrieve\n",
        "import os\n",
        "import zipfile\n",
        "\n",
        "def download(url, file):\n",
        "    if not os.path.isfile(file):\n",
        "        urlretrieve(url,file)\n",
        "        print(\"File downloaded\")\n",
        "\n",
        "download('http://archive.ics.uci.edu/ml/machine-learning-databases/credit-screening/crx.data', 'crx.data')"
      ],
      "execution_count": 2,
      "outputs": [
        {
          "output_type": "stream",
          "text": [
            "File downloaded\n"
          ],
          "name": "stdout"
        }
      ]
    },
    {
      "cell_type": "markdown",
      "metadata": {
        "id": "OuojFZSVqK3y"
      },
      "source": [
        "#Mικρό Dataset: Japanese Credit Screening\n"
      ]
    },
    {
      "cell_type": "markdown",
      "metadata": {
        "id": "8q2QlhnxrYXY"
      },
      "source": [
        "##Πληροφορίες dataset\n",
        "\n",
        "Το dataset που εξετάζουμε παρέχει πληροφορίες σχετικά με άτομα στα οποία χορηγήθηκε ή όχι πίστωση από Ιαπωνική εταιρεία. Τα δεδομένα παράχθηκαν ύστερα από σχετικές ερωτήσεις στους πελάτες τις εταιρείας."
      ]
    },
    {
      "cell_type": "markdown",
      "metadata": {
        "id": "OAMbop8Pr0B8"
      },
      "source": [
        "##Περιγραφή χαρακτηριστικών του dataset\n",
        "\n",
        "To dataset διαθέτει <b>690 δείγματα</b>, με το καθένα από αυτά να διαθέτει <b>15 χαρακτηριστικά συν 1 που είναι η κλάση</b>.\n",
        "\n",
        "Το κάθε δείγμα αντιστοιχεί σε μία γραμμή του αρχείου, ενώ η κάθε στήλη σε ένα χαρακτηριστικό του. <b>Η τελευταία στήλη δηλώνει την κλάση που ανήκει το δείγμα</b>. Συγκεκριμένα, το σύμβολο <b>\"+\"</b> δηλώνει ότι η πίστωση <b>εγκρίθηκε</b>, ενώ το σύμβολο <b>\"-\"</b> δηλώνει ότι <b>δεν εγκρίθηκε</b>.\n",
        "Επομένως, η δομή του αρχείου είναι κατάλληλη για να ξεκινήσουμε την προεπεξεργασία του dataset.\n",
        "\n",
        "Για λόγους απορήτου τα attribute names και values έχουν αντικατασταθεί με τυχαία σύμβολα, που δεν παρέχουν κάποια σχετική πληροφορία σχετικά με το τι περιγράφουν.\n",
        "\n",
        "Το είδος των χαρακτηριστικών φαίνεται παρακάτω:\n",
        "\n",
        "| Attribute | Type of Data                                 | Description    |\n",
        "|-----------|----------------------------------------------|----------------|\n",
        "| A1        | b, a.                                        | Male           |\n",
        "| A2        | continuous.                                  | Age            |\n",
        "| A3        | continuous.                                  | Debt           |\n",
        "| A4        | u, y, l, t.                                  | Married        |\n",
        "| A5        | g, p, gg.                                    | BankCustomer   |\n",
        "| A6        | c, d, cc, i, j, k, m, r, q, w, x, e, aa, ff. | EducationLevel |\n",
        "| A7        | v, h, bb, j, n, z, dd, ff, o.                | Ethnicity      |\n",
        "| A8        | continuous.                                  | YearsEmployed  |\n",
        "| A9        | t, f.                                        | PriorDefault   |\n",
        "| A10       | t, f.                                        | Employed       |\n",
        "| A11       | continuous.                                  | CreditScore    |\n",
        "| A12       | t, f.                                        | DriversLicense |\n",
        "| A13       | g, p, s.                                     | Citizen        |\n",
        "| A14       | continuous.                                  | ZipCode        |\n",
        "| A15       | continuous.                                  | Income         |\n",
        "| A16       | +,-                                          | Approved (CLASS ATTRIBUTE)       |\n",
        "\n",
        "\n",
        "\n",
        "* Τα χαρακτηριστικά που έχουν continuous τιμές αποτελουν <b>διατεταγμένα </b>χαρακτηριστικά, ενώ αυτά που έχουν διακριτές τιμές, δηλαδή σύμβολα, <b>μη διατεταγμένα</b>.\n",
        "\n",
        "* Στο dataset <b>δεν</b> υπάρχουν επικεφαλίδες, καθώς ούτε και αρίθμηση γραμμών.\n",
        "\n",
        "* Οι ετικέτες και οι σημασίες τους είναι:\n",
        "    * \"+\": Εγκρίθηκε η πίστωση\n",
        "    * \"-\": Απορρίφθηκε η πίστωση\n",
        "\n",
        "    Οι ετικέτες αυτές βρίσκονται στην τελευταία στήλη, ενώ οι τιμές τους θα πρέπει να μετατραπούν όπως φαίνεται παρακάτω:\n",
        "    * \"+\" -> 1\n",
        "    * \"-\" -> 0\n",
        "\n",
        "* <b>Υπάρχουν απουσιάζουσες τιμές</b>. Συγκεκριμένα, 37 δείγματα (5%) του συνολικού αριθμού δειγμάτων παρουσιάζουν μία ή παραπάνω απώλειες δεδομένων. \n",
        "\n",
        "Όλα τα παραπάνω φαίνονται παρακάτω:"
      ]
    },
    {
      "cell_type": "markdown",
      "metadata": {
        "id": "oW4faeHk8TKM"
      },
      "source": [
        "##Προεπεξεργασία των δεδομένων\n",
        "Aρχικά διαβάζουμε το αρχείο <b>crx.data</b>."
      ]
    },
    {
      "cell_type": "code",
      "metadata": {
        "id": "XNOetXVa77M7",
        "colab": {
          "base_uri": "https://localhost:8080/"
        },
        "outputId": "0b192e01-9f9e-4bc2-d5fd-ca441fe07b4d"
      },
      "source": [
        "import pandas as pd\n",
        "\n",
        "df = pd.read_csv(\"crx.data\", header=None)\n",
        "# print the five first samples\n",
        "print(df[:5])\n",
        "print(df.shape)"
      ],
      "execution_count": 4,
      "outputs": [
        {
          "output_type": "stream",
          "text": [
            "  0      1      2  3  4  5  6     7  8  9   10 11 12     13   14 15\n",
            "0  b  30.83  0.000  u  g  w  v  1.25  t  t   1  f  g  00202    0  +\n",
            "1  a  58.67  4.460  u  g  q  h  3.04  t  t   6  f  g  00043  560  +\n",
            "2  a  24.50  0.500  u  g  q  h  1.50  t  f   0  f  g  00280  824  +\n",
            "3  b  27.83  1.540  u  g  w  v  3.75  t  t   5  t  g  00100    3  +\n",
            "4  b  20.17  5.625  u  g  w  v  1.71  t  f   0  f  s  00120    0  +\n",
            "(690, 16)\n"
          ],
          "name": "stdout"
        }
      ]
    },
    {
      "cell_type": "markdown",
      "metadata": {
        "id": "NdZtApI_9Fab"
      },
      "source": [
        "###Αντιστοίχιση κλάσεων\n",
        "Παρατηρούμε, όπως ειπώθηκε και παραπάνω, ότι οι κλάσεις δηλώνονται στην τελευταία στήλη με τα σύμβολα +/-. \n",
        "\n",
        "Μετατρέπουμε τα \"+\" σε 1 και τα \"-\" σε 0:"
      ]
    },
    {
      "cell_type": "code",
      "metadata": {
        "id": "J3M1H7ST9O9x",
        "colab": {
          "base_uri": "https://localhost:8080/"
        },
        "outputId": "4211ccb2-cac6-405f-c29b-68c6f761209f"
      },
      "source": [
        "# create mapper for each symbol\n",
        "class_mapper = {\"+\": 1, \"-\": 0}\n",
        "# since these symbols occur only on the last column we dont specify the column\n",
        "df = df.replace(class_mapper)\n",
        "print(df[:5])"
      ],
      "execution_count": 5,
      "outputs": [
        {
          "output_type": "stream",
          "text": [
            "  0      1      2  3  4  5  6     7  8  9   10 11 12     13   14  15\n",
            "0  b  30.83  0.000  u  g  w  v  1.25  t  t   1  f  g  00202    0   1\n",
            "1  a  58.67  4.460  u  g  q  h  3.04  t  t   6  f  g  00043  560   1\n",
            "2  a  24.50  0.500  u  g  q  h  1.50  t  f   0  f  g  00280  824   1\n",
            "3  b  27.83  1.540  u  g  w  v  3.75  t  t   5  t  g  00100    3   1\n",
            "4  b  20.17  5.625  u  g  w  v  1.71  t  f   0  f  s  00120    0   1\n"
          ],
          "name": "stdout"
        }
      ]
    },
    {
      "cell_type": "markdown",
      "metadata": {
        "id": "p35rb4qAuRYR"
      },
      "source": [
        "###Εντοπισμός απουσιάζουσων τιμών χαρακτηριστικών\n",
        "\n",
        "Στη συνέχεια, θα εντοπίσουμε τις απουσιάζουσες τιμές. Αυτές δηλώνονται στο dataset με τον χαρακτήρα \"?\"."
      ]
    },
    {
      "cell_type": "code",
      "metadata": {
        "id": "s4snaGwf-KV3",
        "colab": {
          "base_uri": "https://localhost:8080/"
        },
        "outputId": "75e66fac-4dd8-426f-e5a6-ab95f950a424"
      },
      "source": [
        "import numpy as np\n",
        "from sklearn.impute import SimpleImputer\n",
        "\n",
        "# replace \"?\" with np.NaN\n",
        "df.replace('?',np.NaN,inplace=True)\n",
        "\n",
        "# calculate the number of samples with at least one missing attribute\n",
        "# df.isna() is the mask of df where each element is True if is NaN\n",
        "# s is the length of the list of samples that have at least one True(NaN)\n",
        "num_of_incomplete_samples = len([i for i in np.array(df.isna()) if True in i])\n",
        "\n",
        "print(\"The samples of the dataset that have at least one missing attribute are \", num_of_incomplete_samples)\n",
        "print(\"Which means that the \", num_of_incomplete_samples*100/df.shape[0], \"% of the samples have missing values.\", sep=\"\")"
      ],
      "execution_count": 6,
      "outputs": [
        {
          "output_type": "stream",
          "text": [
            "The samples of the dataset that have at least one missing attribute are  37\n",
            "Which means that the 5.36231884057971% of the samples have missing values.\n"
          ],
          "name": "stdout"
        }
      ]
    },
    {
      "cell_type": "markdown",
      "metadata": {
        "id": "mdHVwDC30eRv"
      },
      "source": [
        "Από τα παραπάνω βλέπουμε ότι αν θέλαμε να αγνοήσουμε τα δείγματα που έχουν missing values θα έπρεπε να \"πετάξουμε\" το 5% των δειγμάτων, αριθμός που <b>θα επηρέαζε αρνητικά τα αποτελέσματα</b>.\n",
        "\n",
        "Προκειμένου να εξετάσουμε αν οι περισσότερες τιμές που λείπουν προέρχονται απο συγκεκριμένα (λίγα) χαρακτηριστικά (και αν αυτά έχουν ίσως και μηδενική διακύμανση, δηλαδή  χαρακτηριστικά με σταθερές τιμές), οπότε θα μπορούσαμε να τα αγνοήσουμε, εκτελούμε:"
      ]
    },
    {
      "cell_type": "code",
      "metadata": {
        "id": "tkPRNBdi32T1",
        "colab": {
          "base_uri": "https://localhost:8080/"
        },
        "outputId": "edaac03c-753b-4656-93b2-452ce1a0f177"
      },
      "source": [
        "# the list of the number of missing values for each attribute occurs by \n",
        "# summing the elements of the inverse of df, without df's last column.\n",
        "# df's last column is the class attribute and it is alwasy present.\n",
        "incomplete_attrs = [sum(i) for i in np.array(df.isna())[:,:df.shape[1]-1].T]\n",
        "print(\"For each attribute of the dataset, the number of the missing values is\")\n",
        "print(incomplete_attrs)\n",
        "# print(sum(incomplete_attrs))"
      ],
      "execution_count": 8,
      "outputs": [
        {
          "output_type": "stream",
          "text": [
            "For each attribute of the dataset, the number of the missing values is\n",
            "[12, 12, 0, 6, 6, 9, 9, 0, 0, 0, 0, 0, 0, 13, 0]\n"
          ],
          "name": "stdout"
        }
      ]
    },
    {
      "cell_type": "markdown",
      "metadata": {
        "id": "0fXm2-b_32zj"
      },
      "source": [
        "Βλέπουμε, επομένως, ότι από τα 690 δείγματα το πολύ σε 13 από αυτά ένα χαρακτηριστικό δεν έχει τιμές. Επομένως, δεν έχει νόημα να αγνοήσουμε το χαρακτηριστικό αυτό, ακόμα και αν είναι αυτό με τις περισσότερες ελλείψεις, αφού αυτές είναι πολύ λίγες και θα χάναμε πολύ πληροφορία.\n",
        "\n",
        "Τελικά η πιο συμφέρουσα λύση είναι να αντικαταστήσουμε τα NaN με τιμές που προκύπτουν με βάση τις τιμές των χαρακτηριστικών σε προηγούμενα δείγματα. <u>Συγκεκριμένα, αντικαθιστούμε τα NaN με την τιμή του χαρακτηριστικού που εμφανίζεται πιο συχνά</u>.\n",
        "\n",
        "Την αντικατάσταση των απουσιάζουσων τιμών θα τη χειρίζεται το πρώτο κομμάτι προεπεξεργασίας του Pipeline, που θα οριστεί στη συνέχεια και θα πρόκειται για έναν μετασχηματιστή Imputer."
      ]
    },
    {
      "cell_type": "markdown",
      "metadata": {
        "id": "3iIfeNp-F20h"
      },
      "source": [
        "Οι κλάσεις βρίσκονται στην τελευταία στήλη του συνόλου δεδομένων. Οπότε για να βρούμε το πλήθος τους και τα ποσοστά δειγμάτων τους επί του συνόλου:"
      ]
    },
    {
      "cell_type": "code",
      "metadata": {
        "id": "cc32MgrVGpPE",
        "colab": {
          "base_uri": "https://localhost:8080/"
        },
        "outputId": "0d76bdc6-e44d-4c11-9c55-d92c89404df0"
      },
      "source": [
        "num_of_rows = df.shape[0]\n",
        "num_of_attrs = df.shape[1] - 1 #remove one element because of the class attribute\n",
        "\n",
        "# get labesl and features\n",
        "labels_df = df.iloc[:, [num_of_attrs]] # τα labels είναι στην τελευταία κολώνα\n",
        "features_df = df.iloc[:, 0:num_of_attrs]  # τα features είναι όλες οι προηγούμενες κολώνες\n",
        "\n",
        "labels = labels_df.values.reshape(num_of_rows,)\n",
        "features = features_df.values\n",
        "# convert to int\n",
        "labels.astype(int)\n",
        "labels = np.array(labels, dtype='int64')\n",
        "# print(labels.shape)\n",
        "\n",
        "# find how many of each class\n",
        "bin_count = np.bincount(labels)\n",
        "print (\"frequencies:\", bin_count)\n",
        "print(\"The percentage of 0's in data: \", bin_count[0]*100/sum(bin_count), \"%.\")\n",
        "print(\"The percentage of 1's in data: \", bin_count[1]*100/sum(bin_count), \"%.\")"
      ],
      "execution_count": 9,
      "outputs": [
        {
          "output_type": "stream",
          "text": [
            "frequencies: [383 307]\n",
            "The percentage of 0's in data:  55.507246376811594 %.\n",
            "The percentage of 1's in data:  44.492753623188406 %.\n"
          ],
          "name": "stdout"
        }
      ]
    },
    {
      "cell_type": "markdown",
      "metadata": {
        "id": "gW0hDxy-LS28"
      },
      "source": [
        "Καταλήγουμε, λοιπόν, ότι τα ποσοστά είναι περίπου 55.5% για την κλάση 0 και 44.5% για την κλάση 1. Επομένως, το dataset είναι <b>ισορροπημένο</b>."
      ]
    },
    {
      "cell_type": "code",
      "metadata": {
        "id": "sqMTLEANH4ST",
        "colab": {
          "base_uri": "https://localhost:8080/"
        },
        "outputId": "9b16b5bf-04fc-4364-890b-42591c35fb76"
      },
      "source": [
        "# print(labels[:5])\n",
        "print(features.shape)"
      ],
      "execution_count": 10,
      "outputs": [
        {
          "output_type": "stream",
          "text": [
            "(690, 15)\n"
          ],
          "name": "stdout"
        }
      ]
    },
    {
      "cell_type": "markdown",
      "metadata": {
        "id": "Fe7knthjExus"
      },
      "source": [
        "###Εντοπισμός κατηγορικών χαρακτηριστικών\n",
        "Το dataset περιλαμβάνει εκτός από χαρακτηριστικά με συνεχείς αριθμητικές τιμές και κατηγορικά χαρακτηριστικά. Από τις πληροφορίες που έχουμε για το dataset, τα χαρακτηριστικά που είναι κατηγορικά είναι αυτά που αντιστοιχούν στις στήλες:\n",
        "\n",
        "    0,3,4,5,6,8,9,11,12\n",
        "\n",
        "Ο χειρισμός των κατηγορικών συμβόλων θα γίνει μετά το χειρισμό των απουσιάζουσων τιμών και πριν το Cross Validation."
      ]
    },
    {
      "cell_type": "markdown",
      "metadata": {
        "id": "Yni1P1F6D-89"
      },
      "source": [
        "##Διαχωρισμός του dataset\n",
        "Διαχωρίζουμε το dataset σε train και test set, χρησιμοποιώντας το 80% των δεδομένων για το training και το 20% για το testing:"
      ]
    },
    {
      "cell_type": "code",
      "metadata": {
        "id": "Hze8obkLEg0K"
      },
      "source": [
        "from sklearn.model_selection import train_test_split\n",
        "\n",
        "\n",
        "train, test, train_labels, test_labels = train_test_split(features, labels, test_size=0.2, random_state=78)"
      ],
      "execution_count": 11,
      "outputs": []
    },
    {
      "cell_type": "code",
      "metadata": {
        "id": "nOLwbo9dBD4a"
      },
      "source": [
        "train_pd = pd.DataFrame(data=train[:,:],    # values\n",
        "                 index=train[:,0])    # 1st column as index\n",
        "                  \n",
        "test_pd = pd.DataFrame(data=test[:,:],    # values\n",
        "                 index=test[:,0])    # 1st column as index"
      ],
      "execution_count": 13,
      "outputs": []
    },
    {
      "cell_type": "code",
      "metadata": {
        "id": "IrNfyxLaBd8Y",
        "colab": {
          "base_uri": "https://localhost:8080/"
        },
        "outputId": "4d988057-e249-4ef0-d073-91b00d2eae57"
      },
      "source": [
        "print(train.shape)\n",
        "print(train_pd.shape)\n",
        "\n",
        "print(test.shape)\n",
        "print(test_pd.shape)"
      ],
      "execution_count": 14,
      "outputs": [
        {
          "output_type": "stream",
          "text": [
            "(552, 15)\n",
            "(552, 15)\n",
            "(138, 15)\n",
            "(138, 15)\n"
          ],
          "name": "stdout"
        }
      ]
    },
    {
      "cell_type": "code",
      "metadata": {
        "id": "Yo0VGdmqlTjd",
        "colab": {
          "base_uri": "https://localhost:8080/"
        },
        "outputId": "c5584bb2-7370-4fb6-99ce-eb3ae0ce8981"
      },
      "source": [
        "from collections import defaultdict\n",
        "# just for checking...\n",
        "print(train.shape)\n",
        "print(test.shape)\n",
        "check = defaultdict(int)\n",
        "for i in range(0,len(train_labels)):\n",
        "    check['pos_train'] += train_labels[i] == 1\n",
        "    check['neg_train'] += train_labels[i] == 0\n",
        "    \n",
        "\n",
        "# for i in range(0,len(test_labels)):\n",
        "#     check['pos_test'] += test_labels[i] == 1\n",
        "#     check['neg_test'] += test_labels[i] == 0\n",
        "    \n",
        "# print(check)"
      ],
      "execution_count": 15,
      "outputs": [
        {
          "output_type": "stream",
          "text": [
            "(552, 15)\n",
            "(138, 15)\n"
          ],
          "name": "stdout"
        }
      ]
    },
    {
      "cell_type": "markdown",
      "metadata": {
        "id": "Myc4SzW_5CKC"
      },
      "source": [
        "##Κατασκευή Pipeline"
      ]
    },
    {
      "cell_type": "markdown",
      "metadata": {
        "id": "VNwAJkIN_XGK"
      },
      "source": [
        "###Χειρισμός απουσιάζουσων τιμών\n",
        "Όπως καταλήξαμε θα χρησιμοποιηθεί ο μετασχηματιστής Imputer, για τον χειρισμό των απουσιάζουσων τιμών, θέτοντας σε αυτές την πιο συχνή τιμή του χαρακτηριστικού για τα κατηγορικά χαρακτηριστικά και τη μέση τιμή του χαρακτηριστικού για τα αριθμητικά.\n",
        "\n",
        "Αυτό το επιτυγχάνουμε χωρίζοντας το train και test σε δύο πίνακες με τα αριθμηρικά και τα κατηγορικά χαρακτηριστικά αντίστοιχα, αντικαθιστώντας με την κατάλληλη τιμή και στη συνέχεια ξαναενώνοντας τους δύο πίνακες, θέτοντας τη σωστή σειρά στις στήλες."
      ]
    },
    {
      "cell_type": "code",
      "metadata": {
        "id": "N-EJG3JR_wjD"
      },
      "source": [
        "# create imputer that will replace NaN with the most frequent value\n",
        "imp_num=SimpleImputer(missing_values=np.NaN,strategy=\"mean\")\n",
        "imp_cat=SimpleImputer(missing_values=np.NaN,strategy=\"most_frequent\")\n",
        "\n",
        "# split train data to numerical and non-numerical\n",
        "train_num = train_pd[[1,2,7,10,13,14]]\n",
        "train_cat = train_pd[[0,3,4,5,6,8,9,11,12]]\n",
        "\n",
        "# fit and transform train data by replacing NaN with the most frequent value of the attribute\n",
        "# numerical\n",
        "i_train_num=pd.DataFrame(imp_num.fit_transform(train_num))\n",
        "i_train_num.columns=train_num.columns\n",
        "i_train_num.index=train_num.index\n",
        "\n",
        "# non-numerical\n",
        "i_train_cat=pd.DataFrame(imp_cat.fit_transform(train_cat))\n",
        "i_train_cat.columns=train_cat.columns\n",
        "i_train_cat.index=train_cat.index\n",
        "\n",
        "# concat the two tables\n",
        "i_train = pd.concat([i_train_num, i_train_cat], axis=1, sort=False)\n",
        "# set the right order of columns\n",
        "i_train = i_train[train_pd.columns]\n",
        "\n",
        "# transform the test data using the same model\n",
        "test_num = test_pd[[1,2,7,10,13,14]]\n",
        "test_cat = test_pd[[0,3,4,5,6,8,9,11,12]]\n",
        "\n",
        "i_test_num = pd.DataFrame(imp_num.transform(test_num.values))\n",
        "i_test_num.columns=test_num.columns\n",
        "i_test_num.index=test_num.index\n",
        "i_test_cat = pd.DataFrame(imp_cat.transform(test_cat.values))\n",
        "i_test_cat.columns=test_cat.columns\n",
        "i_test_cat.index=test_cat.index\n",
        "\n",
        "# concat the two tables\n",
        "i_test = pd.concat([i_test_num, i_test_cat], axis=1, sort=False)\n",
        "# set the right order of columns\n",
        "i_test = i_test[test_pd.columns]"
      ],
      "execution_count": 16,
      "outputs": []
    },
    {
      "cell_type": "code",
      "metadata": {
        "id": "vtvh5TWcEQnj",
        "colab": {
          "base_uri": "https://localhost:8080/"
        },
        "outputId": "42b6f54c-adc5-4300-ac65-bcb7a4caaf21"
      },
      "source": [
        "print(train_pd.shape)\n",
        "print(i_train.shape)\n",
        "\n",
        "print(test_pd.shape)\n",
        "print(i_test.shape)"
      ],
      "execution_count": 17,
      "outputs": [
        {
          "output_type": "stream",
          "text": [
            "(552, 15)\n",
            "(552, 15)\n",
            "(138, 15)\n",
            "(138, 15)\n"
          ],
          "name": "stdout"
        }
      ]
    },
    {
      "cell_type": "markdown",
      "metadata": {
        "id": "CuYB4UObEuGh"
      },
      "source": [
        "###Χειρισμός κατηγορικών χαρακτηριστικών\n",
        "\n",
        "Για τον χειρισμό των κατηγορικών χαρακτηριστικών θα μετατρέψουμε τα μη διατεταγμένα χαρακτηριστικά με m τιμές σε m binary χαρακτηριστικά από τα οποία μόνο ένα είναι ενεργό κάθε φορά. Τα μη διατεταγμένα χαρακτηριστικά είναι τα: \n",
        "    0,3,4,5,6,8,9,11,12\n",
        "Επομένως εκτελούμε:"
      ]
    },
    {
      "cell_type": "code",
      "metadata": {
        "id": "Dg0Co3aQHerv"
      },
      "source": [
        "# οι κολόνες 0,3,4,5,6,8,9,11,12 έχουν κατηγορικές μεταβλητές. \n",
        "# Using \"get_dummies\" we convert to binary characteristics\n",
        "\n",
        "# converting train data\n",
        "dummies_train = pd.get_dummies(i_train, columns=[0,3,4,5,6,8,9,11,12])\n",
        "\n",
        "\n",
        "# converting test data\n",
        "# convert to dataframe \n",
        "mtdf = pd.DataFrame(i_test)\n",
        "dummies_test = pd.get_dummies(mtdf, columns=[0,3,4,5,6,8,9,11,12])"
      ],
      "execution_count": 18,
      "outputs": []
    },
    {
      "cell_type": "markdown",
      "metadata": {
        "id": "FtXtMrtVQuzN"
      },
      "source": [
        "Σε αυτό το σημείο θα πρέπει να έχουν δημιουργηθεί για κάθε τιμή των χαρακτηριστικών του συνόλου δεδομένων στο train dataset δυαδικά χαρακτηριστικά που δηλώνουν αν έχει ή όχι το δείγμα για το συγκεκριμένο χαρακτηριστικό αυτήν τιμή. Το ίδιο ισχύει και για το σύνολο δεδομένων στο test dataset. Ωστόσο, το δεύτερο είναι πολύ μικρότερο από το πρώτο και ανάλογα το πώς έγινε το split κάποιες τιμές για ορισμένα χαρακτηριστικά μπορεί να μην περιέχονται και στα 2 σύνολα, με αποτέλεσμα διαφορετικά σύνολα στηλών στα train και test. Για να αντιμετωπίσουμε αυτό το ζήτημα βρίσκουμε τις στήλες που εμφανίζονται μόνο στο ένα σύνολο δεδομένων και τις προσθέτουμε στο άλλο θέτοντας τιμή **0**. Αυτό το κάνουμε και για τα δύο σύνολα, αφού αν και λιγότερο πιθανό, μία τιμή ενός χαρακτηριστικού δύναται να περιέχεται στο test dataset και όχι στο train dataset. Ακολουθεί η υλοποίηση των παραπάνω:"
      ]
    },
    {
      "cell_type": "code",
      "metadata": {
        "id": "w1-Z7DCYIX8n",
        "colab": {
          "base_uri": "https://localhost:8080/"
        },
        "outputId": "c2912e43-f393-42be-fc75-a90494370e66"
      },
      "source": [
        "add_to_test = set(dummies_train.columns.values) - set(dummies_test.columns.values)\n",
        "for col in add_to_test:\n",
        "    dummies_test[col] = 0\n",
        "dummies_test = dummies_test[dummies_train.columns]\n",
        "print(dummies_test.shape[1] == dummies_test.shape[1])\n",
        "\n",
        "# MAYBE DO IT FOR TRAIN TO"
      ],
      "execution_count": 19,
      "outputs": [
        {
          "output_type": "stream",
          "text": [
            "True\n"
          ],
          "name": "stdout"
        }
      ]
    },
    {
      "cell_type": "markdown",
      "metadata": {
        "id": "DT_QqvfRWIOe"
      },
      "source": [
        "Επομένως, με αυτόν τον τρόπο διασφαλίζουμε ότι τα δύο σύνολα έχουν <u>τα ίδια χαρακτηριστικά και με την ίδια σειρά</u>. \n",
        "\n",
        "Τέλος, μετατρέπουμε σε αριθμητικές τιμές:"
      ]
    },
    {
      "cell_type": "code",
      "metadata": {
        "id": "uTIxsYqhWaWu",
        "colab": {
          "base_uri": "https://localhost:8080/"
        },
        "outputId": "d71246e3-8f16-4c5d-d3b2-eb2157456509"
      },
      "source": [
        "# Μετατρέπουμε σε αριθμητικές τιμές (pd.to_numeric) και σε numpy array (.values)\n",
        "final_train = dummies_train.apply(pd.to_numeric).values\n",
        "print(final_train.shape)\n",
        "# Μετατρέπουμε σε αριθμητικές τιμές (pd.to_numeric) και σε numpy array (.values)\n",
        "final_test = dummies_test.apply(pd.to_numeric).values\n",
        "print(final_test.shape)"
      ],
      "execution_count": 20,
      "outputs": [
        {
          "output_type": "stream",
          "text": [
            "(552, 46)\n",
            "(138, 46)\n"
          ],
          "name": "stdout"
        }
      ]
    },
    {
      "cell_type": "markdown",
      "metadata": {
        "id": "EYmrUc66NnUJ"
      },
      "source": [
        "Βλέπουμε, όπως αναμενόταν, ότι το πλήθος των χαρακτηριστικών φαίνεται έχει πλέον αυξηθεί.\n",
        "Στην πραγματικότητα παραμένουν τα ίδια χαρακτηριστικά, ωστόσο για κάθε κατηγορικό χαρακτηριστικό Κ, δημιουργούμε το χαρακτηριστικό έχειΚ_V για κάθε δυνατή τιμή του K, V, το οποίο έχει τιμή 1 μόνο αν το συγκεκριμένο δείγμα έχει την τιμή V για το χαρακτηριστικό αυτό."
      ]
    },
    {
      "cell_type": "code",
      "metadata": {
        "id": "RmD18iivv6_8"
      },
      "source": [
        "from itertools import combinations\n",
        "\n",
        "def get_transformers(my_list):\n",
        "    \"\"\"\n",
        "    Function that gets a list of all the transformers that can be used\n",
        "    and returns a list of subists, where each sublist is a unique combination\n",
        "    of the transformers.\n",
        "    \"\"\"\n",
        "    sublists = []\n",
        "    for i in range(0, len(my_list)+1):\n",
        "        temp = [list(x) for x in combinations(my_list, i) if not (('scaler' in x and 'min_max_scaler' in x) or ('ros' in x and 'rus' in x))]  #get the combinations with i elements\n",
        "        # scaler and min_max_scaler will not be used in the same pipeline. The same for ros and rus\n",
        "        sublists.extend(temp)    #and add to initial list\n",
        "    return sublists\n"
      ],
      "execution_count": 21,
      "outputs": []
    },
    {
      "cell_type": "code",
      "metadata": {
        "id": "Y5l4kqHEiVaf"
      },
      "source": [
        "import time\n",
        "import numpy as np\n",
        "import pandas as pd\n",
        "import matplotlib.pyplot as plt\n",
        "from sklearn.utils import shuffle\n",
        "from sklearn import neighbors\n",
        "from sklearn.metrics import classification_report\n",
        "\n",
        "from imblearn.pipeline import Pipeline\n",
        "\n",
        "# import the packages for the transformers and classifiers we will use\n",
        "from sklearn.dummy import DummyClassifier\n",
        "from sklearn.feature_selection import VarianceThreshold\n",
        "from sklearn.preprocessing import StandardScaler # φέρνουμε τον StandarScaler ως transformer που έχει .transform kai ΄όχι ως scale()\n",
        "from imblearn.over_sampling import RandomOverSampler\n",
        "from imblearn.under_sampling import RandomUnderSampler\n",
        "from sklearn.decomposition import PCA\n",
        "from sklearn.model_selection import GridSearchCV\n",
        "from sklearn import preprocessing\n",
        "from sklearn.naive_bayes import GaussianNB\n",
        "from sklearn.neural_network import MLPClassifier\n",
        "from sklearn.svm import SVC\n",
        "\n",
        "from sklearn.metrics import plot_confusion_matrix, accuracy_score, f1_score\n",
        "\n",
        "\n",
        "\n",
        "# dict that maps the classifier with the appropriate syntax of the\n",
        "# gridsearchCV attribute\n",
        "est_mapper_keys = {\n",
        "    'selector': 'selector__threshold',\n",
        "    'pca': 'pca__n_components',\n",
        "    'dummy': 'dummy__strategy',\n",
        "    'kNN': 'kNN__n_neighbors',\n",
        "    'mlp': ['hidden_layer_sizes', 'activation', 'solver', 'max_iter', 'alpha', 'learning_rate'],\n",
        "    'svc': ['pca__n_components', 'svc__kernel', 'svc__C', 'svc__gamma', 'svc__tol', 'svc__loss', 'svc__degree']\n",
        "}\n",
        "\n",
        "# initialize models\n",
        "selector = VarianceThreshold()\n",
        "min_max_scaler = preprocessing.MinMaxScaler()\n",
        "scaler = StandardScaler()\n",
        "ros = RandomOverSampler()\n",
        "rus = RandomUnderSampler()\n",
        "pca = PCA()\n",
        "dummy = DummyClassifier()\n",
        "gnb = GaussianNB()\n",
        "knn = neighbors.KNeighborsClassifier(n_jobs=-1)\n",
        "mlp = MLPClassifier()\n",
        "svc = SVC()\n",
        "\n",
        "def getEstDict(steps, est_values_mapper):\n",
        "    \"\"\"\n",
        "    Function that returns the dictionary that will be used as argument\n",
        "    for the GridSearchCV.\n",
        "    For every step in the steps of the pipeline it checks whether\n",
        "    there can be any argument for the GridSearchCV function and if there is, \n",
        "    it adds to the dictionary the proper attribute name and its value.\n",
        "    \"\"\"\n",
        "\n",
        "    dict = {}\n",
        "    for step in steps:\n",
        "        if step[0] in est_mapper_keys:\n",
        "            #\n",
        "            if step[0] != 'mlp' and step[0] != 'kNN':\n",
        "                dict[est_mapper_keys[step[0]]] = est_values_mapper[step[0]]\n",
        "            # \n",
        "            else:\n",
        "                for key in est_values_mapper[step[0]]:\n",
        "                    dict[est_mapper_keys[step[0]]] = est_values_mapper[step[0]][key]\n",
        "    \n",
        "    return dict\n",
        "\n",
        "\n",
        "\n",
        "def runEstimators(train, test, train_labels, test_labels, \n",
        "                  my_transformers, my_classifiers, est_values_mapper, \n",
        "                  cv=10, scoring='f1_macro', showResults = False):\n",
        "\n",
        "    \n",
        "\n",
        "    f1_scores = {}\n",
        "    # f1_scores['micro'] = {}\n",
        "    # f1_scores['macro'] = {}\n",
        "    f1_scores['best_estimator'] = {}\n",
        "    f1_scores['fit_time'] = {}\n",
        "    f1_scores['predict_time'] = {}\n",
        "    # f1_scores['report'] = {}\n",
        "    f1_scores['preds'] = {}\n",
        "    \n",
        "    counter = 0\n",
        "    for sequence in get_transformers(my_transformers):\n",
        "        \n",
        "        # add trasformers\n",
        "        steps = []  #initialize\n",
        "        steps = [(trans, my_transformers[trans]) for trans in sequence]\n",
        "        \n",
        "        # add classifier\n",
        "        for classifier in my_classifiers:\n",
        "            counter+=1\n",
        "            # print(classifier)\n",
        "            if len(steps): steps.pop()  #delete previous classifier\n",
        "            steps.append((classifier, my_classifiers[classifier])) #add new classifier\n",
        "            \n",
        "            # create Pipe\n",
        "            pipe = Pipeline(steps=steps, memory = 'tmp')\n",
        "            if cv:\n",
        "                # create gridsearch parameters\n",
        "                estimator_dict = getEstDict(steps, est_values_mapper)\n",
        "                # create Estimator\n",
        "                estimator = GridSearchCV(pipe, estimator_dict, cv=2, scoring=scoring, n_jobs=-1, verbose=10)\n",
        "                fit_start_time = time.time()    #start counting fit time\n",
        "                # fit estimator\n",
        "                estimator.fit(train, train_labels)\n",
        "                f1_scores['fit_time'][classifier+str(counter)] = time.time() - fit_start_time\n",
        "            else:\n",
        "                estimator = pipe.fit(train, train_labels)\n",
        "            \n",
        "            # test on test data\n",
        "            predict_start_time = time.time()    #start counting predict time\n",
        "            preds = estimator.predict(test)\n",
        "            \n",
        "            f1_scores['predict_time'][classifier+str(counter)] = time.time() - predict_start_time\n",
        "            # f1_scores['micro'][classifier+str(counter)] = f1_score(test_labels, preds, average='micro')\n",
        "            # f1_scores['macro'][classifier+str(counter)] = f1_score(test_labels, preds, average='macro')\n",
        "            # f1_scores['report'][classifier+str(counter)] = str(classification_report(test_labels, preds, target_names=[\"rejected\", \"granted\"]))\n",
        "            f1_scores['preds'][classifier+str(counter)] = preds\n",
        "            if cv:\n",
        "                f1_scores['best_estimator'][classifier+str(counter)] =  estimator.best_estimator_\n",
        "                \n",
        "            if showResults:\n",
        "                print(\"The average f1-micro average of the \"+ classifier +\" classifier is: \", f1_score(test_labels, preds, average='micro'))\n",
        "                print(\"The average f1-macro average of the \"+ classifier +\" classifier is: \", f1_score(test_labels, preds, average='macro'))\n",
        "                print(\"The classification report:\")\n",
        "                print(classification_report(test_labels, preds, target_names=[\"rejected\", \"granted\"]))\n",
        "                disp1 = plot_confusion_matrix(estimator, test, test_labels,\n",
        "                                    display_labels=[\"rejected\", \"granted\"],\n",
        "                                    cmap=plt.cm.Blues)\n",
        "                plt.show()\n",
        "                print(\"================================================================================\")\n",
        "        #     break\n",
        "        # break\n",
        "    print(counter)\n",
        "    return f1_scores\n"
      ],
      "execution_count": 176,
      "outputs": []
    },
    {
      "cell_type": "code",
      "metadata": {
        "id": "_ObxRFPVj1mb"
      },
      "source": [
        "# estimator.get_params().keys()"
      ],
      "execution_count": null,
      "outputs": []
    },
    {
      "cell_type": "code",
      "metadata": {
        "id": "AkpJu5odkVO3"
      },
      "source": [
        "# print(estimator.best_estimator_)\n",
        "# print(estimator.best_params_)"
      ],
      "execution_count": null,
      "outputs": []
    },
    {
      "cell_type": "markdown",
      "metadata": {
        "id": "J5mNVBXGdNRE"
      },
      "source": [
        "##Baseline Classification - Ταξινόμηση χωρίς προεπεξεργασία"
      ]
    },
    {
      "cell_type": "markdown",
      "metadata": {
        "id": "LQB2ODT4dUbU"
      },
      "source": [
        "Έχοντας υλοποιήσει τα παραπάνω, θα εκπαιδευτούν στο train dataset οι διάφοροι ταξινομητές (Dummy, Gausian Naive Bayes και K-Nearest Neighbors), χωρίς κάποια προεπεξεργασία των δεδομένων, εκτός από τον χειρισμό των απουσιάζουσων τιμών και των κατηγορικών χαρακτηριστικών και με τις default παραμέτρους τους:"
      ]
    },
    {
      "cell_type": "code",
      "metadata": {
        "id": "7592my4QlkWK",
        "colab": {
          "base_uri": "https://localhost:8080/",
          "height": 1000
        },
        "outputId": "731f4472-7399-46f2-fb0e-a68cf94de09b"
      },
      "source": [
        "# dict that maps the classifier with its model\n",
        "classifiers = {\n",
        "    'dummy': dummy,\n",
        "    'gnb': gnb,\n",
        "    'kNN': knn\n",
        "\n",
        "}\n",
        "\n",
        "f1_scores_default = runEstimators(train=final_train, test=final_test, train_labels=train_labels, test_labels=test_labels, my_transformers={}, my_classifiers=classifiers, est_values_mapper={}, cv=None, showResults=True)"
      ],
      "execution_count": 50,
      "outputs": [
        {
          "output_type": "stream",
          "text": [
            "<class 'numpy.float64'>\n",
            "<class 'numpy.ndarray'>\n",
            "The average f1-micro average of the dummy classifier is:  0.4927536231884058\n",
            "The average f1-macro average of the dummy classifier is:  0.49007601351351354\n",
            "The classification report:\n",
            "              precision    recall  f1-score   support\n",
            "\n",
            "    rejected       0.56      0.50      0.53        78\n",
            "     granted       0.43      0.48      0.45        60\n",
            "\n",
            "    accuracy                           0.49       138\n",
            "   macro avg       0.49      0.49      0.49       138\n",
            "weighted avg       0.50      0.49      0.49       138\n",
            "\n"
          ],
          "name": "stdout"
        },
        {
          "output_type": "stream",
          "text": [
            "/usr/local/lib/python3.6/dist-packages/sklearn/dummy.py:132: FutureWarning: The default value of strategy will change from stratified to prior in 0.24.\n",
            "  \"stratified to prior in 0.24.\", FutureWarning)\n"
          ],
          "name": "stderr"
        },
        {
          "output_type": "display_data",
          "data": {
            "image/png": "[encoded data removed]",
            "text/plain": [
              "<Figure size 432x288 with 2 Axes>"
            ]
          },
          "metadata": {
            "tags": [],
            "needs_background": "light"
          }
        },
        {
          "output_type": "stream",
          "text": [
            "================================================================================\n",
            "<class 'numpy.float64'>\n",
            "<class 'numpy.ndarray'>\n",
            "The average f1-micro average of the gnb classifier is:  0.8333333333333334\n",
            "The average f1-macro average of the gnb classifier is:  0.8266994266994266\n",
            "The classification report:\n",
            "              precision    recall  f1-score   support\n",
            "\n",
            "    rejected       0.82      0.91      0.86        78\n",
            "     granted       0.86      0.73      0.79        60\n",
            "\n",
            "    accuracy                           0.83       138\n",
            "   macro avg       0.84      0.82      0.83       138\n",
            "weighted avg       0.84      0.83      0.83       138\n",
            "\n"
          ],
          "name": "stdout"
        },
        {
          "output_type": "display_data",
          "data": {
            "image/png": "[encoded data removed]",
            "text/plain": [
              "<Figure size 432x288 with 2 Axes>"
            ]
          },
          "metadata": {
            "tags": [],
            "needs_background": "light"
          }
        },
        {
          "output_type": "stream",
          "text": [
            "================================================================================\n",
            "<class 'numpy.float64'>\n",
            "<class 'numpy.ndarray'>\n",
            "The average f1-micro average of the kNN classifier is:  0.7028985507246377\n",
            "The average f1-macro average of the kNN classifier is:  0.6871094398053421\n",
            "The classification report:\n",
            "              precision    recall  f1-score   support\n",
            "\n",
            "    rejected       0.70      0.82      0.76        78\n",
            "     granted       0.70      0.55      0.62        60\n",
            "\n",
            "    accuracy                           0.70       138\n",
            "   macro avg       0.70      0.69      0.69       138\n",
            "weighted avg       0.70      0.70      0.70       138\n",
            "\n"
          ],
          "name": "stdout"
        },
        {
          "output_type": "display_data",
          "data": {
            "image/png": "[encoded data removed]",
            "text/plain": [
              "<Figure size 432x288 with 2 Axes>"
            ]
          },
          "metadata": {
            "tags": [],
            "needs_background": "light"
          }
        },
        {
          "output_type": "stream",
          "text": [
            "================================================================================\n",
            "3\n"
          ],
          "name": "stdout"
        }
      ]
    },
    {
      "cell_type": "markdown",
      "metadata": {
        "id": "JeE5j1aUNA0P"
      },
      "source": [
        "Στη συνέχεια, έχοντας αποθηκεύσει τις τιμές των μετρικών F1-micro average και F1-macro average, τις αναπαριστούμε γραφικά:"
      ]
    },
    {
      "cell_type": "code",
      "metadata": {
        "id": "N3lXy5jkqduh",
        "colab": {
          "base_uri": "https://localhost:8080/",
          "height": 715
        },
        "outputId": "1e1e9d3e-7ac5-4d6f-8902-e509080d383d"
      },
      "source": [
        "# plot for f1-macro average\n",
        "fig = plt.figure()\n",
        "ax = fig.add_axes([0,0,1,1])\n",
        "clfs = f1_scores_default['preds'].keys()\n",
        "f1_macro_scores = [f1_score(test_labels, pred, average='macro') for pred in f1_scores_default['preds'].values()]\n",
        "ax.bar(clfs,f1_macro_scores, color='cyan', width=0.3)\n",
        "plt.title(\"F1 Macro Average\")\n",
        "plt.xlabel(\"Classifiers\")\n",
        "plt.ylabel(\"F1 Macro Score\")\n",
        "plt.grid()\n",
        "plt.show()\n",
        "\n",
        "\n",
        "# plot for f1-micro average\n",
        "fig = plt.figure()\n",
        "ax = fig.add_axes([0,0,1,1])\n",
        "clfs = f1_scores_default['preds'].keys()\n",
        "f1_micro_scores = [f1_score(test_labels, pred, average='micro') for pred in f1_scores_default['preds'].values()]\n",
        "ax.bar(clfs,f1_micro_scores, color='b', width=0.3)\n",
        "plt.title(\"F1 Micro Average\")\n",
        "plt.xlabel(\"Classifiers\")\n",
        "plt.ylabel(\"F1 Micro Score\")\n",
        "plt.grid()\n",
        "plt.show()\n"
      ],
      "execution_count": 137,
      "outputs": [
        {
          "output_type": "display_data",
          "data": {
            "image/png": "[encoded data removed]",
            "text/plain": [
              "<Figure size 432x288 with 1 Axes>"
            ]
          },
          "metadata": {
            "tags": [],
            "needs_background": "light"
          }
        },
        {
          "output_type": "display_data",
          "data": {
            "image/png": "[encoded data removed]",
            "text/plain": [
              "<Figure size 432x288 with 1 Axes>"
            ]
          },
          "metadata": {
            "tags": [],
            "needs_background": "light"
          }
        }
      ]
    },
    {
      "cell_type": "markdown",
      "metadata": {
        "id": "ZtOHr7PXNPxv"
      },
      "source": [
        "###Σχολιασμός αποτελεσμάτων\n",
        "\n",
        "Για την απόδοση των τριών ταξινομητών στα δεδομένα εισόδου έχουμε στη διάθεσή μας τις μετρικές:\n",
        "\n",
        "* **Precision**: Δηλώνει για κάθε κλάση την ακρίβεια των positive προβλέψεων, δηλαδή κατά πόσο ήταν θετικά αυτά που το μοντέλο δήλωσε ως θετικά. Προκύπτει από τον τύπο: **TP/ (TP + FP)**. Αν εφαρμόσουμε τον τύπο στα κατάλληλα δεδομένα των πινάκων σύγχυσης προκύπτουν οι τιμές που εφμανίζονται στο πεδίο  Precision του classification report για την αντίστοιχη κλάση. \n",
        "\n",
        "\n",
        "* **Recall**: Δηλώνει τι ποσοστό από τα positives για την κάθε κλάση προβλέψαμε σωστά. Προκύπτει από τον τύπο: TP /(TP + FN). Αν εφαρμόσουμε τον τύπο στα κατάλληλα δεδομένα των πινάκων σύγχυσης προκύπτουν οι τιμές που εφμανίζονται στο πεδίο  Recall του classification report για την αντίστοιχη κλάση. \n",
        "\n",
        "\n",
        "* **f1 -score**: Δηλώνει τι ποσοστό των θετικών προβλέψεων, για κάθε κλάση, ήταν σωστά. Προκύπτει από τον τύπο :\n",
        "\n",
        "    F1 Score = 2*(Recall * Precision) / (Recall + Precision)    \n",
        "και αν εφαρμόσουμε τις τιμές που προέκψαν προηγουμένως καταλήγουμε στα ίδια αποτελέσματα που υπάρχουν στo classification report, για την αντίστοιχη κλάση.\n",
        "\n",
        "Μελετώντας τις τιμές για τους τρεις classifiers:\n",
        "\n",
        "* Για τον **dummy**: Τα αποτελέσματα δεν ήταν ικανοποιητικά. Η μέθοδος που χρησιμοποιείται από default στον dummy classifier ονομάζεται \"stratified\" και για την αντιστοίχιση των κλάσεων λαμβάνει υπόψιν μόνο τη διατήρηση της ίδιας κατανομής των κλάσεων με αυτή στο train data. Σε κάθε επανάληψη του predict τα αποτελέσματα παρουσιάζουν μεταβολές, ωστόσο σε κάθε περίπτωση οι όλοι δείκτες κινούνται σε αναμενόμενες τιμές. Συγκεκριμένα, είναι λογικό να προβλέπει σταθερά περισσότερα *rejected*, δεδομένου ότι στο αρχικό dataset η κατανομή rejected-granted ήταν περίπου 55%- 45% και με ένα τυχαίο split η κατανομή στο train dataset θα είναι περίπου η ίδια. \n",
        "\n",
        "* Για τον **Naive Gaussain Bayes**: Συγκέτρωσε πολλά δείγματα στην κύρια διαγώνιο του confusion matrix.\n",
        "\n",
        "* Για τον **k-NN**: Τα αποτελέσματά του ήταν καλύτερα από τον \"dummy\", αλλά χειρότερα από τον gnb. Σημείωσε μετριο precision και σχετικά καλό Recall για το rejected, αλλά κακό για το Granted. Μια πιθανή εξήγηση σε αυτό θα ήταν ότι μπορεί να υπάρχουν συγκεκριμένα κριτήρια απόρριψης για την πίστωση, οπότε τα διανύσματα των δειγμάτων θα ήταν κοντινά. Αντίθετα, για την έγκριση πίστωσης μπορεί να είναι περισσότεροι οι παράγοντες και τα διανύσματα των δειγμάτων πολύ διαφορετικά. Επομένως, με μεγαλύτερο k, μπορεί να είχαμε μεγαλύτερο Recall για την κλάση granted."
      ]
    },
    {
      "cell_type": "markdown",
      "metadata": {
        "id": "PLoHK9vJsY83"
      },
      "source": [
        "##Βελτιστοποίηση ταξινομητών\n",
        "\n",
        "Ασχολούμαστε με τον κάθε ταξινομητή ξεχωριστά:\n",
        "\n",
        "\n",
        "Αρχικά βρίσκουμε το πλήθος των πιθανών συνδυασμών όλων των ταξινομητών (με τη σωστή διάταξη) και στη συνέχεια για κάθε συνδυασμό εφαρμόζουμε Cross Validation με τις αντίστοιχες τιμές των υπερπαραμέτρων. Στο τέλος του κάθε Cross Validation, αποθηκεύουμε, μεταξύ άλλων, τις τιμές f1-micro και f1-macro. Έτσι, αφού ολοκληρωθούν όλα τα Cross Validations, έχουμε στη διάθεσή μας όλες τις μετρικές που μας απασχολούν. Ταξινομόντας με βάση την μετρική που θέλουμε βρίσκουμε τον βέλτιστο συνολικά ταξινομητή, με κανένα, λίγους ή περισσότερους μετασχηματιστές πριν από τον εκτιμητή."
      ]
    },
    {
      "cell_type": "markdown",
      "metadata": {
        "id": "DfkXzpQAaMbM"
      },
      "source": [
        "Εκτελούμε τις παρακάτω εντολές για να βρούμε τη διακύμανση στις τιμές των διαφόρων χαρακτηριστικών:"
      ]
    },
    {
      "cell_type": "code",
      "metadata": {
        "id": "POOH7D00aDGs",
        "colab": {
          "base_uri": "https://localhost:8080/"
        },
        "outputId": "1f07b1d0-ca65-440a-827b-a1b5708d265b"
      },
      "source": [
        "train_variance = final_train.var(axis=0)\n",
        "print(train_variance)\n",
        "print(np.max(train_variance))"
      ],
      "execution_count": 61,
      "outputs": [
        {
          "output_type": "stream",
          "text": [
            "[1.36214048e+02 2.50808996e+01 1.13895028e+01 2.54195514e+01\n",
            " 3.08196317e+04 1.31891623e+07 2.09564036e-01 2.09564036e-01\n",
            " 1.80831233e-03 1.76157845e-01 1.75170001e-01 1.76157845e-01\n",
            " 1.80831233e-03 1.75170001e-01 7.18303665e-02 1.69105099e-01\n",
            " 5.46103760e-02 3.99305556e-02 3.65961720e-02 6.56604442e-02\n",
            " 8.08883375e-02 1.60385161e-02 6.72127704e-02 5.62086484e-02\n",
            " 9.54598561e-02 3.61006091e-03 8.23750263e-02 5.62086484e-02\n",
            " 8.08883375e-02 1.07514178e-02 7.33564377e-02 1.61730729e-01\n",
            " 1.25203476e-02 5.40524575e-03 1.80831233e-03 2.42438563e-01\n",
            " 1.07514178e-02 2.49051539e-01 2.49051539e-01 2.45746692e-01\n",
            " 2.45746692e-01 2.47948829e-01 2.47948829e-01 8.53287125e-02\n",
            " 8.97592418e-03 7.78952689e-02]\n",
            "13189162.332936227\n"
          ],
          "name": "stdout"
        }
      ]
    },
    {
      "cell_type": "markdown",
      "metadata": {
        "id": "TTD6qczYeoP2"
      },
      "source": [
        "###Mετρική απόδοσης: **f1-macro**:"
      ]
    },
    {
      "cell_type": "code",
      "metadata": {
        "id": "mfUzT2bL0heM"
      },
      "source": [
        "def getResults(scores, opt_est, test, test_labels, class0, class1):\n",
        "    print(\"\\n=========================================================================\\nRESULTS\")\n",
        "    best_estimator = scores['best_estimator'][opt_est]\n",
        "    print(\"Best estimator is: \", best_estimator)\n",
        "    # confusion matrix\n",
        "    disp1 = plot_confusion_matrix(best_estimator, test, test_labels,\n",
        "                                        display_labels=[class0, class1],\n",
        "                                        cmap=plt.cm.Blues)\n",
        "    plt.show()\n",
        "\n",
        "    # print results\n",
        "    print(\"The average f1-micro average is: \", f1_score(test_labels, scores['preds'][opt_est], average='macro'))\n",
        "    print(\"The average f1-macro average is: \", f1_score(test_labels, scores['preds'][opt_est], average='micro'))\n",
        "    print(\"Classification report:\\n\", classification_report(test_labels, scores['preds'][opt_est], target_names=[class0, class1]))\n",
        "    print(\"Fit time: \", scores['fit_time'][opt_est])\n",
        "    print(\"Predict time: \", scores['predict_time'][opt_est])"
      ],
      "execution_count": 96,
      "outputs": []
    },
    {
      "cell_type": "markdown",
      "metadata": {
        "id": "PYeTjRtIs3vw"
      },
      "source": [
        "####Dummy Classifier\n"
      ]
    },
    {
      "cell_type": "code",
      "metadata": {
        "id": "l7dQhnfltaC1",
        "colab": {
          "base_uri": "https://localhost:8080/",
          "height": 1000
        },
        "outputId": "0b329952-a192-4d59-ffc4-7e02a924147f"
      },
      "source": [
        "import operator\n",
        "\n",
        "# dict that maps the transformer with its model\n",
        "transformers = {'selector': selector,\n",
        "         'scaler': scaler,\n",
        "         'min_max_scaler': min_max_scaler,\n",
        "         'ros': ros,\n",
        "         'rus': rus,\n",
        "         'pca': pca\n",
        "        }\n",
        "\n",
        "# dict that maps the transformer/classifier with the values of its arguments\n",
        "est_values_mapper = {\n",
        "    'selector': [0, 1000, 10000, 1000000],\n",
        "    'pca': [10, 20, 30, 40, 50, 60],\n",
        "    'dummy': ['uniform', 'constant_0', 'constant_1', 'most_frequent', 'stratified'],\n",
        "}\n",
        "\n",
        "\n",
        "f1_scores = runEstimators(train=final_train, test=final_test, train_labels=train_labels, test_labels=test_labels, \n",
        "                          my_transformers=transformers, my_classifiers={'dummy': dummy}, est_values_mapper=est_values_mapper)\n",
        "\n",
        "\n",
        "# compute f1-macro\n",
        "dummy_macro = {k: f1_score(test_labels, v, average='macro') for k,v in f1_scores['preds'].items()}\n",
        "# get the estimator with the maximum f1-macro\n",
        "opt_est_dummy_macro = max(dummy_macro.items(), key=operator.itemgetter(1))[0]\n",
        "getResults(f1_scores, opt_est_dummy_macro, final_test, test_labels, \"rejected\", \"granted\")"
      ],
      "execution_count": 119,
      "outputs": [
        {
          "output_type": "stream",
          "text": [
            "{'dummy__strategy': ['uniform', 'constant_0', 'constant_1', 'most_frequent', 'stratified']}\n",
            "Pipeline(memory='tmp', steps=[('dummy', DummyClassifier())])\n",
            "Fitting 2 folds for each of 5 candidates, totalling 10 fits\n"
          ],
          "name": "stdout"
        },
        {
          "output_type": "stream",
          "text": [
            "[Parallel(n_jobs=-1)]: Using backend LokyBackend with 2 concurrent workers.\n",
            "[Parallel(n_jobs=-1)]: Done   1 tasks      | elapsed:    1.4s\n",
            "[Parallel(n_jobs=-1)]: Done   4 tasks      | elapsed:    1.5s\n",
            "[Parallel(n_jobs=-1)]: Done  10 out of  10 | elapsed:    1.5s finished\n",
            "[Parallel(n_jobs=-1)]: Using backend LokyBackend with 2 concurrent workers.\n",
            "[Parallel(n_jobs=-1)]: Done   1 tasks      | elapsed:    0.0s\n",
            "[Parallel(n_jobs=-1)]: Batch computation too fast (0.0082s.) Setting batch_size=2.\n",
            "[Parallel(n_jobs=-1)]: Done   4 tasks      | elapsed:    0.0s\n",
            "[Parallel(n_jobs=-1)]: Batch computation too fast (0.0143s.) Setting batch_size=4.\n",
            "[Parallel(n_jobs=-1)]: Done  10 out of  10 | elapsed:    0.0s finished\n",
            "[Parallel(n_jobs=-1)]: Using backend LokyBackend with 2 concurrent workers.\n",
            "[Parallel(n_jobs=-1)]: Done   1 tasks      | elapsed:    0.0s\n",
            "[Parallel(n_jobs=-1)]: Batch computation too fast (0.0095s.) Setting batch_size=2.\n",
            "[Parallel(n_jobs=-1)]: Done   4 tasks      | elapsed:    0.0s\n",
            "[Parallel(n_jobs=-1)]: Batch computation too fast (0.0134s.) Setting batch_size=4.\n",
            "[Parallel(n_jobs=-1)]: Done  10 out of  10 | elapsed:    0.0s finished\n",
            "[Parallel(n_jobs=-1)]: Using backend LokyBackend with 2 concurrent workers.\n",
            "[Parallel(n_jobs=-1)]: Done   1 tasks      | elapsed:    0.0s\n",
            "[Parallel(n_jobs=-1)]: Batch computation too fast (0.0082s.) Setting batch_size=2.\n",
            "[Parallel(n_jobs=-1)]: Done   4 tasks      | elapsed:    0.0s\n",
            "[Parallel(n_jobs=-1)]: Batch computation too fast (0.0128s.) Setting batch_size=4.\n"
          ],
          "name": "stderr"
        },
        {
          "output_type": "stream",
          "text": [
            "CREATE PIPELINE\n",
            "<class 'numpy.float64'>\n",
            "<class 'numpy.ndarray'>\n",
            "{'dummy__strategy': ['uniform', 'constant_0', 'constant_1', 'most_frequent', 'stratified']}\n",
            "Pipeline(memory='tmp', steps=[('dummy', DummyClassifier())])\n",
            "Fitting 2 folds for each of 5 candidates, totalling 10 fits\n",
            "CREATE PIPELINE\n",
            "<class 'numpy.float64'>\n",
            "<class 'numpy.ndarray'>\n",
            "{'dummy__strategy': ['uniform', 'constant_0', 'constant_1', 'most_frequent', 'stratified']}\n",
            "Pipeline(memory='tmp', steps=[('dummy', DummyClassifier())])\n",
            "Fitting 2 folds for each of 5 candidates, totalling 10 fits\n",
            "CREATE PIPELINE\n",
            "<class 'numpy.float64'>\n",
            "<class 'numpy.ndarray'>\n",
            "{'dummy__strategy': ['uniform', 'constant_0', 'constant_1', 'most_frequent', 'stratified']}\n",
            "Pipeline(memory='tmp', steps=[('dummy', DummyClassifier())])\n",
            "Fitting 2 folds for each of 5 candidates, totalling 10 fits\n",
            "CREATE PIPELINE\n",
            "<class 'numpy.float64'>\n",
            "<class 'numpy.ndarray'>\n",
            "{'dummy__strategy': ['uniform', 'constant_0', 'constant_1', 'most_frequent', 'stratified']}\n",
            "Pipeline(memory='tmp', steps=[('dummy', DummyClassifier())])\n",
            "Fitting 2 folds for each of 5 candidates, totalling 10 fits\n",
            "CREATE PIPELINE\n",
            "<class 'numpy.float64'>\n",
            "<class 'numpy.ndarray'>\n",
            "{'dummy__strategy': ['uniform', 'constant_0', 'constant_1', 'most_frequent', 'stratified']}\n",
            "Pipeline(memory='tmp', steps=[('dummy', DummyClassifier())])\n",
            "Fitting 2 folds for each of 5 candidates, totalling 10 fits\n"
          ],
          "name": "stdout"
        },
        {
          "output_type": "stream",
          "text": [
            "[Parallel(n_jobs=-1)]: Done   7 out of  10 | elapsed:    0.0s remaining:    0.0s\n",
            "[Parallel(n_jobs=-1)]: Done  10 out of  10 | elapsed:    0.0s finished\n",
            "[Parallel(n_jobs=-1)]: Using backend LokyBackend with 2 concurrent workers.\n",
            "[Parallel(n_jobs=-1)]: Done   1 tasks      | elapsed:    0.0s\n",
            "[Parallel(n_jobs=-1)]: Batch computation too fast (0.0080s.) Setting batch_size=2.\n",
            "[Parallel(n_jobs=-1)]: Done   4 tasks      | elapsed:    0.0s\n",
            "[Parallel(n_jobs=-1)]: Batch computation too fast (0.0132s.) Setting batch_size=4.\n",
            "[Parallel(n_jobs=-1)]: Done  10 out of  10 | elapsed:    0.0s finished\n",
            "[Parallel(n_jobs=-1)]: Using backend LokyBackend with 2 concurrent workers.\n",
            "[Parallel(n_jobs=-1)]: Done   1 tasks      | elapsed:    0.0s\n",
            "[Parallel(n_jobs=-1)]: Batch computation too fast (0.0091s.) Setting batch_size=2.\n",
            "[Parallel(n_jobs=-1)]: Done   4 tasks      | elapsed:    0.0s\n",
            "[Parallel(n_jobs=-1)]: Batch computation too fast (0.0145s.) Setting batch_size=4.\n",
            "[Parallel(n_jobs=-1)]: Done  10 out of  10 | elapsed:    0.0s finished\n",
            "[Parallel(n_jobs=-1)]: Using backend LokyBackend with 2 concurrent workers.\n",
            "[Parallel(n_jobs=-1)]: Done   1 tasks      | elapsed:    0.0s\n",
            "[Parallel(n_jobs=-1)]: Batch computation too fast (0.0083s.) Setting batch_size=2.\n",
            "[Parallel(n_jobs=-1)]: Done   4 tasks      | elapsed:    0.0s\n",
            "[Parallel(n_jobs=-1)]: Batch computation too fast (0.0134s.) Setting batch_size=4.\n",
            "[Parallel(n_jobs=-1)]: Done  10 out of  10 | elapsed:    0.0s finished\n",
            "[Parallel(n_jobs=-1)]: Using backend LokyBackend with 2 concurrent workers.\n",
            "[Parallel(n_jobs=-1)]: Done   1 tasks      | elapsed:    0.0s\n",
            "[Parallel(n_jobs=-1)]: Batch computation too fast (0.0279s.) Setting batch_size=2.\n",
            "[Parallel(n_jobs=-1)]: Done   4 tasks      | elapsed:    0.0s\n"
          ],
          "name": "stderr"
        },
        {
          "output_type": "stream",
          "text": [
            "CREATE PIPELINE\n",
            "<class 'numpy.float64'>\n",
            "<class 'numpy.ndarray'>\n",
            "{'dummy__strategy': ['uniform', 'constant_0', 'constant_1', 'most_frequent', 'stratified']}\n",
            "Pipeline(memory='tmp', steps=[('dummy', DummyClassifier())])\n",
            "Fitting 2 folds for each of 5 candidates, totalling 10 fits\n",
            "CREATE PIPELINE\n",
            "<class 'numpy.float64'>\n",
            "<class 'numpy.ndarray'>\n",
            "{'selector__threshold': [0, 1000, 10000, 1000000], 'dummy__strategy': ['uniform', 'constant_0', 'constant_1', 'most_frequent', 'stratified']}\n",
            "Pipeline(memory='tmp',\n",
            "         steps=[('selector', VarianceThreshold()),\n",
            "                ('dummy', DummyClassifier())])\n",
            "Fitting 2 folds for each of 20 candidates, totalling 40 fits\n"
          ],
          "name": "stdout"
        },
        {
          "output_type": "stream",
          "text": [
            "[Parallel(n_jobs=-1)]: Batch computation too fast (0.0296s.) Setting batch_size=4.\n",
            "[Parallel(n_jobs=-1)]: Done  16 tasks      | elapsed:    0.1s\n",
            "[Parallel(n_jobs=-1)]: Batch computation too fast (0.0399s.) Setting batch_size=8.\n",
            "[Parallel(n_jobs=-1)]: Done  30 tasks      | elapsed:    0.2s\n",
            "[Parallel(n_jobs=-1)]: Done  37 tasks      | elapsed:    0.2s\n",
            "[Parallel(n_jobs=-1)]: Done  40 out of  40 | elapsed:    0.2s finished\n",
            "[Parallel(n_jobs=-1)]: Using backend LokyBackend with 2 concurrent workers.\n",
            "[Parallel(n_jobs=-1)]: Batch computation too fast (0.0115s.) Setting batch_size=2.\n",
            "[Parallel(n_jobs=-1)]: Batch computation too fast (0.0115s.) Setting batch_size=4.\n"
          ],
          "name": "stderr"
        },
        {
          "output_type": "stream",
          "text": [
            "CREATE PIPELINE\n",
            "<class 'numpy.float64'>\n",
            "<class 'numpy.ndarray'>\n",
            "{'selector__threshold': [0, 1000, 10000, 1000000], 'dummy__strategy': ['uniform', 'constant_0', 'constant_1', 'most_frequent', 'stratified']}\n",
            "Pipeline(memory='tmp',\n",
            "         steps=[('selector', VarianceThreshold()),\n",
            "                ('dummy', DummyClassifier())])\n",
            "Fitting 2 folds for each of 20 candidates, totalling 40 fits\n",
            "CREATE PIPELINE\n",
            "<class 'numpy.float64'>\n",
            "<class 'numpy.ndarray'>\n",
            "{'selector__threshold': [0, 1000, 10000, 1000000], 'dummy__strategy': ['uniform', 'constant_0', 'constant_1', 'most_frequent', 'stratified']}\n",
            "Pipeline(memory='tmp',\n",
            "         steps=[('selector', VarianceThreshold()),\n",
            "                ('dummy', DummyClassifier())])\n"
          ],
          "name": "stdout"
        },
        {
          "output_type": "stream",
          "text": [
            "[Parallel(n_jobs=-1)]: Batch computation too fast (0.0401s.) Setting batch_size=8.\n",
            "[Parallel(n_jobs=-1)]: Done  19 tasks      | elapsed:    0.1s\n",
            "[Parallel(n_jobs=-1)]: Batch computation too fast (0.0763s.) Setting batch_size=16.\n",
            "[Parallel(n_jobs=-1)]: Done  37 out of  40 | elapsed:    0.2s remaining:    0.0s\n",
            "[Parallel(n_jobs=-1)]: Done  40 out of  40 | elapsed:    0.2s finished\n",
            "[Parallel(n_jobs=-1)]: Using backend LokyBackend with 2 concurrent workers.\n",
            "[Parallel(n_jobs=-1)]: Done   1 tasks      | elapsed:    0.0s\n",
            "[Parallel(n_jobs=-1)]: Batch computation too fast (0.0126s.) Setting batch_size=2.\n",
            "[Parallel(n_jobs=-1)]: Done   4 tasks      | elapsed:    0.0s\n",
            "[Parallel(n_jobs=-1)]: Batch computation too fast (0.0310s.) Setting batch_size=4.\n"
          ],
          "name": "stderr"
        },
        {
          "output_type": "stream",
          "text": [
            "Fitting 2 folds for each of 20 candidates, totalling 40 fits\n"
          ],
          "name": "stdout"
        },
        {
          "output_type": "stream",
          "text": [
            "[Parallel(n_jobs=-1)]: Done  16 tasks      | elapsed:    0.1s\n",
            "[Parallel(n_jobs=-1)]: Batch computation too fast (0.0529s.) Setting batch_size=8.\n",
            "[Parallel(n_jobs=-1)]: Done  30 tasks      | elapsed:    0.2s\n",
            "[Parallel(n_jobs=-1)]: Done  37 tasks      | elapsed:    0.2s\n",
            "[Parallel(n_jobs=-1)]: Done  40 out of  40 | elapsed:    0.2s finished\n",
            "[Parallel(n_jobs=-1)]: Using backend LokyBackend with 2 concurrent workers.\n",
            "[Parallel(n_jobs=-1)]: Done   1 tasks      | elapsed:    0.0s\n",
            "[Parallel(n_jobs=-1)]: Batch computation too fast (0.0122s.) Setting batch_size=2.\n",
            "[Parallel(n_jobs=-1)]: Done   4 tasks      | elapsed:    0.0s\n",
            "[Parallel(n_jobs=-1)]: Batch computation too fast (0.0308s.) Setting batch_size=4.\n"
          ],
          "name": "stderr"
        },
        {
          "output_type": "stream",
          "text": [
            "CREATE PIPELINE\n",
            "<class 'numpy.float64'>\n",
            "<class 'numpy.ndarray'>\n",
            "{'selector__threshold': [0, 1000, 10000, 1000000], 'dummy__strategy': ['uniform', 'constant_0', 'constant_1', 'most_frequent', 'stratified']}\n",
            "Pipeline(memory='tmp',\n",
            "         steps=[('selector', VarianceThreshold()),\n",
            "                ('dummy', DummyClassifier())])\n",
            "Fitting 2 folds for each of 20 candidates, totalling 40 fits\n"
          ],
          "name": "stdout"
        },
        {
          "output_type": "stream",
          "text": [
            "[Parallel(n_jobs=-1)]: Done  16 tasks      | elapsed:    0.1s\n",
            "[Parallel(n_jobs=-1)]: Batch computation too fast (0.0557s.) Setting batch_size=8.\n",
            "[Parallel(n_jobs=-1)]: Done  30 tasks      | elapsed:    0.2s\n",
            "[Parallel(n_jobs=-1)]: Done  37 tasks      | elapsed:    0.2s\n",
            "[Parallel(n_jobs=-1)]: Done  40 out of  40 | elapsed:    0.2s finished\n",
            "[Parallel(n_jobs=-1)]: Using backend LokyBackend with 2 concurrent workers.\n",
            "[Parallel(n_jobs=-1)]: Done   1 tasks      | elapsed:    0.0s\n",
            "[Parallel(n_jobs=-1)]: Batch computation too fast (0.0104s.) Setting batch_size=2.\n",
            "[Parallel(n_jobs=-1)]: Done   4 tasks      | elapsed:    0.0s\n",
            "[Parallel(n_jobs=-1)]: Batch computation too fast (0.0289s.) Setting batch_size=4.\n"
          ],
          "name": "stderr"
        },
        {
          "output_type": "stream",
          "text": [
            "CREATE PIPELINE\n",
            "<class 'numpy.float64'>\n",
            "<class 'numpy.ndarray'>\n",
            "{'selector__threshold': [0, 1000, 10000, 1000000], 'dummy__strategy': ['uniform', 'constant_0', 'constant_1', 'most_frequent', 'stratified']}\n",
            "Pipeline(memory='tmp',\n",
            "         steps=[('selector', VarianceThreshold()),\n",
            "                ('dummy', DummyClassifier())])\n",
            "Fitting 2 folds for each of 20 candidates, totalling 40 fits\n"
          ],
          "name": "stdout"
        },
        {
          "output_type": "stream",
          "text": [
            "[Parallel(n_jobs=-1)]: Done  16 tasks      | elapsed:    0.1s\n",
            "[Parallel(n_jobs=-1)]: Batch computation too fast (0.0637s.) Setting batch_size=8.\n",
            "[Parallel(n_jobs=-1)]: Done  30 tasks      | elapsed:    0.2s\n",
            "[Parallel(n_jobs=-1)]: Done  37 tasks      | elapsed:    0.2s\n",
            "[Parallel(n_jobs=-1)]: Done  40 out of  40 | elapsed:    0.2s finished\n",
            "[Parallel(n_jobs=-1)]: Using backend LokyBackend with 2 concurrent workers.\n",
            "[Parallel(n_jobs=-1)]: Done   1 tasks      | elapsed:    0.0s\n",
            "[Parallel(n_jobs=-1)]: Batch computation too fast (0.0140s.) Setting batch_size=2.\n",
            "[Parallel(n_jobs=-1)]: Done   4 tasks      | elapsed:    0.0s\n",
            "[Parallel(n_jobs=-1)]: Batch computation too fast (0.0228s.) Setting batch_size=4.\n",
            "[Parallel(n_jobs=-1)]: Done  10 out of  10 | elapsed:    0.1s finished\n",
            "[Parallel(n_jobs=-1)]: Using backend LokyBackend with 2 concurrent workers.\n"
          ],
          "name": "stderr"
        },
        {
          "output_type": "stream",
          "text": [
            "CREATE PIPELINE\n",
            "<class 'numpy.float64'>\n",
            "<class 'numpy.ndarray'>\n",
            "{'dummy__strategy': ['uniform', 'constant_0', 'constant_1', 'most_frequent', 'stratified']}\n",
            "Pipeline(memory='tmp',\n",
            "         steps=[('scaler', StandardScaler()), ('dummy', DummyClassifier())])\n",
            "Fitting 2 folds for each of 5 candidates, totalling 10 fits\n",
            "CREATE PIPELINE\n",
            "<class 'numpy.float64'>\n",
            "<class 'numpy.ndarray'>\n",
            "{'dummy__strategy': ['uniform', 'constant_0', 'constant_1', 'most_frequent', 'stratified']}\n",
            "Pipeline(memory='tmp',\n",
            "         steps=[('scaler', StandardScaler()), ('dummy', DummyClassifier())])\n",
            "Fitting 2 folds for each of 5 candidates, totalling 10 fits\n",
            "CREATE PIPELINE\n",
            "<class 'numpy.float64'>\n",
            "<class 'numpy.ndarray'>\n",
            "{'dummy__strategy': ['uniform', 'constant_0', 'constant_1', 'most_frequent', 'stratified']}\n",
            "Pipeline(memory='tmp',\n",
            "         steps=[('scaler', StandardScaler()), ('dummy', DummyClassifier())])\n",
            "Fitting 2 folds for each of 5 candidates, totalling 10 fits\n"
          ],
          "name": "stdout"
        },
        {
          "output_type": "stream",
          "text": [
            "[Parallel(n_jobs=-1)]: Done   1 tasks      | elapsed:    0.0s\n",
            "[Parallel(n_jobs=-1)]: Batch computation too fast (0.0184s.) Setting batch_size=2.\n",
            "[Parallel(n_jobs=-1)]: Done   4 tasks      | elapsed:    0.0s\n",
            "[Parallel(n_jobs=-1)]: Batch computation too fast (0.0257s.) Setting batch_size=4.\n",
            "[Parallel(n_jobs=-1)]: Done  10 out of  10 | elapsed:    0.1s finished\n",
            "[Parallel(n_jobs=-1)]: Using backend LokyBackend with 2 concurrent workers.\n",
            "[Parallel(n_jobs=-1)]: Done   1 tasks      | elapsed:    0.0s\n",
            "[Parallel(n_jobs=-1)]: Batch computation too fast (0.0146s.) Setting batch_size=2.\n",
            "[Parallel(n_jobs=-1)]: Done   4 tasks      | elapsed:    0.0s\n",
            "[Parallel(n_jobs=-1)]: Batch computation too fast (0.0263s.) Setting batch_size=4.\n",
            "[Parallel(n_jobs=-1)]: Done   7 out of  10 | elapsed:    0.1s remaining:    0.0s\n",
            "[Parallel(n_jobs=-1)]: Done  10 out of  10 | elapsed:    0.1s finished\n",
            "[Parallel(n_jobs=-1)]: Using backend LokyBackend with 2 concurrent workers.\n",
            "[Parallel(n_jobs=-1)]: Batch computation too fast (0.0126s.) Setting batch_size=2.\n",
            "[Parallel(n_jobs=-1)]: Batch computation too fast (0.0126s.) Setting batch_size=4.\n",
            "[Parallel(n_jobs=-1)]: Done   2 tasks      | elapsed:    0.0s\n",
            "[Parallel(n_jobs=-1)]: Done   5 tasks      | elapsed:    0.0s\n",
            "[Parallel(n_jobs=-1)]: Done  10 out of  10 | elapsed:    0.1s finished\n"
          ],
          "name": "stderr"
        },
        {
          "output_type": "stream",
          "text": [
            "CREATE PIPELINE\n",
            "<class 'numpy.float64'>\n",
            "<class 'numpy.ndarray'>\n",
            "{'dummy__strategy': ['uniform', 'constant_0', 'constant_1', 'most_frequent', 'stratified']}\n",
            "Pipeline(memory='tmp',\n",
            "         steps=[('min_max_scaler', MinMaxScaler()),\n",
            "                ('dummy', DummyClassifier())])\n",
            "Fitting 2 folds for each of 5 candidates, totalling 10 fits\n",
            "CREATE PIPELINE\n",
            "<class 'numpy.float64'>\n",
            "<class 'numpy.ndarray'>\n",
            "{'dummy__strategy': ['uniform', 'constant_0', 'constant_1', 'most_frequent', 'stratified']}\n",
            "Pipeline(memory='tmp',\n",
            "         steps=[('min_max_scaler', MinMaxScaler()),\n",
            "                ('dummy', DummyClassifier())])\n",
            "Fitting 2 folds for each of 5 candidates, totalling 10 fits\n",
            "CREATE PIPELINE\n",
            "<class 'numpy.float64'>\n",
            "<class 'numpy.ndarray'>\n",
            "{'dummy__strategy': ['uniform', 'constant_0', 'constant_1', 'most_frequent', 'stratified']}\n",
            "Pipeline(memory='tmp',\n",
            "         steps=[('min_max_scaler', MinMaxScaler()),\n",
            "                ('dummy', DummyClassifier())])\n",
            "Fitting 2 folds for each of 5 candidates, totalling 10 fits\n"
          ],
          "name": "stdout"
        },
        {
          "output_type": "stream",
          "text": [
            "[Parallel(n_jobs=-1)]: Using backend LokyBackend with 2 concurrent workers.\n",
            "[Parallel(n_jobs=-1)]: Done   1 tasks      | elapsed:    0.0s\n",
            "[Parallel(n_jobs=-1)]: Batch computation too fast (0.0103s.) Setting batch_size=2.\n",
            "[Parallel(n_jobs=-1)]: Done   4 tasks      | elapsed:    0.0s\n",
            "[Parallel(n_jobs=-1)]: Batch computation too fast (0.0307s.) Setting batch_size=4.\n",
            "[Parallel(n_jobs=-1)]: Done   7 out of  10 | elapsed:    0.1s remaining:    0.0s\n",
            "[Parallel(n_jobs=-1)]: Done  10 out of  10 | elapsed:    0.1s finished\n",
            "[Parallel(n_jobs=-1)]: Using backend LokyBackend with 2 concurrent workers.\n",
            "[Parallel(n_jobs=-1)]: Done   1 tasks      | elapsed:    0.0s\n",
            "[Parallel(n_jobs=-1)]: Batch computation too fast (0.0145s.) Setting batch_size=2.\n",
            "[Parallel(n_jobs=-1)]: Done   4 tasks      | elapsed:    0.0s\n",
            "[Parallel(n_jobs=-1)]: Batch computation too fast (0.0338s.) Setting batch_size=4.\n",
            "[Parallel(n_jobs=-1)]: Done  10 out of  10 | elapsed:    0.1s finished\n",
            "[Parallel(n_jobs=-1)]: Using backend LokyBackend with 2 concurrent workers.\n",
            "[Parallel(n_jobs=-1)]: Done   1 tasks      | elapsed:    0.0s\n",
            "[Parallel(n_jobs=-1)]: Batch computation too fast (0.0127s.) Setting batch_size=2.\n",
            "[Parallel(n_jobs=-1)]: Done   4 tasks      | elapsed:    0.0s\n"
          ],
          "name": "stderr"
        },
        {
          "output_type": "stream",
          "text": [
            "CREATE PIPELINE\n",
            "<class 'numpy.float64'>\n",
            "<class 'numpy.ndarray'>\n",
            "{'dummy__strategy': ['uniform', 'constant_0', 'constant_1', 'most_frequent', 'stratified']}\n",
            "Pipeline(memory='tmp',\n",
            "         steps=[('ros', RandomOverSampler()), ('dummy', DummyClassifier())])\n",
            "Fitting 2 folds for each of 5 candidates, totalling 10 fits\n",
            "CREATE PIPELINE\n",
            "<class 'numpy.float64'>\n",
            "<class 'numpy.ndarray'>\n",
            "{'dummy__strategy': ['uniform', 'constant_0', 'constant_1', 'most_frequent', 'stratified']}\n",
            "Pipeline(memory='tmp',\n",
            "         steps=[('rus', RandomUnderSampler()), ('dummy', DummyClassifier())])\n",
            "Fitting 2 folds for each of 5 candidates, totalling 10 fits\n",
            "CREATE PIPELINE\n",
            "<class 'numpy.float64'>\n",
            "<class 'numpy.ndarray'>\n",
            "{'selector__threshold': [0, 1000, 10000, 1000000], 'dummy__strategy': ['uniform', 'constant_0', 'constant_1', 'most_frequent', 'stratified']}\n",
            "Pipeline(memory='tmp',\n",
            "         steps=[('selector', VarianceThreshold()), ('scaler', StandardScaler()),\n",
            "                ('dummy', DummyClassifier())])\n",
            "Fitting 2 folds for each of 20 candidates, totalling 40 fits\n"
          ],
          "name": "stdout"
        },
        {
          "output_type": "stream",
          "text": [
            "[Parallel(n_jobs=-1)]: Batch computation too fast (0.0504s.) Setting batch_size=4.\n",
            "[Parallel(n_jobs=-1)]: Done  10 out of  10 | elapsed:    0.1s finished\n",
            "[Parallel(n_jobs=-1)]: Using backend LokyBackend with 2 concurrent workers.\n",
            "[Parallel(n_jobs=-1)]: Done   1 tasks      | elapsed:    0.0s\n",
            "[Parallel(n_jobs=-1)]: Batch computation too fast (0.0129s.) Setting batch_size=2.\n",
            "[Parallel(n_jobs=-1)]: Done   4 tasks      | elapsed:    0.0s\n",
            "[Parallel(n_jobs=-1)]: Batch computation too fast (0.0223s.) Setting batch_size=4.\n",
            "[Parallel(n_jobs=-1)]: Done   7 out of  10 | elapsed:    0.0s remaining:    0.0s\n",
            "[Parallel(n_jobs=-1)]: Done  10 out of  10 | elapsed:    0.1s finished\n",
            "[Parallel(n_jobs=-1)]: Using backend LokyBackend with 2 concurrent workers.\n",
            "[Parallel(n_jobs=-1)]: Done   1 tasks      | elapsed:    0.0s\n",
            "[Parallel(n_jobs=-1)]: Batch computation too fast (0.0164s.) Setting batch_size=2.\n",
            "[Parallel(n_jobs=-1)]: Done   4 tasks      | elapsed:    0.0s\n",
            "[Parallel(n_jobs=-1)]: Batch computation too fast (0.0406s.) Setting batch_size=4.\n",
            "[Parallel(n_jobs=-1)]: Done  16 tasks      | elapsed:    0.1s\n",
            "[Parallel(n_jobs=-1)]: Batch computation too fast (0.0511s.) Setting batch_size=8.\n",
            "[Parallel(n_jobs=-1)]: Done  30 tasks      | elapsed:    0.2s\n",
            "[Parallel(n_jobs=-1)]: Done  37 tasks      | elapsed:    0.2s\n",
            "[Parallel(n_jobs=-1)]: Done  40 out of  40 | elapsed:    0.2s finished\n",
            "[Parallel(n_jobs=-1)]: Using backend LokyBackend with 2 concurrent workers.\n",
            "[Parallel(n_jobs=-1)]: Done   1 tasks      | elapsed:    0.0s\n",
            "[Parallel(n_jobs=-1)]: Batch computation too fast (0.0133s.) Setting batch_size=2.\n",
            "[Parallel(n_jobs=-1)]: Done   4 tasks      | elapsed:    0.1s\n"
          ],
          "name": "stderr"
        },
        {
          "output_type": "stream",
          "text": [
            "CREATE PIPELINE\n",
            "<class 'numpy.float64'>\n",
            "<class 'numpy.ndarray'>\n",
            "{'selector__threshold': [0, 1000, 10000, 1000000], 'dummy__strategy': ['uniform', 'constant_0', 'constant_1', 'most_frequent', 'stratified']}\n",
            "Pipeline(memory='tmp',\n",
            "         steps=[('selector', VarianceThreshold()), ('scaler', StandardScaler()),\n",
            "                ('dummy', DummyClassifier())])\n",
            "Fitting 2 folds for each of 20 candidates, totalling 40 fits\n"
          ],
          "name": "stdout"
        },
        {
          "output_type": "stream",
          "text": [
            "[Parallel(n_jobs=-1)]: Batch computation too fast (0.0449s.) Setting batch_size=4.\n",
            "[Parallel(n_jobs=-1)]: Done  16 tasks      | elapsed:    0.1s\n",
            "[Parallel(n_jobs=-1)]: Batch computation too fast (0.0544s.) Setting batch_size=8.\n",
            "[Parallel(n_jobs=-1)]: Done  30 tasks      | elapsed:    0.2s\n",
            "[Parallel(n_jobs=-1)]: Done  37 tasks      | elapsed:    0.2s\n",
            "[Parallel(n_jobs=-1)]: Done  40 out of  40 | elapsed:    0.3s finished\n"
          ],
          "name": "stderr"
        },
        {
          "output_type": "stream",
          "text": [
            "CREATE PIPELINE\n",
            "<class 'numpy.float64'>\n",
            "<class 'numpy.ndarray'>\n",
            "{'selector__threshold': [0, 1000, 10000, 1000000], 'dummy__strategy': ['uniform', 'constant_0', 'constant_1', 'most_frequent', 'stratified']}\n",
            "Pipeline(memory='tmp',\n",
            "         steps=[('selector', VarianceThreshold()), ('scaler', StandardScaler()),\n",
            "                ('dummy', DummyClassifier())])\n",
            "Fitting 2 folds for each of 20 candidates, totalling 40 fits\n"
          ],
          "name": "stdout"
        },
        {
          "output_type": "stream",
          "text": [
            "[Parallel(n_jobs=-1)]: Using backend LokyBackend with 2 concurrent workers.\n",
            "[Parallel(n_jobs=-1)]: Done   1 tasks      | elapsed:    0.0s\n",
            "[Parallel(n_jobs=-1)]: Batch computation too fast (0.0164s.) Setting batch_size=2.\n",
            "[Parallel(n_jobs=-1)]: Done   4 tasks      | elapsed:    0.0s\n",
            "[Parallel(n_jobs=-1)]: Batch computation too fast (0.0388s.) Setting batch_size=4.\n",
            "[Parallel(n_jobs=-1)]: Done  16 tasks      | elapsed:    0.1s\n",
            "[Parallel(n_jobs=-1)]: Batch computation too fast (0.0606s.) Setting batch_size=8.\n",
            "[Parallel(n_jobs=-1)]: Done  30 tasks      | elapsed:    0.2s\n",
            "[Parallel(n_jobs=-1)]: Done  37 tasks      | elapsed:    0.2s\n",
            "[Parallel(n_jobs=-1)]: Done  40 out of  40 | elapsed:    0.3s finished\n",
            "[Parallel(n_jobs=-1)]: Using backend LokyBackend with 2 concurrent workers.\n",
            "[Parallel(n_jobs=-1)]: Done   1 tasks      | elapsed:    0.0s\n",
            "[Parallel(n_jobs=-1)]: Batch computation too fast (0.0154s.) Setting batch_size=2.\n",
            "[Parallel(n_jobs=-1)]: Done   4 tasks      | elapsed:    0.0s\n",
            "[Parallel(n_jobs=-1)]: Batch computation too fast (0.0347s.) Setting batch_size=4.\n",
            "[Parallel(n_jobs=-1)]: Done  16 tasks      | elapsed:    0.1s\n",
            "[Parallel(n_jobs=-1)]: Batch computation too fast (0.0596s.) Setting batch_size=8.\n"
          ],
          "name": "stderr"
        },
        {
          "output_type": "stream",
          "text": [
            "CREATE PIPELINE\n",
            "<class 'numpy.float64'>\n",
            "<class 'numpy.ndarray'>\n",
            "{'selector__threshold': [0, 1000, 10000, 1000000], 'dummy__strategy': ['uniform', 'constant_0', 'constant_1', 'most_frequent', 'stratified']}\n",
            "Pipeline(memory='tmp',\n",
            "         steps=[('selector', VarianceThreshold()),\n",
            "                ('min_max_scaler', MinMaxScaler()),\n",
            "                ('dummy', DummyClassifier())])\n",
            "Fitting 2 folds for each of 20 candidates, totalling 40 fits\n"
          ],
          "name": "stdout"
        },
        {
          "output_type": "stream",
          "text": [
            "[Parallel(n_jobs=-1)]: Done  30 tasks      | elapsed:    0.2s\n",
            "[Parallel(n_jobs=-1)]: Done  37 tasks      | elapsed:    0.2s\n",
            "[Parallel(n_jobs=-1)]: Done  40 out of  40 | elapsed:    0.3s finished\n",
            "[Parallel(n_jobs=-1)]: Using backend LokyBackend with 2 concurrent workers.\n",
            "[Parallel(n_jobs=-1)]: Done   1 tasks      | elapsed:    0.0s\n",
            "[Parallel(n_jobs=-1)]: Batch computation too fast (0.0150s.) Setting batch_size=2.\n",
            "[Parallel(n_jobs=-1)]: Done   4 tasks      | elapsed:    0.0s\n",
            "[Parallel(n_jobs=-1)]: Batch computation too fast (0.0371s.) Setting batch_size=4.\n",
            "[Parallel(n_jobs=-1)]: Done  16 tasks      | elapsed:    0.1s\n",
            "[Parallel(n_jobs=-1)]: Batch computation too fast (0.0514s.) Setting batch_size=8.\n"
          ],
          "name": "stderr"
        },
        {
          "output_type": "stream",
          "text": [
            "CREATE PIPELINE\n",
            "<class 'numpy.float64'>\n",
            "<class 'numpy.ndarray'>\n",
            "{'selector__threshold': [0, 1000, 10000, 1000000], 'dummy__strategy': ['uniform', 'constant_0', 'constant_1', 'most_frequent', 'stratified']}\n",
            "Pipeline(memory='tmp',\n",
            "         steps=[('selector', VarianceThreshold()),\n",
            "                ('min_max_scaler', MinMaxScaler()),\n",
            "                ('dummy', DummyClassifier())])\n",
            "Fitting 2 folds for each of 20 candidates, totalling 40 fits\n"
          ],
          "name": "stdout"
        },
        {
          "output_type": "stream",
          "text": [
            "[Parallel(n_jobs=-1)]: Done  30 tasks      | elapsed:    0.2s\n",
            "[Parallel(n_jobs=-1)]: Done  37 tasks      | elapsed:    0.3s\n",
            "[Parallel(n_jobs=-1)]: Done  40 out of  40 | elapsed:    0.3s finished\n",
            "[Parallel(n_jobs=-1)]: Using backend LokyBackend with 2 concurrent workers.\n",
            "[Parallel(n_jobs=-1)]: Done   1 tasks      | elapsed:    0.0s\n",
            "[Parallel(n_jobs=-1)]: Batch computation too fast (0.0153s.) Setting batch_size=2.\n",
            "[Parallel(n_jobs=-1)]: Done   4 tasks      | elapsed:    0.0s\n",
            "[Parallel(n_jobs=-1)]: Batch computation too fast (0.0298s.) Setting batch_size=4.\n"
          ],
          "name": "stderr"
        },
        {
          "output_type": "stream",
          "text": [
            "CREATE PIPELINE\n",
            "<class 'numpy.float64'>\n",
            "<class 'numpy.ndarray'>\n",
            "{'selector__threshold': [0, 1000, 10000, 1000000], 'dummy__strategy': ['uniform', 'constant_0', 'constant_1', 'most_frequent', 'stratified']}\n",
            "Pipeline(memory='tmp',\n",
            "         steps=[('selector', VarianceThreshold()),\n",
            "                ('min_max_scaler', MinMaxScaler()),\n",
            "                ('dummy', DummyClassifier())])\n",
            "Fitting 2 folds for each of 20 candidates, totalling 40 fits\n"
          ],
          "name": "stdout"
        },
        {
          "output_type": "stream",
          "text": [
            "[Parallel(n_jobs=-1)]: Done  16 tasks      | elapsed:    0.1s\n",
            "[Parallel(n_jobs=-1)]: Batch computation too fast (0.0533s.) Setting batch_size=8.\n",
            "[Parallel(n_jobs=-1)]: Done  30 tasks      | elapsed:    0.2s\n",
            "[Parallel(n_jobs=-1)]: Done  37 tasks      | elapsed:    0.2s\n",
            "[Parallel(n_jobs=-1)]: Done  40 out of  40 | elapsed:    0.2s finished\n",
            "[Parallel(n_jobs=-1)]: Using backend LokyBackend with 2 concurrent workers.\n",
            "[Parallel(n_jobs=-1)]: Done   1 tasks      | elapsed:    0.0s\n",
            "[Parallel(n_jobs=-1)]: Batch computation too fast (0.0156s.) Setting batch_size=2.\n",
            "[Parallel(n_jobs=-1)]: Done   4 tasks      | elapsed:    0.0s\n",
            "[Parallel(n_jobs=-1)]: Batch computation too fast (0.0419s.) Setting batch_size=4.\n"
          ],
          "name": "stderr"
        },
        {
          "output_type": "stream",
          "text": [
            "CREATE PIPELINE\n",
            "<class 'numpy.float64'>\n",
            "<class 'numpy.ndarray'>\n",
            "{'selector__threshold': [0, 1000, 10000, 1000000], 'dummy__strategy': ['uniform', 'constant_0', 'constant_1', 'most_frequent', 'stratified']}\n",
            "Pipeline(memory='tmp',\n",
            "         steps=[('selector', VarianceThreshold()), ('ros', RandomOverSampler()),\n",
            "                ('dummy', DummyClassifier())])\n",
            "Fitting 2 folds for each of 20 candidates, totalling 40 fits\n"
          ],
          "name": "stdout"
        },
        {
          "output_type": "stream",
          "text": [
            "[Parallel(n_jobs=-1)]: Done  16 tasks      | elapsed:    0.1s\n",
            "[Parallel(n_jobs=-1)]: Batch computation too fast (0.0553s.) Setting batch_size=8.\n",
            "[Parallel(n_jobs=-1)]: Done  30 tasks      | elapsed:    0.2s\n",
            "[Parallel(n_jobs=-1)]: Done  37 tasks      | elapsed:    0.2s\n",
            "[Parallel(n_jobs=-1)]: Done  40 out of  40 | elapsed:    0.3s finished\n",
            "[Parallel(n_jobs=-1)]: Using backend LokyBackend with 2 concurrent workers.\n",
            "[Parallel(n_jobs=-1)]: Done   1 tasks      | elapsed:    0.0s\n",
            "[Parallel(n_jobs=-1)]: Batch computation too fast (0.0175s.) Setting batch_size=2.\n",
            "[Parallel(n_jobs=-1)]: Done   4 tasks      | elapsed:    0.0s\n"
          ],
          "name": "stderr"
        },
        {
          "output_type": "stream",
          "text": [
            "CREATE PIPELINE\n",
            "<class 'numpy.float64'>\n",
            "<class 'numpy.ndarray'>\n",
            "{'selector__threshold': [0, 1000, 10000, 1000000], 'dummy__strategy': ['uniform', 'constant_0', 'constant_1', 'most_frequent', 'stratified']}\n",
            "Pipeline(memory='tmp',\n",
            "         steps=[('selector', VarianceThreshold()),\n",
            "                ('rus', RandomUnderSampler()), ('dummy', DummyClassifier())])\n",
            "Fitting 2 folds for each of 20 candidates, totalling 40 fits\n"
          ],
          "name": "stdout"
        },
        {
          "output_type": "stream",
          "text": [
            "[Parallel(n_jobs=-1)]: Batch computation too fast (0.0324s.) Setting batch_size=4.\n",
            "[Parallel(n_jobs=-1)]: Done  16 tasks      | elapsed:    0.2s\n",
            "[Parallel(n_jobs=-1)]: Batch computation too fast (0.0939s.) Setting batch_size=8.\n",
            "[Parallel(n_jobs=-1)]: Done  30 tasks      | elapsed:    0.2s\n",
            "[Parallel(n_jobs=-1)]: Done  37 tasks      | elapsed:    0.3s\n",
            "[Parallel(n_jobs=-1)]: Done  40 out of  40 | elapsed:    0.3s finished\n",
            "[Parallel(n_jobs=-1)]: Using backend LokyBackend with 2 concurrent workers.\n",
            "[Parallel(n_jobs=-1)]: Done   1 tasks      | elapsed:    0.0s\n",
            "[Parallel(n_jobs=-1)]: Batch computation too fast (0.0165s.) Setting batch_size=2.\n",
            "[Parallel(n_jobs=-1)]: Done   4 tasks      | elapsed:    0.0s\n",
            "[Parallel(n_jobs=-1)]: Batch computation too fast (0.0328s.) Setting batch_size=4.\n",
            "[Parallel(n_jobs=-1)]: Done  10 out of  10 | elapsed:    0.1s finished\n",
            "[Parallel(n_jobs=-1)]: Using backend LokyBackend with 2 concurrent workers.\n",
            "[Parallel(n_jobs=-1)]: Done   1 tasks      | elapsed:    0.0s\n",
            "[Parallel(n_jobs=-1)]: Batch computation too fast (0.0158s.) Setting batch_size=2.\n",
            "[Parallel(n_jobs=-1)]: Done   4 tasks      | elapsed:    0.0s\n",
            "[Parallel(n_jobs=-1)]: Batch computation too fast (0.0401s.) Setting batch_size=4.\n"
          ],
          "name": "stderr"
        },
        {
          "output_type": "stream",
          "text": [
            "CREATE PIPELINE\n",
            "<class 'numpy.float64'>\n",
            "<class 'numpy.ndarray'>\n",
            "{'dummy__strategy': ['uniform', 'constant_0', 'constant_1', 'most_frequent', 'stratified']}\n",
            "Pipeline(memory='tmp',\n",
            "         steps=[('scaler', StandardScaler()), ('ros', RandomOverSampler()),\n",
            "                ('dummy', DummyClassifier())])\n",
            "Fitting 2 folds for each of 5 candidates, totalling 10 fits\n",
            "CREATE PIPELINE\n",
            "<class 'numpy.float64'>\n",
            "<class 'numpy.ndarray'>\n",
            "{'dummy__strategy': ['uniform', 'constant_0', 'constant_1', 'most_frequent', 'stratified']}\n",
            "Pipeline(memory='tmp',\n",
            "         steps=[('scaler', StandardScaler()), ('rus', RandomUnderSampler()),\n",
            "                ('dummy', DummyClassifier())])\n",
            "Fitting 2 folds for each of 5 candidates, totalling 10 fits\n",
            "CREATE PIPELINE\n",
            "<class 'numpy.float64'>\n",
            "<class 'numpy.ndarray'>\n",
            "{'dummy__strategy': ['uniform', 'constant_0', 'constant_1', 'most_frequent', 'stratified']}\n",
            "Pipeline(memory='tmp',\n",
            "         steps=[('min_max_scaler', MinMaxScaler()),\n",
            "                ('ros', RandomOverSampler()), ('dummy', DummyClassifier())])\n",
            "Fitting 2 folds for each of 5 candidates, totalling 10 fits\n"
          ],
          "name": "stdout"
        },
        {
          "output_type": "stream",
          "text": [
            "[Parallel(n_jobs=-1)]: Done  10 out of  10 | elapsed:    0.1s finished\n",
            "[Parallel(n_jobs=-1)]: Using backend LokyBackend with 2 concurrent workers.\n",
            "[Parallel(n_jobs=-1)]: Done   1 tasks      | elapsed:    0.0s\n",
            "[Parallel(n_jobs=-1)]: Batch computation too fast (0.0218s.) Setting batch_size=2.\n",
            "[Parallel(n_jobs=-1)]: Done   4 tasks      | elapsed:    0.0s\n",
            "[Parallel(n_jobs=-1)]: Batch computation too fast (0.0330s.) Setting batch_size=4.\n",
            "[Parallel(n_jobs=-1)]: Done  10 out of  10 | elapsed:    0.1s finished\n",
            "[Parallel(n_jobs=-1)]: Using backend LokyBackend with 2 concurrent workers.\n",
            "[Parallel(n_jobs=-1)]: Done   1 tasks      | elapsed:    0.0s\n",
            "[Parallel(n_jobs=-1)]: Batch computation too fast (0.0166s.) Setting batch_size=2.\n",
            "[Parallel(n_jobs=-1)]: Done   4 tasks      | elapsed:    0.0s\n",
            "[Parallel(n_jobs=-1)]: Batch computation too fast (0.0349s.) Setting batch_size=4.\n",
            "[Parallel(n_jobs=-1)]: Done  10 out of  10 | elapsed:    0.1s finished\n",
            "[Parallel(n_jobs=-1)]: Using backend LokyBackend with 2 concurrent workers.\n"
          ],
          "name": "stderr"
        },
        {
          "output_type": "stream",
          "text": [
            "CREATE PIPELINE\n",
            "<class 'numpy.float64'>\n",
            "<class 'numpy.ndarray'>\n",
            "{'dummy__strategy': ['uniform', 'constant_0', 'constant_1', 'most_frequent', 'stratified']}\n",
            "Pipeline(memory='tmp',\n",
            "         steps=[('min_max_scaler', MinMaxScaler()),\n",
            "                ('rus', RandomUnderSampler()), ('dummy', DummyClassifier())])\n",
            "Fitting 2 folds for each of 5 candidates, totalling 10 fits\n",
            "CREATE PIPELINE\n",
            "<class 'numpy.float64'>\n",
            "<class 'numpy.ndarray'>\n",
            "{'selector__threshold': [0, 1000, 10000, 1000000], 'dummy__strategy': ['uniform', 'constant_0', 'constant_1', 'most_frequent', 'stratified']}\n",
            "Pipeline(memory='tmp',\n",
            "         steps=[('selector', VarianceThreshold()), ('scaler', StandardScaler()),\n",
            "                ('ros', RandomOverSampler()), ('dummy', DummyClassifier())])\n",
            "Fitting 2 folds for each of 20 candidates, totalling 40 fits\n"
          ],
          "name": "stdout"
        },
        {
          "output_type": "stream",
          "text": [
            "[Parallel(n_jobs=-1)]: Done   1 tasks      | elapsed:    0.0s\n",
            "[Parallel(n_jobs=-1)]: Batch computation too fast (0.0219s.) Setting batch_size=2.\n",
            "[Parallel(n_jobs=-1)]: Done   4 tasks      | elapsed:    0.1s\n",
            "[Parallel(n_jobs=-1)]: Batch computation too fast (0.0473s.) Setting batch_size=4.\n",
            "[Parallel(n_jobs=-1)]: Done  16 tasks      | elapsed:    0.2s\n",
            "[Parallel(n_jobs=-1)]: Batch computation too fast (0.0773s.) Setting batch_size=8.\n",
            "[Parallel(n_jobs=-1)]: Done  30 tasks      | elapsed:    0.2s\n",
            "[Parallel(n_jobs=-1)]: Done  37 tasks      | elapsed:    0.3s\n",
            "[Parallel(n_jobs=-1)]: Done  40 out of  40 | elapsed:    0.3s finished\n",
            "[Parallel(n_jobs=-1)]: Using backend LokyBackend with 2 concurrent workers.\n",
            "[Parallel(n_jobs=-1)]: Done   1 tasks      | elapsed:    0.0s\n",
            "[Parallel(n_jobs=-1)]: Batch computation too fast (0.0178s.) Setting batch_size=2.\n",
            "[Parallel(n_jobs=-1)]: Done   4 tasks      | elapsed:    0.1s\n",
            "[Parallel(n_jobs=-1)]: Batch computation too fast (0.0542s.) Setting batch_size=4.\n"
          ],
          "name": "stderr"
        },
        {
          "output_type": "stream",
          "text": [
            "CREATE PIPELINE\n",
            "<class 'numpy.float64'>\n",
            "<class 'numpy.ndarray'>\n",
            "{'selector__threshold': [0, 1000, 10000, 1000000], 'dummy__strategy': ['uniform', 'constant_0', 'constant_1', 'most_frequent', 'stratified']}\n",
            "Pipeline(memory='tmp',\n",
            "         steps=[('selector', VarianceThreshold()), ('scaler', StandardScaler()),\n",
            "                ('rus', RandomUnderSampler()), ('dummy', DummyClassifier())])\n",
            "Fitting 2 folds for each of 20 candidates, totalling 40 fits\n"
          ],
          "name": "stdout"
        },
        {
          "output_type": "stream",
          "text": [
            "[Parallel(n_jobs=-1)]: Done  16 tasks      | elapsed:    0.2s\n",
            "[Parallel(n_jobs=-1)]: Batch computation too fast (0.0697s.) Setting batch_size=8.\n",
            "[Parallel(n_jobs=-1)]: Done  30 tasks      | elapsed:    0.2s\n",
            "[Parallel(n_jobs=-1)]: Done  37 tasks      | elapsed:    0.3s\n",
            "[Parallel(n_jobs=-1)]: Done  40 out of  40 | elapsed:    0.3s finished\n",
            "[Parallel(n_jobs=-1)]: Using backend LokyBackend with 2 concurrent workers.\n",
            "[Parallel(n_jobs=-1)]: Done   1 tasks      | elapsed:    0.0s\n",
            "[Parallel(n_jobs=-1)]: Batch computation too fast (0.0156s.) Setting batch_size=2.\n",
            "[Parallel(n_jobs=-1)]: Done   4 tasks      | elapsed:    0.0s\n",
            "[Parallel(n_jobs=-1)]: Batch computation too fast (0.0418s.) Setting batch_size=4.\n"
          ],
          "name": "stderr"
        },
        {
          "output_type": "stream",
          "text": [
            "CREATE PIPELINE\n",
            "<class 'numpy.float64'>\n",
            "<class 'numpy.ndarray'>\n",
            "{'selector__threshold': [0, 1000, 10000, 1000000], 'dummy__strategy': ['uniform', 'constant_0', 'constant_1', 'most_frequent', 'stratified']}\n",
            "Pipeline(memory='tmp',\n",
            "         steps=[('selector', VarianceThreshold()),\n",
            "                ('min_max_scaler', MinMaxScaler()),\n",
            "                ('ros', RandomOverSampler()), ('dummy', DummyClassifier())])\n",
            "Fitting 2 folds for each of 20 candidates, totalling 40 fits\n"
          ],
          "name": "stdout"
        },
        {
          "output_type": "stream",
          "text": [
            "[Parallel(n_jobs=-1)]: Done  16 tasks      | elapsed:    0.2s\n",
            "[Parallel(n_jobs=-1)]: Batch computation too fast (0.0928s.) Setting batch_size=8.\n",
            "[Parallel(n_jobs=-1)]: Done  30 tasks      | elapsed:    0.3s\n",
            "[Parallel(n_jobs=-1)]: Done  37 tasks      | elapsed:    0.3s\n",
            "[Parallel(n_jobs=-1)]: Done  40 out of  40 | elapsed:    0.3s finished\n",
            "[Parallel(n_jobs=-1)]: Using backend LokyBackend with 2 concurrent workers.\n",
            "[Parallel(n_jobs=-1)]: Done   1 tasks      | elapsed:    0.0s\n",
            "[Parallel(n_jobs=-1)]: Batch computation too fast (0.0199s.) Setting batch_size=2.\n"
          ],
          "name": "stderr"
        },
        {
          "output_type": "stream",
          "text": [
            "CREATE PIPELINE\n",
            "<class 'numpy.float64'>\n",
            "<class 'numpy.ndarray'>\n",
            "{'selector__threshold': [0, 1000, 10000, 1000000], 'dummy__strategy': ['uniform', 'constant_0', 'constant_1', 'most_frequent', 'stratified']}\n",
            "Pipeline(memory='tmp',\n",
            "         steps=[('selector', VarianceThreshold()),\n",
            "                ('min_max_scaler', MinMaxScaler()),\n",
            "                ('rus', RandomUnderSampler()), ('dummy', DummyClassifier())])\n",
            "Fitting 2 folds for each of 20 candidates, totalling 40 fits\n"
          ],
          "name": "stdout"
        },
        {
          "output_type": "stream",
          "text": [
            "[Parallel(n_jobs=-1)]: Done   4 tasks      | elapsed:    0.1s\n",
            "[Parallel(n_jobs=-1)]: Batch computation too fast (0.0449s.) Setting batch_size=4.\n",
            "[Parallel(n_jobs=-1)]: Done  16 tasks      | elapsed:    0.1s\n",
            "[Parallel(n_jobs=-1)]: Batch computation too fast (0.0689s.) Setting batch_size=8.\n",
            "[Parallel(n_jobs=-1)]: Done  30 tasks      | elapsed:    0.3s\n",
            "[Parallel(n_jobs=-1)]: Done  37 tasks      | elapsed:    0.3s\n",
            "[Parallel(n_jobs=-1)]: Done  40 out of  40 | elapsed:    0.3s finished\n"
          ],
          "name": "stderr"
        },
        {
          "output_type": "stream",
          "text": [
            "CREATE PIPELINE\n",
            "<class 'numpy.float64'>\n",
            "<class 'numpy.ndarray'>\n",
            "36\n",
            "\n",
            "=========================================================================\n",
            "RESULTS\n",
            "Best estimator is:  Pipeline(memory='tmp',\n",
            "         steps=[('dummy', DummyClassifier(strategy='stratified'))])\n"
          ],
          "name": "stdout"
        },
        {
          "output_type": "display_data",
          "data": {
            "image/png": "[encoded data removed]",
            "text/plain": [
              "<Figure size 432x288 with 2 Axes>"
            ]
          },
          "metadata": {
            "tags": [],
            "needs_background": "light"
          }
        },
        {
          "output_type": "stream",
          "text": [
            "The average f1-micro average is:  0.5771649733913885\n",
            "The average f1-macro average is:  0.5869565217391305\n",
            "Classification report:\n",
            "               precision    recall  f1-score   support\n",
            "\n",
            "    rejected       0.63      0.65      0.64        78\n",
            "     granted       0.53      0.50      0.51        60\n",
            "\n",
            "    accuracy                           0.59       138\n",
            "   macro avg       0.58      0.58      0.58       138\n",
            "weighted avg       0.58      0.59      0.59       138\n",
            "\n",
            "Fit time:  1.4994332790374756\n",
            "Predict time:  0.002699613571166992\n"
          ],
          "name": "stdout"
        }
      ]
    },
    {
      "cell_type": "markdown",
      "metadata": {
        "id": "mgzHSsCIe5EF"
      },
      "source": [
        "####Gaussian Naive Bayes Classifier\n"
      ]
    },
    {
      "cell_type": "code",
      "metadata": {
        "id": "mH4pUSk9wWqW",
        "colab": {
          "base_uri": "https://localhost:8080/",
          "height": 1000
        },
        "outputId": "9ad3f7fd-1a0c-4206-9310-d13eab411b79"
      },
      "source": [
        "f1_scores_gnb = runEstimators(train=final_train, test=final_test, train_labels=train_labels, test_labels=test_labels,\n",
        "                              my_transformers=transformers, my_classifiers={'gnb': gnb}, est_values_mapper=est_values_mapper)\n",
        "\n",
        "\n",
        "# compute f1-macro\n",
        "gnb_macro = {k: f1_score(test_labels, v, average='macro') for k,v in f1_scores_gnb['preds'].items()}\n",
        "# get the estimator with the maximum f1-macro\n",
        "opt_est_gnb_macro = max(gnb_macro.items(), key=operator.itemgetter(1))[0]\n",
        "getResults(f1_scores_gnb, opt_est_gnb_macro, final_test, test_labels, \"rejected\", \"granted\")"
      ],
      "execution_count": 120,
      "outputs": [
        {
          "output_type": "stream",
          "text": [
            "{}\n",
            "Pipeline(memory='tmp', steps=[('gnb', GaussianNB())])\n",
            "Fitting 2 folds for each of 1 candidates, totalling 2 fits\n",
            "CREATE PIPELINE\n",
            "<class 'numpy.float64'>\n",
            "<class 'numpy.ndarray'>\n",
            "{}\n",
            "Pipeline(memory='tmp', steps=[('gnb', GaussianNB())])\n",
            "Fitting 2 folds for each of 1 candidates, totalling 2 fits\n",
            "CREATE PIPELINE\n",
            "<class 'numpy.float64'>\n",
            "<class 'numpy.ndarray'>\n",
            "{}\n",
            "Pipeline(memory='tmp', steps=[('gnb', GaussianNB())])\n",
            "Fitting 2 folds for each of 1 candidates, totalling 2 fits\n",
            "CREATE PIPELINE\n",
            "<class 'numpy.float64'>\n",
            "<class 'numpy.ndarray'>\n",
            "{}\n",
            "Pipeline(memory='tmp', steps=[('gnb', GaussianNB())])\n",
            "Fitting 2 folds for each of 1 candidates, totalling 2 fits\n",
            "CREATE PIPELINE\n",
            "<class 'numpy.float64'>\n",
            "<class 'numpy.ndarray'>\n",
            "{}\n",
            "Pipeline(memory='tmp', steps=[('gnb', GaussianNB())])\n",
            "Fitting 2 folds for each of 1 candidates, totalling 2 fits\n",
            "CREATE PIPELINE\n",
            "<class 'numpy.float64'>\n",
            "<class 'numpy.ndarray'>\n",
            "{}\n",
            "Pipeline(memory='tmp', steps=[('gnb', GaussianNB())])\n",
            "Fitting 2 folds for each of 1 candidates, totalling 2 fits\n",
            "CREATE PIPELINE\n",
            "<class 'numpy.float64'>\n",
            "<class 'numpy.ndarray'>\n",
            "{}\n",
            "Pipeline(memory='tmp', steps=[('gnb', GaussianNB())])\n",
            "Fitting 2 folds for each of 1 candidates, totalling 2 fits\n",
            "CREATE PIPELINE\n",
            "<class 'numpy.float64'>\n",
            "<class 'numpy.ndarray'>\n",
            "{'selector__threshold': [0, 1000, 10000, 1000000]}\n",
            "Pipeline(memory='tmp',\n",
            "         steps=[('selector', VarianceThreshold()), ('gnb', GaussianNB())])\n",
            "Fitting 2 folds for each of 4 candidates, totalling 8 fits\n"
          ],
          "name": "stdout"
        },
        {
          "output_type": "stream",
          "text": [
            "[Parallel(n_jobs=-1)]: Using backend LokyBackend with 2 concurrent workers.\n",
            "[Parallel(n_jobs=-1)]: Batch computation too fast (0.0144s.) Setting batch_size=2.\n",
            "[Parallel(n_jobs=-1)]: Done   2 out of   2 | elapsed:    0.0s remaining:    0.0s\n",
            "[Parallel(n_jobs=-1)]: Done   2 out of   2 | elapsed:    0.0s finished\n",
            "[Parallel(n_jobs=-1)]: Using backend LokyBackend with 2 concurrent workers.\n",
            "[Parallel(n_jobs=-1)]: Batch computation too fast (0.0061s.) Setting batch_size=2.\n",
            "[Parallel(n_jobs=-1)]: Done   2 out of   2 | elapsed:    0.0s remaining:    0.0s\n",
            "[Parallel(n_jobs=-1)]: Done   2 out of   2 | elapsed:    0.0s finished\n",
            "[Parallel(n_jobs=-1)]: Using backend LokyBackend with 2 concurrent workers.\n",
            "[Parallel(n_jobs=-1)]: Batch computation too fast (0.0061s.) Setting batch_size=2.\n",
            "[Parallel(n_jobs=-1)]: Done   2 out of   2 | elapsed:    0.0s remaining:    0.0s\n",
            "[Parallel(n_jobs=-1)]: Done   2 out of   2 | elapsed:    0.0s finished\n",
            "[Parallel(n_jobs=-1)]: Using backend LokyBackend with 2 concurrent workers.\n",
            "[Parallel(n_jobs=-1)]: Batch computation too fast (0.0088s.) Setting batch_size=2.\n",
            "[Parallel(n_jobs=-1)]: Done   2 out of   2 | elapsed:    0.0s remaining:    0.0s\n",
            "[Parallel(n_jobs=-1)]: Done   2 out of   2 | elapsed:    0.0s finished\n",
            "[Parallel(n_jobs=-1)]: Using backend LokyBackend with 2 concurrent workers.\n",
            "[Parallel(n_jobs=-1)]: Batch computation too fast (0.0091s.) Setting batch_size=2.\n",
            "[Parallel(n_jobs=-1)]: Done   2 out of   2 | elapsed:    0.0s remaining:    0.0s\n",
            "[Parallel(n_jobs=-1)]: Done   2 out of   2 | elapsed:    0.0s finished\n",
            "[Parallel(n_jobs=-1)]: Using backend LokyBackend with 2 concurrent workers.\n",
            "[Parallel(n_jobs=-1)]: Batch computation too fast (0.0082s.) Setting batch_size=2.\n",
            "[Parallel(n_jobs=-1)]: Done   2 out of   2 | elapsed:    0.0s remaining:    0.0s\n",
            "[Parallel(n_jobs=-1)]: Done   2 out of   2 | elapsed:    0.0s finished\n",
            "[Parallel(n_jobs=-1)]: Using backend LokyBackend with 2 concurrent workers.\n",
            "[Parallel(n_jobs=-1)]: Batch computation too fast (0.0083s.) Setting batch_size=2.\n",
            "[Parallel(n_jobs=-1)]: Done   2 out of   2 | elapsed:    0.0s remaining:    0.0s\n",
            "[Parallel(n_jobs=-1)]: Done   2 out of   2 | elapsed:    0.0s finished\n",
            "[Parallel(n_jobs=-1)]: Using backend LokyBackend with 2 concurrent workers.\n",
            "[Parallel(n_jobs=-1)]: Done   1 tasks      | elapsed:    0.0s\n",
            "[Parallel(n_jobs=-1)]: Batch computation too fast (0.0120s.) Setting batch_size=2.\n",
            "[Parallel(n_jobs=-1)]: Done   4 out of   8 | elapsed:    0.0s remaining:    0.0s\n",
            "[Parallel(n_jobs=-1)]: Done   6 out of   8 | elapsed:    0.1s remaining:    0.0s\n",
            "[Parallel(n_jobs=-1)]: Done   8 out of   8 | elapsed:    0.1s remaining:    0.0s\n",
            "[Parallel(n_jobs=-1)]: Done   8 out of   8 | elapsed:    0.1s finished\n",
            "[Parallel(n_jobs=-1)]: Using backend LokyBackend with 2 concurrent workers.\n",
            "[Parallel(n_jobs=-1)]: Done   1 tasks      | elapsed:    0.0s\n",
            "[Parallel(n_jobs=-1)]: Batch computation too fast (0.0145s.) Setting batch_size=2.\n",
            "[Parallel(n_jobs=-1)]: Done   4 out of   8 | elapsed:    0.0s remaining:    0.0s\n",
            "[Parallel(n_jobs=-1)]: Done   6 out of   8 | elapsed:    0.0s remaining:    0.0s\n",
            "[Parallel(n_jobs=-1)]: Done   8 out of   8 | elapsed:    0.1s remaining:    0.0s\n",
            "[Parallel(n_jobs=-1)]: Done   8 out of   8 | elapsed:    0.1s finished\n",
            "[Parallel(n_jobs=-1)]: Using backend LokyBackend with 2 concurrent workers.\n",
            "[Parallel(n_jobs=-1)]: Done   1 tasks      | elapsed:    0.0s\n",
            "[Parallel(n_jobs=-1)]: Batch computation too fast (0.0139s.) Setting batch_size=2.\n",
            "[Parallel(n_jobs=-1)]: Done   4 out of   8 | elapsed:    0.0s remaining:    0.0s\n",
            "[Parallel(n_jobs=-1)]: Done   6 out of   8 | elapsed:    0.0s remaining:    0.0s\n",
            "[Parallel(n_jobs=-1)]: Done   8 out of   8 | elapsed:    0.1s remaining:    0.0s\n",
            "[Parallel(n_jobs=-1)]: Done   8 out of   8 | elapsed:    0.1s finished\n",
            "[Parallel(n_jobs=-1)]: Using backend LokyBackend with 2 concurrent workers.\n",
            "[Parallel(n_jobs=-1)]: Done   1 tasks      | elapsed:    0.0s\n",
            "[Parallel(n_jobs=-1)]: Batch computation too fast (0.0129s.) Setting batch_size=2.\n",
            "[Parallel(n_jobs=-1)]: Done   4 out of   8 | elapsed:    0.0s remaining:    0.0s\n"
          ],
          "name": "stderr"
        },
        {
          "output_type": "stream",
          "text": [
            "CREATE PIPELINE\n",
            "<class 'numpy.float64'>\n",
            "<class 'numpy.ndarray'>\n",
            "{'selector__threshold': [0, 1000, 10000, 1000000]}\n",
            "Pipeline(memory='tmp',\n",
            "         steps=[('selector', VarianceThreshold()), ('gnb', GaussianNB())])\n",
            "Fitting 2 folds for each of 4 candidates, totalling 8 fits\n",
            "CREATE PIPELINE\n",
            "<class 'numpy.float64'>\n",
            "<class 'numpy.ndarray'>\n",
            "{'selector__threshold': [0, 1000, 10000, 1000000]}\n",
            "Pipeline(memory='tmp',\n",
            "         steps=[('selector', VarianceThreshold()), ('gnb', GaussianNB())])\n",
            "Fitting 2 folds for each of 4 candidates, totalling 8 fits\n",
            "CREATE PIPELINE\n",
            "<class 'numpy.float64'>\n",
            "<class 'numpy.ndarray'>\n",
            "{'selector__threshold': [0, 1000, 10000, 1000000]}\n",
            "Pipeline(memory='tmp',\n",
            "         steps=[('selector', VarianceThreshold()), ('gnb', GaussianNB())])\n",
            "Fitting 2 folds for each of 4 candidates, totalling 8 fits\n"
          ],
          "name": "stdout"
        },
        {
          "output_type": "stream",
          "text": [
            "[Parallel(n_jobs=-1)]: Done   6 out of   8 | elapsed:    0.1s remaining:    0.0s\n",
            "[Parallel(n_jobs=-1)]: Done   8 out of   8 | elapsed:    0.1s remaining:    0.0s\n",
            "[Parallel(n_jobs=-1)]: Done   8 out of   8 | elapsed:    0.1s finished\n",
            "[Parallel(n_jobs=-1)]: Using backend LokyBackend with 2 concurrent workers.\n",
            "[Parallel(n_jobs=-1)]: Done   1 tasks      | elapsed:    0.0s\n",
            "[Parallel(n_jobs=-1)]: Batch computation too fast (0.0143s.) Setting batch_size=2.\n",
            "[Parallel(n_jobs=-1)]: Done   4 out of   8 | elapsed:    0.0s remaining:    0.0s\n",
            "[Parallel(n_jobs=-1)]: Done   6 out of   8 | elapsed:    0.0s remaining:    0.0s\n",
            "[Parallel(n_jobs=-1)]: Done   8 out of   8 | elapsed:    0.1s remaining:    0.0s\n",
            "[Parallel(n_jobs=-1)]: Done   8 out of   8 | elapsed:    0.1s finished\n",
            "[Parallel(n_jobs=-1)]: Using backend LokyBackend with 2 concurrent workers.\n",
            "[Parallel(n_jobs=-1)]: Batch computation too fast (0.0126s.) Setting batch_size=2.\n",
            "[Parallel(n_jobs=-1)]: Done   2 out of   2 | elapsed:    0.0s remaining:    0.0s\n",
            "[Parallel(n_jobs=-1)]: Done   2 out of   2 | elapsed:    0.0s finished\n",
            "[Parallel(n_jobs=-1)]: Using backend LokyBackend with 2 concurrent workers.\n",
            "[Parallel(n_jobs=-1)]: Batch computation too fast (0.0115s.) Setting batch_size=2.\n",
            "[Parallel(n_jobs=-1)]: Done   2 out of   2 | elapsed:    0.0s remaining:    0.0s\n",
            "[Parallel(n_jobs=-1)]: Done   2 out of   2 | elapsed:    0.0s finished\n",
            "[Parallel(n_jobs=-1)]: Using backend LokyBackend with 2 concurrent workers.\n",
            "[Parallel(n_jobs=-1)]: Batch computation too fast (0.0121s.) Setting batch_size=2.\n",
            "[Parallel(n_jobs=-1)]: Done   2 out of   2 | elapsed:    0.0s remaining:    0.0s\n",
            "[Parallel(n_jobs=-1)]: Done   2 out of   2 | elapsed:    0.0s finished\n",
            "[Parallel(n_jobs=-1)]: Using backend LokyBackend with 2 concurrent workers.\n",
            "[Parallel(n_jobs=-1)]: Batch computation too fast (0.0133s.) Setting batch_size=2.\n",
            "[Parallel(n_jobs=-1)]: Done   2 out of   2 | elapsed:    0.0s remaining:    0.0s\n",
            "[Parallel(n_jobs=-1)]: Done   2 out of   2 | elapsed:    0.0s finished\n"
          ],
          "name": "stderr"
        },
        {
          "output_type": "stream",
          "text": [
            "CREATE PIPELINE\n",
            "<class 'numpy.float64'>\n",
            "<class 'numpy.ndarray'>\n",
            "{'selector__threshold': [0, 1000, 10000, 1000000]}\n",
            "Pipeline(memory='tmp',\n",
            "         steps=[('selector', VarianceThreshold()), ('gnb', GaussianNB())])\n",
            "Fitting 2 folds for each of 4 candidates, totalling 8 fits\n",
            "CREATE PIPELINE\n",
            "<class 'numpy.float64'>\n",
            "<class 'numpy.ndarray'>\n",
            "{}\n",
            "Pipeline(memory='tmp',\n",
            "         steps=[('scaler', StandardScaler()), ('gnb', GaussianNB())])\n",
            "Fitting 2 folds for each of 1 candidates, totalling 2 fits\n",
            "CREATE PIPELINE\n",
            "<class 'numpy.float64'>\n",
            "<class 'numpy.ndarray'>\n",
            "{}\n",
            "Pipeline(memory='tmp',\n",
            "         steps=[('scaler', StandardScaler()), ('gnb', GaussianNB())])\n",
            "Fitting 2 folds for each of 1 candidates, totalling 2 fits\n",
            "CREATE PIPELINE\n",
            "<class 'numpy.float64'>\n",
            "<class 'numpy.ndarray'>\n",
            "{}\n",
            "Pipeline(memory='tmp',\n",
            "         steps=[('scaler', StandardScaler()), ('gnb', GaussianNB())])\n",
            "Fitting 2 folds for each of 1 candidates, totalling 2 fits\n",
            "CREATE PIPELINE\n",
            "<class 'numpy.float64'>\n",
            "<class 'numpy.ndarray'>\n",
            "{}\n",
            "Pipeline(memory='tmp',\n",
            "         steps=[('min_max_scaler', MinMaxScaler()), ('gnb', GaussianNB())])\n",
            "Fitting 2 folds for each of 1 candidates, totalling 2 fits\n",
            "CREATE PIPELINE\n",
            "<class 'numpy.float64'>\n",
            "<class 'numpy.ndarray'>\n",
            "{}\n",
            "Pipeline(memory='tmp',\n",
            "         steps=[('min_max_scaler', MinMaxScaler()), ('gnb', GaussianNB())])\n",
            "Fitting 2 folds for each of 1 candidates, totalling 2 fits\n"
          ],
          "name": "stdout"
        },
        {
          "output_type": "stream",
          "text": [
            "[Parallel(n_jobs=-1)]: Using backend LokyBackend with 2 concurrent workers.\n",
            "[Parallel(n_jobs=-1)]: Batch computation too fast (0.0147s.) Setting batch_size=2.\n",
            "[Parallel(n_jobs=-1)]: Done   2 out of   2 | elapsed:    0.0s remaining:    0.0s\n",
            "[Parallel(n_jobs=-1)]: Done   2 out of   2 | elapsed:    0.0s finished\n",
            "[Parallel(n_jobs=-1)]: Using backend LokyBackend with 2 concurrent workers.\n",
            "[Parallel(n_jobs=-1)]: Batch computation too fast (0.0130s.) Setting batch_size=2.\n",
            "[Parallel(n_jobs=-1)]: Done   2 out of   2 | elapsed:    0.0s remaining:    0.0s\n",
            "[Parallel(n_jobs=-1)]: Done   2 out of   2 | elapsed:    0.0s finished\n",
            "[Parallel(n_jobs=-1)]: Using backend LokyBackend with 2 concurrent workers.\n",
            "[Parallel(n_jobs=-1)]: Batch computation too fast (0.0118s.) Setting batch_size=2.\n",
            "[Parallel(n_jobs=-1)]: Done   2 out of   2 | elapsed:    0.0s remaining:    0.0s\n",
            "[Parallel(n_jobs=-1)]: Done   2 out of   2 | elapsed:    0.0s finished\n",
            "[Parallel(n_jobs=-1)]: Using backend LokyBackend with 2 concurrent workers.\n",
            "[Parallel(n_jobs=-1)]: Batch computation too fast (0.0118s.) Setting batch_size=2.\n",
            "[Parallel(n_jobs=-1)]: Done   2 out of   2 | elapsed:    0.0s remaining:    0.0s\n",
            "[Parallel(n_jobs=-1)]: Done   2 out of   2 | elapsed:    0.0s finished\n",
            "[Parallel(n_jobs=-1)]: Using backend LokyBackend with 2 concurrent workers.\n",
            "[Parallel(n_jobs=-1)]: Done   1 tasks      | elapsed:    0.0s\n",
            "[Parallel(n_jobs=-1)]: Batch computation too fast (0.0163s.) Setting batch_size=2.\n",
            "[Parallel(n_jobs=-1)]: Done   4 out of   8 | elapsed:    0.0s remaining:    0.0s\n",
            "[Parallel(n_jobs=-1)]: Done   6 out of   8 | elapsed:    0.1s remaining:    0.0s\n",
            "[Parallel(n_jobs=-1)]: Done   8 out of   8 | elapsed:    0.1s remaining:    0.0s\n",
            "[Parallel(n_jobs=-1)]: Done   8 out of   8 | elapsed:    0.1s finished\n",
            "[Parallel(n_jobs=-1)]: Using backend LokyBackend with 2 concurrent workers.\n"
          ],
          "name": "stderr"
        },
        {
          "output_type": "stream",
          "text": [
            "CREATE PIPELINE\n",
            "<class 'numpy.float64'>\n",
            "<class 'numpy.ndarray'>\n",
            "{}\n",
            "Pipeline(memory='tmp',\n",
            "         steps=[('min_max_scaler', MinMaxScaler()), ('gnb', GaussianNB())])\n",
            "Fitting 2 folds for each of 1 candidates, totalling 2 fits\n",
            "CREATE PIPELINE\n",
            "<class 'numpy.float64'>\n",
            "<class 'numpy.ndarray'>\n",
            "{}\n",
            "Pipeline(memory='tmp',\n",
            "         steps=[('ros', RandomOverSampler()), ('gnb', GaussianNB())])\n",
            "Fitting 2 folds for each of 1 candidates, totalling 2 fits\n",
            "CREATE PIPELINE\n",
            "<class 'numpy.float64'>\n",
            "<class 'numpy.ndarray'>\n",
            "{}\n",
            "Pipeline(memory='tmp',\n",
            "         steps=[('rus', RandomUnderSampler()), ('gnb', GaussianNB())])\n",
            "Fitting 2 folds for each of 1 candidates, totalling 2 fits\n",
            "CREATE PIPELINE\n",
            "<class 'numpy.float64'>\n",
            "<class 'numpy.ndarray'>\n",
            "{'selector__threshold': [0, 1000, 10000, 1000000]}\n",
            "Pipeline(memory='tmp',\n",
            "         steps=[('selector', VarianceThreshold()), ('scaler', StandardScaler()),\n",
            "                ('gnb', GaussianNB())])\n",
            "Fitting 2 folds for each of 4 candidates, totalling 8 fits\n",
            "CREATE PIPELINE\n",
            "<class 'numpy.float64'>\n",
            "<class 'numpy.ndarray'>\n",
            "{'selector__threshold': [0, 1000, 10000, 1000000]}\n",
            "Pipeline(memory='tmp',\n",
            "         steps=[('selector', VarianceThreshold()), ('scaler', StandardScaler()),\n",
            "                ('gnb', GaussianNB())])\n",
            "Fitting 2 folds for each of 4 candidates, totalling 8 fits\n"
          ],
          "name": "stdout"
        },
        {
          "output_type": "stream",
          "text": [
            "[Parallel(n_jobs=-1)]: Done   1 tasks      | elapsed:    0.0s\n",
            "[Parallel(n_jobs=-1)]: Batch computation too fast (0.0209s.) Setting batch_size=2.\n",
            "[Parallel(n_jobs=-1)]: Done   4 out of   8 | elapsed:    0.0s remaining:    0.0s\n",
            "[Parallel(n_jobs=-1)]: Done   6 out of   8 | elapsed:    0.1s remaining:    0.0s\n",
            "[Parallel(n_jobs=-1)]: Done   8 out of   8 | elapsed:    0.1s remaining:    0.0s\n",
            "[Parallel(n_jobs=-1)]: Done   8 out of   8 | elapsed:    0.1s finished\n",
            "[Parallel(n_jobs=-1)]: Using backend LokyBackend with 2 concurrent workers.\n",
            "[Parallel(n_jobs=-1)]: Done   1 tasks      | elapsed:    0.0s\n",
            "[Parallel(n_jobs=-1)]: Batch computation too fast (0.0157s.) Setting batch_size=2.\n",
            "[Parallel(n_jobs=-1)]: Done   4 out of   8 | elapsed:    0.0s remaining:    0.0s\n",
            "[Parallel(n_jobs=-1)]: Done   6 out of   8 | elapsed:    0.1s remaining:    0.0s\n",
            "[Parallel(n_jobs=-1)]: Done   8 out of   8 | elapsed:    0.1s remaining:    0.0s\n",
            "[Parallel(n_jobs=-1)]: Done   8 out of   8 | elapsed:    0.1s finished\n",
            "[Parallel(n_jobs=-1)]: Using backend LokyBackend with 2 concurrent workers.\n",
            "[Parallel(n_jobs=-1)]: Done   1 tasks      | elapsed:    0.0s\n",
            "[Parallel(n_jobs=-1)]: Batch computation too fast (0.0159s.) Setting batch_size=2.\n",
            "[Parallel(n_jobs=-1)]: Done   4 out of   8 | elapsed:    0.0s remaining:    0.0s\n"
          ],
          "name": "stderr"
        },
        {
          "output_type": "stream",
          "text": [
            "CREATE PIPELINE\n",
            "<class 'numpy.float64'>\n",
            "<class 'numpy.ndarray'>\n",
            "{'selector__threshold': [0, 1000, 10000, 1000000]}\n",
            "Pipeline(memory='tmp',\n",
            "         steps=[('selector', VarianceThreshold()), ('scaler', StandardScaler()),\n",
            "                ('gnb', GaussianNB())])\n",
            "Fitting 2 folds for each of 4 candidates, totalling 8 fits\n",
            "CREATE PIPELINE\n",
            "<class 'numpy.float64'>\n",
            "<class 'numpy.ndarray'>\n",
            "{'selector__threshold': [0, 1000, 10000, 1000000]}\n",
            "Pipeline(memory='tmp',\n",
            "         steps=[('selector', VarianceThreshold()),\n",
            "                ('min_max_scaler', MinMaxScaler()), ('gnb', GaussianNB())])\n",
            "Fitting 2 folds for each of 4 candidates, totalling 8 fits\n",
            "CREATE PIPELINE\n",
            "<class 'numpy.float64'>\n",
            "<class 'numpy.ndarray'>\n",
            "{'selector__threshold': [0, 1000, 10000, 1000000]}\n",
            "Pipeline(memory='tmp',\n",
            "         steps=[('selector', VarianceThreshold()),\n",
            "                ('min_max_scaler', MinMaxScaler()), ('gnb', GaussianNB())])\n",
            "Fitting 2 folds for each of 4 candidates, totalling 8 fits\n"
          ],
          "name": "stdout"
        },
        {
          "output_type": "stream",
          "text": [
            "[Parallel(n_jobs=-1)]: Done   6 out of   8 | elapsed:    0.1s remaining:    0.0s\n",
            "[Parallel(n_jobs=-1)]: Done   8 out of   8 | elapsed:    0.1s remaining:    0.0s\n",
            "[Parallel(n_jobs=-1)]: Done   8 out of   8 | elapsed:    0.1s finished\n",
            "[Parallel(n_jobs=-1)]: Using backend LokyBackend with 2 concurrent workers.\n",
            "[Parallel(n_jobs=-1)]: Done   1 tasks      | elapsed:    0.0s\n",
            "[Parallel(n_jobs=-1)]: Batch computation too fast (0.0179s.) Setting batch_size=2.\n",
            "[Parallel(n_jobs=-1)]: Done   4 out of   8 | elapsed:    0.1s remaining:    0.1s\n",
            "[Parallel(n_jobs=-1)]: Done   6 out of   8 | elapsed:    0.1s remaining:    0.0s\n",
            "[Parallel(n_jobs=-1)]: Done   8 out of   8 | elapsed:    0.1s remaining:    0.0s\n",
            "[Parallel(n_jobs=-1)]: Done   8 out of   8 | elapsed:    0.1s finished\n",
            "[Parallel(n_jobs=-1)]: Using backend LokyBackend with 2 concurrent workers.\n",
            "[Parallel(n_jobs=-1)]: Done   1 tasks      | elapsed:    0.0s\n",
            "[Parallel(n_jobs=-1)]: Batch computation too fast (0.0159s.) Setting batch_size=2.\n",
            "[Parallel(n_jobs=-1)]: Done   4 out of   8 | elapsed:    0.0s remaining:    0.0s\n",
            "[Parallel(n_jobs=-1)]: Done   6 out of   8 | elapsed:    0.1s remaining:    0.0s\n",
            "[Parallel(n_jobs=-1)]: Done   8 out of   8 | elapsed:    0.1s remaining:    0.0s\n",
            "[Parallel(n_jobs=-1)]: Done   8 out of   8 | elapsed:    0.1s finished\n",
            "[Parallel(n_jobs=-1)]: Using backend LokyBackend with 2 concurrent workers.\n"
          ],
          "name": "stderr"
        },
        {
          "output_type": "stream",
          "text": [
            "CREATE PIPELINE\n",
            "<class 'numpy.float64'>\n",
            "<class 'numpy.ndarray'>\n",
            "{'selector__threshold': [0, 1000, 10000, 1000000]}\n",
            "Pipeline(memory='tmp',\n",
            "         steps=[('selector', VarianceThreshold()),\n",
            "                ('min_max_scaler', MinMaxScaler()), ('gnb', GaussianNB())])\n",
            "Fitting 2 folds for each of 4 candidates, totalling 8 fits\n",
            "CREATE PIPELINE\n",
            "<class 'numpy.float64'>\n",
            "<class 'numpy.ndarray'>\n",
            "{'selector__threshold': [0, 1000, 10000, 1000000]}\n",
            "Pipeline(memory='tmp',\n",
            "         steps=[('selector', VarianceThreshold()), ('ros', RandomOverSampler()),\n",
            "                ('gnb', GaussianNB())])\n",
            "Fitting 2 folds for each of 4 candidates, totalling 8 fits\n",
            "CREATE PIPELINE\n",
            "<class 'numpy.float64'>\n",
            "<class 'numpy.ndarray'>\n",
            "{'selector__threshold': [0, 1000, 10000, 1000000]}\n",
            "Pipeline(memory='tmp',\n",
            "         steps=[('selector', VarianceThreshold()),\n",
            "                ('rus', RandomUnderSampler()), ('gnb', GaussianNB())])\n",
            "Fitting 2 folds for each of 4 candidates, totalling 8 fits\n"
          ],
          "name": "stdout"
        },
        {
          "output_type": "stream",
          "text": [
            "[Parallel(n_jobs=-1)]: Done   1 tasks      | elapsed:    0.0s\n",
            "[Parallel(n_jobs=-1)]: Batch computation too fast (0.0182s.) Setting batch_size=2.\n",
            "[Parallel(n_jobs=-1)]: Done   4 out of   8 | elapsed:    0.0s remaining:    0.0s\n",
            "[Parallel(n_jobs=-1)]: Done   6 out of   8 | elapsed:    0.1s remaining:    0.0s\n",
            "[Parallel(n_jobs=-1)]: Done   8 out of   8 | elapsed:    0.1s remaining:    0.0s\n",
            "[Parallel(n_jobs=-1)]: Done   8 out of   8 | elapsed:    0.1s finished\n",
            "[Parallel(n_jobs=-1)]: Using backend LokyBackend with 2 concurrent workers.\n",
            "[Parallel(n_jobs=-1)]: Done   1 tasks      | elapsed:    0.0s\n",
            "[Parallel(n_jobs=-1)]: Batch computation too fast (0.0161s.) Setting batch_size=2.\n",
            "[Parallel(n_jobs=-1)]: Done   4 out of   8 | elapsed:    0.0s remaining:    0.0s\n",
            "[Parallel(n_jobs=-1)]: Done   6 out of   8 | elapsed:    0.1s remaining:    0.0s\n",
            "[Parallel(n_jobs=-1)]: Done   8 out of   8 | elapsed:    0.1s remaining:    0.0s\n",
            "[Parallel(n_jobs=-1)]: Done   8 out of   8 | elapsed:    0.1s finished\n",
            "[Parallel(n_jobs=-1)]: Using backend LokyBackend with 2 concurrent workers.\n",
            "[Parallel(n_jobs=-1)]: Batch computation too fast (0.0142s.) Setting batch_size=2.\n",
            "[Parallel(n_jobs=-1)]: Done   2 out of   2 | elapsed:    0.0s remaining:    0.0s\n",
            "[Parallel(n_jobs=-1)]: Done   2 out of   2 | elapsed:    0.0s finished\n",
            "[Parallel(n_jobs=-1)]: Using backend LokyBackend with 2 concurrent workers.\n",
            "[Parallel(n_jobs=-1)]: Batch computation too fast (0.0171s.) Setting batch_size=2.\n"
          ],
          "name": "stderr"
        },
        {
          "output_type": "stream",
          "text": [
            "CREATE PIPELINE\n",
            "<class 'numpy.float64'>\n",
            "<class 'numpy.ndarray'>\n",
            "{}\n",
            "Pipeline(memory='tmp',\n",
            "         steps=[('scaler', StandardScaler()), ('ros', RandomOverSampler()),\n",
            "                ('gnb', GaussianNB())])\n",
            "Fitting 2 folds for each of 1 candidates, totalling 2 fits\n",
            "CREATE PIPELINE\n",
            "<class 'numpy.float64'>\n",
            "<class 'numpy.ndarray'>\n",
            "{}\n",
            "Pipeline(memory='tmp',\n",
            "         steps=[('scaler', StandardScaler()), ('rus', RandomUnderSampler()),\n",
            "                ('gnb', GaussianNB())])\n",
            "Fitting 2 folds for each of 1 candidates, totalling 2 fits\n",
            "CREATE PIPELINE\n",
            "<class 'numpy.float64'>\n",
            "<class 'numpy.ndarray'>\n",
            "{}\n",
            "Pipeline(memory='tmp',\n",
            "         steps=[('min_max_scaler', MinMaxScaler()),\n",
            "                ('ros', RandomOverSampler()), ('gnb', GaussianNB())])\n",
            "Fitting 2 folds for each of 1 candidates, totalling 2 fits\n",
            "CREATE PIPELINE\n",
            "<class 'numpy.float64'>\n",
            "<class 'numpy.ndarray'>\n",
            "{}\n",
            "Pipeline(memory='tmp',\n",
            "         steps=[('min_max_scaler', MinMaxScaler()),\n",
            "                ('rus', RandomUnderSampler()), ('gnb', GaussianNB())])\n",
            "Fitting 2 folds for each of 1 candidates, totalling 2 fits\n",
            "CREATE PIPELINE\n",
            "<class 'numpy.float64'>\n",
            "<class 'numpy.ndarray'>\n",
            "{'selector__threshold': [0, 1000, 10000, 1000000]}\n",
            "Pipeline(memory='tmp',\n",
            "         steps=[('selector', VarianceThreshold()), ('scaler', StandardScaler()),\n",
            "                ('ros', RandomOverSampler()), ('gnb', GaussianNB())])\n",
            "Fitting 2 folds for each of 4 candidates, totalling 8 fits\n"
          ],
          "name": "stdout"
        },
        {
          "output_type": "stream",
          "text": [
            "[Parallel(n_jobs=-1)]: Done   2 out of   2 | elapsed:    0.0s remaining:    0.0s\n",
            "[Parallel(n_jobs=-1)]: Done   2 out of   2 | elapsed:    0.0s finished\n",
            "[Parallel(n_jobs=-1)]: Using backend LokyBackend with 2 concurrent workers.\n",
            "[Parallel(n_jobs=-1)]: Batch computation too fast (0.0180s.) Setting batch_size=2.\n",
            "[Parallel(n_jobs=-1)]: Done   2 out of   2 | elapsed:    0.0s remaining:    0.0s\n",
            "[Parallel(n_jobs=-1)]: Done   2 out of   2 | elapsed:    0.0s finished\n",
            "[Parallel(n_jobs=-1)]: Using backend LokyBackend with 2 concurrent workers.\n",
            "[Parallel(n_jobs=-1)]: Batch computation too fast (0.0159s.) Setting batch_size=2.\n",
            "[Parallel(n_jobs=-1)]: Done   2 out of   2 | elapsed:    0.0s remaining:    0.0s\n",
            "[Parallel(n_jobs=-1)]: Done   2 out of   2 | elapsed:    0.0s finished\n",
            "[Parallel(n_jobs=-1)]: Using backend LokyBackend with 2 concurrent workers.\n",
            "[Parallel(n_jobs=-1)]: Done   1 tasks      | elapsed:    0.0s\n",
            "[Parallel(n_jobs=-1)]: Batch computation too fast (0.0196s.) Setting batch_size=2.\n",
            "[Parallel(n_jobs=-1)]: Done   4 out of   8 | elapsed:    0.1s remaining:    0.1s\n",
            "[Parallel(n_jobs=-1)]: Done   6 out of   8 | elapsed:    0.1s remaining:    0.0s\n",
            "[Parallel(n_jobs=-1)]: Done   8 out of   8 | elapsed:    0.1s remaining:    0.0s\n",
            "[Parallel(n_jobs=-1)]: Done   8 out of   8 | elapsed:    0.1s finished\n",
            "[Parallel(n_jobs=-1)]: Using backend LokyBackend with 2 concurrent workers.\n"
          ],
          "name": "stderr"
        },
        {
          "output_type": "stream",
          "text": [
            "CREATE PIPELINE\n",
            "<class 'numpy.float64'>\n",
            "<class 'numpy.ndarray'>\n",
            "{'selector__threshold': [0, 1000, 10000, 1000000]}\n",
            "Pipeline(memory='tmp',\n",
            "         steps=[('selector', VarianceThreshold()), ('scaler', StandardScaler()),\n",
            "                ('rus', RandomUnderSampler()), ('gnb', GaussianNB())])\n",
            "Fitting 2 folds for each of 4 candidates, totalling 8 fits\n",
            "CREATE PIPELINE\n",
            "<class 'numpy.float64'>\n",
            "<class 'numpy.ndarray'>\n",
            "{'selector__threshold': [0, 1000, 10000, 1000000]}\n",
            "Pipeline(memory='tmp',\n",
            "         steps=[('selector', VarianceThreshold()),\n",
            "                ('min_max_scaler', MinMaxScaler()),\n",
            "                ('ros', RandomOverSampler()), ('gnb', GaussianNB())])\n",
            "Fitting 2 folds for each of 4 candidates, totalling 8 fits\n",
            "CREATE PIPELINE\n",
            "<class 'numpy.float64'>\n",
            "<class 'numpy.ndarray'>\n",
            "{'selector__threshold': [0, 1000, 10000, 1000000]}\n",
            "Pipeline(memory='tmp',\n",
            "         steps=[('selector', VarianceThreshold()),\n",
            "                ('min_max_scaler', MinMaxScaler()),\n",
            "                ('rus', RandomUnderSampler()), ('gnb', GaussianNB())])\n",
            "Fitting 2 folds for each of 4 candidates, totalling 8 fits\n"
          ],
          "name": "stdout"
        },
        {
          "output_type": "stream",
          "text": [
            "[Parallel(n_jobs=-1)]: Done   1 tasks      | elapsed:    0.0s\n",
            "[Parallel(n_jobs=-1)]: Batch computation too fast (0.0220s.) Setting batch_size=2.\n",
            "[Parallel(n_jobs=-1)]: Done   4 out of   8 | elapsed:    0.0s remaining:    0.0s\n",
            "[Parallel(n_jobs=-1)]: Done   6 out of   8 | elapsed:    0.1s remaining:    0.0s\n",
            "[Parallel(n_jobs=-1)]: Done   8 out of   8 | elapsed:    0.1s remaining:    0.0s\n",
            "[Parallel(n_jobs=-1)]: Done   8 out of   8 | elapsed:    0.1s finished\n",
            "[Parallel(n_jobs=-1)]: Using backend LokyBackend with 2 concurrent workers.\n",
            "[Parallel(n_jobs=-1)]: Done   1 tasks      | elapsed:    0.0s\n",
            "[Parallel(n_jobs=-1)]: Batch computation too fast (0.0191s.) Setting batch_size=2.\n",
            "[Parallel(n_jobs=-1)]: Done   4 out of   8 | elapsed:    0.0s remaining:    0.0s\n",
            "[Parallel(n_jobs=-1)]: Done   6 out of   8 | elapsed:    0.1s remaining:    0.0s\n",
            "[Parallel(n_jobs=-1)]: Done   8 out of   8 | elapsed:    0.1s remaining:    0.0s\n",
            "[Parallel(n_jobs=-1)]: Done   8 out of   8 | elapsed:    0.1s finished\n",
            "[Parallel(n_jobs=-1)]: Using backend LokyBackend with 2 concurrent workers.\n",
            "[Parallel(n_jobs=-1)]: Done   1 tasks      | elapsed:    0.0s\n",
            "[Parallel(n_jobs=-1)]: Batch computation too fast (0.0192s.) Setting batch_size=2.\n",
            "[Parallel(n_jobs=-1)]: Done   4 out of   8 | elapsed:    0.1s remaining:    0.1s\n",
            "[Parallel(n_jobs=-1)]: Done   6 out of   8 | elapsed:    0.1s remaining:    0.0s\n",
            "[Parallel(n_jobs=-1)]: Done   8 out of   8 | elapsed:    0.1s remaining:    0.0s\n",
            "[Parallel(n_jobs=-1)]: Done   8 out of   8 | elapsed:    0.1s finished\n"
          ],
          "name": "stderr"
        },
        {
          "output_type": "stream",
          "text": [
            "CREATE PIPELINE\n",
            "<class 'numpy.float64'>\n",
            "<class 'numpy.ndarray'>\n",
            "36\n",
            "\n",
            "=========================================================================\n",
            "RESULTS\n",
            "Best estimator is:  Pipeline(memory='tmp',\n",
            "         steps=[('rus', RandomUnderSampler()), ('gnb', GaussianNB())])\n"
          ],
          "name": "stdout"
        },
        {
          "output_type": "display_data",
          "data": {
            "image/png": "[encoded data removed]",
            "text/plain": [
              "<Figure size 432x288 with 2 Axes>"
            ]
          },
          "metadata": {
            "tags": [],
            "needs_background": "light"
          }
        },
        {
          "output_type": "stream",
          "text": [
            "The average f1-micro average is:  0.834712543554007\n",
            "The average f1-macro average is:  0.8405797101449275\n",
            "Classification report:\n",
            "               precision    recall  f1-score   support\n",
            "\n",
            "    rejected       0.83      0.91      0.87        78\n",
            "     granted       0.87      0.75      0.80        60\n",
            "\n",
            "    accuracy                           0.84       138\n",
            "   macro avg       0.85      0.83      0.83       138\n",
            "weighted avg       0.84      0.84      0.84       138\n",
            "\n",
            "Fit time:  0.024292469024658203\n",
            "Predict time:  0.00189208984375\n"
          ],
          "name": "stdout"
        }
      ]
    },
    {
      "cell_type": "markdown",
      "metadata": {
        "id": "3lj6UMINfD9T"
      },
      "source": [
        "####k-Nearest Neighbors  Classifier\n"
      ]
    },
    {
      "cell_type": "code",
      "metadata": {
        "id": "gLENKO19dyO0",
        "colab": {
          "base_uri": "https://localhost:8080/",
          "height": 1000
        },
        "outputId": "95b033a6-2b9f-4dc6-c02f-e4156d4faa26"
      },
      "source": [
        "est_values_mapper_opt_knn = {\n",
        "    'selector': [0, 1000, 10000, 1000000],\n",
        "    'pca': [10, 20, 30, 40, 50, 60],\n",
        "    'kNN': {\n",
        "        \"kNN\":[i for i in range(1, 51, 2)]\n",
        "    }\n",
        "}\n",
        "\n",
        "f1_scores_knn = runEstimators(train=final_train, test=final_test, train_labels=train_labels, test_labels=test_labels,\n",
        "                              my_transformers=transformers, my_classifiers={'kNN': knn}, \n",
        "                              est_values_mapper=est_values_mapper_opt_knn)\n",
        "\n",
        "# compute f1-macro\n",
        "knn_macro = {k: f1_score(test_labels, v, average='macro') for k,v in f1_scores_knn['preds'].items()}\n",
        "# get the estimator with the maximum f1-macro\n",
        "opt_est_knn_macro = max(knn_macro.items(), key=operator.itemgetter(1))[0]\n",
        "getResults(f1_scores_knn, opt_est_knn_macro, final_test, test_labels, \"rejected\", \"granted\")"
      ],
      "execution_count": 127,
      "outputs": [
        {
          "output_type": "stream",
          "text": [
            "{'kNN__n_neighbors': [1, 3, 5, 7, 9, 11, 13, 15, 17, 19, 21, 23, 25, 27, 29, 31, 33, 35, 37, 39, 41, 43, 45, 47, 49]}\n",
            "Pipeline(memory='tmp', steps=[('kNN', KNeighborsClassifier(n_jobs=-1))])\n",
            "Fitting 2 folds for each of 25 candidates, totalling 50 fits\n"
          ],
          "name": "stdout"
        },
        {
          "output_type": "stream",
          "text": [
            "[Parallel(n_jobs=-1)]: Using backend LokyBackend with 2 concurrent workers.\n",
            "[Parallel(n_jobs=-1)]: Done   1 tasks      | elapsed:    1.6s\n",
            "[Parallel(n_jobs=-1)]: Done   4 tasks      | elapsed:    1.7s\n",
            "[Parallel(n_jobs=-1)]: Done   9 tasks      | elapsed:    2.1s\n",
            "[Parallel(n_jobs=-1)]: Done  14 tasks      | elapsed:    2.3s\n",
            "[Parallel(n_jobs=-1)]: Done  21 tasks      | elapsed:    2.8s\n",
            "[Parallel(n_jobs=-1)]: Done  28 tasks      | elapsed:    3.2s\n",
            "[Parallel(n_jobs=-1)]: Done  37 tasks      | elapsed:    3.7s\n",
            "[Parallel(n_jobs=-1)]: Done  46 tasks      | elapsed:    4.2s\n",
            "[Parallel(n_jobs=-1)]: Done  50 out of  50 | elapsed:    4.5s finished\n",
            "[Parallel(n_jobs=-1)]: Using backend LokyBackend with 2 concurrent workers.\n"
          ],
          "name": "stderr"
        },
        {
          "output_type": "stream",
          "text": [
            "CREATE PIPELINE\n",
            "<class 'numpy.float64'>\n",
            "<class 'numpy.ndarray'>\n",
            "{'kNN__n_neighbors': [1, 3, 5, 7, 9, 11, 13, 15, 17, 19, 21, 23, 25, 27, 29, 31, 33, 35, 37, 39, 41, 43, 45, 47, 49]}\n",
            "Pipeline(memory='tmp', steps=[('kNN', KNeighborsClassifier(n_jobs=-1))])\n",
            "Fitting 2 folds for each of 25 candidates, totalling 50 fits\n"
          ],
          "name": "stdout"
        },
        {
          "output_type": "stream",
          "text": [
            "[Parallel(n_jobs=-1)]: Done   1 tasks      | elapsed:    0.1s\n",
            "[Parallel(n_jobs=-1)]: Batch computation too fast (0.1254s.) Setting batch_size=2.\n",
            "[Parallel(n_jobs=-1)]: Done   4 tasks      | elapsed:    0.3s\n",
            "[Parallel(n_jobs=-1)]: Done  14 tasks      | elapsed:    0.9s\n",
            "[Parallel(n_jobs=-1)]: Done  24 tasks      | elapsed:    1.4s\n",
            "[Parallel(n_jobs=-1)]: Done  38 tasks      | elapsed:    2.3s\n",
            "[Parallel(n_jobs=-1)]: Done  50 out of  50 | elapsed:    2.9s finished\n",
            "[Parallel(n_jobs=-1)]: Using backend LokyBackend with 2 concurrent workers.\n"
          ],
          "name": "stderr"
        },
        {
          "output_type": "stream",
          "text": [
            "CREATE PIPELINE\n",
            "<class 'numpy.float64'>\n",
            "<class 'numpy.ndarray'>\n",
            "{'kNN__n_neighbors': [1, 3, 5, 7, 9, 11, 13, 15, 17, 19, 21, 23, 25, 27, 29, 31, 33, 35, 37, 39, 41, 43, 45, 47, 49]}\n",
            "Pipeline(memory='tmp', steps=[('kNN', KNeighborsClassifier(n_jobs=-1))])\n",
            "Fitting 2 folds for each of 25 candidates, totalling 50 fits\n"
          ],
          "name": "stdout"
        },
        {
          "output_type": "stream",
          "text": [
            "[Parallel(n_jobs=-1)]: Done   1 tasks      | elapsed:    0.1s\n",
            "[Parallel(n_jobs=-1)]: Batch computation too fast (0.1249s.) Setting batch_size=2.\n",
            "[Parallel(n_jobs=-1)]: Done   4 tasks      | elapsed:    0.3s\n",
            "[Parallel(n_jobs=-1)]: Done  14 tasks      | elapsed:    0.9s\n",
            "[Parallel(n_jobs=-1)]: Done  24 tasks      | elapsed:    1.4s\n",
            "[Parallel(n_jobs=-1)]: Done  38 tasks      | elapsed:    2.3s\n",
            "[Parallel(n_jobs=-1)]: Done  50 out of  50 | elapsed:    2.9s finished\n",
            "[Parallel(n_jobs=-1)]: Using backend LokyBackend with 2 concurrent workers.\n"
          ],
          "name": "stderr"
        },
        {
          "output_type": "stream",
          "text": [
            "CREATE PIPELINE\n",
            "<class 'numpy.float64'>\n",
            "<class 'numpy.ndarray'>\n",
            "{'kNN__n_neighbors': [1, 3, 5, 7, 9, 11, 13, 15, 17, 19, 21, 23, 25, 27, 29, 31, 33, 35, 37, 39, 41, 43, 45, 47, 49]}\n",
            "Pipeline(memory='tmp', steps=[('kNN', KNeighborsClassifier(n_jobs=-1))])\n",
            "Fitting 2 folds for each of 25 candidates, totalling 50 fits\n"
          ],
          "name": "stdout"
        },
        {
          "output_type": "stream",
          "text": [
            "[Parallel(n_jobs=-1)]: Done   1 tasks      | elapsed:    0.1s\n",
            "[Parallel(n_jobs=-1)]: Batch computation too fast (0.1323s.) Setting batch_size=2.\n",
            "[Parallel(n_jobs=-1)]: Done   4 tasks      | elapsed:    0.3s\n",
            "[Parallel(n_jobs=-1)]: Done  14 tasks      | elapsed:    1.0s\n",
            "[Parallel(n_jobs=-1)]: Done  24 tasks      | elapsed:    1.5s\n",
            "[Parallel(n_jobs=-1)]: Done  38 tasks      | elapsed:    2.4s\n",
            "[Parallel(n_jobs=-1)]: Done  50 out of  50 | elapsed:    3.0s finished\n",
            "[Parallel(n_jobs=-1)]: Using backend LokyBackend with 2 concurrent workers.\n"
          ],
          "name": "stderr"
        },
        {
          "output_type": "stream",
          "text": [
            "CREATE PIPELINE\n",
            "<class 'numpy.float64'>\n",
            "<class 'numpy.ndarray'>\n",
            "{'kNN__n_neighbors': [1, 3, 5, 7, 9, 11, 13, 15, 17, 19, 21, 23, 25, 27, 29, 31, 33, 35, 37, 39, 41, 43, 45, 47, 49]}\n",
            "Pipeline(memory='tmp', steps=[('kNN', KNeighborsClassifier(n_jobs=-1))])\n",
            "Fitting 2 folds for each of 25 candidates, totalling 50 fits\n"
          ],
          "name": "stdout"
        },
        {
          "output_type": "stream",
          "text": [
            "[Parallel(n_jobs=-1)]: Done   1 tasks      | elapsed:    0.1s\n",
            "[Parallel(n_jobs=-1)]: Batch computation too fast (0.1276s.) Setting batch_size=2.\n",
            "[Parallel(n_jobs=-1)]: Done   4 tasks      | elapsed:    0.3s\n",
            "[Parallel(n_jobs=-1)]: Done  14 tasks      | elapsed:    1.0s\n",
            "[Parallel(n_jobs=-1)]: Done  24 tasks      | elapsed:    1.5s\n",
            "[Parallel(n_jobs=-1)]: Done  38 tasks      | elapsed:    2.7s\n",
            "[Parallel(n_jobs=-1)]: Done  50 out of  50 | elapsed:    3.4s finished\n",
            "[Parallel(n_jobs=-1)]: Using backend LokyBackend with 2 concurrent workers.\n"
          ],
          "name": "stderr"
        },
        {
          "output_type": "stream",
          "text": [
            "CREATE PIPELINE\n",
            "<class 'numpy.float64'>\n",
            "<class 'numpy.ndarray'>\n",
            "{'kNN__n_neighbors': [1, 3, 5, 7, 9, 11, 13, 15, 17, 19, 21, 23, 25, 27, 29, 31, 33, 35, 37, 39, 41, 43, 45, 47, 49]}\n",
            "Pipeline(memory='tmp', steps=[('kNN', KNeighborsClassifier(n_jobs=-1))])\n",
            "Fitting 2 folds for each of 25 candidates, totalling 50 fits\n"
          ],
          "name": "stdout"
        },
        {
          "output_type": "stream",
          "text": [
            "[Parallel(n_jobs=-1)]: Done   1 tasks      | elapsed:    0.1s\n",
            "[Parallel(n_jobs=-1)]: Batch computation too fast (0.1371s.) Setting batch_size=2.\n",
            "[Parallel(n_jobs=-1)]: Done   4 tasks      | elapsed:    0.3s\n",
            "[Parallel(n_jobs=-1)]: Done  14 tasks      | elapsed:    1.1s\n",
            "[Parallel(n_jobs=-1)]: Done  24 tasks      | elapsed:    1.6s\n",
            "[Parallel(n_jobs=-1)]: Done  38 tasks      | elapsed:    2.5s\n",
            "[Parallel(n_jobs=-1)]: Done  50 out of  50 | elapsed:    3.1s finished\n",
            "[Parallel(n_jobs=-1)]: Using backend LokyBackend with 2 concurrent workers.\n"
          ],
          "name": "stderr"
        },
        {
          "output_type": "stream",
          "text": [
            "CREATE PIPELINE\n",
            "<class 'numpy.float64'>\n",
            "<class 'numpy.ndarray'>\n",
            "{'kNN__n_neighbors': [1, 3, 5, 7, 9, 11, 13, 15, 17, 19, 21, 23, 25, 27, 29, 31, 33, 35, 37, 39, 41, 43, 45, 47, 49]}\n",
            "Pipeline(memory='tmp', steps=[('kNN', KNeighborsClassifier(n_jobs=-1))])\n",
            "Fitting 2 folds for each of 25 candidates, totalling 50 fits\n"
          ],
          "name": "stdout"
        },
        {
          "output_type": "stream",
          "text": [
            "[Parallel(n_jobs=-1)]: Done   1 tasks      | elapsed:    0.1s\n",
            "[Parallel(n_jobs=-1)]: Batch computation too fast (0.1283s.) Setting batch_size=2.\n",
            "[Parallel(n_jobs=-1)]: Done   4 tasks      | elapsed:    0.3s\n",
            "[Parallel(n_jobs=-1)]: Done  14 tasks      | elapsed:    1.0s\n",
            "[Parallel(n_jobs=-1)]: Done  24 tasks      | elapsed:    1.4s\n",
            "[Parallel(n_jobs=-1)]: Done  38 tasks      | elapsed:    2.3s\n",
            "[Parallel(n_jobs=-1)]: Done  50 out of  50 | elapsed:    3.0s finished\n",
            "[Parallel(n_jobs=-1)]: Using backend LokyBackend with 2 concurrent workers.\n"
          ],
          "name": "stderr"
        },
        {
          "output_type": "stream",
          "text": [
            "CREATE PIPELINE\n",
            "<class 'numpy.float64'>\n",
            "<class 'numpy.ndarray'>\n",
            "{'selector__threshold': [0, 1000, 10000, 1000000], 'kNN__n_neighbors': [1, 3, 5, 7, 9, 11, 13, 15, 17, 19, 21, 23, 25, 27, 29, 31, 33, 35, 37, 39, 41, 43, 45, 47, 49]}\n",
            "Pipeline(memory='tmp',\n",
            "         steps=[('selector', VarianceThreshold()),\n",
            "                ('kNN', KNeighborsClassifier(n_jobs=-1))])\n",
            "Fitting 2 folds for each of 100 candidates, totalling 200 fits\n"
          ],
          "name": "stdout"
        },
        {
          "output_type": "stream",
          "text": [
            "[Parallel(n_jobs=-1)]: Done   1 tasks      | elapsed:    0.2s\n",
            "[Parallel(n_jobs=-1)]: Batch computation too fast (0.1503s.) Setting batch_size=2.\n",
            "[Parallel(n_jobs=-1)]: Done   4 tasks      | elapsed:    0.3s\n",
            "[Parallel(n_jobs=-1)]: Done  14 tasks      | elapsed:    1.0s\n",
            "[Parallel(n_jobs=-1)]: Done  24 tasks      | elapsed:    1.5s\n",
            "[Parallel(n_jobs=-1)]: Done  38 tasks      | elapsed:    2.4s\n",
            "[Parallel(n_jobs=-1)]: Done  52 tasks      | elapsed:    3.1s\n",
            "[Parallel(n_jobs=-1)]: Done  70 tasks      | elapsed:    4.3s\n",
            "[Parallel(n_jobs=-1)]: Done  88 tasks      | elapsed:    5.3s\n",
            "[Parallel(n_jobs=-1)]: Done 110 tasks      | elapsed:    6.7s\n",
            "[Parallel(n_jobs=-1)]: Done 132 tasks      | elapsed:    7.9s\n",
            "[Parallel(n_jobs=-1)]: Done 158 tasks      | elapsed:    9.5s\n",
            "[Parallel(n_jobs=-1)]: Done 184 tasks      | elapsed:   10.9s\n",
            "[Parallel(n_jobs=-1)]: Done 200 out of 200 | elapsed:   11.9s finished\n",
            "[Parallel(n_jobs=-1)]: Using backend LokyBackend with 2 concurrent workers.\n"
          ],
          "name": "stderr"
        },
        {
          "output_type": "stream",
          "text": [
            "CREATE PIPELINE\n",
            "<class 'numpy.float64'>\n",
            "<class 'numpy.ndarray'>\n",
            "{'selector__threshold': [0, 1000, 10000, 1000000], 'kNN__n_neighbors': [1, 3, 5, 7, 9, 11, 13, 15, 17, 19, 21, 23, 25, 27, 29, 31, 33, 35, 37, 39, 41, 43, 45, 47, 49]}\n",
            "Pipeline(memory='tmp',\n",
            "         steps=[('selector', VarianceThreshold()),\n",
            "                ('kNN', KNeighborsClassifier(n_jobs=-1))])\n",
            "Fitting 2 folds for each of 100 candidates, totalling 200 fits\n"
          ],
          "name": "stdout"
        },
        {
          "output_type": "stream",
          "text": [
            "[Parallel(n_jobs=-1)]: Done   1 tasks      | elapsed:    0.1s\n",
            "[Parallel(n_jobs=-1)]: Batch computation too fast (0.1317s.) Setting batch_size=2.\n",
            "[Parallel(n_jobs=-1)]: Done   4 tasks      | elapsed:    0.3s\n",
            "[Parallel(n_jobs=-1)]: Done  14 tasks      | elapsed:    1.0s\n",
            "[Parallel(n_jobs=-1)]: Done  24 tasks      | elapsed:    1.5s\n",
            "[Parallel(n_jobs=-1)]: Done  38 tasks      | elapsed:    2.4s\n",
            "[Parallel(n_jobs=-1)]: Done  52 tasks      | elapsed:    3.1s\n",
            "[Parallel(n_jobs=-1)]: Done  70 tasks      | elapsed:    4.3s\n",
            "[Parallel(n_jobs=-1)]: Done  88 tasks      | elapsed:    5.3s\n",
            "[Parallel(n_jobs=-1)]: Done 110 tasks      | elapsed:    6.6s\n",
            "[Parallel(n_jobs=-1)]: Done 132 tasks      | elapsed:    7.9s\n",
            "[Parallel(n_jobs=-1)]: Done 158 tasks      | elapsed:    9.5s\n",
            "[Parallel(n_jobs=-1)]: Done 184 tasks      | elapsed:   10.9s\n",
            "[Parallel(n_jobs=-1)]: Done 200 out of 200 | elapsed:   11.8s finished\n",
            "[Parallel(n_jobs=-1)]: Using backend LokyBackend with 2 concurrent workers.\n"
          ],
          "name": "stderr"
        },
        {
          "output_type": "stream",
          "text": [
            "CREATE PIPELINE\n",
            "<class 'numpy.float64'>\n",
            "<class 'numpy.ndarray'>\n",
            "{'selector__threshold': [0, 1000, 10000, 1000000], 'kNN__n_neighbors': [1, 3, 5, 7, 9, 11, 13, 15, 17, 19, 21, 23, 25, 27, 29, 31, 33, 35, 37, 39, 41, 43, 45, 47, 49]}\n",
            "Pipeline(memory='tmp',\n",
            "         steps=[('selector', VarianceThreshold()),\n",
            "                ('kNN', KNeighborsClassifier(n_jobs=-1))])\n",
            "Fitting 2 folds for each of 100 candidates, totalling 200 fits\n"
          ],
          "name": "stdout"
        },
        {
          "output_type": "stream",
          "text": [
            "[Parallel(n_jobs=-1)]: Done   1 tasks      | elapsed:    0.1s\n",
            "[Parallel(n_jobs=-1)]: Batch computation too fast (0.1202s.) Setting batch_size=2.\n",
            "[Parallel(n_jobs=-1)]: Done   4 tasks      | elapsed:    0.3s\n",
            "[Parallel(n_jobs=-1)]: Done  14 tasks      | elapsed:    1.0s\n",
            "[Parallel(n_jobs=-1)]: Done  24 tasks      | elapsed:    1.4s\n",
            "[Parallel(n_jobs=-1)]: Done  38 tasks      | elapsed:    2.4s\n",
            "[Parallel(n_jobs=-1)]: Done  52 tasks      | elapsed:    3.1s\n",
            "[Parallel(n_jobs=-1)]: Done  70 tasks      | elapsed:    4.3s\n",
            "[Parallel(n_jobs=-1)]: Done  88 tasks      | elapsed:    5.2s\n",
            "[Parallel(n_jobs=-1)]: Done 110 tasks      | elapsed:    6.6s\n",
            "[Parallel(n_jobs=-1)]: Done 132 tasks      | elapsed:    7.8s\n",
            "[Parallel(n_jobs=-1)]: Done 158 tasks      | elapsed:    9.4s\n",
            "[Parallel(n_jobs=-1)]: Done 184 tasks      | elapsed:   10.8s\n",
            "[Parallel(n_jobs=-1)]: Done 200 out of 200 | elapsed:   11.7s finished\n",
            "[Parallel(n_jobs=-1)]: Using backend LokyBackend with 2 concurrent workers.\n"
          ],
          "name": "stderr"
        },
        {
          "output_type": "stream",
          "text": [
            "CREATE PIPELINE\n",
            "<class 'numpy.float64'>\n",
            "<class 'numpy.ndarray'>\n",
            "{'selector__threshold': [0, 1000, 10000, 1000000], 'kNN__n_neighbors': [1, 3, 5, 7, 9, 11, 13, 15, 17, 19, 21, 23, 25, 27, 29, 31, 33, 35, 37, 39, 41, 43, 45, 47, 49]}\n",
            "Pipeline(memory='tmp',\n",
            "         steps=[('selector', VarianceThreshold()),\n",
            "                ('kNN', KNeighborsClassifier(n_jobs=-1))])\n",
            "Fitting 2 folds for each of 100 candidates, totalling 200 fits\n"
          ],
          "name": "stdout"
        },
        {
          "output_type": "stream",
          "text": [
            "[Parallel(n_jobs=-1)]: Done   1 tasks      | elapsed:    0.1s\n",
            "[Parallel(n_jobs=-1)]: Batch computation too fast (0.1312s.) Setting batch_size=2.\n",
            "[Parallel(n_jobs=-1)]: Done   4 tasks      | elapsed:    0.3s\n",
            "[Parallel(n_jobs=-1)]: Done  14 tasks      | elapsed:    0.9s\n",
            "[Parallel(n_jobs=-1)]: Done  24 tasks      | elapsed:    1.4s\n",
            "[Parallel(n_jobs=-1)]: Done  38 tasks      | elapsed:    2.4s\n",
            "[Parallel(n_jobs=-1)]: Done  52 tasks      | elapsed:    3.1s\n",
            "[Parallel(n_jobs=-1)]: Done  70 tasks      | elapsed:    4.3s\n",
            "[Parallel(n_jobs=-1)]: Done  88 tasks      | elapsed:    5.2s\n",
            "[Parallel(n_jobs=-1)]: Done 110 tasks      | elapsed:    6.6s\n",
            "[Parallel(n_jobs=-1)]: Done 132 tasks      | elapsed:    7.8s\n",
            "[Parallel(n_jobs=-1)]: Done 158 tasks      | elapsed:    9.5s\n",
            "[Parallel(n_jobs=-1)]: Done 184 tasks      | elapsed:   10.9s\n",
            "[Parallel(n_jobs=-1)]: Done 200 out of 200 | elapsed:   11.8s finished\n",
            "[Parallel(n_jobs=-1)]: Using backend LokyBackend with 2 concurrent workers.\n"
          ],
          "name": "stderr"
        },
        {
          "output_type": "stream",
          "text": [
            "CREATE PIPELINE\n",
            "<class 'numpy.float64'>\n",
            "<class 'numpy.ndarray'>\n",
            "{'selector__threshold': [0, 1000, 10000, 1000000], 'kNN__n_neighbors': [1, 3, 5, 7, 9, 11, 13, 15, 17, 19, 21, 23, 25, 27, 29, 31, 33, 35, 37, 39, 41, 43, 45, 47, 49]}\n",
            "Pipeline(memory='tmp',\n",
            "         steps=[('selector', VarianceThreshold()),\n",
            "                ('kNN', KNeighborsClassifier(n_jobs=-1))])\n",
            "Fitting 2 folds for each of 100 candidates, totalling 200 fits\n"
          ],
          "name": "stdout"
        },
        {
          "output_type": "stream",
          "text": [
            "[Parallel(n_jobs=-1)]: Done   1 tasks      | elapsed:    0.1s\n",
            "[Parallel(n_jobs=-1)]: Batch computation too fast (0.1332s.) Setting batch_size=2.\n",
            "[Parallel(n_jobs=-1)]: Done   4 tasks      | elapsed:    0.3s\n",
            "[Parallel(n_jobs=-1)]: Done  14 tasks      | elapsed:    1.0s\n",
            "[Parallel(n_jobs=-1)]: Done  24 tasks      | elapsed:    1.5s\n",
            "[Parallel(n_jobs=-1)]: Done  38 tasks      | elapsed:    2.4s\n",
            "[Parallel(n_jobs=-1)]: Done  52 tasks      | elapsed:    3.1s\n",
            "[Parallel(n_jobs=-1)]: Done  70 tasks      | elapsed:    4.3s\n",
            "[Parallel(n_jobs=-1)]: Done  88 tasks      | elapsed:    5.3s\n",
            "[Parallel(n_jobs=-1)]: Done 110 tasks      | elapsed:    6.7s\n",
            "[Parallel(n_jobs=-1)]: Done 132 tasks      | elapsed:    7.9s\n",
            "[Parallel(n_jobs=-1)]: Done 158 tasks      | elapsed:    9.5s\n",
            "[Parallel(n_jobs=-1)]: Done 184 tasks      | elapsed:   10.9s\n",
            "[Parallel(n_jobs=-1)]: Done 200 out of 200 | elapsed:   11.9s finished\n",
            "[Parallel(n_jobs=-1)]: Using backend LokyBackend with 2 concurrent workers.\n"
          ],
          "name": "stderr"
        },
        {
          "output_type": "stream",
          "text": [
            "CREATE PIPELINE\n",
            "<class 'numpy.float64'>\n",
            "<class 'numpy.ndarray'>\n",
            "{'kNN__n_neighbors': [1, 3, 5, 7, 9, 11, 13, 15, 17, 19, 21, 23, 25, 27, 29, 31, 33, 35, 37, 39, 41, 43, 45, 47, 49]}\n",
            "Pipeline(memory='tmp',\n",
            "         steps=[('scaler', StandardScaler()),\n",
            "                ('kNN', KNeighborsClassifier(n_jobs=-1))])\n",
            "Fitting 2 folds for each of 25 candidates, totalling 50 fits\n"
          ],
          "name": "stdout"
        },
        {
          "output_type": "stream",
          "text": [
            "[Parallel(n_jobs=-1)]: Done   1 tasks      | elapsed:    0.1s\n",
            "[Parallel(n_jobs=-1)]: Batch computation too fast (0.1283s.) Setting batch_size=2.\n",
            "[Parallel(n_jobs=-1)]: Done   4 tasks      | elapsed:    0.3s\n",
            "[Parallel(n_jobs=-1)]: Done  14 tasks      | elapsed:    1.0s\n",
            "[Parallel(n_jobs=-1)]: Done  24 tasks      | elapsed:    1.5s\n",
            "[Parallel(n_jobs=-1)]: Done  38 tasks      | elapsed:    2.4s\n",
            "[Parallel(n_jobs=-1)]: Done  50 out of  50 | elapsed:    3.0s finished\n",
            "[Parallel(n_jobs=-1)]: Using backend LokyBackend with 2 concurrent workers.\n"
          ],
          "name": "stderr"
        },
        {
          "output_type": "stream",
          "text": [
            "CREATE PIPELINE\n",
            "<class 'numpy.float64'>\n",
            "<class 'numpy.ndarray'>\n",
            "{'kNN__n_neighbors': [1, 3, 5, 7, 9, 11, 13, 15, 17, 19, 21, 23, 25, 27, 29, 31, 33, 35, 37, 39, 41, 43, 45, 47, 49]}\n",
            "Pipeline(memory='tmp',\n",
            "         steps=[('scaler', StandardScaler()),\n",
            "                ('kNN', KNeighborsClassifier(n_jobs=-1))])\n",
            "Fitting 2 folds for each of 25 candidates, totalling 50 fits\n"
          ],
          "name": "stdout"
        },
        {
          "output_type": "stream",
          "text": [
            "[Parallel(n_jobs=-1)]: Done   1 tasks      | elapsed:    0.1s\n",
            "[Parallel(n_jobs=-1)]: Batch computation too fast (0.1355s.) Setting batch_size=2.\n",
            "[Parallel(n_jobs=-1)]: Done   4 tasks      | elapsed:    0.3s\n",
            "[Parallel(n_jobs=-1)]: Done  14 tasks      | elapsed:    1.0s\n",
            "[Parallel(n_jobs=-1)]: Done  24 tasks      | elapsed:    1.5s\n",
            "[Parallel(n_jobs=-1)]: Done  38 tasks      | elapsed:    2.4s\n",
            "[Parallel(n_jobs=-1)]: Done  50 out of  50 | elapsed:    3.0s finished\n",
            "[Parallel(n_jobs=-1)]: Using backend LokyBackend with 2 concurrent workers.\n"
          ],
          "name": "stderr"
        },
        {
          "output_type": "stream",
          "text": [
            "CREATE PIPELINE\n",
            "<class 'numpy.float64'>\n",
            "<class 'numpy.ndarray'>\n",
            "{'kNN__n_neighbors': [1, 3, 5, 7, 9, 11, 13, 15, 17, 19, 21, 23, 25, 27, 29, 31, 33, 35, 37, 39, 41, 43, 45, 47, 49]}\n",
            "Pipeline(memory='tmp',\n",
            "         steps=[('scaler', StandardScaler()),\n",
            "                ('kNN', KNeighborsClassifier(n_jobs=-1))])\n",
            "Fitting 2 folds for each of 25 candidates, totalling 50 fits\n"
          ],
          "name": "stdout"
        },
        {
          "output_type": "stream",
          "text": [
            "[Parallel(n_jobs=-1)]: Done   1 tasks      | elapsed:    0.1s\n",
            "[Parallel(n_jobs=-1)]: Batch computation too fast (0.1340s.) Setting batch_size=2.\n",
            "[Parallel(n_jobs=-1)]: Done   4 tasks      | elapsed:    0.3s\n",
            "[Parallel(n_jobs=-1)]: Done  14 tasks      | elapsed:    1.0s\n",
            "[Parallel(n_jobs=-1)]: Done  24 tasks      | elapsed:    1.5s\n",
            "[Parallel(n_jobs=-1)]: Done  38 tasks      | elapsed:    2.4s\n",
            "[Parallel(n_jobs=-1)]: Done  50 out of  50 | elapsed:    3.0s finished\n",
            "[Parallel(n_jobs=-1)]: Using backend LokyBackend with 2 concurrent workers.\n"
          ],
          "name": "stderr"
        },
        {
          "output_type": "stream",
          "text": [
            "CREATE PIPELINE\n",
            "<class 'numpy.float64'>\n",
            "<class 'numpy.ndarray'>\n",
            "{'kNN__n_neighbors': [1, 3, 5, 7, 9, 11, 13, 15, 17, 19, 21, 23, 25, 27, 29, 31, 33, 35, 37, 39, 41, 43, 45, 47, 49]}\n",
            "Pipeline(memory='tmp',\n",
            "         steps=[('min_max_scaler', MinMaxScaler()),\n",
            "                ('kNN', KNeighborsClassifier(n_jobs=-1))])\n",
            "Fitting 2 folds for each of 25 candidates, totalling 50 fits\n"
          ],
          "name": "stdout"
        },
        {
          "output_type": "stream",
          "text": [
            "[Parallel(n_jobs=-1)]: Done   1 tasks      | elapsed:    0.1s\n",
            "[Parallel(n_jobs=-1)]: Batch computation too fast (0.1307s.) Setting batch_size=2.\n",
            "[Parallel(n_jobs=-1)]: Done   4 tasks      | elapsed:    0.3s\n",
            "[Parallel(n_jobs=-1)]: Done  14 tasks      | elapsed:    1.0s\n",
            "[Parallel(n_jobs=-1)]: Done  24 tasks      | elapsed:    1.5s\n",
            "[Parallel(n_jobs=-1)]: Done  38 tasks      | elapsed:    2.4s\n",
            "[Parallel(n_jobs=-1)]: Done  50 out of  50 | elapsed:    3.0s finished\n",
            "[Parallel(n_jobs=-1)]: Using backend LokyBackend with 2 concurrent workers.\n"
          ],
          "name": "stderr"
        },
        {
          "output_type": "stream",
          "text": [
            "CREATE PIPELINE\n",
            "<class 'numpy.float64'>\n",
            "<class 'numpy.ndarray'>\n",
            "{'kNN__n_neighbors': [1, 3, 5, 7, 9, 11, 13, 15, 17, 19, 21, 23, 25, 27, 29, 31, 33, 35, 37, 39, 41, 43, 45, 47, 49]}\n",
            "Pipeline(memory='tmp',\n",
            "         steps=[('min_max_scaler', MinMaxScaler()),\n",
            "                ('kNN', KNeighborsClassifier(n_jobs=-1))])\n",
            "Fitting 2 folds for each of 25 candidates, totalling 50 fits\n"
          ],
          "name": "stdout"
        },
        {
          "output_type": "stream",
          "text": [
            "[Parallel(n_jobs=-1)]: Done   1 tasks      | elapsed:    0.1s\n",
            "[Parallel(n_jobs=-1)]: Batch computation too fast (0.1343s.) Setting batch_size=2.\n",
            "[Parallel(n_jobs=-1)]: Done   4 tasks      | elapsed:    0.3s\n",
            "[Parallel(n_jobs=-1)]: Done  14 tasks      | elapsed:    1.0s\n",
            "[Parallel(n_jobs=-1)]: Done  24 tasks      | elapsed:    1.5s\n",
            "[Parallel(n_jobs=-1)]: Done  38 tasks      | elapsed:    2.4s\n",
            "[Parallel(n_jobs=-1)]: Done  50 out of  50 | elapsed:    3.0s finished\n",
            "[Parallel(n_jobs=-1)]: Using backend LokyBackend with 2 concurrent workers.\n"
          ],
          "name": "stderr"
        },
        {
          "output_type": "stream",
          "text": [
            "CREATE PIPELINE\n",
            "<class 'numpy.float64'>\n",
            "<class 'numpy.ndarray'>\n",
            "{'kNN__n_neighbors': [1, 3, 5, 7, 9, 11, 13, 15, 17, 19, 21, 23, 25, 27, 29, 31, 33, 35, 37, 39, 41, 43, 45, 47, 49]}\n",
            "Pipeline(memory='tmp',\n",
            "         steps=[('min_max_scaler', MinMaxScaler()),\n",
            "                ('kNN', KNeighborsClassifier(n_jobs=-1))])\n",
            "Fitting 2 folds for each of 25 candidates, totalling 50 fits\n"
          ],
          "name": "stdout"
        },
        {
          "output_type": "stream",
          "text": [
            "[Parallel(n_jobs=-1)]: Done   1 tasks      | elapsed:    0.1s\n",
            "[Parallel(n_jobs=-1)]: Batch computation too fast (0.1280s.) Setting batch_size=2.\n",
            "[Parallel(n_jobs=-1)]: Done   4 tasks      | elapsed:    0.3s\n",
            "[Parallel(n_jobs=-1)]: Done  14 tasks      | elapsed:    1.0s\n",
            "[Parallel(n_jobs=-1)]: Done  24 tasks      | elapsed:    1.5s\n",
            "[Parallel(n_jobs=-1)]: Done  38 tasks      | elapsed:    2.4s\n",
            "[Parallel(n_jobs=-1)]: Done  50 out of  50 | elapsed:    3.0s finished\n",
            "[Parallel(n_jobs=-1)]: Using backend LokyBackend with 2 concurrent workers.\n"
          ],
          "name": "stderr"
        },
        {
          "output_type": "stream",
          "text": [
            "CREATE PIPELINE\n",
            "<class 'numpy.float64'>\n",
            "<class 'numpy.ndarray'>\n",
            "{'kNN__n_neighbors': [1, 3, 5, 7, 9, 11, 13, 15, 17, 19, 21, 23, 25, 27, 29, 31, 33, 35, 37, 39, 41, 43, 45, 47, 49]}\n",
            "Pipeline(memory='tmp',\n",
            "         steps=[('ros', RandomOverSampler()),\n",
            "                ('kNN', KNeighborsClassifier(n_jobs=-1))])\n",
            "Fitting 2 folds for each of 25 candidates, totalling 50 fits\n"
          ],
          "name": "stdout"
        },
        {
          "output_type": "stream",
          "text": [
            "[Parallel(n_jobs=-1)]: Done   1 tasks      | elapsed:    0.1s\n",
            "[Parallel(n_jobs=-1)]: Batch computation too fast (0.1311s.) Setting batch_size=2.\n",
            "[Parallel(n_jobs=-1)]: Done   4 tasks      | elapsed:    0.3s\n",
            "[Parallel(n_jobs=-1)]: Done  14 tasks      | elapsed:    1.0s\n",
            "[Parallel(n_jobs=-1)]: Done  24 tasks      | elapsed:    1.5s\n",
            "[Parallel(n_jobs=-1)]: Done  38 tasks      | elapsed:    2.4s\n",
            "[Parallel(n_jobs=-1)]: Done  50 out of  50 | elapsed:    3.0s finished\n",
            "[Parallel(n_jobs=-1)]: Using backend LokyBackend with 2 concurrent workers.\n"
          ],
          "name": "stderr"
        },
        {
          "output_type": "stream",
          "text": [
            "CREATE PIPELINE\n",
            "<class 'numpy.float64'>\n",
            "<class 'numpy.ndarray'>\n",
            "{'kNN__n_neighbors': [1, 3, 5, 7, 9, 11, 13, 15, 17, 19, 21, 23, 25, 27, 29, 31, 33, 35, 37, 39, 41, 43, 45, 47, 49]}\n",
            "Pipeline(memory='tmp',\n",
            "         steps=[('rus', RandomUnderSampler()),\n",
            "                ('kNN', KNeighborsClassifier(n_jobs=-1))])\n",
            "Fitting 2 folds for each of 25 candidates, totalling 50 fits\n"
          ],
          "name": "stdout"
        },
        {
          "output_type": "stream",
          "text": [
            "[Parallel(n_jobs=-1)]: Done   1 tasks      | elapsed:    0.1s\n",
            "[Parallel(n_jobs=-1)]: Batch computation too fast (0.1296s.) Setting batch_size=2.\n",
            "[Parallel(n_jobs=-1)]: Done   4 tasks      | elapsed:    0.3s\n",
            "[Parallel(n_jobs=-1)]: Done  14 tasks      | elapsed:    1.0s\n",
            "[Parallel(n_jobs=-1)]: Done  24 tasks      | elapsed:    1.5s\n",
            "[Parallel(n_jobs=-1)]: Done  38 tasks      | elapsed:    2.5s\n",
            "[Parallel(n_jobs=-1)]: Done  50 out of  50 | elapsed:    3.1s finished\n",
            "[Parallel(n_jobs=-1)]: Using backend LokyBackend with 2 concurrent workers.\n"
          ],
          "name": "stderr"
        },
        {
          "output_type": "stream",
          "text": [
            "CREATE PIPELINE\n",
            "<class 'numpy.float64'>\n",
            "<class 'numpy.ndarray'>\n",
            "{'selector__threshold': [0, 1000, 10000, 1000000], 'kNN__n_neighbors': [1, 3, 5, 7, 9, 11, 13, 15, 17, 19, 21, 23, 25, 27, 29, 31, 33, 35, 37, 39, 41, 43, 45, 47, 49]}\n",
            "Pipeline(memory='tmp',\n",
            "         steps=[('selector', VarianceThreshold()), ('scaler', StandardScaler()),\n",
            "                ('kNN', KNeighborsClassifier(n_jobs=-1))])\n",
            "Fitting 2 folds for each of 100 candidates, totalling 200 fits\n"
          ],
          "name": "stdout"
        },
        {
          "output_type": "stream",
          "text": [
            "[Parallel(n_jobs=-1)]: Done   1 tasks      | elapsed:    0.1s\n",
            "[Parallel(n_jobs=-1)]: Batch computation too fast (0.1373s.) Setting batch_size=2.\n",
            "[Parallel(n_jobs=-1)]: Done   4 tasks      | elapsed:    0.3s\n",
            "[Parallel(n_jobs=-1)]: Done  14 tasks      | elapsed:    1.0s\n",
            "[Parallel(n_jobs=-1)]: Done  24 tasks      | elapsed:    1.5s\n",
            "[Parallel(n_jobs=-1)]: Done  38 tasks      | elapsed:    2.4s\n",
            "[Parallel(n_jobs=-1)]: Done  52 tasks      | elapsed:    3.2s\n",
            "[Parallel(n_jobs=-1)]: Done  70 tasks      | elapsed:    4.3s\n",
            "[Parallel(n_jobs=-1)]: Done  88 tasks      | elapsed:    5.3s\n",
            "[Parallel(n_jobs=-1)]: Done 110 tasks      | elapsed:    6.7s\n",
            "[Parallel(n_jobs=-1)]: Done 132 tasks      | elapsed:    7.9s\n",
            "[Parallel(n_jobs=-1)]: Done 158 tasks      | elapsed:    9.6s\n",
            "[Parallel(n_jobs=-1)]: Done 184 tasks      | elapsed:   11.0s\n",
            "[Parallel(n_jobs=-1)]: Done 200 out of 200 | elapsed:   12.0s finished\n",
            "[Parallel(n_jobs=-1)]: Using backend LokyBackend with 2 concurrent workers.\n"
          ],
          "name": "stderr"
        },
        {
          "output_type": "stream",
          "text": [
            "CREATE PIPELINE\n",
            "<class 'numpy.float64'>\n",
            "<class 'numpy.ndarray'>\n",
            "{'selector__threshold': [0, 1000, 10000, 1000000], 'kNN__n_neighbors': [1, 3, 5, 7, 9, 11, 13, 15, 17, 19, 21, 23, 25, 27, 29, 31, 33, 35, 37, 39, 41, 43, 45, 47, 49]}\n",
            "Pipeline(memory='tmp',\n",
            "         steps=[('selector', VarianceThreshold()), ('scaler', StandardScaler()),\n",
            "                ('kNN', KNeighborsClassifier(n_jobs=-1))])\n",
            "Fitting 2 folds for each of 100 candidates, totalling 200 fits\n"
          ],
          "name": "stdout"
        },
        {
          "output_type": "stream",
          "text": [
            "[Parallel(n_jobs=-1)]: Done   1 tasks      | elapsed:    0.1s\n",
            "[Parallel(n_jobs=-1)]: Batch computation too fast (0.1341s.) Setting batch_size=2.\n",
            "[Parallel(n_jobs=-1)]: Done   4 tasks      | elapsed:    0.3s\n",
            "[Parallel(n_jobs=-1)]: Done  14 tasks      | elapsed:    1.0s\n",
            "[Parallel(n_jobs=-1)]: Done  24 tasks      | elapsed:    1.5s\n",
            "[Parallel(n_jobs=-1)]: Done  38 tasks      | elapsed:    2.4s\n",
            "[Parallel(n_jobs=-1)]: Done  52 tasks      | elapsed:    3.1s\n",
            "[Parallel(n_jobs=-1)]: Done  70 tasks      | elapsed:    4.3s\n",
            "[Parallel(n_jobs=-1)]: Done  88 tasks      | elapsed:    5.3s\n",
            "[Parallel(n_jobs=-1)]: Done 110 tasks      | elapsed:    6.7s\n",
            "[Parallel(n_jobs=-1)]: Done 132 tasks      | elapsed:    7.9s\n",
            "[Parallel(n_jobs=-1)]: Done 158 tasks      | elapsed:    9.5s\n",
            "[Parallel(n_jobs=-1)]: Done 184 tasks      | elapsed:   11.0s\n",
            "[Parallel(n_jobs=-1)]: Done 200 out of 200 | elapsed:   12.0s finished\n",
            "[Parallel(n_jobs=-1)]: Using backend LokyBackend with 2 concurrent workers.\n"
          ],
          "name": "stderr"
        },
        {
          "output_type": "stream",
          "text": [
            "CREATE PIPELINE\n",
            "<class 'numpy.float64'>\n",
            "<class 'numpy.ndarray'>\n",
            "{'selector__threshold': [0, 1000, 10000, 1000000], 'kNN__n_neighbors': [1, 3, 5, 7, 9, 11, 13, 15, 17, 19, 21, 23, 25, 27, 29, 31, 33, 35, 37, 39, 41, 43, 45, 47, 49]}\n",
            "Pipeline(memory='tmp',\n",
            "         steps=[('selector', VarianceThreshold()), ('scaler', StandardScaler()),\n",
            "                ('kNN', KNeighborsClassifier(n_jobs=-1))])\n",
            "Fitting 2 folds for each of 100 candidates, totalling 200 fits\n"
          ],
          "name": "stdout"
        },
        {
          "output_type": "stream",
          "text": [
            "[Parallel(n_jobs=-1)]: Done   1 tasks      | elapsed:    0.1s\n",
            "[Parallel(n_jobs=-1)]: Batch computation too fast (0.1362s.) Setting batch_size=2.\n",
            "[Parallel(n_jobs=-1)]: Done   4 tasks      | elapsed:    0.3s\n",
            "[Parallel(n_jobs=-1)]: Done  14 tasks      | elapsed:    1.0s\n",
            "[Parallel(n_jobs=-1)]: Done  24 tasks      | elapsed:    1.5s\n",
            "[Parallel(n_jobs=-1)]: Done  38 tasks      | elapsed:    2.4s\n",
            "[Parallel(n_jobs=-1)]: Done  52 tasks      | elapsed:    3.1s\n",
            "[Parallel(n_jobs=-1)]: Done  70 tasks      | elapsed:    4.3s\n",
            "[Parallel(n_jobs=-1)]: Done  88 tasks      | elapsed:    5.3s\n",
            "[Parallel(n_jobs=-1)]: Done 110 tasks      | elapsed:    6.7s\n",
            "[Parallel(n_jobs=-1)]: Done 132 tasks      | elapsed:    7.9s\n",
            "[Parallel(n_jobs=-1)]: Done 158 tasks      | elapsed:    9.6s\n",
            "[Parallel(n_jobs=-1)]: Done 184 tasks      | elapsed:   11.1s\n",
            "[Parallel(n_jobs=-1)]: Done 200 out of 200 | elapsed:   12.0s finished\n",
            "[Parallel(n_jobs=-1)]: Using backend LokyBackend with 2 concurrent workers.\n"
          ],
          "name": "stderr"
        },
        {
          "output_type": "stream",
          "text": [
            "CREATE PIPELINE\n",
            "<class 'numpy.float64'>\n",
            "<class 'numpy.ndarray'>\n",
            "{'selector__threshold': [0, 1000, 10000, 1000000], 'kNN__n_neighbors': [1, 3, 5, 7, 9, 11, 13, 15, 17, 19, 21, 23, 25, 27, 29, 31, 33, 35, 37, 39, 41, 43, 45, 47, 49]}\n",
            "Pipeline(memory='tmp',\n",
            "         steps=[('selector', VarianceThreshold()),\n",
            "                ('min_max_scaler', MinMaxScaler()),\n",
            "                ('kNN', KNeighborsClassifier(n_jobs=-1))])\n",
            "Fitting 2 folds for each of 100 candidates, totalling 200 fits\n"
          ],
          "name": "stdout"
        },
        {
          "output_type": "stream",
          "text": [
            "[Parallel(n_jobs=-1)]: Done   1 tasks      | elapsed:    0.1s\n",
            "[Parallel(n_jobs=-1)]: Batch computation too fast (0.1365s.) Setting batch_size=2.\n",
            "[Parallel(n_jobs=-1)]: Done   4 tasks      | elapsed:    0.3s\n",
            "[Parallel(n_jobs=-1)]: Done  14 tasks      | elapsed:    1.0s\n",
            "[Parallel(n_jobs=-1)]: Done  24 tasks      | elapsed:    1.5s\n",
            "[Parallel(n_jobs=-1)]: Done  38 tasks      | elapsed:    2.4s\n",
            "[Parallel(n_jobs=-1)]: Done  52 tasks      | elapsed:    3.2s\n",
            "[Parallel(n_jobs=-1)]: Done  70 tasks      | elapsed:    4.3s\n",
            "[Parallel(n_jobs=-1)]: Done  88 tasks      | elapsed:    5.3s\n",
            "[Parallel(n_jobs=-1)]: Done 110 tasks      | elapsed:    6.7s\n",
            "[Parallel(n_jobs=-1)]: Done 132 tasks      | elapsed:    7.9s\n",
            "[Parallel(n_jobs=-1)]: Done 158 tasks      | elapsed:    9.5s\n",
            "[Parallel(n_jobs=-1)]: Done 184 tasks      | elapsed:   11.0s\n",
            "[Parallel(n_jobs=-1)]: Done 200 out of 200 | elapsed:   11.9s finished\n",
            "[Parallel(n_jobs=-1)]: Using backend LokyBackend with 2 concurrent workers.\n"
          ],
          "name": "stderr"
        },
        {
          "output_type": "stream",
          "text": [
            "CREATE PIPELINE\n",
            "<class 'numpy.float64'>\n",
            "<class 'numpy.ndarray'>\n",
            "{'selector__threshold': [0, 1000, 10000, 1000000], 'kNN__n_neighbors': [1, 3, 5, 7, 9, 11, 13, 15, 17, 19, 21, 23, 25, 27, 29, 31, 33, 35, 37, 39, 41, 43, 45, 47, 49]}\n",
            "Pipeline(memory='tmp',\n",
            "         steps=[('selector', VarianceThreshold()),\n",
            "                ('min_max_scaler', MinMaxScaler()),\n",
            "                ('kNN', KNeighborsClassifier(n_jobs=-1))])\n",
            "Fitting 2 folds for each of 100 candidates, totalling 200 fits\n"
          ],
          "name": "stdout"
        },
        {
          "output_type": "stream",
          "text": [
            "[Parallel(n_jobs=-1)]: Done   1 tasks      | elapsed:    0.1s\n",
            "[Parallel(n_jobs=-1)]: Batch computation too fast (0.1360s.) Setting batch_size=2.\n",
            "[Parallel(n_jobs=-1)]: Done   4 tasks      | elapsed:    0.3s\n",
            "[Parallel(n_jobs=-1)]: Done  14 tasks      | elapsed:    1.0s\n",
            "[Parallel(n_jobs=-1)]: Done  24 tasks      | elapsed:    1.5s\n",
            "[Parallel(n_jobs=-1)]: Done  38 tasks      | elapsed:    2.4s\n",
            "[Parallel(n_jobs=-1)]: Done  52 tasks      | elapsed:    3.1s\n",
            "[Parallel(n_jobs=-1)]: Done  70 tasks      | elapsed:    4.3s\n",
            "[Parallel(n_jobs=-1)]: Done  88 tasks      | elapsed:    5.3s\n",
            "[Parallel(n_jobs=-1)]: Done 110 tasks      | elapsed:    6.7s\n",
            "[Parallel(n_jobs=-1)]: Done 132 tasks      | elapsed:    7.9s\n",
            "[Parallel(n_jobs=-1)]: Done 158 tasks      | elapsed:    9.5s\n",
            "[Parallel(n_jobs=-1)]: Done 184 tasks      | elapsed:   11.0s\n",
            "[Parallel(n_jobs=-1)]: Done 200 out of 200 | elapsed:   12.0s finished\n",
            "[Parallel(n_jobs=-1)]: Using backend LokyBackend with 2 concurrent workers.\n"
          ],
          "name": "stderr"
        },
        {
          "output_type": "stream",
          "text": [
            "CREATE PIPELINE\n",
            "<class 'numpy.float64'>\n",
            "<class 'numpy.ndarray'>\n",
            "{'selector__threshold': [0, 1000, 10000, 1000000], 'kNN__n_neighbors': [1, 3, 5, 7, 9, 11, 13, 15, 17, 19, 21, 23, 25, 27, 29, 31, 33, 35, 37, 39, 41, 43, 45, 47, 49]}\n",
            "Pipeline(memory='tmp',\n",
            "         steps=[('selector', VarianceThreshold()),\n",
            "                ('min_max_scaler', MinMaxScaler()),\n",
            "                ('kNN', KNeighborsClassifier(n_jobs=-1))])\n",
            "Fitting 2 folds for each of 100 candidates, totalling 200 fits\n"
          ],
          "name": "stdout"
        },
        {
          "output_type": "stream",
          "text": [
            "[Parallel(n_jobs=-1)]: Done   1 tasks      | elapsed:    0.1s\n",
            "[Parallel(n_jobs=-1)]: Batch computation too fast (0.1295s.) Setting batch_size=2.\n",
            "[Parallel(n_jobs=-1)]: Done   4 tasks      | elapsed:    0.3s\n",
            "[Parallel(n_jobs=-1)]: Done  14 tasks      | elapsed:    1.0s\n",
            "[Parallel(n_jobs=-1)]: Done  24 tasks      | elapsed:    1.5s\n",
            "[Parallel(n_jobs=-1)]: Done  38 tasks      | elapsed:    2.4s\n",
            "[Parallel(n_jobs=-1)]: Done  52 tasks      | elapsed:    3.2s\n",
            "[Parallel(n_jobs=-1)]: Done  70 tasks      | elapsed:    4.3s\n",
            "[Parallel(n_jobs=-1)]: Done  88 tasks      | elapsed:    5.3s\n",
            "[Parallel(n_jobs=-1)]: Done 110 tasks      | elapsed:    6.7s\n",
            "[Parallel(n_jobs=-1)]: Done 132 tasks      | elapsed:    7.9s\n",
            "[Parallel(n_jobs=-1)]: Done 158 tasks      | elapsed:    9.6s\n",
            "[Parallel(n_jobs=-1)]: Done 184 tasks      | elapsed:   11.0s\n",
            "[Parallel(n_jobs=-1)]: Done 200 out of 200 | elapsed:   12.0s finished\n",
            "[Parallel(n_jobs=-1)]: Using backend LokyBackend with 2 concurrent workers.\n"
          ],
          "name": "stderr"
        },
        {
          "output_type": "stream",
          "text": [
            "CREATE PIPELINE\n",
            "<class 'numpy.float64'>\n",
            "<class 'numpy.ndarray'>\n",
            "{'selector__threshold': [0, 1000, 10000, 1000000], 'kNN__n_neighbors': [1, 3, 5, 7, 9, 11, 13, 15, 17, 19, 21, 23, 25, 27, 29, 31, 33, 35, 37, 39, 41, 43, 45, 47, 49]}\n",
            "Pipeline(memory='tmp',\n",
            "         steps=[('selector', VarianceThreshold()), ('ros', RandomOverSampler()),\n",
            "                ('kNN', KNeighborsClassifier(n_jobs=-1))])\n",
            "Fitting 2 folds for each of 100 candidates, totalling 200 fits\n"
          ],
          "name": "stdout"
        },
        {
          "output_type": "stream",
          "text": [
            "[Parallel(n_jobs=-1)]: Done   1 tasks      | elapsed:    0.1s\n",
            "[Parallel(n_jobs=-1)]: Batch computation too fast (0.1381s.) Setting batch_size=2.\n",
            "[Parallel(n_jobs=-1)]: Done   4 tasks      | elapsed:    0.3s\n",
            "[Parallel(n_jobs=-1)]: Done  14 tasks      | elapsed:    1.0s\n",
            "[Parallel(n_jobs=-1)]: Done  24 tasks      | elapsed:    1.6s\n",
            "[Parallel(n_jobs=-1)]: Done  38 tasks      | elapsed:    2.6s\n",
            "[Parallel(n_jobs=-1)]: Done  52 tasks      | elapsed:    3.3s\n",
            "[Parallel(n_jobs=-1)]: Done  70 tasks      | elapsed:    4.5s\n",
            "[Parallel(n_jobs=-1)]: Done  88 tasks      | elapsed:    5.5s\n",
            "[Parallel(n_jobs=-1)]: Done 110 tasks      | elapsed:    6.9s\n",
            "[Parallel(n_jobs=-1)]: Done 132 tasks      | elapsed:    8.1s\n",
            "[Parallel(n_jobs=-1)]: Done 158 tasks      | elapsed:    9.7s\n",
            "[Parallel(n_jobs=-1)]: Done 184 tasks      | elapsed:   11.2s\n",
            "[Parallel(n_jobs=-1)]: Done 200 out of 200 | elapsed:   12.2s finished\n",
            "[Parallel(n_jobs=-1)]: Using backend LokyBackend with 2 concurrent workers.\n"
          ],
          "name": "stderr"
        },
        {
          "output_type": "stream",
          "text": [
            "CREATE PIPELINE\n",
            "<class 'numpy.float64'>\n",
            "<class 'numpy.ndarray'>\n",
            "{'selector__threshold': [0, 1000, 10000, 1000000], 'kNN__n_neighbors': [1, 3, 5, 7, 9, 11, 13, 15, 17, 19, 21, 23, 25, 27, 29, 31, 33, 35, 37, 39, 41, 43, 45, 47, 49]}\n",
            "Pipeline(memory='tmp',\n",
            "         steps=[('selector', VarianceThreshold()),\n",
            "                ('rus', RandomUnderSampler()),\n",
            "                ('kNN', KNeighborsClassifier(n_jobs=-1))])\n",
            "Fitting 2 folds for each of 100 candidates, totalling 200 fits\n"
          ],
          "name": "stdout"
        },
        {
          "output_type": "stream",
          "text": [
            "[Parallel(n_jobs=-1)]: Done   1 tasks      | elapsed:    0.1s\n",
            "[Parallel(n_jobs=-1)]: Batch computation too fast (0.1342s.) Setting batch_size=2.\n",
            "[Parallel(n_jobs=-1)]: Done   4 tasks      | elapsed:    0.3s\n",
            "[Parallel(n_jobs=-1)]: Done  14 tasks      | elapsed:    1.0s\n",
            "[Parallel(n_jobs=-1)]: Done  24 tasks      | elapsed:    1.5s\n",
            "[Parallel(n_jobs=-1)]: Done  38 tasks      | elapsed:    2.5s\n",
            "[Parallel(n_jobs=-1)]: Done  52 tasks      | elapsed:    3.2s\n",
            "[Parallel(n_jobs=-1)]: Done  70 tasks      | elapsed:    4.4s\n",
            "[Parallel(n_jobs=-1)]: Done  88 tasks      | elapsed:    5.4s\n",
            "[Parallel(n_jobs=-1)]: Done 110 tasks      | elapsed:    6.8s\n",
            "[Parallel(n_jobs=-1)]: Done 132 tasks      | elapsed:    8.0s\n",
            "[Parallel(n_jobs=-1)]: Done 158 tasks      | elapsed:    9.7s\n",
            "[Parallel(n_jobs=-1)]: Done 184 tasks      | elapsed:   11.1s\n",
            "[Parallel(n_jobs=-1)]: Done 200 out of 200 | elapsed:   12.1s finished\n",
            "[Parallel(n_jobs=-1)]: Using backend LokyBackend with 2 concurrent workers.\n"
          ],
          "name": "stderr"
        },
        {
          "output_type": "stream",
          "text": [
            "CREATE PIPELINE\n",
            "<class 'numpy.float64'>\n",
            "<class 'numpy.ndarray'>\n",
            "{'kNN__n_neighbors': [1, 3, 5, 7, 9, 11, 13, 15, 17, 19, 21, 23, 25, 27, 29, 31, 33, 35, 37, 39, 41, 43, 45, 47, 49]}\n",
            "Pipeline(memory='tmp',\n",
            "         steps=[('scaler', StandardScaler()), ('ros', RandomOverSampler()),\n",
            "                ('kNN', KNeighborsClassifier(n_jobs=-1))])\n",
            "Fitting 2 folds for each of 25 candidates, totalling 50 fits\n"
          ],
          "name": "stdout"
        },
        {
          "output_type": "stream",
          "text": [
            "[Parallel(n_jobs=-1)]: Done   1 tasks      | elapsed:    0.1s\n",
            "[Parallel(n_jobs=-1)]: Batch computation too fast (0.1340s.) Setting batch_size=2.\n",
            "[Parallel(n_jobs=-1)]: Done   4 tasks      | elapsed:    0.3s\n",
            "[Parallel(n_jobs=-1)]: Done  14 tasks      | elapsed:    1.0s\n",
            "[Parallel(n_jobs=-1)]: Done  24 tasks      | elapsed:    1.5s\n",
            "[Parallel(n_jobs=-1)]: Done  38 tasks      | elapsed:    2.4s\n",
            "[Parallel(n_jobs=-1)]: Done  50 out of  50 | elapsed:    3.1s finished\n",
            "[Parallel(n_jobs=-1)]: Using backend LokyBackend with 2 concurrent workers.\n"
          ],
          "name": "stderr"
        },
        {
          "output_type": "stream",
          "text": [
            "CREATE PIPELINE\n",
            "<class 'numpy.float64'>\n",
            "<class 'numpy.ndarray'>\n",
            "{'kNN__n_neighbors': [1, 3, 5, 7, 9, 11, 13, 15, 17, 19, 21, 23, 25, 27, 29, 31, 33, 35, 37, 39, 41, 43, 45, 47, 49]}\n",
            "Pipeline(memory='tmp',\n",
            "         steps=[('scaler', StandardScaler()), ('rus', RandomUnderSampler()),\n",
            "                ('kNN', KNeighborsClassifier(n_jobs=-1))])\n",
            "Fitting 2 folds for each of 25 candidates, totalling 50 fits\n"
          ],
          "name": "stdout"
        },
        {
          "output_type": "stream",
          "text": [
            "[Parallel(n_jobs=-1)]: Done   1 tasks      | elapsed:    0.1s\n",
            "[Parallel(n_jobs=-1)]: Batch computation too fast (0.1431s.) Setting batch_size=2.\n",
            "[Parallel(n_jobs=-1)]: Done   4 tasks      | elapsed:    0.3s\n",
            "[Parallel(n_jobs=-1)]: Done  14 tasks      | elapsed:    1.0s\n",
            "[Parallel(n_jobs=-1)]: Done  24 tasks      | elapsed:    1.5s\n",
            "[Parallel(n_jobs=-1)]: Done  38 tasks      | elapsed:    2.4s\n",
            "[Parallel(n_jobs=-1)]: Done  50 out of  50 | elapsed:    3.1s finished\n",
            "[Parallel(n_jobs=-1)]: Using backend LokyBackend with 2 concurrent workers.\n"
          ],
          "name": "stderr"
        },
        {
          "output_type": "stream",
          "text": [
            "CREATE PIPELINE\n",
            "<class 'numpy.float64'>\n",
            "<class 'numpy.ndarray'>\n",
            "{'kNN__n_neighbors': [1, 3, 5, 7, 9, 11, 13, 15, 17, 19, 21, 23, 25, 27, 29, 31, 33, 35, 37, 39, 41, 43, 45, 47, 49]}\n",
            "Pipeline(memory='tmp',\n",
            "         steps=[('min_max_scaler', MinMaxScaler()),\n",
            "                ('ros', RandomOverSampler()),\n",
            "                ('kNN', KNeighborsClassifier(n_jobs=-1))])\n",
            "Fitting 2 folds for each of 25 candidates, totalling 50 fits\n"
          ],
          "name": "stdout"
        },
        {
          "output_type": "stream",
          "text": [
            "[Parallel(n_jobs=-1)]: Done   1 tasks      | elapsed:    0.1s\n",
            "[Parallel(n_jobs=-1)]: Batch computation too fast (0.1341s.) Setting batch_size=2.\n",
            "[Parallel(n_jobs=-1)]: Done   4 tasks      | elapsed:    0.3s\n",
            "[Parallel(n_jobs=-1)]: Done  14 tasks      | elapsed:    1.0s\n",
            "[Parallel(n_jobs=-1)]: Done  24 tasks      | elapsed:    1.5s\n",
            "[Parallel(n_jobs=-1)]: Done  38 tasks      | elapsed:    2.4s\n",
            "[Parallel(n_jobs=-1)]: Done  50 out of  50 | elapsed:    3.1s finished\n",
            "[Parallel(n_jobs=-1)]: Using backend LokyBackend with 2 concurrent workers.\n"
          ],
          "name": "stderr"
        },
        {
          "output_type": "stream",
          "text": [
            "CREATE PIPELINE\n",
            "<class 'numpy.float64'>\n",
            "<class 'numpy.ndarray'>\n",
            "{'kNN__n_neighbors': [1, 3, 5, 7, 9, 11, 13, 15, 17, 19, 21, 23, 25, 27, 29, 31, 33, 35, 37, 39, 41, 43, 45, 47, 49]}\n",
            "Pipeline(memory='tmp',\n",
            "         steps=[('min_max_scaler', MinMaxScaler()),\n",
            "                ('rus', RandomUnderSampler()),\n",
            "                ('kNN', KNeighborsClassifier(n_jobs=-1))])\n",
            "Fitting 2 folds for each of 25 candidates, totalling 50 fits\n"
          ],
          "name": "stdout"
        },
        {
          "output_type": "stream",
          "text": [
            "[Parallel(n_jobs=-1)]: Done   1 tasks      | elapsed:    0.1s\n",
            "[Parallel(n_jobs=-1)]: Batch computation too fast (0.1361s.) Setting batch_size=2.\n",
            "[Parallel(n_jobs=-1)]: Done   4 tasks      | elapsed:    0.3s\n",
            "[Parallel(n_jobs=-1)]: Done  14 tasks      | elapsed:    1.0s\n",
            "[Parallel(n_jobs=-1)]: Done  24 tasks      | elapsed:    1.5s\n",
            "[Parallel(n_jobs=-1)]: Done  38 tasks      | elapsed:    2.5s\n",
            "[Parallel(n_jobs=-1)]: Done  50 out of  50 | elapsed:    3.1s finished\n",
            "[Parallel(n_jobs=-1)]: Using backend LokyBackend with 2 concurrent workers.\n"
          ],
          "name": "stderr"
        },
        {
          "output_type": "stream",
          "text": [
            "CREATE PIPELINE\n",
            "<class 'numpy.float64'>\n",
            "<class 'numpy.ndarray'>\n",
            "{'selector__threshold': [0, 1000, 10000, 1000000], 'kNN__n_neighbors': [1, 3, 5, 7, 9, 11, 13, 15, 17, 19, 21, 23, 25, 27, 29, 31, 33, 35, 37, 39, 41, 43, 45, 47, 49]}\n",
            "Pipeline(memory='tmp',\n",
            "         steps=[('selector', VarianceThreshold()), ('scaler', StandardScaler()),\n",
            "                ('ros', RandomOverSampler()),\n",
            "                ('kNN', KNeighborsClassifier(n_jobs=-1))])\n",
            "Fitting 2 folds for each of 100 candidates, totalling 200 fits\n"
          ],
          "name": "stdout"
        },
        {
          "output_type": "stream",
          "text": [
            "[Parallel(n_jobs=-1)]: Done   1 tasks      | elapsed:    0.1s\n",
            "[Parallel(n_jobs=-1)]: Batch computation too fast (0.1338s.) Setting batch_size=2.\n",
            "[Parallel(n_jobs=-1)]: Done   4 tasks      | elapsed:    0.3s\n",
            "[Parallel(n_jobs=-1)]: Done  14 tasks      | elapsed:    1.1s\n",
            "[Parallel(n_jobs=-1)]: Done  24 tasks      | elapsed:    1.6s\n",
            "[Parallel(n_jobs=-1)]: Done  38 tasks      | elapsed:    2.6s\n",
            "[Parallel(n_jobs=-1)]: Done  52 tasks      | elapsed:    3.4s\n",
            "[Parallel(n_jobs=-1)]: Done  70 tasks      | elapsed:    4.6s\n",
            "[Parallel(n_jobs=-1)]: Done  88 tasks      | elapsed:    5.6s\n",
            "[Parallel(n_jobs=-1)]: Done 110 tasks      | elapsed:    7.0s\n",
            "[Parallel(n_jobs=-1)]: Done 132 tasks      | elapsed:    8.3s\n",
            "[Parallel(n_jobs=-1)]: Done 158 tasks      | elapsed:    9.9s\n",
            "[Parallel(n_jobs=-1)]: Done 184 tasks      | elapsed:   11.4s\n",
            "[Parallel(n_jobs=-1)]: Done 200 out of 200 | elapsed:   12.4s finished\n",
            "[Parallel(n_jobs=-1)]: Using backend LokyBackend with 2 concurrent workers.\n"
          ],
          "name": "stderr"
        },
        {
          "output_type": "stream",
          "text": [
            "CREATE PIPELINE\n",
            "<class 'numpy.float64'>\n",
            "<class 'numpy.ndarray'>\n",
            "{'selector__threshold': [0, 1000, 10000, 1000000], 'kNN__n_neighbors': [1, 3, 5, 7, 9, 11, 13, 15, 17, 19, 21, 23, 25, 27, 29, 31, 33, 35, 37, 39, 41, 43, 45, 47, 49]}\n",
            "Pipeline(memory='tmp',\n",
            "         steps=[('selector', VarianceThreshold()), ('scaler', StandardScaler()),\n",
            "                ('rus', RandomUnderSampler()),\n",
            "                ('kNN', KNeighborsClassifier(n_jobs=-1))])\n",
            "Fitting 2 folds for each of 100 candidates, totalling 200 fits\n"
          ],
          "name": "stdout"
        },
        {
          "output_type": "stream",
          "text": [
            "[Parallel(n_jobs=-1)]: Done   1 tasks      | elapsed:    0.1s\n",
            "[Parallel(n_jobs=-1)]: Batch computation too fast (0.1408s.) Setting batch_size=2.\n",
            "[Parallel(n_jobs=-1)]: Done   4 tasks      | elapsed:    0.3s\n",
            "[Parallel(n_jobs=-1)]: Done  14 tasks      | elapsed:    1.0s\n",
            "[Parallel(n_jobs=-1)]: Done  24 tasks      | elapsed:    1.6s\n",
            "[Parallel(n_jobs=-1)]: Done  38 tasks      | elapsed:    2.5s\n",
            "[Parallel(n_jobs=-1)]: Done  52 tasks      | elapsed:    3.2s\n",
            "[Parallel(n_jobs=-1)]: Done  70 tasks      | elapsed:    4.4s\n",
            "[Parallel(n_jobs=-1)]: Done  88 tasks      | elapsed:    5.4s\n",
            "[Parallel(n_jobs=-1)]: Done 110 tasks      | elapsed:    6.8s\n",
            "[Parallel(n_jobs=-1)]: Done 132 tasks      | elapsed:    8.1s\n",
            "[Parallel(n_jobs=-1)]: Done 158 tasks      | elapsed:    9.8s\n",
            "[Parallel(n_jobs=-1)]: Done 184 tasks      | elapsed:   11.2s\n",
            "[Parallel(n_jobs=-1)]: Done 200 out of 200 | elapsed:   12.2s finished\n",
            "[Parallel(n_jobs=-1)]: Using backend LokyBackend with 2 concurrent workers.\n"
          ],
          "name": "stderr"
        },
        {
          "output_type": "stream",
          "text": [
            "CREATE PIPELINE\n",
            "<class 'numpy.float64'>\n",
            "<class 'numpy.ndarray'>\n",
            "{'selector__threshold': [0, 1000, 10000, 1000000], 'kNN__n_neighbors': [1, 3, 5, 7, 9, 11, 13, 15, 17, 19, 21, 23, 25, 27, 29, 31, 33, 35, 37, 39, 41, 43, 45, 47, 49]}\n",
            "Pipeline(memory='tmp',\n",
            "         steps=[('selector', VarianceThreshold()),\n",
            "                ('min_max_scaler', MinMaxScaler()),\n",
            "                ('ros', RandomOverSampler()),\n",
            "                ('kNN', KNeighborsClassifier(n_jobs=-1))])\n",
            "Fitting 2 folds for each of 100 candidates, totalling 200 fits\n"
          ],
          "name": "stdout"
        },
        {
          "output_type": "stream",
          "text": [
            "[Parallel(n_jobs=-1)]: Done   1 tasks      | elapsed:    0.1s\n",
            "[Parallel(n_jobs=-1)]: Batch computation too fast (0.1391s.) Setting batch_size=2.\n",
            "[Parallel(n_jobs=-1)]: Done   4 tasks      | elapsed:    0.3s\n",
            "[Parallel(n_jobs=-1)]: Done  14 tasks      | elapsed:    1.0s\n",
            "[Parallel(n_jobs=-1)]: Done  24 tasks      | elapsed:    1.5s\n",
            "[Parallel(n_jobs=-1)]: Done  38 tasks      | elapsed:    2.5s\n",
            "[Parallel(n_jobs=-1)]: Done  52 tasks      | elapsed:    3.2s\n",
            "[Parallel(n_jobs=-1)]: Done  70 tasks      | elapsed:    4.4s\n",
            "[Parallel(n_jobs=-1)]: Done  88 tasks      | elapsed:    5.4s\n",
            "[Parallel(n_jobs=-1)]: Done 110 tasks      | elapsed:    6.8s\n",
            "[Parallel(n_jobs=-1)]: Done 132 tasks      | elapsed:    8.0s\n",
            "[Parallel(n_jobs=-1)]: Done 158 tasks      | elapsed:    9.7s\n",
            "[Parallel(n_jobs=-1)]: Done 184 tasks      | elapsed:   11.2s\n",
            "[Parallel(n_jobs=-1)]: Done 200 out of 200 | elapsed:   12.2s finished\n",
            "[Parallel(n_jobs=-1)]: Using backend LokyBackend with 2 concurrent workers.\n"
          ],
          "name": "stderr"
        },
        {
          "output_type": "stream",
          "text": [
            "CREATE PIPELINE\n",
            "<class 'numpy.float64'>\n",
            "<class 'numpy.ndarray'>\n",
            "{'selector__threshold': [0, 1000, 10000, 1000000], 'kNN__n_neighbors': [1, 3, 5, 7, 9, 11, 13, 15, 17, 19, 21, 23, 25, 27, 29, 31, 33, 35, 37, 39, 41, 43, 45, 47, 49]}\n",
            "Pipeline(memory='tmp',\n",
            "         steps=[('selector', VarianceThreshold()),\n",
            "                ('min_max_scaler', MinMaxScaler()),\n",
            "                ('rus', RandomUnderSampler()),\n",
            "                ('kNN', KNeighborsClassifier(n_jobs=-1))])\n",
            "Fitting 2 folds for each of 100 candidates, totalling 200 fits\n"
          ],
          "name": "stdout"
        },
        {
          "output_type": "stream",
          "text": [
            "[Parallel(n_jobs=-1)]: Done   1 tasks      | elapsed:    0.1s\n",
            "[Parallel(n_jobs=-1)]: Batch computation too fast (0.1392s.) Setting batch_size=2.\n",
            "[Parallel(n_jobs=-1)]: Done   4 tasks      | elapsed:    0.3s\n",
            "[Parallel(n_jobs=-1)]: Done  14 tasks      | elapsed:    1.0s\n",
            "[Parallel(n_jobs=-1)]: Done  24 tasks      | elapsed:    1.5s\n",
            "[Parallel(n_jobs=-1)]: Done  38 tasks      | elapsed:    2.4s\n",
            "[Parallel(n_jobs=-1)]: Done  52 tasks      | elapsed:    3.2s\n",
            "[Parallel(n_jobs=-1)]: Done  70 tasks      | elapsed:    4.4s\n",
            "[Parallel(n_jobs=-1)]: Done  88 tasks      | elapsed:    5.4s\n",
            "[Parallel(n_jobs=-1)]: Done 110 tasks      | elapsed:    6.8s\n",
            "[Parallel(n_jobs=-1)]: Done 132 tasks      | elapsed:    8.0s\n",
            "[Parallel(n_jobs=-1)]: Done 158 tasks      | elapsed:    9.7s\n",
            "[Parallel(n_jobs=-1)]: Done 184 tasks      | elapsed:   11.2s\n",
            "[Parallel(n_jobs=-1)]: Done 200 out of 200 | elapsed:   12.2s finished\n"
          ],
          "name": "stderr"
        },
        {
          "output_type": "stream",
          "text": [
            "CREATE PIPELINE\n",
            "<class 'numpy.float64'>\n",
            "<class 'numpy.ndarray'>\n",
            "36\n",
            "\n",
            "=========================================================================\n",
            "RESULTS\n",
            "Best estimator is:  Pipeline(memory='tmp',\n",
            "         steps=[('min_max_scaler', MinMaxScaler()),\n",
            "                ('rus', RandomUnderSampler()),\n",
            "                ('kNN', KNeighborsClassifier(n_jobs=-1, n_neighbors=33))])\n"
          ],
          "name": "stdout"
        },
        {
          "output_type": "display_data",
          "data": {
            "image/png": "[encoded data removed]",
            "text/plain": [
              "<Figure size 432x288 with 2 Axes>"
            ]
          },
          "metadata": {
            "tags": [],
            "needs_background": "light"
          }
        },
        {
          "output_type": "stream",
          "text": [
            "The average f1-micro average is:  0.8512931034482759\n",
            "The average f1-macro average is:  0.855072463768116\n",
            "Classification report:\n",
            "               precision    recall  f1-score   support\n",
            "\n",
            "    rejected       0.85      0.90      0.88        78\n",
            "     granted       0.86      0.80      0.83        60\n",
            "\n",
            "    accuracy                           0.86       138\n",
            "   macro avg       0.86      0.85      0.85       138\n",
            "weighted avg       0.86      0.86      0.85       138\n",
            "\n",
            "Fit time:  3.137834072113037\n",
            "Predict time:  0.10871028900146484\n"
          ],
          "name": "stdout"
        }
      ]
    },
    {
      "cell_type": "markdown",
      "metadata": {
        "id": "LiM5ViNO4pTp"
      },
      "source": [
        "ΧΡΟΝΟΙ"
      ]
    },
    {
      "cell_type": "code",
      "metadata": {
        "id": "IHkGm1Pk4qto"
      },
      "source": [
        "def printRunTimes(dummy_scores, gnb_scores, knn_scores, dummy_opt, gnb_opt, knn_opt):\n",
        "\n",
        "    values = [[dummy_scores['fit_time'][dummy_opt], gnb_scores['fit_time'][gnb_opt], knn_scores['fit_time'][knn_opt]],\n",
        "              [dummy_scores['predict_time'][dummy_opt], gnb_scores['predict_time'][gnb_opt], knn_scores['predict_time'][knn_opt]]]\n",
        "\n",
        "    tmp = [sum(i) for i in np.array(values).T]\n",
        "\n",
        "    values.append(tmp)\n",
        "\n",
        "    cols = ['Dummy', 'GNB', 'KNN']\n",
        "    df = pd.DataFrame(values, columns=cols, index=['Fit Time', 'Predict Time', 'Total Time'])\n",
        "    print(df)\n"
      ],
      "execution_count": 150,
      "outputs": []
    },
    {
      "cell_type": "code",
      "metadata": {
        "id": "cYr3gGzIDYva",
        "colab": {
          "base_uri": "https://localhost:8080/"
        },
        "outputId": "c31046df-92af-4900-99ff-d152635767d2"
      },
      "source": [
        "printRunTimes(f1_scores, f1_scores_gnb, f1_scores_knn, opt_est_dummy_macro, opt_est_gnb_macro, opt_est_knn_macro)"
      ],
      "execution_count": 129,
      "outputs": [
        {
          "output_type": "stream",
          "text": [
            "                 Dummy       GNB       KNN\n",
            "Fit Time      1.499433  0.024292  3.137834\n",
            "Predict Time  0.002700  0.001892  0.108710\n",
            "Total Time    1.502133  0.026185  3.246544\n"
          ],
          "name": "stdout"
        }
      ]
    },
    {
      "cell_type": "markdown",
      "metadata": {
        "id": "6V7EyPyd8308"
      },
      "source": [
        "barplot for every classifier"
      ]
    },
    {
      "cell_type": "code",
      "metadata": {
        "id": "K37aXy9j87oF",
        "colab": {
          "base_uri": "https://localhost:8080/",
          "height": 366
        },
        "outputId": "38e1ec47-20cf-4525-c3e5-53a28ad31770"
      },
      "source": [
        "# plot for f1-macro average\n",
        "def plotMetrics(dummy_metric, gnb_metric, knn_metric, dummy_opt, gnb_opt, knn_opt, metric):\n",
        "    fig = plt.figure()\n",
        "    ax = fig.add_axes([0,0,1,1])\n",
        "    clfs = ['dummy', 'gnb', 'knn']\n",
        "    f1_metric_scores = [\n",
        "                    dummy_metric[dummy_opt],\n",
        "                    gnb_metric[gnb_opt],\n",
        "                    knn_metric[knn_opt]\n",
        "    ]\n",
        "    \n",
        "    ax.bar(clfs,f1_metric_scores, color='cyan', width=0.3)\n",
        "    plt.title(\"F1 \"+metric+\" Average\")\n",
        "    plt.xlabel(\"Classifiers\")\n",
        "    plt.ylabel(\"F1 \"+metric+\" Score\")\n",
        "    plt.grid()\n",
        "    plt.show()\n",
        "\n",
        "\n",
        "\n",
        "plotMetrics(dummy_macro, gnb_macro, knn_macro, opt_est_dummy_macro, opt_est_gnb_macro, opt_est_knn_macro, \"Macro\")"
      ],
      "execution_count": 151,
      "outputs": [
        {
          "output_type": "display_data",
          "data": {
            "image/png": "[encoded data removed]",
            "text/plain": [
              "<Figure size 432x288 with 1 Axes>"
            ]
          },
          "metadata": {
            "tags": [],
            "needs_background": "light"
          }
        }
      ]
    },
    {
      "cell_type": "markdown",
      "metadata": {
        "id": "NeQeQiHsHgjr"
      },
      "source": [
        "μεταβολή της επίδοσης των ταξινομητών πριν και μετά τη βελτιστοποίησή τους.\n"
      ]
    },
    {
      "cell_type": "code",
      "metadata": {
        "id": "24tFozITHjB4",
        "colab": {
          "base_uri": "https://localhost:8080/"
        },
        "outputId": "f643d44f-edf6-4413-ee03-37658badef3c"
      },
      "source": [
        "def printPerformanceProgress(default_scores, dummy_metric, gnb_metric, knn_metric, dummy_opt, gnb_opt, knn_opt):\n",
        "\n",
        "    values = [\n",
        "              default_scores,\n",
        "              [dummy_metric[dummy_opt],gnb_metric[gnb_opt],knn_metric[knn_opt]]\n",
        "              ]\n",
        "\n",
        "\n",
        "    cols = ['Dummy', 'GNB', 'KNN']\n",
        "    df = pd.DataFrame(values, columns=cols, index=['Default', 'Optimized'])\n",
        "    print(df)\n",
        "\n",
        "\n",
        "printPerformanceProgress(f1_macro_scores, dummy_macro, gnb_macro, knn_macro, opt_est_dummy_macro, opt_est_gnb_macro, opt_est_knn_macro)"
      ],
      "execution_count": 152,
      "outputs": [
        {
          "output_type": "stream",
          "text": [
            "              Dummy       GNB       KNN\n",
            "Default    0.490076  0.826699  0.687109\n",
            "Optimized  0.577165  0.834713  0.851293\n"
          ],
          "name": "stdout"
        }
      ]
    },
    {
      "cell_type": "markdown",
      "metadata": {
        "id": "_43IYCIWDc2T"
      },
      "source": [
        "###Σχολιασμός αποτελεσμάτων\n",
        "\n",
        "Μελετώντας τα αποτελέσματα από την βελτιστοποίηση των ταξινομητών καταλήγουμε για τους τρεις ταξινομητές:\n",
        "\n",
        "* Για τον **Dummy**: Ο καλύτερος συνδυασμός μετασχηματιστών φάνηκε ο VarianceThreshold(threshold=10000), ενώ η στρατηγική του DummyClassifier η *uniform*. Χρησιμοποιώντας τον μετασχηματιστή VarianceThreshold με κατώφλι 10000 επιλέγονται τα χαρακτηριστικά με διακύμανση μεγαλύτερη από 10000. Έτσι, λαμβάνονται υπόψιν μόνο 2 χαρακτηριστικά: **ZipCode** και **Income**, παρόλο που ο dummy δεν λαμβάνει πραγματικά υπόψιν κανένα χαρακτηριστικό. Χρησιμοποιώντας ως στατηγική του dummy classifier την *uniform* ταξινομεί τα δείγματα με ομοιόμορφη κατανομή. Αυτό μεταφράζεται ως 50% - 50%, το οποίο στην πράξη είχε ως αποτέλεσμα την πρόβλεψη 73 δειγμάτων ως rejected και 65 ως granted. METRICS\n",
        "\n",
        "\n",
        "* Για τον **Gaussian Naive Bayes**: Δεν παρατηρήθηκε βελτίωση, μέσω της διαδικασίας βελτιστοποίησης, αφού η χρήση κάποιου μετασχηματιστή δεν οδήγησε σε βελτίωση της μετρικής, ενώ o GaussianNB() δεν δέχεται κάποιες υπερπαραμέτρους.\n",
        "\n",
        "* Για τον **k-Nearest Neighbors**: Παρατηρήθηκε η μεγαλύτερη βελτίωση της μετρικής."
      ]
    },
    {
      "cell_type": "markdown",
      "metadata": {
        "id": "PHC8hOq7_FfM"
      },
      "source": [
        "###Μετρική απόδοσης **f1-micro**"
      ]
    },
    {
      "cell_type": "markdown",
      "metadata": {
        "id": "mRk4IlHDfOyy"
      },
      "source": [
        "####Dummy Classifier"
      ]
    },
    {
      "cell_type": "code",
      "metadata": {
        "id": "_0DYeRc-_a-K",
        "colab": {
          "base_uri": "https://localhost:8080/",
          "height": 1000
        },
        "outputId": "dada8534-bea8-4a45-8ceb-aa8f2aa2a14c"
      },
      "source": [
        "f1_scores_micro = runEstimators(train=final_train, test=final_test, train_labels=train_labels, test_labels=test_labels,\n",
        "                                my_transformers=transformers, my_classifiers={'dummy': dummy}, \n",
        "                                est_values_mapper=est_values_mapper, scoring='f1_micro')\n",
        "\n",
        "\n",
        "# compute f1-micro\n",
        "dummy_micro = {k: f1_score(test_labels, v, average='micro') for k,v in f1_scores_micro['preds'].items()}\n",
        "# get the estimator with the maximum f1-micro\n",
        "opt_est_dummy_micro = max(dummy_micro.items(), key=operator.itemgetter(1))[0]\n",
        "getResults(f1_scores_micro, opt_est_dummy_micro, final_test, test_labels, \"rejected\", \"granted\")"
      ],
      "execution_count": 141,
      "outputs": [
        {
          "output_type": "stream",
          "text": [
            "{'dummy__strategy': ['uniform', 'constant_0', 'constant_1', 'most_frequent', 'stratified']}\n",
            "Pipeline(memory='tmp', steps=[('dummy', DummyClassifier())])\n",
            "Fitting 2 folds for each of 5 candidates, totalling 10 fits\n",
            "CREATE PIPELINE\n",
            "<class 'numpy.float64'>\n",
            "<class 'numpy.ndarray'>\n",
            "{'dummy__strategy': ['uniform', 'constant_0', 'constant_1', 'most_frequent', 'stratified']}\n",
            "Pipeline(memory='tmp', steps=[('dummy', DummyClassifier())])\n",
            "Fitting 2 folds for each of 5 candidates, totalling 10 fits\n",
            "CREATE PIPELINE\n",
            "<class 'numpy.float64'>\n",
            "<class 'numpy.ndarray'>\n",
            "{'dummy__strategy': ['uniform', 'constant_0', 'constant_1', 'most_frequent', 'stratified']}\n",
            "Pipeline(memory='tmp', steps=[('dummy', DummyClassifier())])\n",
            "Fitting 2 folds for each of 5 candidates, totalling 10 fits\n",
            "CREATE PIPELINE\n",
            "<class 'numpy.float64'>\n",
            "<class 'numpy.ndarray'>\n",
            "{'dummy__strategy': ['uniform', 'constant_0', 'constant_1', 'most_frequent', 'stratified']}\n",
            "Pipeline(memory='tmp', steps=[('dummy', DummyClassifier())])\n",
            "Fitting 2 folds for each of 5 candidates, totalling 10 fits\n",
            "CREATE PIPELINE\n",
            "<class 'numpy.float64'>\n",
            "<class 'numpy.ndarray'>\n",
            "{'dummy__strategy': ['uniform', 'constant_0', 'constant_1', 'most_frequent', 'stratified']}\n",
            "Pipeline(memory='tmp', steps=[('dummy', DummyClassifier())])\n",
            "Fitting 2 folds for each of 5 candidates, totalling 10 fits\n"
          ],
          "name": "stdout"
        },
        {
          "output_type": "stream",
          "text": [
            "[Parallel(n_jobs=-1)]: Using backend LokyBackend with 2 concurrent workers.\n",
            "[Parallel(n_jobs=-1)]: Done   1 tasks      | elapsed:    0.0s\n",
            "[Parallel(n_jobs=-1)]: Batch computation too fast (0.0108s.) Setting batch_size=2.\n",
            "[Parallel(n_jobs=-1)]: Done   4 tasks      | elapsed:    0.0s\n",
            "[Parallel(n_jobs=-1)]: Batch computation too fast (0.0171s.) Setting batch_size=4.\n",
            "[Parallel(n_jobs=-1)]: Done  10 out of  10 | elapsed:    0.0s finished\n",
            "[Parallel(n_jobs=-1)]: Using backend LokyBackend with 2 concurrent workers.\n",
            "[Parallel(n_jobs=-1)]: Done   1 tasks      | elapsed:    0.0s\n",
            "[Parallel(n_jobs=-1)]: Batch computation too fast (0.0090s.) Setting batch_size=2.\n",
            "[Parallel(n_jobs=-1)]: Done   4 tasks      | elapsed:    0.0s\n",
            "[Parallel(n_jobs=-1)]: Batch computation too fast (0.0155s.) Setting batch_size=4.\n",
            "[Parallel(n_jobs=-1)]: Done  10 out of  10 | elapsed:    0.0s finished\n",
            "[Parallel(n_jobs=-1)]: Using backend LokyBackend with 2 concurrent workers.\n",
            "[Parallel(n_jobs=-1)]: Done   1 tasks      | elapsed:    0.0s\n",
            "[Parallel(n_jobs=-1)]: Batch computation too fast (0.0081s.) Setting batch_size=2.\n",
            "[Parallel(n_jobs=-1)]: Done   4 tasks      | elapsed:    0.0s\n",
            "[Parallel(n_jobs=-1)]: Batch computation too fast (0.0120s.) Setting batch_size=4.\n",
            "[Parallel(n_jobs=-1)]: Done  10 out of  10 | elapsed:    0.0s finished\n",
            "[Parallel(n_jobs=-1)]: Using backend LokyBackend with 2 concurrent workers.\n",
            "[Parallel(n_jobs=-1)]: Done   1 tasks      | elapsed:    0.0s\n",
            "[Parallel(n_jobs=-1)]: Batch computation too fast (0.0082s.) Setting batch_size=2.\n",
            "[Parallel(n_jobs=-1)]: Done   4 tasks      | elapsed:    0.0s\n",
            "[Parallel(n_jobs=-1)]: Batch computation too fast (0.0162s.) Setting batch_size=4.\n",
            "[Parallel(n_jobs=-1)]: Done  10 out of  10 | elapsed:    0.0s finished\n",
            "[Parallel(n_jobs=-1)]: Using backend LokyBackend with 2 concurrent workers.\n",
            "[Parallel(n_jobs=-1)]: Done   1 tasks      | elapsed:    0.0s\n",
            "[Parallel(n_jobs=-1)]: Batch computation too fast (0.0100s.) Setting batch_size=2.\n",
            "[Parallel(n_jobs=-1)]: Done   4 tasks      | elapsed:    0.0s\n",
            "[Parallel(n_jobs=-1)]: Batch computation too fast (0.0188s.) Setting batch_size=4.\n",
            "[Parallel(n_jobs=-1)]: Done  10 out of  10 | elapsed:    0.0s finished\n",
            "[Parallel(n_jobs=-1)]: Using backend LokyBackend with 2 concurrent workers.\n",
            "[Parallel(n_jobs=-1)]: Done   1 tasks      | elapsed:    0.0s\n",
            "[Parallel(n_jobs=-1)]: Batch computation too fast (0.0086s.) Setting batch_size=2.\n",
            "[Parallel(n_jobs=-1)]: Done   4 tasks      | elapsed:    0.0s\n",
            "[Parallel(n_jobs=-1)]: Batch computation too fast (0.0130s.) Setting batch_size=4.\n",
            "[Parallel(n_jobs=-1)]: Done   7 out of  10 | elapsed:    0.0s remaining:    0.0s\n",
            "[Parallel(n_jobs=-1)]: Done  10 out of  10 | elapsed:    0.0s finished\n",
            "[Parallel(n_jobs=-1)]: Using backend LokyBackend with 2 concurrent workers.\n",
            "[Parallel(n_jobs=-1)]: Done   1 tasks      | elapsed:    0.0s\n",
            "[Parallel(n_jobs=-1)]: Batch computation too fast (0.0115s.) Setting batch_size=2.\n",
            "[Parallel(n_jobs=-1)]: Done   4 tasks      | elapsed:    0.0s\n",
            "[Parallel(n_jobs=-1)]: Batch computation too fast (0.0191s.) Setting batch_size=4.\n",
            "[Parallel(n_jobs=-1)]: Done  10 out of  10 | elapsed:    0.0s finished\n",
            "[Parallel(n_jobs=-1)]: Using backend LokyBackend with 2 concurrent workers.\n",
            "[Parallel(n_jobs=-1)]: Done   1 tasks      | elapsed:    0.0s\n",
            "[Parallel(n_jobs=-1)]: Batch computation too fast (0.0121s.) Setting batch_size=2.\n",
            "[Parallel(n_jobs=-1)]: Done   4 tasks      | elapsed:    0.0s\n",
            "[Parallel(n_jobs=-1)]: Batch computation too fast (0.0298s.) Setting batch_size=4.\n"
          ],
          "name": "stderr"
        },
        {
          "output_type": "stream",
          "text": [
            "CREATE PIPELINE\n",
            "<class 'numpy.float64'>\n",
            "<class 'numpy.ndarray'>\n",
            "{'dummy__strategy': ['uniform', 'constant_0', 'constant_1', 'most_frequent', 'stratified']}\n",
            "Pipeline(memory='tmp', steps=[('dummy', DummyClassifier())])\n",
            "Fitting 2 folds for each of 5 candidates, totalling 10 fits\n",
            "CREATE PIPELINE\n",
            "<class 'numpy.float64'>\n",
            "<class 'numpy.ndarray'>\n",
            "{'dummy__strategy': ['uniform', 'constant_0', 'constant_1', 'most_frequent', 'stratified']}\n",
            "Pipeline(memory='tmp', steps=[('dummy', DummyClassifier())])\n",
            "Fitting 2 folds for each of 5 candidates, totalling 10 fits\n",
            "CREATE PIPELINE\n",
            "<class 'numpy.float64'>\n",
            "<class 'numpy.ndarray'>\n",
            "{'selector__threshold': [0, 1000, 10000, 1000000], 'dummy__strategy': ['uniform', 'constant_0', 'constant_1', 'most_frequent', 'stratified']}\n",
            "Pipeline(memory='tmp',\n",
            "         steps=[('selector', VarianceThreshold()),\n",
            "                ('dummy', DummyClassifier())])\n",
            "Fitting 2 folds for each of 20 candidates, totalling 40 fits\n"
          ],
          "name": "stdout"
        },
        {
          "output_type": "stream",
          "text": [
            "[Parallel(n_jobs=-1)]: Done  16 tasks      | elapsed:    0.1s\n",
            "[Parallel(n_jobs=-1)]: Batch computation too fast (0.0562s.) Setting batch_size=8.\n",
            "[Parallel(n_jobs=-1)]: Done  30 tasks      | elapsed:    0.2s\n",
            "[Parallel(n_jobs=-1)]: Done  37 tasks      | elapsed:    0.2s\n",
            "[Parallel(n_jobs=-1)]: Done  40 out of  40 | elapsed:    0.2s finished\n",
            "[Parallel(n_jobs=-1)]: Using backend LokyBackend with 2 concurrent workers.\n",
            "[Parallel(n_jobs=-1)]: Done   1 tasks      | elapsed:    0.0s\n",
            "[Parallel(n_jobs=-1)]: Batch computation too fast (0.0139s.) Setting batch_size=2.\n",
            "[Parallel(n_jobs=-1)]: Done   4 tasks      | elapsed:    0.0s\n",
            "[Parallel(n_jobs=-1)]: Batch computation too fast (0.0292s.) Setting batch_size=4.\n"
          ],
          "name": "stderr"
        },
        {
          "output_type": "stream",
          "text": [
            "CREATE PIPELINE\n",
            "<class 'numpy.float64'>\n",
            "<class 'numpy.ndarray'>\n",
            "{'selector__threshold': [0, 1000, 10000, 1000000], 'dummy__strategy': ['uniform', 'constant_0', 'constant_1', 'most_frequent', 'stratified']}\n",
            "Pipeline(memory='tmp',\n",
            "         steps=[('selector', VarianceThreshold()),\n",
            "                ('dummy', DummyClassifier())])\n",
            "Fitting 2 folds for each of 20 candidates, totalling 40 fits\n"
          ],
          "name": "stdout"
        },
        {
          "output_type": "stream",
          "text": [
            "[Parallel(n_jobs=-1)]: Done  16 tasks      | elapsed:    0.1s\n",
            "[Parallel(n_jobs=-1)]: Batch computation too fast (0.0431s.) Setting batch_size=8.\n",
            "[Parallel(n_jobs=-1)]: Done  30 tasks      | elapsed:    0.1s\n",
            "[Parallel(n_jobs=-1)]: Done  37 tasks      | elapsed:    0.2s\n",
            "[Parallel(n_jobs=-1)]: Done  40 out of  40 | elapsed:    0.2s finished\n",
            "[Parallel(n_jobs=-1)]: Using backend LokyBackend with 2 concurrent workers.\n",
            "[Parallel(n_jobs=-1)]: Done   1 tasks      | elapsed:    0.0s\n",
            "[Parallel(n_jobs=-1)]: Batch computation too fast (0.0147s.) Setting batch_size=2.\n",
            "[Parallel(n_jobs=-1)]: Done   4 tasks      | elapsed:    0.0s\n",
            "[Parallel(n_jobs=-1)]: Batch computation too fast (0.0305s.) Setting batch_size=4.\n"
          ],
          "name": "stderr"
        },
        {
          "output_type": "stream",
          "text": [
            "CREATE PIPELINE\n",
            "<class 'numpy.float64'>\n",
            "<class 'numpy.ndarray'>\n",
            "{'selector__threshold': [0, 1000, 10000, 1000000], 'dummy__strategy': ['uniform', 'constant_0', 'constant_1', 'most_frequent', 'stratified']}\n",
            "Pipeline(memory='tmp',\n",
            "         steps=[('selector', VarianceThreshold()),\n",
            "                ('dummy', DummyClassifier())])\n",
            "Fitting 2 folds for each of 20 candidates, totalling 40 fits\n"
          ],
          "name": "stdout"
        },
        {
          "output_type": "stream",
          "text": [
            "[Parallel(n_jobs=-1)]: Done  16 tasks      | elapsed:    0.1s\n",
            "[Parallel(n_jobs=-1)]: Batch computation too fast (0.0540s.) Setting batch_size=8.\n",
            "[Parallel(n_jobs=-1)]: Done  30 tasks      | elapsed:    0.2s\n",
            "[Parallel(n_jobs=-1)]: Done  37 tasks      | elapsed:    0.2s\n",
            "[Parallel(n_jobs=-1)]: Done  40 out of  40 | elapsed:    0.2s finished\n",
            "[Parallel(n_jobs=-1)]: Using backend LokyBackend with 2 concurrent workers.\n",
            "[Parallel(n_jobs=-1)]: Done   1 tasks      | elapsed:    0.0s\n",
            "[Parallel(n_jobs=-1)]: Batch computation too fast (0.0115s.) Setting batch_size=2.\n",
            "[Parallel(n_jobs=-1)]: Done   4 tasks      | elapsed:    0.0s\n",
            "[Parallel(n_jobs=-1)]: Batch computation too fast (0.0281s.) Setting batch_size=4.\n"
          ],
          "name": "stderr"
        },
        {
          "output_type": "stream",
          "text": [
            "CREATE PIPELINE\n",
            "<class 'numpy.float64'>\n",
            "<class 'numpy.ndarray'>\n",
            "{'selector__threshold': [0, 1000, 10000, 1000000], 'dummy__strategy': ['uniform', 'constant_0', 'constant_1', 'most_frequent', 'stratified']}\n",
            "Pipeline(memory='tmp',\n",
            "         steps=[('selector', VarianceThreshold()),\n",
            "                ('dummy', DummyClassifier())])\n",
            "Fitting 2 folds for each of 20 candidates, totalling 40 fits\n"
          ],
          "name": "stdout"
        },
        {
          "output_type": "stream",
          "text": [
            "[Parallel(n_jobs=-1)]: Done  16 tasks      | elapsed:    0.1s\n",
            "[Parallel(n_jobs=-1)]: Batch computation too fast (0.0555s.) Setting batch_size=8.\n",
            "[Parallel(n_jobs=-1)]: Done  30 tasks      | elapsed:    0.2s\n",
            "[Parallel(n_jobs=-1)]: Done  37 tasks      | elapsed:    0.2s\n",
            "[Parallel(n_jobs=-1)]: Done  40 out of  40 | elapsed:    0.2s finished\n",
            "[Parallel(n_jobs=-1)]: Using backend LokyBackend with 2 concurrent workers.\n",
            "[Parallel(n_jobs=-1)]: Done   1 tasks      | elapsed:    0.0s\n",
            "[Parallel(n_jobs=-1)]: Batch computation too fast (0.0124s.) Setting batch_size=2.\n",
            "[Parallel(n_jobs=-1)]: Done   4 tasks      | elapsed:    0.0s\n",
            "[Parallel(n_jobs=-1)]: Batch computation too fast (0.0392s.) Setting batch_size=4.\n"
          ],
          "name": "stderr"
        },
        {
          "output_type": "stream",
          "text": [
            "CREATE PIPELINE\n",
            "<class 'numpy.float64'>\n",
            "<class 'numpy.ndarray'>\n",
            "{'selector__threshold': [0, 1000, 10000, 1000000], 'dummy__strategy': ['uniform', 'constant_0', 'constant_1', 'most_frequent', 'stratified']}\n",
            "Pipeline(memory='tmp',\n",
            "         steps=[('selector', VarianceThreshold()),\n",
            "                ('dummy', DummyClassifier())])\n",
            "Fitting 2 folds for each of 20 candidates, totalling 40 fits\n"
          ],
          "name": "stdout"
        },
        {
          "output_type": "stream",
          "text": [
            "[Parallel(n_jobs=-1)]: Done  16 tasks      | elapsed:    0.1s\n",
            "[Parallel(n_jobs=-1)]: Batch computation too fast (0.0629s.) Setting batch_size=8.\n",
            "[Parallel(n_jobs=-1)]: Done  30 tasks      | elapsed:    0.2s\n",
            "[Parallel(n_jobs=-1)]: Done  37 tasks      | elapsed:    0.2s\n",
            "[Parallel(n_jobs=-1)]: Done  40 out of  40 | elapsed:    0.2s finished\n",
            "[Parallel(n_jobs=-1)]: Using backend LokyBackend with 2 concurrent workers.\n",
            "[Parallel(n_jobs=-1)]: Done   1 tasks      | elapsed:    0.0s\n",
            "[Parallel(n_jobs=-1)]: Batch computation too fast (0.0131s.) Setting batch_size=2.\n",
            "[Parallel(n_jobs=-1)]: Done   4 tasks      | elapsed:    0.0s\n",
            "[Parallel(n_jobs=-1)]: Batch computation too fast (0.0253s.) Setting batch_size=4.\n",
            "[Parallel(n_jobs=-1)]: Done  10 out of  10 | elapsed:    0.1s finished\n"
          ],
          "name": "stderr"
        },
        {
          "output_type": "stream",
          "text": [
            "CREATE PIPELINE\n",
            "<class 'numpy.float64'>\n",
            "<class 'numpy.ndarray'>\n",
            "{'dummy__strategy': ['uniform', 'constant_0', 'constant_1', 'most_frequent', 'stratified']}\n",
            "Pipeline(memory='tmp',\n",
            "         steps=[('scaler', StandardScaler()), ('dummy', DummyClassifier())])\n",
            "Fitting 2 folds for each of 5 candidates, totalling 10 fits\n",
            "CREATE PIPELINE\n",
            "<class 'numpy.float64'>\n",
            "<class 'numpy.ndarray'>\n",
            "{'dummy__strategy': ['uniform', 'constant_0', 'constant_1', 'most_frequent', 'stratified']}\n",
            "Pipeline(memory='tmp',\n",
            "         steps=[('scaler', StandardScaler()), ('dummy', DummyClassifier())])\n",
            "Fitting 2 folds for each of 5 candidates, totalling 10 fits\n",
            "CREATE PIPELINE\n",
            "<class 'numpy.float64'>\n",
            "<class 'numpy.ndarray'>\n",
            "{'dummy__strategy': ['uniform', 'constant_0', 'constant_1', 'most_frequent', 'stratified']}\n",
            "Pipeline(memory='tmp',\n",
            "         steps=[('scaler', StandardScaler()), ('dummy', DummyClassifier())])\n",
            "Fitting 2 folds for each of 5 candidates, totalling 10 fits\n"
          ],
          "name": "stdout"
        },
        {
          "output_type": "stream",
          "text": [
            "[Parallel(n_jobs=-1)]: Using backend LokyBackend with 2 concurrent workers.\n",
            "[Parallel(n_jobs=-1)]: Done   1 tasks      | elapsed:    0.0s\n",
            "[Parallel(n_jobs=-1)]: Batch computation too fast (0.0160s.) Setting batch_size=2.\n",
            "[Parallel(n_jobs=-1)]: Done   4 tasks      | elapsed:    0.0s\n",
            "[Parallel(n_jobs=-1)]: Batch computation too fast (0.0259s.) Setting batch_size=4.\n",
            "[Parallel(n_jobs=-1)]: Done  10 out of  10 | elapsed:    0.1s finished\n",
            "[Parallel(n_jobs=-1)]: Using backend LokyBackend with 2 concurrent workers.\n",
            "[Parallel(n_jobs=-1)]: Done   1 tasks      | elapsed:    0.0s\n",
            "[Parallel(n_jobs=-1)]: Batch computation too fast (0.0145s.) Setting batch_size=2.\n",
            "[Parallel(n_jobs=-1)]: Done   4 tasks      | elapsed:    0.0s\n",
            "[Parallel(n_jobs=-1)]: Batch computation too fast (0.0238s.) Setting batch_size=4.\n",
            "[Parallel(n_jobs=-1)]: Done   7 out of  10 | elapsed:    0.1s remaining:    0.0s\n",
            "[Parallel(n_jobs=-1)]: Done  10 out of  10 | elapsed:    0.1s finished\n",
            "[Parallel(n_jobs=-1)]: Using backend LokyBackend with 2 concurrent workers.\n",
            "[Parallel(n_jobs=-1)]: Done   1 tasks      | elapsed:    0.0s\n",
            "[Parallel(n_jobs=-1)]: Batch computation too fast (0.0146s.) Setting batch_size=2.\n",
            "[Parallel(n_jobs=-1)]: Done   4 tasks      | elapsed:    0.0s\n"
          ],
          "name": "stderr"
        },
        {
          "output_type": "stream",
          "text": [
            "CREATE PIPELINE\n",
            "<class 'numpy.float64'>\n",
            "<class 'numpy.ndarray'>\n",
            "{'dummy__strategy': ['uniform', 'constant_0', 'constant_1', 'most_frequent', 'stratified']}\n",
            "Pipeline(memory='tmp',\n",
            "         steps=[('min_max_scaler', MinMaxScaler()),\n",
            "                ('dummy', DummyClassifier())])\n",
            "Fitting 2 folds for each of 5 candidates, totalling 10 fits\n",
            "CREATE PIPELINE\n",
            "<class 'numpy.float64'>\n",
            "<class 'numpy.ndarray'>\n",
            "{'dummy__strategy': ['uniform', 'constant_0', 'constant_1', 'most_frequent', 'stratified']}\n",
            "Pipeline(memory='tmp',\n",
            "         steps=[('min_max_scaler', MinMaxScaler()),\n",
            "                ('dummy', DummyClassifier())])\n",
            "Fitting 2 folds for each of 5 candidates, totalling 10 fits\n",
            "CREATE PIPELINE\n",
            "<class 'numpy.float64'>\n",
            "<class 'numpy.ndarray'>\n",
            "{'dummy__strategy': ['uniform', 'constant_0', 'constant_1', 'most_frequent', 'stratified']}\n",
            "Pipeline(memory='tmp',\n",
            "         steps=[('min_max_scaler', MinMaxScaler()),\n",
            "                ('dummy', DummyClassifier())])\n",
            "Fitting 2 folds for each of 5 candidates, totalling 10 fits\n"
          ],
          "name": "stdout"
        },
        {
          "output_type": "stream",
          "text": [
            "[Parallel(n_jobs=-1)]: Batch computation too fast (0.0212s.) Setting batch_size=4.\n",
            "[Parallel(n_jobs=-1)]: Done   7 out of  10 | elapsed:    0.1s remaining:    0.0s\n",
            "[Parallel(n_jobs=-1)]: Done  10 out of  10 | elapsed:    0.1s finished\n",
            "[Parallel(n_jobs=-1)]: Using backend LokyBackend with 2 concurrent workers.\n",
            "[Parallel(n_jobs=-1)]: Done   1 tasks      | elapsed:    0.0s\n",
            "[Parallel(n_jobs=-1)]: Batch computation too fast (0.0128s.) Setting batch_size=2.\n",
            "[Parallel(n_jobs=-1)]: Done   4 tasks      | elapsed:    0.0s\n",
            "[Parallel(n_jobs=-1)]: Batch computation too fast (0.0349s.) Setting batch_size=4.\n",
            "[Parallel(n_jobs=-1)]: Done   7 out of  10 | elapsed:    0.1s remaining:    0.0s\n",
            "[Parallel(n_jobs=-1)]: Done  10 out of  10 | elapsed:    0.1s finished\n",
            "[Parallel(n_jobs=-1)]: Using backend LokyBackend with 2 concurrent workers.\n",
            "[Parallel(n_jobs=-1)]: Done   1 tasks      | elapsed:    0.0s\n",
            "[Parallel(n_jobs=-1)]: Batch computation too fast (0.0124s.) Setting batch_size=2.\n",
            "[Parallel(n_jobs=-1)]: Done   4 tasks      | elapsed:    0.0s\n",
            "[Parallel(n_jobs=-1)]: Batch computation too fast (0.0330s.) Setting batch_size=4.\n",
            "[Parallel(n_jobs=-1)]: Done  10 out of  10 | elapsed:    0.1s finished\n",
            "[Parallel(n_jobs=-1)]: Using backend LokyBackend with 2 concurrent workers.\n"
          ],
          "name": "stderr"
        },
        {
          "output_type": "stream",
          "text": [
            "CREATE PIPELINE\n",
            "<class 'numpy.float64'>\n",
            "<class 'numpy.ndarray'>\n",
            "{'dummy__strategy': ['uniform', 'constant_0', 'constant_1', 'most_frequent', 'stratified']}\n",
            "Pipeline(memory='tmp',\n",
            "         steps=[('ros', RandomOverSampler()), ('dummy', DummyClassifier())])\n",
            "Fitting 2 folds for each of 5 candidates, totalling 10 fits\n",
            "CREATE PIPELINE\n",
            "<class 'numpy.float64'>\n",
            "<class 'numpy.ndarray'>\n",
            "{'dummy__strategy': ['uniform', 'constant_0', 'constant_1', 'most_frequent', 'stratified']}\n",
            "Pipeline(memory='tmp',\n",
            "         steps=[('rus', RandomUnderSampler()), ('dummy', DummyClassifier())])\n",
            "Fitting 2 folds for each of 5 candidates, totalling 10 fits\n",
            "CREATE PIPELINE\n",
            "<class 'numpy.float64'>\n",
            "<class 'numpy.ndarray'>\n",
            "{'selector__threshold': [0, 1000, 10000, 1000000], 'dummy__strategy': ['uniform', 'constant_0', 'constant_1', 'most_frequent', 'stratified']}\n",
            "Pipeline(memory='tmp',\n",
            "         steps=[('selector', VarianceThreshold()), ('scaler', StandardScaler()),\n",
            "                ('dummy', DummyClassifier())])\n",
            "Fitting 2 folds for each of 20 candidates, totalling 40 fits\n"
          ],
          "name": "stdout"
        },
        {
          "output_type": "stream",
          "text": [
            "[Parallel(n_jobs=-1)]: Done   1 tasks      | elapsed:    0.0s\n",
            "[Parallel(n_jobs=-1)]: Batch computation too fast (0.0137s.) Setting batch_size=2.\n",
            "[Parallel(n_jobs=-1)]: Done   5 tasks      | elapsed:    0.0s\n",
            "[Parallel(n_jobs=-1)]: Batch computation too fast (0.0326s.) Setting batch_size=4.\n",
            "[Parallel(n_jobs=-1)]: Done   7 out of  10 | elapsed:    0.1s remaining:    0.0s\n",
            "[Parallel(n_jobs=-1)]: Done  10 out of  10 | elapsed:    0.1s finished\n",
            "[Parallel(n_jobs=-1)]: Using backend LokyBackend with 2 concurrent workers.\n",
            "[Parallel(n_jobs=-1)]: Done   1 tasks      | elapsed:    0.0s\n",
            "[Parallel(n_jobs=-1)]: Batch computation too fast (0.0124s.) Setting batch_size=2.\n",
            "[Parallel(n_jobs=-1)]: Done   4 tasks      | elapsed:    0.0s\n",
            "[Parallel(n_jobs=-1)]: Batch computation too fast (0.0246s.) Setting batch_size=4.\n",
            "[Parallel(n_jobs=-1)]: Done  10 out of  10 | elapsed:    0.1s finished\n",
            "[Parallel(n_jobs=-1)]: Using backend LokyBackend with 2 concurrent workers.\n",
            "[Parallel(n_jobs=-1)]: Batch computation too fast (0.0152s.) Setting batch_size=2.\n",
            "[Parallel(n_jobs=-1)]: Batch computation too fast (0.0152s.) Setting batch_size=4.\n",
            "[Parallel(n_jobs=-1)]: Done   2 tasks      | elapsed:    0.0s\n",
            "[Parallel(n_jobs=-1)]: Done   8 tasks      | elapsed:    0.1s\n",
            "[Parallel(n_jobs=-1)]: Batch computation too fast (0.0570s.) Setting batch_size=8.\n",
            "[Parallel(n_jobs=-1)]: Batch computation too fast (0.0969s.) Setting batch_size=16.\n",
            "[Parallel(n_jobs=-1)]: Done  29 tasks      | elapsed:    0.2s\n",
            "[Parallel(n_jobs=-1)]: Done  40 out of  40 | elapsed:    0.2s finished\n",
            "[Parallel(n_jobs=-1)]: Using backend LokyBackend with 2 concurrent workers.\n",
            "[Parallel(n_jobs=-1)]: Done   1 tasks      | elapsed:    0.0s\n",
            "[Parallel(n_jobs=-1)]: Batch computation too fast (0.0152s.) Setting batch_size=2.\n"
          ],
          "name": "stderr"
        },
        {
          "output_type": "stream",
          "text": [
            "CREATE PIPELINE\n",
            "<class 'numpy.float64'>\n",
            "<class 'numpy.ndarray'>\n",
            "{'selector__threshold': [0, 1000, 10000, 1000000], 'dummy__strategy': ['uniform', 'constant_0', 'constant_1', 'most_frequent', 'stratified']}\n",
            "Pipeline(memory='tmp',\n",
            "         steps=[('selector', VarianceThreshold()), ('scaler', StandardScaler()),\n",
            "                ('dummy', DummyClassifier())])\n",
            "Fitting 2 folds for each of 20 candidates, totalling 40 fits\n"
          ],
          "name": "stdout"
        },
        {
          "output_type": "stream",
          "text": [
            "[Parallel(n_jobs=-1)]: Done   4 tasks      | elapsed:    0.0s\n",
            "[Parallel(n_jobs=-1)]: Batch computation too fast (0.0451s.) Setting batch_size=4.\n",
            "[Parallel(n_jobs=-1)]: Done  16 tasks      | elapsed:    0.1s\n",
            "[Parallel(n_jobs=-1)]: Batch computation too fast (0.0583s.) Setting batch_size=8.\n",
            "[Parallel(n_jobs=-1)]: Done  30 tasks      | elapsed:    0.2s\n",
            "[Parallel(n_jobs=-1)]: Done  37 tasks      | elapsed:    0.2s\n",
            "[Parallel(n_jobs=-1)]: Done  40 out of  40 | elapsed:    0.3s finished\n",
            "[Parallel(n_jobs=-1)]: Using backend LokyBackend with 2 concurrent workers.\n",
            "[Parallel(n_jobs=-1)]: Done   1 tasks      | elapsed:    0.0s\n",
            "[Parallel(n_jobs=-1)]: Batch computation too fast (0.0158s.) Setting batch_size=2.\n",
            "[Parallel(n_jobs=-1)]: Done   4 tasks      | elapsed:    0.0s\n",
            "[Parallel(n_jobs=-1)]: Batch computation too fast (0.0396s.) Setting batch_size=4.\n",
            "[Parallel(n_jobs=-1)]: Done  16 tasks      | elapsed:    0.1s\n",
            "[Parallel(n_jobs=-1)]: Batch computation too fast (0.0547s.) Setting batch_size=8.\n"
          ],
          "name": "stderr"
        },
        {
          "output_type": "stream",
          "text": [
            "CREATE PIPELINE\n",
            "<class 'numpy.float64'>\n",
            "<class 'numpy.ndarray'>\n",
            "{'selector__threshold': [0, 1000, 10000, 1000000], 'dummy__strategy': ['uniform', 'constant_0', 'constant_1', 'most_frequent', 'stratified']}\n",
            "Pipeline(memory='tmp',\n",
            "         steps=[('selector', VarianceThreshold()), ('scaler', StandardScaler()),\n",
            "                ('dummy', DummyClassifier())])\n",
            "Fitting 2 folds for each of 20 candidates, totalling 40 fits\n"
          ],
          "name": "stdout"
        },
        {
          "output_type": "stream",
          "text": [
            "[Parallel(n_jobs=-1)]: Done  30 tasks      | elapsed:    0.2s\n",
            "[Parallel(n_jobs=-1)]: Done  37 tasks      | elapsed:    0.3s\n",
            "[Parallel(n_jobs=-1)]: Done  40 out of  40 | elapsed:    0.3s finished\n",
            "[Parallel(n_jobs=-1)]: Using backend LokyBackend with 2 concurrent workers.\n",
            "[Parallel(n_jobs=-1)]: Done   1 tasks      | elapsed:    0.0s\n",
            "[Parallel(n_jobs=-1)]: Batch computation too fast (0.0163s.) Setting batch_size=2.\n",
            "[Parallel(n_jobs=-1)]: Done   4 tasks      | elapsed:    0.0s\n",
            "[Parallel(n_jobs=-1)]: Batch computation too fast (0.0379s.) Setting batch_size=4.\n"
          ],
          "name": "stderr"
        },
        {
          "output_type": "stream",
          "text": [
            "CREATE PIPELINE\n",
            "<class 'numpy.float64'>\n",
            "<class 'numpy.ndarray'>\n",
            "{'selector__threshold': [0, 1000, 10000, 1000000], 'dummy__strategy': ['uniform', 'constant_0', 'constant_1', 'most_frequent', 'stratified']}\n",
            "Pipeline(memory='tmp',\n",
            "         steps=[('selector', VarianceThreshold()),\n",
            "                ('min_max_scaler', MinMaxScaler()),\n",
            "                ('dummy', DummyClassifier())])\n",
            "Fitting 2 folds for each of 20 candidates, totalling 40 fits\n"
          ],
          "name": "stdout"
        },
        {
          "output_type": "stream",
          "text": [
            "[Parallel(n_jobs=-1)]: Done  16 tasks      | elapsed:    0.1s\n",
            "[Parallel(n_jobs=-1)]: Batch computation too fast (0.0800s.) Setting batch_size=8.\n",
            "[Parallel(n_jobs=-1)]: Done  30 tasks      | elapsed:    0.2s\n",
            "[Parallel(n_jobs=-1)]: Done  37 tasks      | elapsed:    0.3s\n",
            "[Parallel(n_jobs=-1)]: Done  40 out of  40 | elapsed:    0.3s finished\n",
            "[Parallel(n_jobs=-1)]: Using backend LokyBackend with 2 concurrent workers.\n",
            "[Parallel(n_jobs=-1)]: Done   1 tasks      | elapsed:    0.0s\n",
            "[Parallel(n_jobs=-1)]: Batch computation too fast (0.0175s.) Setting batch_size=2.\n"
          ],
          "name": "stderr"
        },
        {
          "output_type": "stream",
          "text": [
            "CREATE PIPELINE\n",
            "<class 'numpy.float64'>\n",
            "<class 'numpy.ndarray'>\n",
            "{'selector__threshold': [0, 1000, 10000, 1000000], 'dummy__strategy': ['uniform', 'constant_0', 'constant_1', 'most_frequent', 'stratified']}\n",
            "Pipeline(memory='tmp',\n",
            "         steps=[('selector', VarianceThreshold()),\n",
            "                ('min_max_scaler', MinMaxScaler()),\n",
            "                ('dummy', DummyClassifier())])\n",
            "Fitting 2 folds for each of 20 candidates, totalling 40 fits\n"
          ],
          "name": "stdout"
        },
        {
          "output_type": "stream",
          "text": [
            "[Parallel(n_jobs=-1)]: Done   4 tasks      | elapsed:    0.0s\n",
            "[Parallel(n_jobs=-1)]: Batch computation too fast (0.0424s.) Setting batch_size=4.\n",
            "[Parallel(n_jobs=-1)]: Done  16 tasks      | elapsed:    0.1s\n",
            "[Parallel(n_jobs=-1)]: Batch computation too fast (0.0722s.) Setting batch_size=8.\n",
            "[Parallel(n_jobs=-1)]: Done  30 tasks      | elapsed:    0.2s\n",
            "[Parallel(n_jobs=-1)]: Done  37 tasks      | elapsed:    0.3s\n",
            "[Parallel(n_jobs=-1)]: Done  40 out of  40 | elapsed:    0.3s finished\n",
            "[Parallel(n_jobs=-1)]: Using backend LokyBackend with 2 concurrent workers.\n",
            "[Parallel(n_jobs=-1)]: Done   1 tasks      | elapsed:    0.0s\n",
            "[Parallel(n_jobs=-1)]: Batch computation too fast (0.0176s.) Setting batch_size=2.\n",
            "[Parallel(n_jobs=-1)]: Done   4 tasks      | elapsed:    0.0s\n",
            "[Parallel(n_jobs=-1)]: Batch computation too fast (0.0432s.) Setting batch_size=4.\n",
            "[Parallel(n_jobs=-1)]: Done  16 tasks      | elapsed:    0.1s\n",
            "[Parallel(n_jobs=-1)]: Batch computation too fast (0.0637s.) Setting batch_size=8.\n"
          ],
          "name": "stderr"
        },
        {
          "output_type": "stream",
          "text": [
            "CREATE PIPELINE\n",
            "<class 'numpy.float64'>\n",
            "<class 'numpy.ndarray'>\n",
            "{'selector__threshold': [0, 1000, 10000, 1000000], 'dummy__strategy': ['uniform', 'constant_0', 'constant_1', 'most_frequent', 'stratified']}\n",
            "Pipeline(memory='tmp',\n",
            "         steps=[('selector', VarianceThreshold()),\n",
            "                ('min_max_scaler', MinMaxScaler()),\n",
            "                ('dummy', DummyClassifier())])\n",
            "Fitting 2 folds for each of 20 candidates, totalling 40 fits\n"
          ],
          "name": "stdout"
        },
        {
          "output_type": "stream",
          "text": [
            "[Parallel(n_jobs=-1)]: Done  30 tasks      | elapsed:    0.2s\n",
            "[Parallel(n_jobs=-1)]: Done  37 tasks      | elapsed:    0.3s\n",
            "[Parallel(n_jobs=-1)]: Done  40 out of  40 | elapsed:    0.3s finished\n",
            "[Parallel(n_jobs=-1)]: Using backend LokyBackend with 2 concurrent workers.\n",
            "[Parallel(n_jobs=-1)]: Done   1 tasks      | elapsed:    0.0s\n",
            "[Parallel(n_jobs=-1)]: Batch computation too fast (0.0158s.) Setting batch_size=2.\n",
            "[Parallel(n_jobs=-1)]: Done   4 tasks      | elapsed:    0.0s\n",
            "[Parallel(n_jobs=-1)]: Batch computation too fast (0.0396s.) Setting batch_size=4.\n"
          ],
          "name": "stderr"
        },
        {
          "output_type": "stream",
          "text": [
            "CREATE PIPELINE\n",
            "<class 'numpy.float64'>\n",
            "<class 'numpy.ndarray'>\n",
            "{'selector__threshold': [0, 1000, 10000, 1000000], 'dummy__strategy': ['uniform', 'constant_0', 'constant_1', 'most_frequent', 'stratified']}\n",
            "Pipeline(memory='tmp',\n",
            "         steps=[('selector', VarianceThreshold()), ('ros', RandomOverSampler()),\n",
            "                ('dummy', DummyClassifier())])\n",
            "Fitting 2 folds for each of 20 candidates, totalling 40 fits\n"
          ],
          "name": "stdout"
        },
        {
          "output_type": "stream",
          "text": [
            "[Parallel(n_jobs=-1)]: Done  16 tasks      | elapsed:    0.1s\n",
            "[Parallel(n_jobs=-1)]: Batch computation too fast (0.0592s.) Setting batch_size=8.\n",
            "[Parallel(n_jobs=-1)]: Done  30 tasks      | elapsed:    0.2s\n",
            "[Parallel(n_jobs=-1)]: Done  37 tasks      | elapsed:    0.3s\n",
            "[Parallel(n_jobs=-1)]: Done  40 out of  40 | elapsed:    0.3s finished\n",
            "[Parallel(n_jobs=-1)]: Using backend LokyBackend with 2 concurrent workers.\n",
            "[Parallel(n_jobs=-1)]: Done   1 tasks      | elapsed:    0.0s\n",
            "[Parallel(n_jobs=-1)]: Batch computation too fast (0.0180s.) Setting batch_size=2.\n"
          ],
          "name": "stderr"
        },
        {
          "output_type": "stream",
          "text": [
            "CREATE PIPELINE\n",
            "<class 'numpy.float64'>\n",
            "<class 'numpy.ndarray'>\n",
            "{'selector__threshold': [0, 1000, 10000, 1000000], 'dummy__strategy': ['uniform', 'constant_0', 'constant_1', 'most_frequent', 'stratified']}\n",
            "Pipeline(memory='tmp',\n",
            "         steps=[('selector', VarianceThreshold()),\n",
            "                ('rus', RandomUnderSampler()), ('dummy', DummyClassifier())])\n",
            "Fitting 2 folds for each of 20 candidates, totalling 40 fits\n"
          ],
          "name": "stdout"
        },
        {
          "output_type": "stream",
          "text": [
            "[Parallel(n_jobs=-1)]: Done   4 tasks      | elapsed:    0.0s\n",
            "[Parallel(n_jobs=-1)]: Batch computation too fast (0.0458s.) Setting batch_size=4.\n",
            "[Parallel(n_jobs=-1)]: Done  16 tasks      | elapsed:    0.2s\n",
            "[Parallel(n_jobs=-1)]: Batch computation too fast (0.0872s.) Setting batch_size=8.\n",
            "[Parallel(n_jobs=-1)]: Done  30 tasks      | elapsed:    0.3s\n",
            "[Parallel(n_jobs=-1)]: Done  37 tasks      | elapsed:    0.3s\n",
            "[Parallel(n_jobs=-1)]: Done  40 out of  40 | elapsed:    0.3s finished\n",
            "[Parallel(n_jobs=-1)]: Using backend LokyBackend with 2 concurrent workers.\n",
            "[Parallel(n_jobs=-1)]: Done   1 tasks      | elapsed:    0.0s\n",
            "[Parallel(n_jobs=-1)]: Batch computation too fast (0.0179s.) Setting batch_size=2.\n",
            "[Parallel(n_jobs=-1)]: Done   4 tasks      | elapsed:    0.0s\n",
            "[Parallel(n_jobs=-1)]: Batch computation too fast (0.0370s.) Setting batch_size=4.\n",
            "[Parallel(n_jobs=-1)]: Done  10 out of  10 | elapsed:    0.1s finished\n",
            "[Parallel(n_jobs=-1)]: Using backend LokyBackend with 2 concurrent workers.\n"
          ],
          "name": "stderr"
        },
        {
          "output_type": "stream",
          "text": [
            "CREATE PIPELINE\n",
            "<class 'numpy.float64'>\n",
            "<class 'numpy.ndarray'>\n",
            "{'dummy__strategy': ['uniform', 'constant_0', 'constant_1', 'most_frequent', 'stratified']}\n",
            "Pipeline(memory='tmp',\n",
            "         steps=[('scaler', StandardScaler()), ('ros', RandomOverSampler()),\n",
            "                ('dummy', DummyClassifier())])\n",
            "Fitting 2 folds for each of 5 candidates, totalling 10 fits\n",
            "CREATE PIPELINE\n",
            "<class 'numpy.float64'>\n",
            "<class 'numpy.ndarray'>\n",
            "{'dummy__strategy': ['uniform', 'constant_0', 'constant_1', 'most_frequent', 'stratified']}\n",
            "Pipeline(memory='tmp',\n",
            "         steps=[('scaler', StandardScaler()), ('rus', RandomUnderSampler()),\n",
            "                ('dummy', DummyClassifier())])\n",
            "Fitting 2 folds for each of 5 candidates, totalling 10 fits\n"
          ],
          "name": "stdout"
        },
        {
          "output_type": "stream",
          "text": [
            "[Parallel(n_jobs=-1)]: Done   1 tasks      | elapsed:    0.0s\n",
            "[Parallel(n_jobs=-1)]: Batch computation too fast (0.0209s.) Setting batch_size=2.\n",
            "[Parallel(n_jobs=-1)]: Done   4 tasks      | elapsed:    0.0s\n",
            "[Parallel(n_jobs=-1)]: Batch computation too fast (0.0384s.) Setting batch_size=4.\n",
            "[Parallel(n_jobs=-1)]: Done  10 out of  10 | elapsed:    0.1s finished\n",
            "[Parallel(n_jobs=-1)]: Using backend LokyBackend with 2 concurrent workers.\n",
            "[Parallel(n_jobs=-1)]: Done   1 tasks      | elapsed:    0.0s\n",
            "[Parallel(n_jobs=-1)]: Batch computation too fast (0.0196s.) Setting batch_size=2.\n",
            "[Parallel(n_jobs=-1)]: Done   4 tasks      | elapsed:    0.0s\n",
            "[Parallel(n_jobs=-1)]: Batch computation too fast (0.0547s.) Setting batch_size=4.\n",
            "[Parallel(n_jobs=-1)]: Done  10 out of  10 | elapsed:    0.1s finished\n"
          ],
          "name": "stderr"
        },
        {
          "output_type": "stream",
          "text": [
            "CREATE PIPELINE\n",
            "<class 'numpy.float64'>\n",
            "<class 'numpy.ndarray'>\n",
            "{'dummy__strategy': ['uniform', 'constant_0', 'constant_1', 'most_frequent', 'stratified']}\n",
            "Pipeline(memory='tmp',\n",
            "         steps=[('min_max_scaler', MinMaxScaler()),\n",
            "                ('ros', RandomOverSampler()), ('dummy', DummyClassifier())])\n",
            "Fitting 2 folds for each of 5 candidates, totalling 10 fits\n",
            "CREATE PIPELINE\n",
            "<class 'numpy.float64'>\n",
            "<class 'numpy.ndarray'>\n",
            "{'dummy__strategy': ['uniform', 'constant_0', 'constant_1', 'most_frequent', 'stratified']}\n",
            "Pipeline(memory='tmp',\n",
            "         steps=[('min_max_scaler', MinMaxScaler()),\n",
            "                ('rus', RandomUnderSampler()), ('dummy', DummyClassifier())])\n",
            "Fitting 2 folds for each of 5 candidates, totalling 10 fits\n"
          ],
          "name": "stdout"
        },
        {
          "output_type": "stream",
          "text": [
            "[Parallel(n_jobs=-1)]: Using backend LokyBackend with 2 concurrent workers.\n",
            "[Parallel(n_jobs=-1)]: Done   1 tasks      | elapsed:    0.0s\n",
            "[Parallel(n_jobs=-1)]: Batch computation too fast (0.0190s.) Setting batch_size=2.\n",
            "[Parallel(n_jobs=-1)]: Done   4 tasks      | elapsed:    0.0s\n",
            "[Parallel(n_jobs=-1)]: Batch computation too fast (0.0399s.) Setting batch_size=4.\n",
            "[Parallel(n_jobs=-1)]: Done  10 out of  10 | elapsed:    0.1s finished\n",
            "[Parallel(n_jobs=-1)]: Using backend LokyBackend with 2 concurrent workers.\n",
            "[Parallel(n_jobs=-1)]: Done   1 tasks      | elapsed:    0.0s\n",
            "[Parallel(n_jobs=-1)]: Batch computation too fast (0.0195s.) Setting batch_size=2.\n",
            "[Parallel(n_jobs=-1)]: Done   4 tasks      | elapsed:    0.1s\n",
            "[Parallel(n_jobs=-1)]: Batch computation too fast (0.0436s.) Setting batch_size=4.\n"
          ],
          "name": "stderr"
        },
        {
          "output_type": "stream",
          "text": [
            "CREATE PIPELINE\n",
            "<class 'numpy.float64'>\n",
            "<class 'numpy.ndarray'>\n",
            "{'selector__threshold': [0, 1000, 10000, 1000000], 'dummy__strategy': ['uniform', 'constant_0', 'constant_1', 'most_frequent', 'stratified']}\n",
            "Pipeline(memory='tmp',\n",
            "         steps=[('selector', VarianceThreshold()), ('scaler', StandardScaler()),\n",
            "                ('ros', RandomOverSampler()), ('dummy', DummyClassifier())])\n",
            "Fitting 2 folds for each of 20 candidates, totalling 40 fits\n"
          ],
          "name": "stdout"
        },
        {
          "output_type": "stream",
          "text": [
            "[Parallel(n_jobs=-1)]: Done  16 tasks      | elapsed:    0.2s\n",
            "[Parallel(n_jobs=-1)]: Batch computation too fast (0.0925s.) Setting batch_size=8.\n",
            "[Parallel(n_jobs=-1)]: Done  30 tasks      | elapsed:    0.3s\n",
            "[Parallel(n_jobs=-1)]: Done  37 tasks      | elapsed:    0.3s\n",
            "[Parallel(n_jobs=-1)]: Done  40 out of  40 | elapsed:    0.4s finished\n",
            "[Parallel(n_jobs=-1)]: Using backend LokyBackend with 2 concurrent workers.\n"
          ],
          "name": "stderr"
        },
        {
          "output_type": "stream",
          "text": [
            "CREATE PIPELINE\n",
            "<class 'numpy.float64'>\n",
            "<class 'numpy.ndarray'>\n",
            "{'selector__threshold': [0, 1000, 10000, 1000000], 'dummy__strategy': ['uniform', 'constant_0', 'constant_1', 'most_frequent', 'stratified']}\n",
            "Pipeline(memory='tmp',\n",
            "         steps=[('selector', VarianceThreshold()), ('scaler', StandardScaler()),\n",
            "                ('rus', RandomUnderSampler()), ('dummy', DummyClassifier())])\n",
            "Fitting 2 folds for each of 20 candidates, totalling 40 fits\n"
          ],
          "name": "stdout"
        },
        {
          "output_type": "stream",
          "text": [
            "[Parallel(n_jobs=-1)]: Done   1 tasks      | elapsed:    0.0s\n",
            "[Parallel(n_jobs=-1)]: Batch computation too fast (0.0345s.) Setting batch_size=2.\n",
            "[Parallel(n_jobs=-1)]: Done   4 tasks      | elapsed:    0.1s\n",
            "[Parallel(n_jobs=-1)]: Batch computation too fast (0.0443s.) Setting batch_size=4.\n",
            "[Parallel(n_jobs=-1)]: Done  16 tasks      | elapsed:    0.2s\n",
            "[Parallel(n_jobs=-1)]: Batch computation too fast (0.0798s.) Setting batch_size=8.\n",
            "[Parallel(n_jobs=-1)]: Done  30 tasks      | elapsed:    0.3s\n",
            "[Parallel(n_jobs=-1)]: Done  37 tasks      | elapsed:    0.3s\n",
            "[Parallel(n_jobs=-1)]: Done  40 out of  40 | elapsed:    0.4s finished\n",
            "[Parallel(n_jobs=-1)]: Using backend LokyBackend with 2 concurrent workers.\n",
            "[Parallel(n_jobs=-1)]: Done   1 tasks      | elapsed:    0.0s\n",
            "[Parallel(n_jobs=-1)]: Batch computation too fast (0.0186s.) Setting batch_size=2.\n",
            "[Parallel(n_jobs=-1)]: Done   4 tasks      | elapsed:    0.1s\n",
            "[Parallel(n_jobs=-1)]: Batch computation too fast (0.0619s.) Setting batch_size=4.\n"
          ],
          "name": "stderr"
        },
        {
          "output_type": "stream",
          "text": [
            "CREATE PIPELINE\n",
            "<class 'numpy.float64'>\n",
            "<class 'numpy.ndarray'>\n",
            "{'selector__threshold': [0, 1000, 10000, 1000000], 'dummy__strategy': ['uniform', 'constant_0', 'constant_1', 'most_frequent', 'stratified']}\n",
            "Pipeline(memory='tmp',\n",
            "         steps=[('selector', VarianceThreshold()),\n",
            "                ('min_max_scaler', MinMaxScaler()),\n",
            "                ('ros', RandomOverSampler()), ('dummy', DummyClassifier())])\n",
            "Fitting 2 folds for each of 20 candidates, totalling 40 fits\n"
          ],
          "name": "stdout"
        },
        {
          "output_type": "stream",
          "text": [
            "[Parallel(n_jobs=-1)]: Done  16 tasks      | elapsed:    0.2s\n",
            "[Parallel(n_jobs=-1)]: Batch computation too fast (0.0808s.) Setting batch_size=8.\n",
            "[Parallel(n_jobs=-1)]: Done  30 tasks      | elapsed:    0.3s\n",
            "[Parallel(n_jobs=-1)]: Done  37 tasks      | elapsed:    0.4s\n",
            "[Parallel(n_jobs=-1)]: Done  40 out of  40 | elapsed:    0.4s finished\n"
          ],
          "name": "stderr"
        },
        {
          "output_type": "stream",
          "text": [
            "CREATE PIPELINE\n",
            "<class 'numpy.float64'>\n",
            "<class 'numpy.ndarray'>\n",
            "{'selector__threshold': [0, 1000, 10000, 1000000], 'dummy__strategy': ['uniform', 'constant_0', 'constant_1', 'most_frequent', 'stratified']}\n",
            "Pipeline(memory='tmp',\n",
            "         steps=[('selector', VarianceThreshold()),\n",
            "                ('min_max_scaler', MinMaxScaler()),\n",
            "                ('rus', RandomUnderSampler()), ('dummy', DummyClassifier())])\n",
            "Fitting 2 folds for each of 20 candidates, totalling 40 fits\n"
          ],
          "name": "stdout"
        },
        {
          "output_type": "stream",
          "text": [
            "[Parallel(n_jobs=-1)]: Using backend LokyBackend with 2 concurrent workers.\n",
            "[Parallel(n_jobs=-1)]: Done   1 tasks      | elapsed:    0.0s\n",
            "[Parallel(n_jobs=-1)]: Batch computation too fast (0.0401s.) Setting batch_size=2.\n",
            "[Parallel(n_jobs=-1)]: Done   4 tasks      | elapsed:    0.1s\n",
            "[Parallel(n_jobs=-1)]: Batch computation too fast (0.0572s.) Setting batch_size=4.\n",
            "[Parallel(n_jobs=-1)]: Done  16 tasks      | elapsed:    0.2s\n",
            "[Parallel(n_jobs=-1)]: Batch computation too fast (0.0743s.) Setting batch_size=8.\n",
            "[Parallel(n_jobs=-1)]: Done  30 tasks      | elapsed:    0.3s\n",
            "[Parallel(n_jobs=-1)]: Done  37 tasks      | elapsed:    0.4s\n",
            "[Parallel(n_jobs=-1)]: Done  40 out of  40 | elapsed:    0.4s finished\n"
          ],
          "name": "stderr"
        },
        {
          "output_type": "stream",
          "text": [
            "CREATE PIPELINE\n",
            "<class 'numpy.float64'>\n",
            "<class 'numpy.ndarray'>\n",
            "36\n",
            "\n",
            "=========================================================================\n",
            "RESULTS\n",
            "Best estimator is:  Pipeline(memory='tmp',\n",
            "         steps=[('dummy', DummyClassifier(strategy='most_frequent'))])\n"
          ],
          "name": "stdout"
        },
        {
          "output_type": "display_data",
          "data": {
            "image/png": "[encoded data removed]",
            "text/plain": [
              "<Figure size 432x288 with 2 Axes>"
            ]
          },
          "metadata": {
            "tags": [],
            "needs_background": "light"
          }
        },
        {
          "output_type": "stream",
          "text": [
            "The average f1-micro average is:  0.3611111111111111\n",
            "The average f1-macro average is:  0.5652173913043478\n",
            "Classification report:\n",
            "               precision    recall  f1-score   support\n",
            "\n",
            "    rejected       0.57      1.00      0.72        78\n",
            "     granted       0.00      0.00      0.00        60\n",
            "\n",
            "    accuracy                           0.57       138\n",
            "   macro avg       0.28      0.50      0.36       138\n",
            "weighted avg       0.32      0.57      0.41       138\n",
            "\n",
            "Fit time:  0.05288124084472656\n",
            "Predict time:  0.0020508766174316406\n"
          ],
          "name": "stdout"
        },
        {
          "output_type": "stream",
          "text": [
            "/usr/local/lib/python3.6/dist-packages/sklearn/metrics/_classification.py:1221: UndefinedMetricWarning: Precision and F-score are ill-defined and being set to 0.0 in labels with no predicted samples. Use `zero_division` parameter to control this behavior.\n",
            "  _warn_prf(average, modifier, msg_start, len(result))\n"
          ],
          "name": "stderr"
        }
      ]
    },
    {
      "cell_type": "markdown",
      "metadata": {
        "id": "xZWcG-JFfW6i"
      },
      "source": [
        "####Gaussian Naive Bayes Classifier\n"
      ]
    },
    {
      "cell_type": "code",
      "metadata": {
        "id": "EqT7gvNTAoPa",
        "colab": {
          "base_uri": "https://localhost:8080/",
          "height": 1000
        },
        "outputId": "d12b2209-7d81-4db7-a3a9-eabc905576b8"
      },
      "source": [
        "f1_scores_gnb_micro = runEstimators(train=final_train, test=final_test, train_labels=train_labels, test_labels=test_labels,\n",
        "                                    my_transformers=transformers, my_classifiers={'gnb': gnb}, \n",
        "                                    est_values_mapper=est_values_mapper, scoring='f1_micro')\n",
        "\n",
        "\n",
        "# compute f1-micro\n",
        "gnb_micro = {k: f1_score(test_labels, v, average='micro') for k,v in f1_scores_gnb_micro['preds'].items()}\n",
        "# get the estimator with the maximum f1-micro\n",
        "opt_est_gnb_micro = max(gnb_micro.items(), key=operator.itemgetter(1))[0]\n",
        "getResults(f1_scores_gnb_micro, opt_est_gnb_micro, final_test, test_labels, \"rejected\", \"granted\")"
      ],
      "execution_count": 142,
      "outputs": [
        {
          "output_type": "stream",
          "text": [
            "{}\n",
            "Pipeline(memory='tmp', steps=[('gnb', GaussianNB())])\n",
            "Fitting 2 folds for each of 1 candidates, totalling 2 fits\n",
            "CREATE PIPELINE\n",
            "<class 'numpy.float64'>\n",
            "<class 'numpy.ndarray'>\n",
            "{}\n",
            "Pipeline(memory='tmp', steps=[('gnb', GaussianNB())])\n",
            "Fitting 2 folds for each of 1 candidates, totalling 2 fits\n",
            "CREATE PIPELINE\n",
            "<class 'numpy.float64'>\n",
            "<class 'numpy.ndarray'>\n",
            "{}\n",
            "Pipeline(memory='tmp', steps=[('gnb', GaussianNB())])\n",
            "Fitting 2 folds for each of 1 candidates, totalling 2 fits\n",
            "CREATE PIPELINE\n",
            "<class 'numpy.float64'>\n",
            "<class 'numpy.ndarray'>\n",
            "{}\n",
            "Pipeline(memory='tmp', steps=[('gnb', GaussianNB())])\n",
            "Fitting 2 folds for each of 1 candidates, totalling 2 fits\n",
            "CREATE PIPELINE\n",
            "<class 'numpy.float64'>\n",
            "<class 'numpy.ndarray'>\n",
            "{}\n",
            "Pipeline(memory='tmp', steps=[('gnb', GaussianNB())])\n",
            "Fitting 2 folds for each of 1 candidates, totalling 2 fits\n",
            "CREATE PIPELINE\n",
            "<class 'numpy.float64'>\n",
            "<class 'numpy.ndarray'>\n",
            "{}\n",
            "Pipeline(memory='tmp', steps=[('gnb', GaussianNB())])\n",
            "Fitting 2 folds for each of 1 candidates, totalling 2 fits\n",
            "CREATE PIPELINE\n",
            "<class 'numpy.float64'>\n",
            "<class 'numpy.ndarray'>\n",
            "{}\n",
            "Pipeline(memory='tmp', steps=[('gnb', GaussianNB())])\n",
            "Fitting 2 folds for each of 1 candidates, totalling 2 fits\n",
            "CREATE PIPELINE\n",
            "<class 'numpy.float64'>\n",
            "<class 'numpy.ndarray'>\n",
            "{'selector__threshold': [0, 1000, 10000, 1000000]}\n",
            "Pipeline(memory='tmp',\n",
            "         steps=[('selector', VarianceThreshold()), ('gnb', GaussianNB())])\n",
            "Fitting 2 folds for each of 4 candidates, totalling 8 fits\n"
          ],
          "name": "stdout"
        },
        {
          "output_type": "stream",
          "text": [
            "[Parallel(n_jobs=-1)]: Using backend LokyBackend with 2 concurrent workers.\n",
            "[Parallel(n_jobs=-1)]: Batch computation too fast (0.0129s.) Setting batch_size=2.\n",
            "[Parallel(n_jobs=-1)]: Done   2 out of   2 | elapsed:    0.0s remaining:    0.0s\n",
            "[Parallel(n_jobs=-1)]: Done   2 out of   2 | elapsed:    0.0s finished\n",
            "[Parallel(n_jobs=-1)]: Using backend LokyBackend with 2 concurrent workers.\n",
            "[Parallel(n_jobs=-1)]: Batch computation too fast (0.0101s.) Setting batch_size=2.\n",
            "[Parallel(n_jobs=-1)]: Done   2 out of   2 | elapsed:    0.0s remaining:    0.0s\n",
            "[Parallel(n_jobs=-1)]: Done   2 out of   2 | elapsed:    0.0s finished\n",
            "[Parallel(n_jobs=-1)]: Using backend LokyBackend with 2 concurrent workers.\n",
            "[Parallel(n_jobs=-1)]: Batch computation too fast (0.0089s.) Setting batch_size=2.\n",
            "[Parallel(n_jobs=-1)]: Done   2 out of   2 | elapsed:    0.0s remaining:    0.0s\n",
            "[Parallel(n_jobs=-1)]: Done   2 out of   2 | elapsed:    0.0s finished\n",
            "[Parallel(n_jobs=-1)]: Using backend LokyBackend with 2 concurrent workers.\n",
            "[Parallel(n_jobs=-1)]: Batch computation too fast (0.0106s.) Setting batch_size=2.\n",
            "[Parallel(n_jobs=-1)]: Done   2 out of   2 | elapsed:    0.0s remaining:    0.0s\n",
            "[Parallel(n_jobs=-1)]: Done   2 out of   2 | elapsed:    0.0s finished\n",
            "[Parallel(n_jobs=-1)]: Using backend LokyBackend with 2 concurrent workers.\n",
            "[Parallel(n_jobs=-1)]: Batch computation too fast (0.0099s.) Setting batch_size=2.\n",
            "[Parallel(n_jobs=-1)]: Done   2 out of   2 | elapsed:    0.0s remaining:    0.0s\n",
            "[Parallel(n_jobs=-1)]: Done   2 out of   2 | elapsed:    0.0s finished\n",
            "[Parallel(n_jobs=-1)]: Using backend LokyBackend with 2 concurrent workers.\n",
            "[Parallel(n_jobs=-1)]: Batch computation too fast (0.0090s.) Setting batch_size=2.\n",
            "[Parallel(n_jobs=-1)]: Done   2 out of   2 | elapsed:    0.0s remaining:    0.0s\n",
            "[Parallel(n_jobs=-1)]: Done   2 out of   2 | elapsed:    0.0s finished\n",
            "[Parallel(n_jobs=-1)]: Using backend LokyBackend with 2 concurrent workers.\n",
            "[Parallel(n_jobs=-1)]: Batch computation too fast (0.0104s.) Setting batch_size=2.\n",
            "[Parallel(n_jobs=-1)]: Done   2 out of   2 | elapsed:    0.0s remaining:    0.0s\n",
            "[Parallel(n_jobs=-1)]: Done   2 out of   2 | elapsed:    0.0s finished\n",
            "[Parallel(n_jobs=-1)]: Using backend LokyBackend with 2 concurrent workers.\n",
            "[Parallel(n_jobs=-1)]: Done   1 tasks      | elapsed:    0.0s\n",
            "[Parallel(n_jobs=-1)]: Batch computation too fast (0.0196s.) Setting batch_size=2.\n",
            "[Parallel(n_jobs=-1)]: Done   4 out of   8 | elapsed:    0.0s remaining:    0.0s\n",
            "[Parallel(n_jobs=-1)]: Done   6 out of   8 | elapsed:    0.1s remaining:    0.0s\n",
            "[Parallel(n_jobs=-1)]: Done   8 out of   8 | elapsed:    0.1s remaining:    0.0s\n",
            "[Parallel(n_jobs=-1)]: Done   8 out of   8 | elapsed:    0.1s finished\n",
            "[Parallel(n_jobs=-1)]: Using backend LokyBackend with 2 concurrent workers.\n",
            "[Parallel(n_jobs=-1)]: Done   1 tasks      | elapsed:    0.0s\n",
            "[Parallel(n_jobs=-1)]: Batch computation too fast (0.0130s.) Setting batch_size=2.\n",
            "[Parallel(n_jobs=-1)]: Done   4 out of   8 | elapsed:    0.0s remaining:    0.0s\n",
            "[Parallel(n_jobs=-1)]: Done   6 out of   8 | elapsed:    0.1s remaining:    0.0s\n",
            "[Parallel(n_jobs=-1)]: Done   8 out of   8 | elapsed:    0.1s remaining:    0.0s\n",
            "[Parallel(n_jobs=-1)]: Done   8 out of   8 | elapsed:    0.1s finished\n",
            "[Parallel(n_jobs=-1)]: Using backend LokyBackend with 2 concurrent workers.\n",
            "[Parallel(n_jobs=-1)]: Done   1 tasks      | elapsed:    0.0s\n",
            "[Parallel(n_jobs=-1)]: Batch computation too fast (0.0155s.) Setting batch_size=2.\n",
            "[Parallel(n_jobs=-1)]: Done   4 out of   8 | elapsed:    0.0s remaining:    0.0s\n",
            "[Parallel(n_jobs=-1)]: Done   6 out of   8 | elapsed:    0.1s remaining:    0.0s\n",
            "[Parallel(n_jobs=-1)]: Done   8 out of   8 | elapsed:    0.1s remaining:    0.0s\n",
            "[Parallel(n_jobs=-1)]: Done   8 out of   8 | elapsed:    0.1s finished\n",
            "[Parallel(n_jobs=-1)]: Using backend LokyBackend with 2 concurrent workers.\n"
          ],
          "name": "stderr"
        },
        {
          "output_type": "stream",
          "text": [
            "CREATE PIPELINE\n",
            "<class 'numpy.float64'>\n",
            "<class 'numpy.ndarray'>\n",
            "{'selector__threshold': [0, 1000, 10000, 1000000]}\n",
            "Pipeline(memory='tmp',\n",
            "         steps=[('selector', VarianceThreshold()), ('gnb', GaussianNB())])\n",
            "Fitting 2 folds for each of 4 candidates, totalling 8 fits\n",
            "CREATE PIPELINE\n",
            "<class 'numpy.float64'>\n",
            "<class 'numpy.ndarray'>\n",
            "{'selector__threshold': [0, 1000, 10000, 1000000]}\n",
            "Pipeline(memory='tmp',\n",
            "         steps=[('selector', VarianceThreshold()), ('gnb', GaussianNB())])\n",
            "Fitting 2 folds for each of 4 candidates, totalling 8 fits\n",
            "CREATE PIPELINE\n",
            "<class 'numpy.float64'>\n",
            "<class 'numpy.ndarray'>\n",
            "{'selector__threshold': [0, 1000, 10000, 1000000]}\n",
            "Pipeline(memory='tmp',\n",
            "         steps=[('selector', VarianceThreshold()), ('gnb', GaussianNB())])\n",
            "Fitting 2 folds for each of 4 candidates, totalling 8 fits\n"
          ],
          "name": "stdout"
        },
        {
          "output_type": "stream",
          "text": [
            "[Parallel(n_jobs=-1)]: Done   1 tasks      | elapsed:    0.0s\n",
            "[Parallel(n_jobs=-1)]: Batch computation too fast (0.0211s.) Setting batch_size=2.\n",
            "[Parallel(n_jobs=-1)]: Done   4 out of   8 | elapsed:    0.0s remaining:    0.0s\n",
            "[Parallel(n_jobs=-1)]: Done   6 out of   8 | elapsed:    0.1s remaining:    0.0s\n",
            "[Parallel(n_jobs=-1)]: Done   8 out of   8 | elapsed:    0.1s remaining:    0.0s\n",
            "[Parallel(n_jobs=-1)]: Done   8 out of   8 | elapsed:    0.1s finished\n",
            "[Parallel(n_jobs=-1)]: Using backend LokyBackend with 2 concurrent workers.\n",
            "[Parallel(n_jobs=-1)]: Done   1 tasks      | elapsed:    0.0s\n",
            "[Parallel(n_jobs=-1)]: Batch computation too fast (0.0130s.) Setting batch_size=2.\n",
            "[Parallel(n_jobs=-1)]: Done   4 out of   8 | elapsed:    0.0s remaining:    0.0s\n",
            "[Parallel(n_jobs=-1)]: Done   6 out of   8 | elapsed:    0.0s remaining:    0.0s\n",
            "[Parallel(n_jobs=-1)]: Done   8 out of   8 | elapsed:    0.1s remaining:    0.0s\n",
            "[Parallel(n_jobs=-1)]: Done   8 out of   8 | elapsed:    0.1s finished\n",
            "[Parallel(n_jobs=-1)]: Using backend LokyBackend with 2 concurrent workers.\n",
            "[Parallel(n_jobs=-1)]: Batch computation too fast (0.0140s.) Setting batch_size=2.\n",
            "[Parallel(n_jobs=-1)]: Done   2 out of   2 | elapsed:    0.0s remaining:    0.0s\n",
            "[Parallel(n_jobs=-1)]: Done   2 out of   2 | elapsed:    0.0s finished\n",
            "[Parallel(n_jobs=-1)]: Using backend LokyBackend with 2 concurrent workers.\n",
            "[Parallel(n_jobs=-1)]: Batch computation too fast (0.0181s.) Setting batch_size=2.\n",
            "[Parallel(n_jobs=-1)]: Done   2 out of   2 | elapsed:    0.0s remaining:    0.0s\n",
            "[Parallel(n_jobs=-1)]: Done   2 out of   2 | elapsed:    0.0s finished\n",
            "[Parallel(n_jobs=-1)]: Using backend LokyBackend with 2 concurrent workers.\n"
          ],
          "name": "stderr"
        },
        {
          "output_type": "stream",
          "text": [
            "CREATE PIPELINE\n",
            "<class 'numpy.float64'>\n",
            "<class 'numpy.ndarray'>\n",
            "{'selector__threshold': [0, 1000, 10000, 1000000]}\n",
            "Pipeline(memory='tmp',\n",
            "         steps=[('selector', VarianceThreshold()), ('gnb', GaussianNB())])\n",
            "Fitting 2 folds for each of 4 candidates, totalling 8 fits\n",
            "CREATE PIPELINE\n",
            "<class 'numpy.float64'>\n",
            "<class 'numpy.ndarray'>\n",
            "{}\n",
            "Pipeline(memory='tmp',\n",
            "         steps=[('scaler', StandardScaler()), ('gnb', GaussianNB())])\n",
            "Fitting 2 folds for each of 1 candidates, totalling 2 fits\n",
            "CREATE PIPELINE\n",
            "<class 'numpy.float64'>\n",
            "<class 'numpy.ndarray'>\n",
            "{}\n",
            "Pipeline(memory='tmp',\n",
            "         steps=[('scaler', StandardScaler()), ('gnb', GaussianNB())])\n",
            "Fitting 2 folds for each of 1 candidates, totalling 2 fits\n",
            "CREATE PIPELINE\n",
            "<class 'numpy.float64'>\n",
            "<class 'numpy.ndarray'>\n",
            "{}\n",
            "Pipeline(memory='tmp',\n",
            "         steps=[('scaler', StandardScaler()), ('gnb', GaussianNB())])\n",
            "Fitting 2 folds for each of 1 candidates, totalling 2 fits\n",
            "CREATE PIPELINE\n",
            "<class 'numpy.float64'>\n",
            "<class 'numpy.ndarray'>\n",
            "{}\n",
            "Pipeline(memory='tmp',\n",
            "         steps=[('min_max_scaler', MinMaxScaler()), ('gnb', GaussianNB())])\n",
            "Fitting 2 folds for each of 1 candidates, totalling 2 fits\n"
          ],
          "name": "stdout"
        },
        {
          "output_type": "stream",
          "text": [
            "[Parallel(n_jobs=-1)]: Batch computation too fast (0.0164s.) Setting batch_size=2.\n",
            "[Parallel(n_jobs=-1)]: Done   2 out of   2 | elapsed:    0.0s remaining:    0.0s\n",
            "[Parallel(n_jobs=-1)]: Done   2 out of   2 | elapsed:    0.0s finished\n",
            "[Parallel(n_jobs=-1)]: Using backend LokyBackend with 2 concurrent workers.\n",
            "[Parallel(n_jobs=-1)]: Batch computation too fast (0.0127s.) Setting batch_size=2.\n",
            "[Parallel(n_jobs=-1)]: Done   2 out of   2 | elapsed:    0.0s remaining:    0.0s\n",
            "[Parallel(n_jobs=-1)]: Done   2 out of   2 | elapsed:    0.0s finished\n",
            "[Parallel(n_jobs=-1)]: Using backend LokyBackend with 2 concurrent workers.\n",
            "[Parallel(n_jobs=-1)]: Batch computation too fast (0.0154s.) Setting batch_size=2.\n",
            "[Parallel(n_jobs=-1)]: Done   2 out of   2 | elapsed:    0.0s remaining:    0.0s\n",
            "[Parallel(n_jobs=-1)]: Done   2 out of   2 | elapsed:    0.0s finished\n",
            "[Parallel(n_jobs=-1)]: Using backend LokyBackend with 2 concurrent workers.\n",
            "[Parallel(n_jobs=-1)]: Batch computation too fast (0.0130s.) Setting batch_size=2.\n",
            "[Parallel(n_jobs=-1)]: Done   2 out of   2 | elapsed:    0.0s remaining:    0.0s\n",
            "[Parallel(n_jobs=-1)]: Done   2 out of   2 | elapsed:    0.0s finished\n",
            "[Parallel(n_jobs=-1)]: Using backend LokyBackend with 2 concurrent workers.\n",
            "[Parallel(n_jobs=-1)]: Batch computation too fast (0.0149s.) Setting batch_size=2.\n",
            "[Parallel(n_jobs=-1)]: Done   2 out of   2 | elapsed:    0.0s remaining:    0.0s\n",
            "[Parallel(n_jobs=-1)]: Done   2 out of   2 | elapsed:    0.0s finished\n",
            "[Parallel(n_jobs=-1)]: Using backend LokyBackend with 2 concurrent workers.\n",
            "[Parallel(n_jobs=-1)]: Batch computation too fast (0.0126s.) Setting batch_size=2.\n",
            "[Parallel(n_jobs=-1)]: Done   2 out of   2 | elapsed:    0.0s remaining:    0.0s\n",
            "[Parallel(n_jobs=-1)]: Done   2 out of   2 | elapsed:    0.0s finished\n"
          ],
          "name": "stderr"
        },
        {
          "output_type": "stream",
          "text": [
            "CREATE PIPELINE\n",
            "<class 'numpy.float64'>\n",
            "<class 'numpy.ndarray'>\n",
            "{}\n",
            "Pipeline(memory='tmp',\n",
            "         steps=[('min_max_scaler', MinMaxScaler()), ('gnb', GaussianNB())])\n",
            "Fitting 2 folds for each of 1 candidates, totalling 2 fits\n",
            "CREATE PIPELINE\n",
            "<class 'numpy.float64'>\n",
            "<class 'numpy.ndarray'>\n",
            "{}\n",
            "Pipeline(memory='tmp',\n",
            "         steps=[('min_max_scaler', MinMaxScaler()), ('gnb', GaussianNB())])\n",
            "Fitting 2 folds for each of 1 candidates, totalling 2 fits\n",
            "CREATE PIPELINE\n",
            "<class 'numpy.float64'>\n",
            "<class 'numpy.ndarray'>\n",
            "{}\n",
            "Pipeline(memory='tmp',\n",
            "         steps=[('ros', RandomOverSampler()), ('gnb', GaussianNB())])\n",
            "Fitting 2 folds for each of 1 candidates, totalling 2 fits\n",
            "CREATE PIPELINE\n",
            "<class 'numpy.float64'>\n",
            "<class 'numpy.ndarray'>\n",
            "{}\n",
            "Pipeline(memory='tmp',\n",
            "         steps=[('rus', RandomUnderSampler()), ('gnb', GaussianNB())])\n",
            "Fitting 2 folds for each of 1 candidates, totalling 2 fits\n",
            "CREATE PIPELINE\n",
            "<class 'numpy.float64'>\n",
            "<class 'numpy.ndarray'>\n",
            "{'selector__threshold': [0, 1000, 10000, 1000000]}\n",
            "Pipeline(memory='tmp',\n",
            "         steps=[('selector', VarianceThreshold()), ('scaler', StandardScaler()),\n",
            "                ('gnb', GaussianNB())])\n",
            "Fitting 2 folds for each of 4 candidates, totalling 8 fits\n"
          ],
          "name": "stdout"
        },
        {
          "output_type": "stream",
          "text": [
            "[Parallel(n_jobs=-1)]: Using backend LokyBackend with 2 concurrent workers.\n",
            "[Parallel(n_jobs=-1)]: Done   1 tasks      | elapsed:    0.0s\n",
            "[Parallel(n_jobs=-1)]: Batch computation too fast (0.0310s.) Setting batch_size=2.\n",
            "[Parallel(n_jobs=-1)]: Done   4 out of   8 | elapsed:    0.1s remaining:    0.1s\n",
            "[Parallel(n_jobs=-1)]: Done   6 out of   8 | elapsed:    0.1s remaining:    0.0s\n",
            "[Parallel(n_jobs=-1)]: Done   8 out of   8 | elapsed:    0.1s remaining:    0.0s\n",
            "[Parallel(n_jobs=-1)]: Done   8 out of   8 | elapsed:    0.1s finished\n",
            "[Parallel(n_jobs=-1)]: Using backend LokyBackend with 2 concurrent workers.\n",
            "[Parallel(n_jobs=-1)]: Done   1 tasks      | elapsed:    0.0s\n",
            "[Parallel(n_jobs=-1)]: Batch computation too fast (0.0144s.) Setting batch_size=2.\n",
            "[Parallel(n_jobs=-1)]: Done   4 out of   8 | elapsed:    0.0s remaining:    0.0s\n",
            "[Parallel(n_jobs=-1)]: Done   6 out of   8 | elapsed:    0.1s remaining:    0.0s\n",
            "[Parallel(n_jobs=-1)]: Done   8 out of   8 | elapsed:    0.1s remaining:    0.0s\n",
            "[Parallel(n_jobs=-1)]: Done   8 out of   8 | elapsed:    0.1s finished\n",
            "[Parallel(n_jobs=-1)]: Using backend LokyBackend with 2 concurrent workers.\n",
            "[Parallel(n_jobs=-1)]: Done   1 tasks      | elapsed:    0.0s\n",
            "[Parallel(n_jobs=-1)]: Batch computation too fast (0.0177s.) Setting batch_size=2.\n"
          ],
          "name": "stderr"
        },
        {
          "output_type": "stream",
          "text": [
            "CREATE PIPELINE\n",
            "<class 'numpy.float64'>\n",
            "<class 'numpy.ndarray'>\n",
            "{'selector__threshold': [0, 1000, 10000, 1000000]}\n",
            "Pipeline(memory='tmp',\n",
            "         steps=[('selector', VarianceThreshold()), ('scaler', StandardScaler()),\n",
            "                ('gnb', GaussianNB())])\n",
            "Fitting 2 folds for each of 4 candidates, totalling 8 fits\n",
            "CREATE PIPELINE\n",
            "<class 'numpy.float64'>\n",
            "<class 'numpy.ndarray'>\n",
            "{'selector__threshold': [0, 1000, 10000, 1000000]}\n",
            "Pipeline(memory='tmp',\n",
            "         steps=[('selector', VarianceThreshold()), ('scaler', StandardScaler()),\n",
            "                ('gnb', GaussianNB())])\n",
            "Fitting 2 folds for each of 4 candidates, totalling 8 fits\n",
            "CREATE PIPELINE\n",
            "<class 'numpy.float64'>\n",
            "<class 'numpy.ndarray'>\n",
            "{'selector__threshold': [0, 1000, 10000, 1000000]}\n",
            "Pipeline(memory='tmp',\n",
            "         steps=[('selector', VarianceThreshold()),\n",
            "                ('min_max_scaler', MinMaxScaler()), ('gnb', GaussianNB())])\n",
            "Fitting 2 folds for each of 4 candidates, totalling 8 fits\n"
          ],
          "name": "stdout"
        },
        {
          "output_type": "stream",
          "text": [
            "[Parallel(n_jobs=-1)]: Done   4 out of   8 | elapsed:    0.0s remaining:    0.0s\n",
            "[Parallel(n_jobs=-1)]: Done   6 out of   8 | elapsed:    0.1s remaining:    0.0s\n",
            "[Parallel(n_jobs=-1)]: Done   8 out of   8 | elapsed:    0.1s remaining:    0.0s\n",
            "[Parallel(n_jobs=-1)]: Done   8 out of   8 | elapsed:    0.1s finished\n",
            "[Parallel(n_jobs=-1)]: Using backend LokyBackend with 2 concurrent workers.\n",
            "[Parallel(n_jobs=-1)]: Done   1 tasks      | elapsed:    0.0s\n",
            "[Parallel(n_jobs=-1)]: Batch computation too fast (0.0159s.) Setting batch_size=2.\n",
            "[Parallel(n_jobs=-1)]: Done   4 out of   8 | elapsed:    0.0s remaining:    0.0s\n",
            "[Parallel(n_jobs=-1)]: Done   6 out of   8 | elapsed:    0.1s remaining:    0.0s\n",
            "[Parallel(n_jobs=-1)]: Done   8 out of   8 | elapsed:    0.1s remaining:    0.0s\n",
            "[Parallel(n_jobs=-1)]: Done   8 out of   8 | elapsed:    0.1s finished\n",
            "[Parallel(n_jobs=-1)]: Using backend LokyBackend with 2 concurrent workers.\n",
            "[Parallel(n_jobs=-1)]: Done   1 tasks      | elapsed:    0.0s\n",
            "[Parallel(n_jobs=-1)]: Batch computation too fast (0.0178s.) Setting batch_size=2.\n",
            "[Parallel(n_jobs=-1)]: Done   4 out of   8 | elapsed:    0.0s remaining:    0.0s\n",
            "[Parallel(n_jobs=-1)]: Done   6 out of   8 | elapsed:    0.1s remaining:    0.0s\n",
            "[Parallel(n_jobs=-1)]: Done   8 out of   8 | elapsed:    0.1s remaining:    0.0s\n",
            "[Parallel(n_jobs=-1)]: Done   8 out of   8 | elapsed:    0.1s finished\n"
          ],
          "name": "stderr"
        },
        {
          "output_type": "stream",
          "text": [
            "CREATE PIPELINE\n",
            "<class 'numpy.float64'>\n",
            "<class 'numpy.ndarray'>\n",
            "{'selector__threshold': [0, 1000, 10000, 1000000]}\n",
            "Pipeline(memory='tmp',\n",
            "         steps=[('selector', VarianceThreshold()),\n",
            "                ('min_max_scaler', MinMaxScaler()), ('gnb', GaussianNB())])\n",
            "Fitting 2 folds for each of 4 candidates, totalling 8 fits\n",
            "CREATE PIPELINE\n",
            "<class 'numpy.float64'>\n",
            "<class 'numpy.ndarray'>\n",
            "{'selector__threshold': [0, 1000, 10000, 1000000]}\n",
            "Pipeline(memory='tmp',\n",
            "         steps=[('selector', VarianceThreshold()),\n",
            "                ('min_max_scaler', MinMaxScaler()), ('gnb', GaussianNB())])\n",
            "Fitting 2 folds for each of 4 candidates, totalling 8 fits\n",
            "CREATE PIPELINE\n",
            "<class 'numpy.float64'>\n",
            "<class 'numpy.ndarray'>\n",
            "{'selector__threshold': [0, 1000, 10000, 1000000]}\n",
            "Pipeline(memory='tmp',\n",
            "         steps=[('selector', VarianceThreshold()), ('ros', RandomOverSampler()),\n",
            "                ('gnb', GaussianNB())])\n",
            "Fitting 2 folds for each of 4 candidates, totalling 8 fits\n"
          ],
          "name": "stdout"
        },
        {
          "output_type": "stream",
          "text": [
            "[Parallel(n_jobs=-1)]: Using backend LokyBackend with 2 concurrent workers.\n",
            "[Parallel(n_jobs=-1)]: Done   1 tasks      | elapsed:    0.0s\n",
            "[Parallel(n_jobs=-1)]: Batch computation too fast (0.0194s.) Setting batch_size=2.\n",
            "[Parallel(n_jobs=-1)]: Done   4 out of   8 | elapsed:    0.0s remaining:    0.0s\n",
            "[Parallel(n_jobs=-1)]: Done   6 out of   8 | elapsed:    0.1s remaining:    0.0s\n",
            "[Parallel(n_jobs=-1)]: Done   8 out of   8 | elapsed:    0.1s remaining:    0.0s\n",
            "[Parallel(n_jobs=-1)]: Done   8 out of   8 | elapsed:    0.1s finished\n",
            "[Parallel(n_jobs=-1)]: Using backend LokyBackend with 2 concurrent workers.\n",
            "[Parallel(n_jobs=-1)]: Done   1 tasks      | elapsed:    0.0s\n",
            "[Parallel(n_jobs=-1)]: Batch computation too fast (0.0216s.) Setting batch_size=2.\n",
            "[Parallel(n_jobs=-1)]: Done   4 out of   8 | elapsed:    0.0s remaining:    0.0s\n",
            "[Parallel(n_jobs=-1)]: Done   6 out of   8 | elapsed:    0.1s remaining:    0.0s\n",
            "[Parallel(n_jobs=-1)]: Done   8 out of   8 | elapsed:    0.1s remaining:    0.0s\n",
            "[Parallel(n_jobs=-1)]: Done   8 out of   8 | elapsed:    0.1s finished\n",
            "[Parallel(n_jobs=-1)]: Using backend LokyBackend with 2 concurrent workers.\n",
            "[Parallel(n_jobs=-1)]: Done   1 tasks      | elapsed:    0.0s\n",
            "[Parallel(n_jobs=-1)]: Batch computation too fast (0.0154s.) Setting batch_size=2.\n",
            "[Parallel(n_jobs=-1)]: Done   4 out of   8 | elapsed:    0.0s remaining:    0.0s\n",
            "[Parallel(n_jobs=-1)]: Done   6 out of   8 | elapsed:    0.1s remaining:    0.0s\n",
            "[Parallel(n_jobs=-1)]: Done   8 out of   8 | elapsed:    0.1s remaining:    0.0s\n",
            "[Parallel(n_jobs=-1)]: Done   8 out of   8 | elapsed:    0.1s finished\n",
            "[Parallel(n_jobs=-1)]: Using backend LokyBackend with 2 concurrent workers.\n",
            "[Parallel(n_jobs=-1)]: Batch computation too fast (0.0172s.) Setting batch_size=2.\n",
            "[Parallel(n_jobs=-1)]: Done   2 out of   2 | elapsed:    0.0s remaining:    0.0s\n",
            "[Parallel(n_jobs=-1)]: Done   2 out of   2 | elapsed:    0.0s finished\n",
            "[Parallel(n_jobs=-1)]: Using backend LokyBackend with 2 concurrent workers.\n",
            "[Parallel(n_jobs=-1)]: Batch computation too fast (0.0167s.) Setting batch_size=2.\n",
            "[Parallel(n_jobs=-1)]: Done   2 out of   2 | elapsed:    0.0s remaining:    0.0s\n",
            "[Parallel(n_jobs=-1)]: Done   2 out of   2 | elapsed:    0.0s finished\n",
            "[Parallel(n_jobs=-1)]: Using backend LokyBackend with 2 concurrent workers.\n"
          ],
          "name": "stderr"
        },
        {
          "output_type": "stream",
          "text": [
            "CREATE PIPELINE\n",
            "<class 'numpy.float64'>\n",
            "<class 'numpy.ndarray'>\n",
            "{'selector__threshold': [0, 1000, 10000, 1000000]}\n",
            "Pipeline(memory='tmp',\n",
            "         steps=[('selector', VarianceThreshold()),\n",
            "                ('rus', RandomUnderSampler()), ('gnb', GaussianNB())])\n",
            "Fitting 2 folds for each of 4 candidates, totalling 8 fits\n",
            "CREATE PIPELINE\n",
            "<class 'numpy.float64'>\n",
            "<class 'numpy.ndarray'>\n",
            "{}\n",
            "Pipeline(memory='tmp',\n",
            "         steps=[('scaler', StandardScaler()), ('ros', RandomOverSampler()),\n",
            "                ('gnb', GaussianNB())])\n",
            "Fitting 2 folds for each of 1 candidates, totalling 2 fits\n",
            "CREATE PIPELINE\n",
            "<class 'numpy.float64'>\n",
            "<class 'numpy.ndarray'>\n",
            "{}\n",
            "Pipeline(memory='tmp',\n",
            "         steps=[('scaler', StandardScaler()), ('rus', RandomUnderSampler()),\n",
            "                ('gnb', GaussianNB())])\n",
            "Fitting 2 folds for each of 1 candidates, totalling 2 fits\n",
            "CREATE PIPELINE\n",
            "<class 'numpy.float64'>\n",
            "<class 'numpy.ndarray'>\n",
            "{}\n",
            "Pipeline(memory='tmp',\n",
            "         steps=[('min_max_scaler', MinMaxScaler()),\n",
            "                ('ros', RandomOverSampler()), ('gnb', GaussianNB())])\n",
            "Fitting 2 folds for each of 1 candidates, totalling 2 fits\n"
          ],
          "name": "stdout"
        },
        {
          "output_type": "stream",
          "text": [
            "[Parallel(n_jobs=-1)]: Batch computation too fast (0.0250s.) Setting batch_size=2.\n",
            "[Parallel(n_jobs=-1)]: Done   2 out of   2 | elapsed:    0.0s remaining:    0.0s\n",
            "[Parallel(n_jobs=-1)]: Done   2 out of   2 | elapsed:    0.0s finished\n",
            "[Parallel(n_jobs=-1)]: Using backend LokyBackend with 2 concurrent workers.\n",
            "[Parallel(n_jobs=-1)]: Batch computation too fast (0.0169s.) Setting batch_size=2.\n",
            "[Parallel(n_jobs=-1)]: Done   2 out of   2 | elapsed:    0.0s remaining:    0.0s\n",
            "[Parallel(n_jobs=-1)]: Done   2 out of   2 | elapsed:    0.0s finished\n",
            "[Parallel(n_jobs=-1)]: Using backend LokyBackend with 2 concurrent workers.\n",
            "[Parallel(n_jobs=-1)]: Done   1 tasks      | elapsed:    0.0s\n",
            "[Parallel(n_jobs=-1)]: Batch computation too fast (0.0185s.) Setting batch_size=2.\n",
            "[Parallel(n_jobs=-1)]: Done   4 out of   8 | elapsed:    0.1s remaining:    0.1s\n",
            "[Parallel(n_jobs=-1)]: Done   6 out of   8 | elapsed:    0.1s remaining:    0.0s\n",
            "[Parallel(n_jobs=-1)]: Done   8 out of   8 | elapsed:    0.1s remaining:    0.0s\n",
            "[Parallel(n_jobs=-1)]: Done   8 out of   8 | elapsed:    0.1s finished\n",
            "[Parallel(n_jobs=-1)]: Using backend LokyBackend with 2 concurrent workers.\n",
            "[Parallel(n_jobs=-1)]: Done   1 tasks      | elapsed:    0.0s\n",
            "[Parallel(n_jobs=-1)]: Batch computation too fast (0.0215s.) Setting batch_size=2.\n"
          ],
          "name": "stderr"
        },
        {
          "output_type": "stream",
          "text": [
            "CREATE PIPELINE\n",
            "<class 'numpy.float64'>\n",
            "<class 'numpy.ndarray'>\n",
            "{}\n",
            "Pipeline(memory='tmp',\n",
            "         steps=[('min_max_scaler', MinMaxScaler()),\n",
            "                ('rus', RandomUnderSampler()), ('gnb', GaussianNB())])\n",
            "Fitting 2 folds for each of 1 candidates, totalling 2 fits\n",
            "CREATE PIPELINE\n",
            "<class 'numpy.float64'>\n",
            "<class 'numpy.ndarray'>\n",
            "{'selector__threshold': [0, 1000, 10000, 1000000]}\n",
            "Pipeline(memory='tmp',\n",
            "         steps=[('selector', VarianceThreshold()), ('scaler', StandardScaler()),\n",
            "                ('ros', RandomOverSampler()), ('gnb', GaussianNB())])\n",
            "Fitting 2 folds for each of 4 candidates, totalling 8 fits\n",
            "CREATE PIPELINE\n",
            "<class 'numpy.float64'>\n",
            "<class 'numpy.ndarray'>\n",
            "{'selector__threshold': [0, 1000, 10000, 1000000]}\n",
            "Pipeline(memory='tmp',\n",
            "         steps=[('selector', VarianceThreshold()), ('scaler', StandardScaler()),\n",
            "                ('rus', RandomUnderSampler()), ('gnb', GaussianNB())])\n",
            "Fitting 2 folds for each of 4 candidates, totalling 8 fits\n"
          ],
          "name": "stdout"
        },
        {
          "output_type": "stream",
          "text": [
            "[Parallel(n_jobs=-1)]: Done   4 out of   8 | elapsed:    0.1s remaining:    0.1s\n",
            "[Parallel(n_jobs=-1)]: Done   6 out of   8 | elapsed:    0.1s remaining:    0.0s\n",
            "[Parallel(n_jobs=-1)]: Done   8 out of   8 | elapsed:    0.1s remaining:    0.0s\n",
            "[Parallel(n_jobs=-1)]: Done   8 out of   8 | elapsed:    0.1s finished\n",
            "[Parallel(n_jobs=-1)]: Using backend LokyBackend with 2 concurrent workers.\n",
            "[Parallel(n_jobs=-1)]: Done   1 tasks      | elapsed:    0.0s\n",
            "[Parallel(n_jobs=-1)]: Batch computation too fast (0.0207s.) Setting batch_size=2.\n",
            "[Parallel(n_jobs=-1)]: Done   4 out of   8 | elapsed:    0.0s remaining:    0.0s\n",
            "[Parallel(n_jobs=-1)]: Done   6 out of   8 | elapsed:    0.1s remaining:    0.0s\n",
            "[Parallel(n_jobs=-1)]: Done   8 out of   8 | elapsed:    0.1s remaining:    0.0s\n",
            "[Parallel(n_jobs=-1)]: Done   8 out of   8 | elapsed:    0.1s finished\n",
            "[Parallel(n_jobs=-1)]: Using backend LokyBackend with 2 concurrent workers.\n",
            "[Parallel(n_jobs=-1)]: Done   1 tasks      | elapsed:    0.0s\n",
            "[Parallel(n_jobs=-1)]: Batch computation too fast (0.0203s.) Setting batch_size=2.\n",
            "[Parallel(n_jobs=-1)]: Done   4 out of   8 | elapsed:    0.1s remaining:    0.1s\n"
          ],
          "name": "stderr"
        },
        {
          "output_type": "stream",
          "text": [
            "CREATE PIPELINE\n",
            "<class 'numpy.float64'>\n",
            "<class 'numpy.ndarray'>\n",
            "{'selector__threshold': [0, 1000, 10000, 1000000]}\n",
            "Pipeline(memory='tmp',\n",
            "         steps=[('selector', VarianceThreshold()),\n",
            "                ('min_max_scaler', MinMaxScaler()),\n",
            "                ('ros', RandomOverSampler()), ('gnb', GaussianNB())])\n",
            "Fitting 2 folds for each of 4 candidates, totalling 8 fits\n",
            "CREATE PIPELINE\n",
            "<class 'numpy.float64'>\n",
            "<class 'numpy.ndarray'>\n",
            "{'selector__threshold': [0, 1000, 10000, 1000000]}\n",
            "Pipeline(memory='tmp',\n",
            "         steps=[('selector', VarianceThreshold()),\n",
            "                ('min_max_scaler', MinMaxScaler()),\n",
            "                ('rus', RandomUnderSampler()), ('gnb', GaussianNB())])\n",
            "Fitting 2 folds for each of 4 candidates, totalling 8 fits\n"
          ],
          "name": "stdout"
        },
        {
          "output_type": "stream",
          "text": [
            "[Parallel(n_jobs=-1)]: Done   6 out of   8 | elapsed:    0.1s remaining:    0.0s\n",
            "[Parallel(n_jobs=-1)]: Done   8 out of   8 | elapsed:    0.1s remaining:    0.0s\n",
            "[Parallel(n_jobs=-1)]: Done   8 out of   8 | elapsed:    0.1s finished\n"
          ],
          "name": "stderr"
        },
        {
          "output_type": "stream",
          "text": [
            "CREATE PIPELINE\n",
            "<class 'numpy.float64'>\n",
            "<class 'numpy.ndarray'>\n",
            "36\n",
            "\n",
            "=========================================================================\n",
            "RESULTS\n",
            "Best estimator is:  Pipeline(memory='tmp',\n",
            "         steps=[('rus', RandomUnderSampler()), ('gnb', GaussianNB())])\n"
          ],
          "name": "stdout"
        },
        {
          "output_type": "display_data",
          "data": {
            "image/png": "[encoded data removed]",
            "text/plain": [
              "<Figure size 432x288 with 2 Axes>"
            ]
          },
          "metadata": {
            "tags": [],
            "needs_background": "light"
          }
        },
        {
          "output_type": "stream",
          "text": [
            "The average f1-micro average is:  0.834712543554007\n",
            "The average f1-macro average is:  0.8405797101449275\n",
            "Classification report:\n",
            "               precision    recall  f1-score   support\n",
            "\n",
            "    rejected       0.83      0.91      0.87        78\n",
            "     granted       0.87      0.75      0.80        60\n",
            "\n",
            "    accuracy                           0.84       138\n",
            "   macro avg       0.85      0.83      0.83       138\n",
            "weighted avg       0.84      0.84      0.84       138\n",
            "\n",
            "Fit time:  0.03037261962890625\n",
            "Predict time:  0.003457784652709961\n"
          ],
          "name": "stdout"
        }
      ]
    },
    {
      "cell_type": "markdown",
      "metadata": {
        "id": "cf4VsNHQfbfz"
      },
      "source": [
        "####k-Nearest Neighbors  Classifier\n"
      ]
    },
    {
      "cell_type": "code",
      "metadata": {
        "id": "v3AI3X2zByce",
        "colab": {
          "base_uri": "https://localhost:8080/",
          "height": 1000
        },
        "outputId": "530c0723-37f5-4218-b245-690b443256f1"
      },
      "source": [
        "est_values_mapper_opt_knn = {\n",
        "    'selector': [0, 1000, 10000, 1000000],\n",
        "    'pca': [10, 20, 30, 40, 50, 60],\n",
        "    'kNN': {\n",
        "        \"kNN\":[i for i in range(1, 51, 2)]\n",
        "    }\n",
        "}\n",
        "\n",
        "f1_scores_knn_micro = runEstimators(train=final_train, test=final_test, train_labels=train_labels, test_labels=test_labels, \n",
        "                                    my_transformers=transformers, my_classifiers={'kNN': knn}, \n",
        "                                    est_values_mapper=est_values_mapper_opt_knn, scoring='f1_micro')\n",
        "\n",
        "# compute f1-micro\n",
        "knn_micro = {k: f1_score(test_labels, v, average='micro') for k,v in f1_scores_knn_micro['preds'].items()}\n",
        "# get the estimator with the maximum f1-micro\n",
        "opt_est_knn_micro = max(knn_micro.items(), key=operator.itemgetter(1))[0]\n",
        "\n",
        "getResults(f1_scores_knn_micro, opt_est_knn_micro, final_test, test_labels, \"rejected\", \"granted\")"
      ],
      "execution_count": 138,
      "outputs": [
        {
          "output_type": "stream",
          "text": [
            "{'kNN__n_neighbors': [1, 3, 5, 7, 9, 11, 13, 15, 17, 19, 21, 23, 25, 27, 29, 31, 33, 35, 37, 39, 41, 43, 45, 47, 49]}\n",
            "Pipeline(memory='tmp', steps=[('kNN', KNeighborsClassifier(n_jobs=-1))])\n",
            "Fitting 2 folds for each of 25 candidates, totalling 50 fits\n"
          ],
          "name": "stdout"
        },
        {
          "output_type": "stream",
          "text": [
            "[Parallel(n_jobs=-1)]: Using backend LokyBackend with 2 concurrent workers.\n",
            "[Parallel(n_jobs=-1)]: Done   1 tasks      | elapsed:    1.5s\n",
            "[Parallel(n_jobs=-1)]: Done   4 tasks      | elapsed:    1.7s\n",
            "[Parallel(n_jobs=-1)]: Done   9 tasks      | elapsed:    2.0s\n",
            "[Parallel(n_jobs=-1)]: Done  14 tasks      | elapsed:    2.3s\n",
            "[Parallel(n_jobs=-1)]: Done  21 tasks      | elapsed:    2.7s\n",
            "[Parallel(n_jobs=-1)]: Done  28 tasks      | elapsed:    3.1s\n",
            "[Parallel(n_jobs=-1)]: Done  37 tasks      | elapsed:    3.7s\n",
            "[Parallel(n_jobs=-1)]: Done  46 tasks      | elapsed:    4.1s\n",
            "[Parallel(n_jobs=-1)]: Done  50 out of  50 | elapsed:    4.4s finished\n",
            "[Parallel(n_jobs=-1)]: Using backend LokyBackend with 2 concurrent workers.\n"
          ],
          "name": "stderr"
        },
        {
          "output_type": "stream",
          "text": [
            "CREATE PIPELINE\n",
            "<class 'numpy.float64'>\n",
            "<class 'numpy.ndarray'>\n",
            "{'kNN__n_neighbors': [1, 3, 5, 7, 9, 11, 13, 15, 17, 19, 21, 23, 25, 27, 29, 31, 33, 35, 37, 39, 41, 43, 45, 47, 49]}\n",
            "Pipeline(memory='tmp', steps=[('kNN', KNeighborsClassifier(n_jobs=-1))])\n",
            "Fitting 2 folds for each of 25 candidates, totalling 50 fits\n"
          ],
          "name": "stdout"
        },
        {
          "output_type": "stream",
          "text": [
            "[Parallel(n_jobs=-1)]: Done   1 tasks      | elapsed:    0.1s\n",
            "[Parallel(n_jobs=-1)]: Batch computation too fast (0.1295s.) Setting batch_size=2.\n",
            "[Parallel(n_jobs=-1)]: Done   4 tasks      | elapsed:    0.3s\n",
            "[Parallel(n_jobs=-1)]: Done  14 tasks      | elapsed:    0.9s\n",
            "[Parallel(n_jobs=-1)]: Done  24 tasks      | elapsed:    1.4s\n",
            "[Parallel(n_jobs=-1)]: Done  38 tasks      | elapsed:    2.3s\n",
            "[Parallel(n_jobs=-1)]: Done  50 out of  50 | elapsed:    2.9s finished\n",
            "[Parallel(n_jobs=-1)]: Using backend LokyBackend with 2 concurrent workers.\n"
          ],
          "name": "stderr"
        },
        {
          "output_type": "stream",
          "text": [
            "CREATE PIPELINE\n",
            "<class 'numpy.float64'>\n",
            "<class 'numpy.ndarray'>\n",
            "{'kNN__n_neighbors': [1, 3, 5, 7, 9, 11, 13, 15, 17, 19, 21, 23, 25, 27, 29, 31, 33, 35, 37, 39, 41, 43, 45, 47, 49]}\n",
            "Pipeline(memory='tmp', steps=[('kNN', KNeighborsClassifier(n_jobs=-1))])\n",
            "Fitting 2 folds for each of 25 candidates, totalling 50 fits\n"
          ],
          "name": "stdout"
        },
        {
          "output_type": "stream",
          "text": [
            "[Parallel(n_jobs=-1)]: Done   1 tasks      | elapsed:    0.1s\n",
            "[Parallel(n_jobs=-1)]: Batch computation too fast (0.1244s.) Setting batch_size=2.\n",
            "[Parallel(n_jobs=-1)]: Done   4 tasks      | elapsed:    0.3s\n",
            "[Parallel(n_jobs=-1)]: Done  14 tasks      | elapsed:    0.9s\n",
            "[Parallel(n_jobs=-1)]: Done  24 tasks      | elapsed:    1.4s\n",
            "[Parallel(n_jobs=-1)]: Done  38 tasks      | elapsed:    2.3s\n",
            "[Parallel(n_jobs=-1)]: Done  50 out of  50 | elapsed:    2.9s finished\n",
            "[Parallel(n_jobs=-1)]: Using backend LokyBackend with 2 concurrent workers.\n"
          ],
          "name": "stderr"
        },
        {
          "output_type": "stream",
          "text": [
            "CREATE PIPELINE\n",
            "<class 'numpy.float64'>\n",
            "<class 'numpy.ndarray'>\n",
            "{'kNN__n_neighbors': [1, 3, 5, 7, 9, 11, 13, 15, 17, 19, 21, 23, 25, 27, 29, 31, 33, 35, 37, 39, 41, 43, 45, 47, 49]}\n",
            "Pipeline(memory='tmp', steps=[('kNN', KNeighborsClassifier(n_jobs=-1))])\n",
            "Fitting 2 folds for each of 25 candidates, totalling 50 fits\n"
          ],
          "name": "stdout"
        },
        {
          "output_type": "stream",
          "text": [
            "[Parallel(n_jobs=-1)]: Done   1 tasks      | elapsed:    0.1s\n",
            "[Parallel(n_jobs=-1)]: Batch computation too fast (0.1255s.) Setting batch_size=2.\n",
            "[Parallel(n_jobs=-1)]: Done   4 tasks      | elapsed:    0.3s\n",
            "[Parallel(n_jobs=-1)]: Done  14 tasks      | elapsed:    0.9s\n",
            "[Parallel(n_jobs=-1)]: Done  24 tasks      | elapsed:    1.4s\n",
            "[Parallel(n_jobs=-1)]: Done  38 tasks      | elapsed:    2.3s\n",
            "[Parallel(n_jobs=-1)]: Done  50 out of  50 | elapsed:    2.9s finished\n",
            "[Parallel(n_jobs=-1)]: Using backend LokyBackend with 2 concurrent workers.\n"
          ],
          "name": "stderr"
        },
        {
          "output_type": "stream",
          "text": [
            "CREATE PIPELINE\n",
            "<class 'numpy.float64'>\n",
            "<class 'numpy.ndarray'>\n",
            "{'kNN__n_neighbors': [1, 3, 5, 7, 9, 11, 13, 15, 17, 19, 21, 23, 25, 27, 29, 31, 33, 35, 37, 39, 41, 43, 45, 47, 49]}\n",
            "Pipeline(memory='tmp', steps=[('kNN', KNeighborsClassifier(n_jobs=-1))])\n",
            "Fitting 2 folds for each of 25 candidates, totalling 50 fits\n"
          ],
          "name": "stdout"
        },
        {
          "output_type": "stream",
          "text": [
            "[Parallel(n_jobs=-1)]: Done   1 tasks      | elapsed:    0.1s\n",
            "[Parallel(n_jobs=-1)]: Batch computation too fast (0.1196s.) Setting batch_size=2.\n",
            "[Parallel(n_jobs=-1)]: Done   4 tasks      | elapsed:    0.3s\n",
            "[Parallel(n_jobs=-1)]: Done  14 tasks      | elapsed:    0.9s\n",
            "[Parallel(n_jobs=-1)]: Done  24 tasks      | elapsed:    1.4s\n",
            "[Parallel(n_jobs=-1)]: Done  38 tasks      | elapsed:    2.4s\n",
            "[Parallel(n_jobs=-1)]: Done  50 out of  50 | elapsed:    3.0s finished\n",
            "[Parallel(n_jobs=-1)]: Using backend LokyBackend with 2 concurrent workers.\n"
          ],
          "name": "stderr"
        },
        {
          "output_type": "stream",
          "text": [
            "CREATE PIPELINE\n",
            "<class 'numpy.float64'>\n",
            "<class 'numpy.ndarray'>\n",
            "{'kNN__n_neighbors': [1, 3, 5, 7, 9, 11, 13, 15, 17, 19, 21, 23, 25, 27, 29, 31, 33, 35, 37, 39, 41, 43, 45, 47, 49]}\n",
            "Pipeline(memory='tmp', steps=[('kNN', KNeighborsClassifier(n_jobs=-1))])\n",
            "Fitting 2 folds for each of 25 candidates, totalling 50 fits\n"
          ],
          "name": "stdout"
        },
        {
          "output_type": "stream",
          "text": [
            "[Parallel(n_jobs=-1)]: Done   1 tasks      | elapsed:    0.1s\n",
            "[Parallel(n_jobs=-1)]: Batch computation too fast (0.1315s.) Setting batch_size=2.\n",
            "[Parallel(n_jobs=-1)]: Done   4 tasks      | elapsed:    0.3s\n",
            "[Parallel(n_jobs=-1)]: Done  14 tasks      | elapsed:    0.9s\n",
            "[Parallel(n_jobs=-1)]: Done  24 tasks      | elapsed:    1.4s\n",
            "[Parallel(n_jobs=-1)]: Done  38 tasks      | elapsed:    2.3s\n",
            "[Parallel(n_jobs=-1)]: Done  50 out of  50 | elapsed:    2.9s finished\n",
            "[Parallel(n_jobs=-1)]: Using backend LokyBackend with 2 concurrent workers.\n"
          ],
          "name": "stderr"
        },
        {
          "output_type": "stream",
          "text": [
            "CREATE PIPELINE\n",
            "<class 'numpy.float64'>\n",
            "<class 'numpy.ndarray'>\n",
            "{'kNN__n_neighbors': [1, 3, 5, 7, 9, 11, 13, 15, 17, 19, 21, 23, 25, 27, 29, 31, 33, 35, 37, 39, 41, 43, 45, 47, 49]}\n",
            "Pipeline(memory='tmp', steps=[('kNN', KNeighborsClassifier(n_jobs=-1))])\n",
            "Fitting 2 folds for each of 25 candidates, totalling 50 fits\n"
          ],
          "name": "stdout"
        },
        {
          "output_type": "stream",
          "text": [
            "[Parallel(n_jobs=-1)]: Done   1 tasks      | elapsed:    0.1s\n",
            "[Parallel(n_jobs=-1)]: Batch computation too fast (0.1313s.) Setting batch_size=2.\n",
            "[Parallel(n_jobs=-1)]: Done   4 tasks      | elapsed:    0.3s\n",
            "[Parallel(n_jobs=-1)]: Done  14 tasks      | elapsed:    1.0s\n",
            "[Parallel(n_jobs=-1)]: Done  24 tasks      | elapsed:    1.5s\n",
            "[Parallel(n_jobs=-1)]: Done  38 tasks      | elapsed:    2.4s\n",
            "[Parallel(n_jobs=-1)]: Done  50 out of  50 | elapsed:    3.0s finished\n",
            "[Parallel(n_jobs=-1)]: Using backend LokyBackend with 2 concurrent workers.\n"
          ],
          "name": "stderr"
        },
        {
          "output_type": "stream",
          "text": [
            "CREATE PIPELINE\n",
            "<class 'numpy.float64'>\n",
            "<class 'numpy.ndarray'>\n",
            "{'selector__threshold': [0, 1000, 10000, 1000000], 'kNN__n_neighbors': [1, 3, 5, 7, 9, 11, 13, 15, 17, 19, 21, 23, 25, 27, 29, 31, 33, 35, 37, 39, 41, 43, 45, 47, 49]}\n",
            "Pipeline(memory='tmp',\n",
            "         steps=[('selector', VarianceThreshold()),\n",
            "                ('kNN', KNeighborsClassifier(n_jobs=-1))])\n",
            "Fitting 2 folds for each of 100 candidates, totalling 200 fits\n"
          ],
          "name": "stdout"
        },
        {
          "output_type": "stream",
          "text": [
            "[Parallel(n_jobs=-1)]: Done   1 tasks      | elapsed:    0.2s\n",
            "[Parallel(n_jobs=-1)]: Batch computation too fast (0.1581s.) Setting batch_size=2.\n",
            "[Parallel(n_jobs=-1)]: Done   4 tasks      | elapsed:    0.3s\n",
            "[Parallel(n_jobs=-1)]: Done  14 tasks      | elapsed:    1.0s\n",
            "[Parallel(n_jobs=-1)]: Done  24 tasks      | elapsed:    1.5s\n",
            "[Parallel(n_jobs=-1)]: Done  38 tasks      | elapsed:    2.5s\n",
            "[Parallel(n_jobs=-1)]: Done  52 tasks      | elapsed:    3.2s\n",
            "[Parallel(n_jobs=-1)]: Done  70 tasks      | elapsed:    4.4s\n",
            "[Parallel(n_jobs=-1)]: Done  88 tasks      | elapsed:    5.3s\n",
            "[Parallel(n_jobs=-1)]: Done 110 tasks      | elapsed:    6.7s\n",
            "[Parallel(n_jobs=-1)]: Done 132 tasks      | elapsed:    7.9s\n",
            "[Parallel(n_jobs=-1)]: Done 158 tasks      | elapsed:    9.5s\n",
            "[Parallel(n_jobs=-1)]: Done 184 tasks      | elapsed:   10.9s\n",
            "[Parallel(n_jobs=-1)]: Done 200 out of 200 | elapsed:   11.9s finished\n",
            "[Parallel(n_jobs=-1)]: Using backend LokyBackend with 2 concurrent workers.\n"
          ],
          "name": "stderr"
        },
        {
          "output_type": "stream",
          "text": [
            "CREATE PIPELINE\n",
            "<class 'numpy.float64'>\n",
            "<class 'numpy.ndarray'>\n",
            "{'selector__threshold': [0, 1000, 10000, 1000000], 'kNN__n_neighbors': [1, 3, 5, 7, 9, 11, 13, 15, 17, 19, 21, 23, 25, 27, 29, 31, 33, 35, 37, 39, 41, 43, 45, 47, 49]}\n",
            "Pipeline(memory='tmp',\n",
            "         steps=[('selector', VarianceThreshold()),\n",
            "                ('kNN', KNeighborsClassifier(n_jobs=-1))])\n",
            "Fitting 2 folds for each of 100 candidates, totalling 200 fits\n"
          ],
          "name": "stdout"
        },
        {
          "output_type": "stream",
          "text": [
            "[Parallel(n_jobs=-1)]: Done   1 tasks      | elapsed:    0.1s\n",
            "[Parallel(n_jobs=-1)]: Batch computation too fast (0.1202s.) Setting batch_size=2.\n",
            "[Parallel(n_jobs=-1)]: Done   4 tasks      | elapsed:    0.3s\n",
            "[Parallel(n_jobs=-1)]: Done  14 tasks      | elapsed:    0.9s\n",
            "[Parallel(n_jobs=-1)]: Done  24 tasks      | elapsed:    1.4s\n",
            "[Parallel(n_jobs=-1)]: Done  38 tasks      | elapsed:    2.4s\n",
            "[Parallel(n_jobs=-1)]: Done  52 tasks      | elapsed:    3.1s\n",
            "[Parallel(n_jobs=-1)]: Done  70 tasks      | elapsed:    4.2s\n",
            "[Parallel(n_jobs=-1)]: Done  88 tasks      | elapsed:    5.2s\n",
            "[Parallel(n_jobs=-1)]: Done 110 tasks      | elapsed:    6.6s\n",
            "[Parallel(n_jobs=-1)]: Done 132 tasks      | elapsed:    7.8s\n",
            "[Parallel(n_jobs=-1)]: Done 158 tasks      | elapsed:    9.4s\n",
            "[Parallel(n_jobs=-1)]: Done 184 tasks      | elapsed:   10.8s\n",
            "[Parallel(n_jobs=-1)]: Done 200 out of 200 | elapsed:   11.8s finished\n",
            "[Parallel(n_jobs=-1)]: Using backend LokyBackend with 2 concurrent workers.\n"
          ],
          "name": "stderr"
        },
        {
          "output_type": "stream",
          "text": [
            "CREATE PIPELINE\n",
            "<class 'numpy.float64'>\n",
            "<class 'numpy.ndarray'>\n",
            "{'selector__threshold': [0, 1000, 10000, 1000000], 'kNN__n_neighbors': [1, 3, 5, 7, 9, 11, 13, 15, 17, 19, 21, 23, 25, 27, 29, 31, 33, 35, 37, 39, 41, 43, 45, 47, 49]}\n",
            "Pipeline(memory='tmp',\n",
            "         steps=[('selector', VarianceThreshold()),\n",
            "                ('kNN', KNeighborsClassifier(n_jobs=-1))])\n",
            "Fitting 2 folds for each of 100 candidates, totalling 200 fits\n"
          ],
          "name": "stdout"
        },
        {
          "output_type": "stream",
          "text": [
            "[Parallel(n_jobs=-1)]: Done   1 tasks      | elapsed:    0.1s\n",
            "[Parallel(n_jobs=-1)]: Batch computation too fast (0.1317s.) Setting batch_size=2.\n",
            "[Parallel(n_jobs=-1)]: Done   4 tasks      | elapsed:    0.3s\n",
            "[Parallel(n_jobs=-1)]: Done  14 tasks      | elapsed:    1.0s\n",
            "[Parallel(n_jobs=-1)]: Done  24 tasks      | elapsed:    1.5s\n",
            "[Parallel(n_jobs=-1)]: Done  38 tasks      | elapsed:    2.5s\n",
            "[Parallel(n_jobs=-1)]: Done  52 tasks      | elapsed:    3.2s\n",
            "[Parallel(n_jobs=-1)]: Done  70 tasks      | elapsed:    4.4s\n",
            "[Parallel(n_jobs=-1)]: Done  88 tasks      | elapsed:    5.3s\n",
            "[Parallel(n_jobs=-1)]: Done 110 tasks      | elapsed:    6.7s\n",
            "[Parallel(n_jobs=-1)]: Done 132 tasks      | elapsed:    7.9s\n",
            "[Parallel(n_jobs=-1)]: Done 158 tasks      | elapsed:    9.6s\n",
            "[Parallel(n_jobs=-1)]: Done 184 tasks      | elapsed:   11.0s\n",
            "[Parallel(n_jobs=-1)]: Done 200 out of 200 | elapsed:   11.9s finished\n",
            "[Parallel(n_jobs=-1)]: Using backend LokyBackend with 2 concurrent workers.\n"
          ],
          "name": "stderr"
        },
        {
          "output_type": "stream",
          "text": [
            "CREATE PIPELINE\n",
            "<class 'numpy.float64'>\n",
            "<class 'numpy.ndarray'>\n",
            "{'selector__threshold': [0, 1000, 10000, 1000000], 'kNN__n_neighbors': [1, 3, 5, 7, 9, 11, 13, 15, 17, 19, 21, 23, 25, 27, 29, 31, 33, 35, 37, 39, 41, 43, 45, 47, 49]}\n",
            "Pipeline(memory='tmp',\n",
            "         steps=[('selector', VarianceThreshold()),\n",
            "                ('kNN', KNeighborsClassifier(n_jobs=-1))])\n",
            "Fitting 2 folds for each of 100 candidates, totalling 200 fits\n"
          ],
          "name": "stdout"
        },
        {
          "output_type": "stream",
          "text": [
            "[Parallel(n_jobs=-1)]: Done   1 tasks      | elapsed:    0.1s\n",
            "[Parallel(n_jobs=-1)]: Batch computation too fast (0.1247s.) Setting batch_size=2.\n",
            "[Parallel(n_jobs=-1)]: Done   4 tasks      | elapsed:    0.3s\n",
            "[Parallel(n_jobs=-1)]: Done  14 tasks      | elapsed:    0.9s\n",
            "[Parallel(n_jobs=-1)]: Done  24 tasks      | elapsed:    1.4s\n",
            "[Parallel(n_jobs=-1)]: Done  38 tasks      | elapsed:    2.4s\n",
            "[Parallel(n_jobs=-1)]: Done  52 tasks      | elapsed:    3.1s\n",
            "[Parallel(n_jobs=-1)]: Done  70 tasks      | elapsed:    4.2s\n",
            "[Parallel(n_jobs=-1)]: Done  88 tasks      | elapsed:    5.2s\n",
            "[Parallel(n_jobs=-1)]: Done 110 tasks      | elapsed:    6.6s\n",
            "[Parallel(n_jobs=-1)]: Done 132 tasks      | elapsed:    7.8s\n",
            "[Parallel(n_jobs=-1)]: Done 158 tasks      | elapsed:    9.4s\n",
            "[Parallel(n_jobs=-1)]: Done 184 tasks      | elapsed:   10.8s\n",
            "[Parallel(n_jobs=-1)]: Done 200 out of 200 | elapsed:   11.8s finished\n",
            "[Parallel(n_jobs=-1)]: Using backend LokyBackend with 2 concurrent workers.\n"
          ],
          "name": "stderr"
        },
        {
          "output_type": "stream",
          "text": [
            "CREATE PIPELINE\n",
            "<class 'numpy.float64'>\n",
            "<class 'numpy.ndarray'>\n",
            "{'selector__threshold': [0, 1000, 10000, 1000000], 'kNN__n_neighbors': [1, 3, 5, 7, 9, 11, 13, 15, 17, 19, 21, 23, 25, 27, 29, 31, 33, 35, 37, 39, 41, 43, 45, 47, 49]}\n",
            "Pipeline(memory='tmp',\n",
            "         steps=[('selector', VarianceThreshold()),\n",
            "                ('kNN', KNeighborsClassifier(n_jobs=-1))])\n",
            "Fitting 2 folds for each of 100 candidates, totalling 200 fits\n"
          ],
          "name": "stdout"
        },
        {
          "output_type": "stream",
          "text": [
            "[Parallel(n_jobs=-1)]: Done   1 tasks      | elapsed:    0.1s\n",
            "[Parallel(n_jobs=-1)]: Batch computation too fast (0.1317s.) Setting batch_size=2.\n",
            "[Parallel(n_jobs=-1)]: Done   4 tasks      | elapsed:    0.3s\n",
            "[Parallel(n_jobs=-1)]: Done  14 tasks      | elapsed:    1.0s\n",
            "[Parallel(n_jobs=-1)]: Done  24 tasks      | elapsed:    1.5s\n",
            "[Parallel(n_jobs=-1)]: Done  38 tasks      | elapsed:    2.4s\n",
            "[Parallel(n_jobs=-1)]: Done  52 tasks      | elapsed:    3.2s\n",
            "[Parallel(n_jobs=-1)]: Done  70 tasks      | elapsed:    4.3s\n",
            "[Parallel(n_jobs=-1)]: Done  88 tasks      | elapsed:    5.3s\n",
            "[Parallel(n_jobs=-1)]: Done 110 tasks      | elapsed:    6.7s\n",
            "[Parallel(n_jobs=-1)]: Done 132 tasks      | elapsed:    7.9s\n",
            "[Parallel(n_jobs=-1)]: Done 158 tasks      | elapsed:    9.5s\n",
            "[Parallel(n_jobs=-1)]: Done 184 tasks      | elapsed:   10.9s\n",
            "[Parallel(n_jobs=-1)]: Done 200 out of 200 | elapsed:   11.9s finished\n",
            "[Parallel(n_jobs=-1)]: Using backend LokyBackend with 2 concurrent workers.\n"
          ],
          "name": "stderr"
        },
        {
          "output_type": "stream",
          "text": [
            "CREATE PIPELINE\n",
            "<class 'numpy.float64'>\n",
            "<class 'numpy.ndarray'>\n",
            "{'kNN__n_neighbors': [1, 3, 5, 7, 9, 11, 13, 15, 17, 19, 21, 23, 25, 27, 29, 31, 33, 35, 37, 39, 41, 43, 45, 47, 49]}\n",
            "Pipeline(memory='tmp',\n",
            "         steps=[('scaler', StandardScaler()),\n",
            "                ('kNN', KNeighborsClassifier(n_jobs=-1))])\n",
            "Fitting 2 folds for each of 25 candidates, totalling 50 fits\n"
          ],
          "name": "stdout"
        },
        {
          "output_type": "stream",
          "text": [
            "[Parallel(n_jobs=-1)]: Done   1 tasks      | elapsed:    0.1s\n",
            "[Parallel(n_jobs=-1)]: Batch computation too fast (0.1316s.) Setting batch_size=2.\n",
            "[Parallel(n_jobs=-1)]: Done   4 tasks      | elapsed:    0.3s\n",
            "[Parallel(n_jobs=-1)]: Done  14 tasks      | elapsed:    1.0s\n",
            "[Parallel(n_jobs=-1)]: Done  24 tasks      | elapsed:    1.5s\n",
            "[Parallel(n_jobs=-1)]: Done  38 tasks      | elapsed:    2.4s\n",
            "[Parallel(n_jobs=-1)]: Done  50 out of  50 | elapsed:    3.0s finished\n",
            "[Parallel(n_jobs=-1)]: Using backend LokyBackend with 2 concurrent workers.\n"
          ],
          "name": "stderr"
        },
        {
          "output_type": "stream",
          "text": [
            "CREATE PIPELINE\n",
            "<class 'numpy.float64'>\n",
            "<class 'numpy.ndarray'>\n",
            "{'kNN__n_neighbors': [1, 3, 5, 7, 9, 11, 13, 15, 17, 19, 21, 23, 25, 27, 29, 31, 33, 35, 37, 39, 41, 43, 45, 47, 49]}\n",
            "Pipeline(memory='tmp',\n",
            "         steps=[('scaler', StandardScaler()),\n",
            "                ('kNN', KNeighborsClassifier(n_jobs=-1))])\n",
            "Fitting 2 folds for each of 25 candidates, totalling 50 fits\n"
          ],
          "name": "stdout"
        },
        {
          "output_type": "stream",
          "text": [
            "[Parallel(n_jobs=-1)]: Done   1 tasks      | elapsed:    0.1s\n",
            "[Parallel(n_jobs=-1)]: Batch computation too fast (0.1340s.) Setting batch_size=2.\n",
            "[Parallel(n_jobs=-1)]: Done   4 tasks      | elapsed:    0.3s\n",
            "[Parallel(n_jobs=-1)]: Done  14 tasks      | elapsed:    1.0s\n",
            "[Parallel(n_jobs=-1)]: Done  24 tasks      | elapsed:    1.5s\n",
            "[Parallel(n_jobs=-1)]: Done  38 tasks      | elapsed:    2.4s\n",
            "[Parallel(n_jobs=-1)]: Done  50 out of  50 | elapsed:    3.0s finished\n",
            "[Parallel(n_jobs=-1)]: Using backend LokyBackend with 2 concurrent workers.\n"
          ],
          "name": "stderr"
        },
        {
          "output_type": "stream",
          "text": [
            "CREATE PIPELINE\n",
            "<class 'numpy.float64'>\n",
            "<class 'numpy.ndarray'>\n",
            "{'kNN__n_neighbors': [1, 3, 5, 7, 9, 11, 13, 15, 17, 19, 21, 23, 25, 27, 29, 31, 33, 35, 37, 39, 41, 43, 45, 47, 49]}\n",
            "Pipeline(memory='tmp',\n",
            "         steps=[('scaler', StandardScaler()),\n",
            "                ('kNN', KNeighborsClassifier(n_jobs=-1))])\n",
            "Fitting 2 folds for each of 25 candidates, totalling 50 fits\n"
          ],
          "name": "stdout"
        },
        {
          "output_type": "stream",
          "text": [
            "[Parallel(n_jobs=-1)]: Done   1 tasks      | elapsed:    0.1s\n",
            "[Parallel(n_jobs=-1)]: Batch computation too fast (0.1349s.) Setting batch_size=2.\n",
            "[Parallel(n_jobs=-1)]: Done   4 tasks      | elapsed:    0.3s\n",
            "[Parallel(n_jobs=-1)]: Done  14 tasks      | elapsed:    1.0s\n",
            "[Parallel(n_jobs=-1)]: Done  24 tasks      | elapsed:    1.5s\n",
            "[Parallel(n_jobs=-1)]: Done  38 tasks      | elapsed:    2.4s\n",
            "[Parallel(n_jobs=-1)]: Done  50 out of  50 | elapsed:    3.0s finished\n",
            "[Parallel(n_jobs=-1)]: Using backend LokyBackend with 2 concurrent workers.\n"
          ],
          "name": "stderr"
        },
        {
          "output_type": "stream",
          "text": [
            "CREATE PIPELINE\n",
            "<class 'numpy.float64'>\n",
            "<class 'numpy.ndarray'>\n",
            "{'kNN__n_neighbors': [1, 3, 5, 7, 9, 11, 13, 15, 17, 19, 21, 23, 25, 27, 29, 31, 33, 35, 37, 39, 41, 43, 45, 47, 49]}\n",
            "Pipeline(memory='tmp',\n",
            "         steps=[('min_max_scaler', MinMaxScaler()),\n",
            "                ('kNN', KNeighborsClassifier(n_jobs=-1))])\n",
            "Fitting 2 folds for each of 25 candidates, totalling 50 fits\n"
          ],
          "name": "stdout"
        },
        {
          "output_type": "stream",
          "text": [
            "[Parallel(n_jobs=-1)]: Done   1 tasks      | elapsed:    0.1s\n",
            "[Parallel(n_jobs=-1)]: Batch computation too fast (0.1352s.) Setting batch_size=2.\n",
            "[Parallel(n_jobs=-1)]: Done   4 tasks      | elapsed:    0.3s\n",
            "[Parallel(n_jobs=-1)]: Done  14 tasks      | elapsed:    1.0s\n",
            "[Parallel(n_jobs=-1)]: Done  24 tasks      | elapsed:    1.5s\n",
            "[Parallel(n_jobs=-1)]: Done  38 tasks      | elapsed:    2.4s\n",
            "[Parallel(n_jobs=-1)]: Done  50 out of  50 | elapsed:    3.0s finished\n",
            "[Parallel(n_jobs=-1)]: Using backend LokyBackend with 2 concurrent workers.\n"
          ],
          "name": "stderr"
        },
        {
          "output_type": "stream",
          "text": [
            "CREATE PIPELINE\n",
            "<class 'numpy.float64'>\n",
            "<class 'numpy.ndarray'>\n",
            "{'kNN__n_neighbors': [1, 3, 5, 7, 9, 11, 13, 15, 17, 19, 21, 23, 25, 27, 29, 31, 33, 35, 37, 39, 41, 43, 45, 47, 49]}\n",
            "Pipeline(memory='tmp',\n",
            "         steps=[('min_max_scaler', MinMaxScaler()),\n",
            "                ('kNN', KNeighborsClassifier(n_jobs=-1))])\n",
            "Fitting 2 folds for each of 25 candidates, totalling 50 fits\n"
          ],
          "name": "stdout"
        },
        {
          "output_type": "stream",
          "text": [
            "[Parallel(n_jobs=-1)]: Done   1 tasks      | elapsed:    0.1s\n",
            "[Parallel(n_jobs=-1)]: Batch computation too fast (0.1331s.) Setting batch_size=2.\n",
            "[Parallel(n_jobs=-1)]: Done   4 tasks      | elapsed:    0.3s\n",
            "[Parallel(n_jobs=-1)]: Done  14 tasks      | elapsed:    1.0s\n",
            "[Parallel(n_jobs=-1)]: Done  24 tasks      | elapsed:    1.5s\n",
            "[Parallel(n_jobs=-1)]: Done  38 tasks      | elapsed:    2.4s\n",
            "[Parallel(n_jobs=-1)]: Done  50 out of  50 | elapsed:    3.0s finished\n",
            "[Parallel(n_jobs=-1)]: Using backend LokyBackend with 2 concurrent workers.\n"
          ],
          "name": "stderr"
        },
        {
          "output_type": "stream",
          "text": [
            "CREATE PIPELINE\n",
            "<class 'numpy.float64'>\n",
            "<class 'numpy.ndarray'>\n",
            "{'kNN__n_neighbors': [1, 3, 5, 7, 9, 11, 13, 15, 17, 19, 21, 23, 25, 27, 29, 31, 33, 35, 37, 39, 41, 43, 45, 47, 49]}\n",
            "Pipeline(memory='tmp',\n",
            "         steps=[('min_max_scaler', MinMaxScaler()),\n",
            "                ('kNN', KNeighborsClassifier(n_jobs=-1))])\n",
            "Fitting 2 folds for each of 25 candidates, totalling 50 fits\n"
          ],
          "name": "stdout"
        },
        {
          "output_type": "stream",
          "text": [
            "[Parallel(n_jobs=-1)]: Done   1 tasks      | elapsed:    0.1s\n",
            "[Parallel(n_jobs=-1)]: Batch computation too fast (0.1338s.) Setting batch_size=2.\n",
            "[Parallel(n_jobs=-1)]: Done   4 tasks      | elapsed:    0.3s\n",
            "[Parallel(n_jobs=-1)]: Done  14 tasks      | elapsed:    1.0s\n",
            "[Parallel(n_jobs=-1)]: Done  24 tasks      | elapsed:    1.5s\n",
            "[Parallel(n_jobs=-1)]: Done  38 tasks      | elapsed:    2.4s\n",
            "[Parallel(n_jobs=-1)]: Done  50 out of  50 | elapsed:    3.0s finished\n",
            "[Parallel(n_jobs=-1)]: Using backend LokyBackend with 2 concurrent workers.\n"
          ],
          "name": "stderr"
        },
        {
          "output_type": "stream",
          "text": [
            "CREATE PIPELINE\n",
            "<class 'numpy.float64'>\n",
            "<class 'numpy.ndarray'>\n",
            "{'kNN__n_neighbors': [1, 3, 5, 7, 9, 11, 13, 15, 17, 19, 21, 23, 25, 27, 29, 31, 33, 35, 37, 39, 41, 43, 45, 47, 49]}\n",
            "Pipeline(memory='tmp',\n",
            "         steps=[('ros', RandomOverSampler()),\n",
            "                ('kNN', KNeighborsClassifier(n_jobs=-1))])\n",
            "Fitting 2 folds for each of 25 candidates, totalling 50 fits\n"
          ],
          "name": "stdout"
        },
        {
          "output_type": "stream",
          "text": [
            "[Parallel(n_jobs=-1)]: Done   1 tasks      | elapsed:    0.1s\n",
            "[Parallel(n_jobs=-1)]: Batch computation too fast (0.1259s.) Setting batch_size=2.\n",
            "[Parallel(n_jobs=-1)]: Done   4 tasks      | elapsed:    0.3s\n",
            "[Parallel(n_jobs=-1)]: Done  14 tasks      | elapsed:    1.0s\n",
            "[Parallel(n_jobs=-1)]: Done  24 tasks      | elapsed:    1.5s\n",
            "[Parallel(n_jobs=-1)]: Done  38 tasks      | elapsed:    2.4s\n",
            "[Parallel(n_jobs=-1)]: Done  50 out of  50 | elapsed:    3.0s finished\n",
            "[Parallel(n_jobs=-1)]: Using backend LokyBackend with 2 concurrent workers.\n"
          ],
          "name": "stderr"
        },
        {
          "output_type": "stream",
          "text": [
            "CREATE PIPELINE\n",
            "<class 'numpy.float64'>\n",
            "<class 'numpy.ndarray'>\n",
            "{'kNN__n_neighbors': [1, 3, 5, 7, 9, 11, 13, 15, 17, 19, 21, 23, 25, 27, 29, 31, 33, 35, 37, 39, 41, 43, 45, 47, 49]}\n",
            "Pipeline(memory='tmp',\n",
            "         steps=[('rus', RandomUnderSampler()),\n",
            "                ('kNN', KNeighborsClassifier(n_jobs=-1))])\n",
            "Fitting 2 folds for each of 25 candidates, totalling 50 fits\n"
          ],
          "name": "stdout"
        },
        {
          "output_type": "stream",
          "text": [
            "[Parallel(n_jobs=-1)]: Done   1 tasks      | elapsed:    0.1s\n",
            "[Parallel(n_jobs=-1)]: Batch computation too fast (0.1295s.) Setting batch_size=2.\n",
            "[Parallel(n_jobs=-1)]: Done   4 tasks      | elapsed:    0.3s\n",
            "[Parallel(n_jobs=-1)]: Done  14 tasks      | elapsed:    1.0s\n",
            "[Parallel(n_jobs=-1)]: Done  24 tasks      | elapsed:    1.5s\n",
            "[Parallel(n_jobs=-1)]: Done  38 tasks      | elapsed:    2.4s\n",
            "[Parallel(n_jobs=-1)]: Done  50 out of  50 | elapsed:    3.0s finished\n",
            "[Parallel(n_jobs=-1)]: Using backend LokyBackend with 2 concurrent workers.\n"
          ],
          "name": "stderr"
        },
        {
          "output_type": "stream",
          "text": [
            "CREATE PIPELINE\n",
            "<class 'numpy.float64'>\n",
            "<class 'numpy.ndarray'>\n",
            "{'selector__threshold': [0, 1000, 10000, 1000000], 'kNN__n_neighbors': [1, 3, 5, 7, 9, 11, 13, 15, 17, 19, 21, 23, 25, 27, 29, 31, 33, 35, 37, 39, 41, 43, 45, 47, 49]}\n",
            "Pipeline(memory='tmp',\n",
            "         steps=[('selector', VarianceThreshold()), ('scaler', StandardScaler()),\n",
            "                ('kNN', KNeighborsClassifier(n_jobs=-1))])\n",
            "Fitting 2 folds for each of 100 candidates, totalling 200 fits\n"
          ],
          "name": "stdout"
        },
        {
          "output_type": "stream",
          "text": [
            "[Parallel(n_jobs=-1)]: Done   1 tasks      | elapsed:    0.1s\n",
            "[Parallel(n_jobs=-1)]: Batch computation too fast (0.1377s.) Setting batch_size=2.\n",
            "[Parallel(n_jobs=-1)]: Done   4 tasks      | elapsed:    0.3s\n",
            "[Parallel(n_jobs=-1)]: Done  14 tasks      | elapsed:    1.0s\n",
            "[Parallel(n_jobs=-1)]: Done  24 tasks      | elapsed:    1.5s\n",
            "[Parallel(n_jobs=-1)]: Done  38 tasks      | elapsed:    2.4s\n",
            "[Parallel(n_jobs=-1)]: Done  52 tasks      | elapsed:    3.1s\n",
            "[Parallel(n_jobs=-1)]: Done  70 tasks      | elapsed:    4.3s\n",
            "[Parallel(n_jobs=-1)]: Done  88 tasks      | elapsed:    5.3s\n",
            "[Parallel(n_jobs=-1)]: Done 110 tasks      | elapsed:    6.7s\n",
            "[Parallel(n_jobs=-1)]: Done 132 tasks      | elapsed:    7.9s\n",
            "[Parallel(n_jobs=-1)]: Done 158 tasks      | elapsed:    9.6s\n",
            "[Parallel(n_jobs=-1)]: Done 184 tasks      | elapsed:   11.0s\n",
            "[Parallel(n_jobs=-1)]: Done 200 out of 200 | elapsed:   12.0s finished\n",
            "[Parallel(n_jobs=-1)]: Using backend LokyBackend with 2 concurrent workers.\n"
          ],
          "name": "stderr"
        },
        {
          "output_type": "stream",
          "text": [
            "CREATE PIPELINE\n",
            "<class 'numpy.float64'>\n",
            "<class 'numpy.ndarray'>\n",
            "{'selector__threshold': [0, 1000, 10000, 1000000], 'kNN__n_neighbors': [1, 3, 5, 7, 9, 11, 13, 15, 17, 19, 21, 23, 25, 27, 29, 31, 33, 35, 37, 39, 41, 43, 45, 47, 49]}\n",
            "Pipeline(memory='tmp',\n",
            "         steps=[('selector', VarianceThreshold()), ('scaler', StandardScaler()),\n",
            "                ('kNN', KNeighborsClassifier(n_jobs=-1))])\n",
            "Fitting 2 folds for each of 100 candidates, totalling 200 fits\n"
          ],
          "name": "stdout"
        },
        {
          "output_type": "stream",
          "text": [
            "[Parallel(n_jobs=-1)]: Done   1 tasks      | elapsed:    0.1s\n",
            "[Parallel(n_jobs=-1)]: Batch computation too fast (0.1307s.) Setting batch_size=2.\n",
            "[Parallel(n_jobs=-1)]: Done   4 tasks      | elapsed:    0.3s\n",
            "[Parallel(n_jobs=-1)]: Done  14 tasks      | elapsed:    1.0s\n",
            "[Parallel(n_jobs=-1)]: Done  24 tasks      | elapsed:    1.5s\n",
            "[Parallel(n_jobs=-1)]: Done  38 tasks      | elapsed:    2.4s\n",
            "[Parallel(n_jobs=-1)]: Done  52 tasks      | elapsed:    3.1s\n",
            "[Parallel(n_jobs=-1)]: Done  70 tasks      | elapsed:    4.3s\n",
            "[Parallel(n_jobs=-1)]: Done  88 tasks      | elapsed:    5.3s\n",
            "[Parallel(n_jobs=-1)]: Done 110 tasks      | elapsed:    6.7s\n",
            "[Parallel(n_jobs=-1)]: Done 132 tasks      | elapsed:    7.9s\n",
            "[Parallel(n_jobs=-1)]: Done 158 tasks      | elapsed:    9.5s\n",
            "[Parallel(n_jobs=-1)]: Done 184 tasks      | elapsed:   11.0s\n",
            "[Parallel(n_jobs=-1)]: Done 200 out of 200 | elapsed:   11.9s finished\n",
            "[Parallel(n_jobs=-1)]: Using backend LokyBackend with 2 concurrent workers.\n"
          ],
          "name": "stderr"
        },
        {
          "output_type": "stream",
          "text": [
            "CREATE PIPELINE\n",
            "<class 'numpy.float64'>\n",
            "<class 'numpy.ndarray'>\n",
            "{'selector__threshold': [0, 1000, 10000, 1000000], 'kNN__n_neighbors': [1, 3, 5, 7, 9, 11, 13, 15, 17, 19, 21, 23, 25, 27, 29, 31, 33, 35, 37, 39, 41, 43, 45, 47, 49]}\n",
            "Pipeline(memory='tmp',\n",
            "         steps=[('selector', VarianceThreshold()), ('scaler', StandardScaler()),\n",
            "                ('kNN', KNeighborsClassifier(n_jobs=-1))])\n",
            "Fitting 2 folds for each of 100 candidates, totalling 200 fits\n"
          ],
          "name": "stdout"
        },
        {
          "output_type": "stream",
          "text": [
            "[Parallel(n_jobs=-1)]: Done   1 tasks      | elapsed:    0.1s\n",
            "[Parallel(n_jobs=-1)]: Batch computation too fast (0.1357s.) Setting batch_size=2.\n",
            "[Parallel(n_jobs=-1)]: Done   4 tasks      | elapsed:    0.3s\n",
            "[Parallel(n_jobs=-1)]: Done  14 tasks      | elapsed:    1.0s\n",
            "[Parallel(n_jobs=-1)]: Done  24 tasks      | elapsed:    1.5s\n",
            "[Parallel(n_jobs=-1)]: Done  38 tasks      | elapsed:    2.4s\n",
            "[Parallel(n_jobs=-1)]: Done  52 tasks      | elapsed:    3.1s\n",
            "[Parallel(n_jobs=-1)]: Done  70 tasks      | elapsed:    4.3s\n",
            "[Parallel(n_jobs=-1)]: Done  88 tasks      | elapsed:    5.3s\n",
            "[Parallel(n_jobs=-1)]: Done 110 tasks      | elapsed:    6.7s\n",
            "[Parallel(n_jobs=-1)]: Done 132 tasks      | elapsed:    7.9s\n",
            "[Parallel(n_jobs=-1)]: Done 158 tasks      | elapsed:    9.6s\n",
            "[Parallel(n_jobs=-1)]: Done 184 tasks      | elapsed:   11.1s\n",
            "[Parallel(n_jobs=-1)]: Done 200 out of 200 | elapsed:   12.0s finished\n",
            "[Parallel(n_jobs=-1)]: Using backend LokyBackend with 2 concurrent workers.\n"
          ],
          "name": "stderr"
        },
        {
          "output_type": "stream",
          "text": [
            "CREATE PIPELINE\n",
            "<class 'numpy.float64'>\n",
            "<class 'numpy.ndarray'>\n",
            "{'selector__threshold': [0, 1000, 10000, 1000000], 'kNN__n_neighbors': [1, 3, 5, 7, 9, 11, 13, 15, 17, 19, 21, 23, 25, 27, 29, 31, 33, 35, 37, 39, 41, 43, 45, 47, 49]}\n",
            "Pipeline(memory='tmp',\n",
            "         steps=[('selector', VarianceThreshold()),\n",
            "                ('min_max_scaler', MinMaxScaler()),\n",
            "                ('kNN', KNeighborsClassifier(n_jobs=-1))])\n",
            "Fitting 2 folds for each of 100 candidates, totalling 200 fits\n"
          ],
          "name": "stdout"
        },
        {
          "output_type": "stream",
          "text": [
            "[Parallel(n_jobs=-1)]: Done   1 tasks      | elapsed:    0.1s\n",
            "[Parallel(n_jobs=-1)]: Batch computation too fast (0.1406s.) Setting batch_size=2.\n",
            "[Parallel(n_jobs=-1)]: Done   4 tasks      | elapsed:    0.3s\n",
            "[Parallel(n_jobs=-1)]: Done  14 tasks      | elapsed:    1.0s\n",
            "[Parallel(n_jobs=-1)]: Done  24 tasks      | elapsed:    1.5s\n",
            "[Parallel(n_jobs=-1)]: Done  38 tasks      | elapsed:    2.4s\n",
            "[Parallel(n_jobs=-1)]: Done  52 tasks      | elapsed:    3.2s\n",
            "[Parallel(n_jobs=-1)]: Done  70 tasks      | elapsed:    4.3s\n",
            "[Parallel(n_jobs=-1)]: Done  88 tasks      | elapsed:    5.3s\n",
            "[Parallel(n_jobs=-1)]: Done 110 tasks      | elapsed:    6.8s\n",
            "[Parallel(n_jobs=-1)]: Done 132 tasks      | elapsed:    8.0s\n",
            "[Parallel(n_jobs=-1)]: Done 158 tasks      | elapsed:    9.6s\n",
            "[Parallel(n_jobs=-1)]: Done 184 tasks      | elapsed:   11.1s\n",
            "[Parallel(n_jobs=-1)]: Done 200 out of 200 | elapsed:   12.0s finished\n",
            "[Parallel(n_jobs=-1)]: Using backend LokyBackend with 2 concurrent workers.\n"
          ],
          "name": "stderr"
        },
        {
          "output_type": "stream",
          "text": [
            "CREATE PIPELINE\n",
            "<class 'numpy.float64'>\n",
            "<class 'numpy.ndarray'>\n",
            "{'selector__threshold': [0, 1000, 10000, 1000000], 'kNN__n_neighbors': [1, 3, 5, 7, 9, 11, 13, 15, 17, 19, 21, 23, 25, 27, 29, 31, 33, 35, 37, 39, 41, 43, 45, 47, 49]}\n",
            "Pipeline(memory='tmp',\n",
            "         steps=[('selector', VarianceThreshold()),\n",
            "                ('min_max_scaler', MinMaxScaler()),\n",
            "                ('kNN', KNeighborsClassifier(n_jobs=-1))])\n",
            "Fitting 2 folds for each of 100 candidates, totalling 200 fits\n"
          ],
          "name": "stdout"
        },
        {
          "output_type": "stream",
          "text": [
            "[Parallel(n_jobs=-1)]: Done   1 tasks      | elapsed:    0.1s\n",
            "[Parallel(n_jobs=-1)]: Batch computation too fast (0.1357s.) Setting batch_size=2.\n",
            "[Parallel(n_jobs=-1)]: Done   4 tasks      | elapsed:    0.3s\n",
            "[Parallel(n_jobs=-1)]: Done  14 tasks      | elapsed:    1.0s\n",
            "[Parallel(n_jobs=-1)]: Done  24 tasks      | elapsed:    1.5s\n",
            "[Parallel(n_jobs=-1)]: Done  38 tasks      | elapsed:    2.5s\n",
            "[Parallel(n_jobs=-1)]: Done  52 tasks      | elapsed:    3.3s\n",
            "[Parallel(n_jobs=-1)]: Done  70 tasks      | elapsed:    4.5s\n",
            "[Parallel(n_jobs=-1)]: Done  88 tasks      | elapsed:    5.5s\n",
            "[Parallel(n_jobs=-1)]: Done 110 tasks      | elapsed:    6.9s\n",
            "[Parallel(n_jobs=-1)]: Done 132 tasks      | elapsed:    8.2s\n",
            "[Parallel(n_jobs=-1)]: Done 158 tasks      | elapsed:    9.8s\n",
            "[Parallel(n_jobs=-1)]: Done 184 tasks      | elapsed:   11.3s\n",
            "[Parallel(n_jobs=-1)]: Done 200 out of 200 | elapsed:   12.2s finished\n",
            "[Parallel(n_jobs=-1)]: Using backend LokyBackend with 2 concurrent workers.\n"
          ],
          "name": "stderr"
        },
        {
          "output_type": "stream",
          "text": [
            "CREATE PIPELINE\n",
            "<class 'numpy.float64'>\n",
            "<class 'numpy.ndarray'>\n",
            "{'selector__threshold': [0, 1000, 10000, 1000000], 'kNN__n_neighbors': [1, 3, 5, 7, 9, 11, 13, 15, 17, 19, 21, 23, 25, 27, 29, 31, 33, 35, 37, 39, 41, 43, 45, 47, 49]}\n",
            "Pipeline(memory='tmp',\n",
            "         steps=[('selector', VarianceThreshold()),\n",
            "                ('min_max_scaler', MinMaxScaler()),\n",
            "                ('kNN', KNeighborsClassifier(n_jobs=-1))])\n",
            "Fitting 2 folds for each of 100 candidates, totalling 200 fits\n"
          ],
          "name": "stdout"
        },
        {
          "output_type": "stream",
          "text": [
            "[Parallel(n_jobs=-1)]: Done   1 tasks      | elapsed:    0.1s\n",
            "[Parallel(n_jobs=-1)]: Batch computation too fast (0.1311s.) Setting batch_size=2.\n",
            "[Parallel(n_jobs=-1)]: Done   4 tasks      | elapsed:    0.3s\n",
            "[Parallel(n_jobs=-1)]: Done  14 tasks      | elapsed:    1.0s\n",
            "[Parallel(n_jobs=-1)]: Done  24 tasks      | elapsed:    1.5s\n",
            "[Parallel(n_jobs=-1)]: Done  38 tasks      | elapsed:    2.5s\n",
            "[Parallel(n_jobs=-1)]: Done  52 tasks      | elapsed:    3.2s\n",
            "[Parallel(n_jobs=-1)]: Done  70 tasks      | elapsed:    4.4s\n",
            "[Parallel(n_jobs=-1)]: Done  88 tasks      | elapsed:    5.4s\n",
            "[Parallel(n_jobs=-1)]: Done 110 tasks      | elapsed:    6.8s\n",
            "[Parallel(n_jobs=-1)]: Done 132 tasks      | elapsed:    8.0s\n",
            "[Parallel(n_jobs=-1)]: Done 158 tasks      | elapsed:    9.6s\n",
            "[Parallel(n_jobs=-1)]: Done 184 tasks      | elapsed:   11.1s\n",
            "[Parallel(n_jobs=-1)]: Done 200 out of 200 | elapsed:   12.0s finished\n",
            "[Parallel(n_jobs=-1)]: Using backend LokyBackend with 2 concurrent workers.\n"
          ],
          "name": "stderr"
        },
        {
          "output_type": "stream",
          "text": [
            "CREATE PIPELINE\n",
            "<class 'numpy.float64'>\n",
            "<class 'numpy.ndarray'>\n",
            "{'selector__threshold': [0, 1000, 10000, 1000000], 'kNN__n_neighbors': [1, 3, 5, 7, 9, 11, 13, 15, 17, 19, 21, 23, 25, 27, 29, 31, 33, 35, 37, 39, 41, 43, 45, 47, 49]}\n",
            "Pipeline(memory='tmp',\n",
            "         steps=[('selector', VarianceThreshold()), ('ros', RandomOverSampler()),\n",
            "                ('kNN', KNeighborsClassifier(n_jobs=-1))])\n",
            "Fitting 2 folds for each of 100 candidates, totalling 200 fits\n"
          ],
          "name": "stdout"
        },
        {
          "output_type": "stream",
          "text": [
            "[Parallel(n_jobs=-1)]: Done   1 tasks      | elapsed:    0.1s\n",
            "[Parallel(n_jobs=-1)]: Batch computation too fast (0.1379s.) Setting batch_size=2.\n",
            "[Parallel(n_jobs=-1)]: Done   4 tasks      | elapsed:    0.3s\n",
            "[Parallel(n_jobs=-1)]: Done  14 tasks      | elapsed:    1.0s\n",
            "[Parallel(n_jobs=-1)]: Done  24 tasks      | elapsed:    1.5s\n",
            "[Parallel(n_jobs=-1)]: Done  38 tasks      | elapsed:    2.5s\n",
            "[Parallel(n_jobs=-1)]: Done  52 tasks      | elapsed:    3.3s\n",
            "[Parallel(n_jobs=-1)]: Done  70 tasks      | elapsed:    4.4s\n",
            "[Parallel(n_jobs=-1)]: Done  88 tasks      | elapsed:    5.4s\n",
            "[Parallel(n_jobs=-1)]: Done 110 tasks      | elapsed:    6.8s\n",
            "[Parallel(n_jobs=-1)]: Done 132 tasks      | elapsed:    8.0s\n",
            "[Parallel(n_jobs=-1)]: Done 158 tasks      | elapsed:    9.7s\n",
            "[Parallel(n_jobs=-1)]: Done 184 tasks      | elapsed:   11.1s\n",
            "[Parallel(n_jobs=-1)]: Done 200 out of 200 | elapsed:   12.1s finished\n",
            "[Parallel(n_jobs=-1)]: Using backend LokyBackend with 2 concurrent workers.\n"
          ],
          "name": "stderr"
        },
        {
          "output_type": "stream",
          "text": [
            "CREATE PIPELINE\n",
            "<class 'numpy.float64'>\n",
            "<class 'numpy.ndarray'>\n",
            "{'selector__threshold': [0, 1000, 10000, 1000000], 'kNN__n_neighbors': [1, 3, 5, 7, 9, 11, 13, 15, 17, 19, 21, 23, 25, 27, 29, 31, 33, 35, 37, 39, 41, 43, 45, 47, 49]}\n",
            "Pipeline(memory='tmp',\n",
            "         steps=[('selector', VarianceThreshold()),\n",
            "                ('rus', RandomUnderSampler()),\n",
            "                ('kNN', KNeighborsClassifier(n_jobs=-1))])\n",
            "Fitting 2 folds for each of 100 candidates, totalling 200 fits\n"
          ],
          "name": "stdout"
        },
        {
          "output_type": "stream",
          "text": [
            "[Parallel(n_jobs=-1)]: Done   1 tasks      | elapsed:    0.1s\n",
            "[Parallel(n_jobs=-1)]: Batch computation too fast (0.1452s.) Setting batch_size=2.\n",
            "[Parallel(n_jobs=-1)]: Done   4 tasks      | elapsed:    0.3s\n",
            "[Parallel(n_jobs=-1)]: Done  14 tasks      | elapsed:    1.0s\n",
            "[Parallel(n_jobs=-1)]: Done  24 tasks      | elapsed:    1.5s\n",
            "[Parallel(n_jobs=-1)]: Done  38 tasks      | elapsed:    2.4s\n",
            "[Parallel(n_jobs=-1)]: Done  52 tasks      | elapsed:    3.2s\n",
            "[Parallel(n_jobs=-1)]: Done  70 tasks      | elapsed:    4.4s\n",
            "[Parallel(n_jobs=-1)]: Done  88 tasks      | elapsed:    5.3s\n",
            "[Parallel(n_jobs=-1)]: Done 110 tasks      | elapsed:    6.8s\n",
            "[Parallel(n_jobs=-1)]: Done 132 tasks      | elapsed:    8.0s\n",
            "[Parallel(n_jobs=-1)]: Done 158 tasks      | elapsed:    9.6s\n",
            "[Parallel(n_jobs=-1)]: Done 184 tasks      | elapsed:   11.1s\n",
            "[Parallel(n_jobs=-1)]: Done 200 out of 200 | elapsed:   12.0s finished\n",
            "[Parallel(n_jobs=-1)]: Using backend LokyBackend with 2 concurrent workers.\n"
          ],
          "name": "stderr"
        },
        {
          "output_type": "stream",
          "text": [
            "CREATE PIPELINE\n",
            "<class 'numpy.float64'>\n",
            "<class 'numpy.ndarray'>\n",
            "{'kNN__n_neighbors': [1, 3, 5, 7, 9, 11, 13, 15, 17, 19, 21, 23, 25, 27, 29, 31, 33, 35, 37, 39, 41, 43, 45, 47, 49]}\n",
            "Pipeline(memory='tmp',\n",
            "         steps=[('scaler', StandardScaler()), ('ros', RandomOverSampler()),\n",
            "                ('kNN', KNeighborsClassifier(n_jobs=-1))])\n",
            "Fitting 2 folds for each of 25 candidates, totalling 50 fits\n"
          ],
          "name": "stdout"
        },
        {
          "output_type": "stream",
          "text": [
            "[Parallel(n_jobs=-1)]: Done   1 tasks      | elapsed:    0.1s\n",
            "[Parallel(n_jobs=-1)]: Batch computation too fast (0.1306s.) Setting batch_size=2.\n",
            "[Parallel(n_jobs=-1)]: Done   4 tasks      | elapsed:    0.3s\n",
            "[Parallel(n_jobs=-1)]: Done  14 tasks      | elapsed:    1.0s\n",
            "[Parallel(n_jobs=-1)]: Done  24 tasks      | elapsed:    1.5s\n",
            "[Parallel(n_jobs=-1)]: Done  38 tasks      | elapsed:    2.4s\n",
            "[Parallel(n_jobs=-1)]: Done  50 out of  50 | elapsed:    3.0s finished\n",
            "[Parallel(n_jobs=-1)]: Using backend LokyBackend with 2 concurrent workers.\n"
          ],
          "name": "stderr"
        },
        {
          "output_type": "stream",
          "text": [
            "CREATE PIPELINE\n",
            "<class 'numpy.float64'>\n",
            "<class 'numpy.ndarray'>\n",
            "{'kNN__n_neighbors': [1, 3, 5, 7, 9, 11, 13, 15, 17, 19, 21, 23, 25, 27, 29, 31, 33, 35, 37, 39, 41, 43, 45, 47, 49]}\n",
            "Pipeline(memory='tmp',\n",
            "         steps=[('scaler', StandardScaler()), ('rus', RandomUnderSampler()),\n",
            "                ('kNN', KNeighborsClassifier(n_jobs=-1))])\n",
            "Fitting 2 folds for each of 25 candidates, totalling 50 fits\n"
          ],
          "name": "stdout"
        },
        {
          "output_type": "stream",
          "text": [
            "[Parallel(n_jobs=-1)]: Done   1 tasks      | elapsed:    0.1s\n",
            "[Parallel(n_jobs=-1)]: Batch computation too fast (0.1295s.) Setting batch_size=2.\n",
            "[Parallel(n_jobs=-1)]: Done   4 tasks      | elapsed:    0.3s\n",
            "[Parallel(n_jobs=-1)]: Done  14 tasks      | elapsed:    1.0s\n",
            "[Parallel(n_jobs=-1)]: Done  24 tasks      | elapsed:    1.5s\n",
            "[Parallel(n_jobs=-1)]: Done  38 tasks      | elapsed:    2.4s\n",
            "[Parallel(n_jobs=-1)]: Done  50 out of  50 | elapsed:    3.1s finished\n",
            "[Parallel(n_jobs=-1)]: Using backend LokyBackend with 2 concurrent workers.\n"
          ],
          "name": "stderr"
        },
        {
          "output_type": "stream",
          "text": [
            "CREATE PIPELINE\n",
            "<class 'numpy.float64'>\n",
            "<class 'numpy.ndarray'>\n",
            "{'kNN__n_neighbors': [1, 3, 5, 7, 9, 11, 13, 15, 17, 19, 21, 23, 25, 27, 29, 31, 33, 35, 37, 39, 41, 43, 45, 47, 49]}\n",
            "Pipeline(memory='tmp',\n",
            "         steps=[('min_max_scaler', MinMaxScaler()),\n",
            "                ('ros', RandomOverSampler()),\n",
            "                ('kNN', KNeighborsClassifier(n_jobs=-1))])\n",
            "Fitting 2 folds for each of 25 candidates, totalling 50 fits\n"
          ],
          "name": "stdout"
        },
        {
          "output_type": "stream",
          "text": [
            "[Parallel(n_jobs=-1)]: Done   1 tasks      | elapsed:    0.1s\n",
            "[Parallel(n_jobs=-1)]: Batch computation too fast (0.1354s.) Setting batch_size=2.\n",
            "[Parallel(n_jobs=-1)]: Done   4 tasks      | elapsed:    0.3s\n",
            "[Parallel(n_jobs=-1)]: Done  14 tasks      | elapsed:    1.0s\n",
            "[Parallel(n_jobs=-1)]: Done  24 tasks      | elapsed:    1.5s\n",
            "[Parallel(n_jobs=-1)]: Done  38 tasks      | elapsed:    2.4s\n",
            "[Parallel(n_jobs=-1)]: Done  50 out of  50 | elapsed:    3.0s finished\n",
            "[Parallel(n_jobs=-1)]: Using backend LokyBackend with 2 concurrent workers.\n"
          ],
          "name": "stderr"
        },
        {
          "output_type": "stream",
          "text": [
            "CREATE PIPELINE\n",
            "<class 'numpy.float64'>\n",
            "<class 'numpy.ndarray'>\n",
            "{'kNN__n_neighbors': [1, 3, 5, 7, 9, 11, 13, 15, 17, 19, 21, 23, 25, 27, 29, 31, 33, 35, 37, 39, 41, 43, 45, 47, 49]}\n",
            "Pipeline(memory='tmp',\n",
            "         steps=[('min_max_scaler', MinMaxScaler()),\n",
            "                ('rus', RandomUnderSampler()),\n",
            "                ('kNN', KNeighborsClassifier(n_jobs=-1))])\n",
            "Fitting 2 folds for each of 25 candidates, totalling 50 fits\n"
          ],
          "name": "stdout"
        },
        {
          "output_type": "stream",
          "text": [
            "[Parallel(n_jobs=-1)]: Done   1 tasks      | elapsed:    0.1s\n",
            "[Parallel(n_jobs=-1)]: Batch computation too fast (0.1322s.) Setting batch_size=2.\n",
            "[Parallel(n_jobs=-1)]: Done   4 tasks      | elapsed:    0.3s\n",
            "[Parallel(n_jobs=-1)]: Done  14 tasks      | elapsed:    1.0s\n",
            "[Parallel(n_jobs=-1)]: Done  24 tasks      | elapsed:    1.5s\n",
            "[Parallel(n_jobs=-1)]: Done  38 tasks      | elapsed:    2.5s\n",
            "[Parallel(n_jobs=-1)]: Done  50 out of  50 | elapsed:    3.1s finished\n",
            "[Parallel(n_jobs=-1)]: Using backend LokyBackend with 2 concurrent workers.\n"
          ],
          "name": "stderr"
        },
        {
          "output_type": "stream",
          "text": [
            "CREATE PIPELINE\n",
            "<class 'numpy.float64'>\n",
            "<class 'numpy.ndarray'>\n",
            "{'selector__threshold': [0, 1000, 10000, 1000000], 'kNN__n_neighbors': [1, 3, 5, 7, 9, 11, 13, 15, 17, 19, 21, 23, 25, 27, 29, 31, 33, 35, 37, 39, 41, 43, 45, 47, 49]}\n",
            "Pipeline(memory='tmp',\n",
            "         steps=[('selector', VarianceThreshold()), ('scaler', StandardScaler()),\n",
            "                ('ros', RandomOverSampler()),\n",
            "                ('kNN', KNeighborsClassifier(n_jobs=-1))])\n",
            "Fitting 2 folds for each of 100 candidates, totalling 200 fits\n"
          ],
          "name": "stdout"
        },
        {
          "output_type": "stream",
          "text": [
            "[Parallel(n_jobs=-1)]: Done   1 tasks      | elapsed:    0.1s\n",
            "[Parallel(n_jobs=-1)]: Batch computation too fast (0.1330s.) Setting batch_size=2.\n",
            "[Parallel(n_jobs=-1)]: Done   4 tasks      | elapsed:    0.3s\n",
            "[Parallel(n_jobs=-1)]: Done  14 tasks      | elapsed:    1.0s\n",
            "[Parallel(n_jobs=-1)]: Done  24 tasks      | elapsed:    1.5s\n",
            "[Parallel(n_jobs=-1)]: Done  38 tasks      | elapsed:    2.5s\n",
            "[Parallel(n_jobs=-1)]: Done  52 tasks      | elapsed:    3.2s\n",
            "[Parallel(n_jobs=-1)]: Done  70 tasks      | elapsed:    4.4s\n",
            "[Parallel(n_jobs=-1)]: Done  88 tasks      | elapsed:    5.4s\n",
            "[Parallel(n_jobs=-1)]: Done 110 tasks      | elapsed:    6.8s\n",
            "[Parallel(n_jobs=-1)]: Done 132 tasks      | elapsed:    8.1s\n",
            "[Parallel(n_jobs=-1)]: Done 158 tasks      | elapsed:    9.8s\n",
            "[Parallel(n_jobs=-1)]: Done 184 tasks      | elapsed:   11.3s\n",
            "[Parallel(n_jobs=-1)]: Done 200 out of 200 | elapsed:   12.2s finished\n",
            "[Parallel(n_jobs=-1)]: Using backend LokyBackend with 2 concurrent workers.\n"
          ],
          "name": "stderr"
        },
        {
          "output_type": "stream",
          "text": [
            "CREATE PIPELINE\n",
            "<class 'numpy.float64'>\n",
            "<class 'numpy.ndarray'>\n",
            "{'selector__threshold': [0, 1000, 10000, 1000000], 'kNN__n_neighbors': [1, 3, 5, 7, 9, 11, 13, 15, 17, 19, 21, 23, 25, 27, 29, 31, 33, 35, 37, 39, 41, 43, 45, 47, 49]}\n",
            "Pipeline(memory='tmp',\n",
            "         steps=[('selector', VarianceThreshold()), ('scaler', StandardScaler()),\n",
            "                ('rus', RandomUnderSampler()),\n",
            "                ('kNN', KNeighborsClassifier(n_jobs=-1))])\n",
            "Fitting 2 folds for each of 100 candidates, totalling 200 fits\n"
          ],
          "name": "stdout"
        },
        {
          "output_type": "stream",
          "text": [
            "[Parallel(n_jobs=-1)]: Done   1 tasks      | elapsed:    0.1s\n",
            "[Parallel(n_jobs=-1)]: Batch computation too fast (0.1394s.) Setting batch_size=2.\n",
            "[Parallel(n_jobs=-1)]: Done   4 tasks      | elapsed:    0.3s\n",
            "[Parallel(n_jobs=-1)]: Done  14 tasks      | elapsed:    1.1s\n",
            "[Parallel(n_jobs=-1)]: Done  24 tasks      | elapsed:    1.6s\n",
            "[Parallel(n_jobs=-1)]: Done  38 tasks      | elapsed:    2.5s\n",
            "[Parallel(n_jobs=-1)]: Done  52 tasks      | elapsed:    3.3s\n",
            "[Parallel(n_jobs=-1)]: Done  70 tasks      | elapsed:    4.5s\n",
            "[Parallel(n_jobs=-1)]: Done  88 tasks      | elapsed:    5.5s\n",
            "[Parallel(n_jobs=-1)]: Done 110 tasks      | elapsed:    6.9s\n",
            "[Parallel(n_jobs=-1)]: Done 132 tasks      | elapsed:    8.1s\n",
            "[Parallel(n_jobs=-1)]: Done 158 tasks      | elapsed:    9.8s\n",
            "[Parallel(n_jobs=-1)]: Done 184 tasks      | elapsed:   11.3s\n",
            "[Parallel(n_jobs=-1)]: Done 200 out of 200 | elapsed:   12.3s finished\n",
            "[Parallel(n_jobs=-1)]: Using backend LokyBackend with 2 concurrent workers.\n"
          ],
          "name": "stderr"
        },
        {
          "output_type": "stream",
          "text": [
            "CREATE PIPELINE\n",
            "<class 'numpy.float64'>\n",
            "<class 'numpy.ndarray'>\n",
            "{'selector__threshold': [0, 1000, 10000, 1000000], 'kNN__n_neighbors': [1, 3, 5, 7, 9, 11, 13, 15, 17, 19, 21, 23, 25, 27, 29, 31, 33, 35, 37, 39, 41, 43, 45, 47, 49]}\n",
            "Pipeline(memory='tmp',\n",
            "         steps=[('selector', VarianceThreshold()),\n",
            "                ('min_max_scaler', MinMaxScaler()),\n",
            "                ('ros', RandomOverSampler()),\n",
            "                ('kNN', KNeighborsClassifier(n_jobs=-1))])\n",
            "Fitting 2 folds for each of 100 candidates, totalling 200 fits\n"
          ],
          "name": "stdout"
        },
        {
          "output_type": "stream",
          "text": [
            "[Parallel(n_jobs=-1)]: Done   1 tasks      | elapsed:    0.1s\n",
            "[Parallel(n_jobs=-1)]: Batch computation too fast (0.1383s.) Setting batch_size=2.\n",
            "[Parallel(n_jobs=-1)]: Done   4 tasks      | elapsed:    0.3s\n",
            "[Parallel(n_jobs=-1)]: Done  14 tasks      | elapsed:    1.0s\n",
            "[Parallel(n_jobs=-1)]: Done  24 tasks      | elapsed:    1.5s\n",
            "[Parallel(n_jobs=-1)]: Done  38 tasks      | elapsed:    2.5s\n",
            "[Parallel(n_jobs=-1)]: Done  52 tasks      | elapsed:    3.2s\n",
            "[Parallel(n_jobs=-1)]: Done  70 tasks      | elapsed:    4.4s\n",
            "[Parallel(n_jobs=-1)]: Done  88 tasks      | elapsed:    5.4s\n",
            "[Parallel(n_jobs=-1)]: Done 110 tasks      | elapsed:    6.9s\n",
            "[Parallel(n_jobs=-1)]: Done 132 tasks      | elapsed:    8.1s\n",
            "[Parallel(n_jobs=-1)]: Done 158 tasks      | elapsed:    9.8s\n",
            "[Parallel(n_jobs=-1)]: Done 184 tasks      | elapsed:   11.3s\n",
            "[Parallel(n_jobs=-1)]: Done 200 out of 200 | elapsed:   12.2s finished\n",
            "[Parallel(n_jobs=-1)]: Using backend LokyBackend with 2 concurrent workers.\n"
          ],
          "name": "stderr"
        },
        {
          "output_type": "stream",
          "text": [
            "CREATE PIPELINE\n",
            "<class 'numpy.float64'>\n",
            "<class 'numpy.ndarray'>\n",
            "{'selector__threshold': [0, 1000, 10000, 1000000], 'kNN__n_neighbors': [1, 3, 5, 7, 9, 11, 13, 15, 17, 19, 21, 23, 25, 27, 29, 31, 33, 35, 37, 39, 41, 43, 45, 47, 49]}\n",
            "Pipeline(memory='tmp',\n",
            "         steps=[('selector', VarianceThreshold()),\n",
            "                ('min_max_scaler', MinMaxScaler()),\n",
            "                ('rus', RandomUnderSampler()),\n",
            "                ('kNN', KNeighborsClassifier(n_jobs=-1))])\n",
            "Fitting 2 folds for each of 100 candidates, totalling 200 fits\n"
          ],
          "name": "stdout"
        },
        {
          "output_type": "stream",
          "text": [
            "[Parallel(n_jobs=-1)]: Done   1 tasks      | elapsed:    0.1s\n",
            "[Parallel(n_jobs=-1)]: Batch computation too fast (0.1367s.) Setting batch_size=2.\n",
            "[Parallel(n_jobs=-1)]: Done   4 tasks      | elapsed:    0.3s\n",
            "[Parallel(n_jobs=-1)]: Done  14 tasks      | elapsed:    1.0s\n",
            "[Parallel(n_jobs=-1)]: Done  24 tasks      | elapsed:    1.5s\n",
            "[Parallel(n_jobs=-1)]: Done  38 tasks      | elapsed:    2.5s\n",
            "[Parallel(n_jobs=-1)]: Done  52 tasks      | elapsed:    3.2s\n",
            "[Parallel(n_jobs=-1)]: Done  70 tasks      | elapsed:    4.4s\n",
            "[Parallel(n_jobs=-1)]: Done  88 tasks      | elapsed:    5.4s\n",
            "[Parallel(n_jobs=-1)]: Done 110 tasks      | elapsed:    6.8s\n",
            "[Parallel(n_jobs=-1)]: Done 132 tasks      | elapsed:    8.0s\n",
            "[Parallel(n_jobs=-1)]: Done 158 tasks      | elapsed:    9.7s\n",
            "[Parallel(n_jobs=-1)]: Done 184 tasks      | elapsed:   11.2s\n",
            "[Parallel(n_jobs=-1)]: Done 200 out of 200 | elapsed:   12.2s finished\n"
          ],
          "name": "stderr"
        },
        {
          "output_type": "stream",
          "text": [
            "CREATE PIPELINE\n",
            "<class 'numpy.float64'>\n",
            "<class 'numpy.ndarray'>\n",
            "36\n",
            "\n",
            "=========================================================================\n",
            "RESULTS\n",
            "Best estimator is:  Pipeline(memory='tmp',\n",
            "         steps=[('scaler', StandardScaler()),\n",
            "                ('kNN', KNeighborsClassifier(n_jobs=-1, n_neighbors=29))])\n"
          ],
          "name": "stdout"
        },
        {
          "output_type": "display_data",
          "data": {
            "image/png": "[encoded data removed]",
            "text/plain": [
              "<Figure size 432x288 with 2 Axes>"
            ]
          },
          "metadata": {
            "tags": [],
            "needs_background": "light"
          }
        },
        {
          "output_type": "stream",
          "text": [
            "The average f1-micro average is:  0.8639649507119387\n",
            "The average f1-macro average is:  0.8695652173913043\n",
            "Classification report:\n",
            "               precision    recall  f1-score   support\n",
            "\n",
            "    rejected       0.84      0.95      0.89        78\n",
            "     granted       0.92      0.77      0.84        60\n",
            "\n",
            "    accuracy                           0.87       138\n",
            "   macro avg       0.88      0.86      0.86       138\n",
            "weighted avg       0.88      0.87      0.87       138\n",
            "\n",
            "Fit time:  3.008362054824829\n",
            "Predict time:  0.10908198356628418\n"
          ],
          "name": "stdout"
        }
      ]
    },
    {
      "cell_type": "code",
      "metadata": {
        "id": "hq1vmKQ0EqfJ",
        "colab": {
          "base_uri": "https://localhost:8080/"
        },
        "outputId": "c3b78b07-d1b9-4c97-e5a0-07c264f2b0ca"
      },
      "source": [
        "printRunTimes(f1_scores_micro, f1_scores_gnb_micro, f1_scores_knn_micro, \n",
        "              opt_est_dummy_micro, opt_est_gnb_micro, opt_est_knn_micro)"
      ],
      "execution_count": 153,
      "outputs": [
        {
          "output_type": "stream",
          "text": [
            "                 Dummy       GNB       KNN\n",
            "Fit Time      0.052881  0.030373  3.008362\n",
            "Predict Time  0.002051  0.003458  0.109082\n",
            "Total Time    0.054932  0.033830  3.117444\n"
          ],
          "name": "stdout"
        }
      ]
    },
    {
      "cell_type": "code",
      "metadata": {
        "id": "_V95MaB9GP7J",
        "colab": {
          "base_uri": "https://localhost:8080/",
          "height": 366
        },
        "outputId": "8090f196-8e7e-4eb0-fb33-dddcb025d788"
      },
      "source": [
        "plotMetrics(dummy_micro, gnb_micro, knn_micro,\n",
        "            opt_est_dummy_micro, opt_est_gnb_micro, opt_est_knn_micro, \"micro\")"
      ],
      "execution_count": 154,
      "outputs": [
        {
          "output_type": "display_data",
          "data": {
            "image/png": "[encoded data removed]",
            "text/plain": [
              "<Figure size 432x288 with 1 Axes>"
            ]
          },
          "metadata": {
            "tags": [],
            "needs_background": "light"
          }
        }
      ]
    },
    {
      "cell_type": "code",
      "metadata": {
        "id": "knXJgKi3LgSL",
        "colab": {
          "base_uri": "https://localhost:8080/"
        },
        "outputId": "7135b349-75ae-49e1-9d66-c6bb73044483"
      },
      "source": [
        "printPerformanceProgress(f1_micro_scores, dummy_micro, gnb_micro, knn_micro,\n",
        "                         opt_est_dummy_micro, opt_est_gnb_micro, opt_est_knn_micro)"
      ],
      "execution_count": 155,
      "outputs": [
        {
          "output_type": "stream",
          "text": [
            "              Dummy       GNB       KNN\n",
            "Default    0.492754  0.833333  0.702899\n",
            "Optimized  0.565217  0.840580  0.869565\n"
          ],
          "name": "stdout"
        }
      ]
    },
    {
      "cell_type": "markdown",
      "metadata": {
        "id": "72m04xpxEDJW"
      },
      "source": [
        "###Σχολιασμός αποτελεσμάτων"
      ]
    },
    {
      "cell_type": "markdown",
      "metadata": {
        "id": "E93Uww5vMf_9"
      },
      "source": [
        "#Μεγάλο Dataset"
      ]
    },
    {
      "cell_type": "markdown",
      "metadata": {
        "id": "M_UcSR06YtXm"
      },
      "source": [
        "Αρχικά κατεβάζουμε το συμπιεσμένο αρχείο, το αποθηκεύουμε ως data.zip και στη συνέχεια το αποσυμπιέζουμε, οπότε παράγονται 5 αρχείο τύπου .arff"
      ]
    },
    {
      "cell_type": "code",
      "metadata": {
        "id": "0UTSjkZzGS01",
        "colab": {
          "base_uri": "https://localhost:8080/"
        },
        "outputId": "936ea3a1-ee99-47c4-bf24-ad68645ba384"
      },
      "source": [
        "download(\"http://archive.ics.uci.edu/ml/machine-learning-databases/00365/data.zip\", 'data.zip')\n",
        "!unzip data.zip"
      ],
      "execution_count": 182,
      "outputs": [
        {
          "output_type": "stream",
          "text": [
            "Archive:  data.zip\n",
            "replace 1year.arff? [y]es, [n]o, [A]ll, [N]one, [r]ename: A\n",
            "  inflating: 1year.arff              \n",
            "  inflating: 2year.arff              \n",
            "  inflating: 3year.arff              \n",
            "  inflating: 4year.arff              \n",
            "  inflating: 5year.arff              \n"
          ],
          "name": "stdout"
        }
      ]
    },
    {
      "cell_type": "markdown",
      "metadata": {
        "id": "2VT06Xa8Y7c1"
      },
      "source": [
        "Για να μετατρέψουμε τα αρχεία σε .csv, αρκεί να κρατήσουμε μόνο τις γραμμές που δεν ξεκινάνε με “%”, “@” και δεν είναι κενές.\n",
        "Επομένως, για καθένα από τα .arff αρχεία εκτελούμε την εντολή:\n",
        "```\n",
        "cat ${file} | grep -ve \"^@\\|^%\" | grep -v \"^[[:space:]]*$\" >> data.csv\n",
        "```\n",
        "Η εντολή αυτή θα τυπώσει μόνο τις επιθυμητές γραμμές και θα ανακατευθύνει το αποτέλεσμα στο αρχείο data.csv, προσθέτοντάς το στο τέλος του.\n",
        "\n",
        "Για να πραγματοποιήσουμε αυτήν τη διαδικασία για όλα τα .arff εκτελούμε τα παρακάτω:"
      ]
    },
    {
      "cell_type": "code",
      "metadata": {
        "id": "BL6_s3nxQjZH",
        "colab": {
          "base_uri": "https://localhost:8080/"
        },
        "outputId": "96af67de-c390-4751-d48a-070889920fb0"
      },
      "source": [
        "%%shell\n",
        "truncate -s 0 data.csv  #create or empty the data.csv file\n",
        "for file in ./*.arff    #for every .arff file in the current directory\n",
        "do\n",
        "    echo ${file}        #print file name for checking the progress purposes\n",
        "    cat ${file} | grep -ve \"^@\\|^%\" | grep -v \"^[[:space:]]*$\" >> data.csv  #print the lines with the samples in the end of data.csv file\n",
        "done\n",
        "wc -l data.csv          #check the length of the final file"
      ],
      "execution_count": 183,
      "outputs": [
        {
          "output_type": "stream",
          "text": [
            "./1year.arff\n",
            "./2year.arff\n",
            "./3year.arff\n",
            "./4year.arff\n",
            "./5year.arff\n",
            "43405 data.csv\n"
          ],
          "name": "stdout"
        },
        {
          "output_type": "execute_result",
          "data": {
            "text/plain": [
              ""
            ]
          },
          "metadata": {
            "tags": []
          },
          "execution_count": 183
        }
      ]
    },
    {
      "cell_type": "code",
      "metadata": {
        "id": "-7GN32b9XOkW",
        "colab": {
          "base_uri": "https://localhost:8080/",
          "height": 479
        },
        "outputId": "4469c79b-0787-4fef-89ff-c0f8699b52bf"
      },
      "source": [
        "import pandas as pd\n",
        "\n",
        "big_df = pd.read_csv(\"data.csv\", header=None)\n",
        "# print df\n",
        "big_df"
      ],
      "execution_count": 184,
      "outputs": [
        {
          "output_type": "stream",
          "text": [
            "/usr/local/lib/python3.6/dist-packages/IPython/core/interactiveshell.py:2718: DtypeWarning: Columns (0,1,2,5,6,8,9,10,12,13,17,18,19,21,22,24,28,29,30,34,35,37,38,41,42,43,47,48,50,54,55,56,57,58,61) have mixed types.Specify dtype option on import or set low_memory=False.\n",
            "  interactivity=interactivity, compiler=compiler, result=result)\n"
          ],
          "name": "stderr"
        },
        {
          "output_type": "execute_result",
          "data": {
            "text/html": [
              "<div>\n",
              "<style scoped>\n",
              "    .dataframe tbody tr th:only-of-type {\n",
              "        vertical-align: middle;\n",
              "    }\n",
              "\n",
              "    .dataframe tbody tr th {\n",
              "        vertical-align: top;\n",
              "    }\n",
              "\n",
              "    .dataframe thead th {\n",
              "        text-align: right;\n",
              "    }\n",
              "</style>\n",
              "<table border=\"1\" class=\"dataframe\">\n",
              "  <thead>\n",
              "    <tr style=\"text-align: right;\">\n",
              "      <th></th>\n",
              "      <th>0</th>\n",
              "      <th>1</th>\n",
              "      <th>2</th>\n",
              "      <th>3</th>\n",
              "      <th>4</th>\n",
              "      <th>5</th>\n",
              "      <th>6</th>\n",
              "      <th>7</th>\n",
              "      <th>8</th>\n",
              "      <th>9</th>\n",
              "      <th>10</th>\n",
              "      <th>11</th>\n",
              "      <th>12</th>\n",
              "      <th>13</th>\n",
              "      <th>14</th>\n",
              "      <th>15</th>\n",
              "      <th>16</th>\n",
              "      <th>17</th>\n",
              "      <th>18</th>\n",
              "      <th>19</th>\n",
              "      <th>20</th>\n",
              "      <th>21</th>\n",
              "      <th>22</th>\n",
              "      <th>23</th>\n",
              "      <th>24</th>\n",
              "      <th>25</th>\n",
              "      <th>26</th>\n",
              "      <th>27</th>\n",
              "      <th>28</th>\n",
              "      <th>29</th>\n",
              "      <th>30</th>\n",
              "      <th>31</th>\n",
              "      <th>32</th>\n",
              "      <th>33</th>\n",
              "      <th>34</th>\n",
              "      <th>35</th>\n",
              "      <th>36</th>\n",
              "      <th>37</th>\n",
              "      <th>38</th>\n",
              "      <th>39</th>\n",
              "      <th>40</th>\n",
              "      <th>41</th>\n",
              "      <th>42</th>\n",
              "      <th>43</th>\n",
              "      <th>44</th>\n",
              "      <th>45</th>\n",
              "      <th>46</th>\n",
              "      <th>47</th>\n",
              "      <th>48</th>\n",
              "      <th>49</th>\n",
              "      <th>50</th>\n",
              "      <th>51</th>\n",
              "      <th>52</th>\n",
              "      <th>53</th>\n",
              "      <th>54</th>\n",
              "      <th>55</th>\n",
              "      <th>56</th>\n",
              "      <th>57</th>\n",
              "      <th>58</th>\n",
              "      <th>59</th>\n",
              "      <th>60</th>\n",
              "      <th>61</th>\n",
              "      <th>62</th>\n",
              "      <th>63</th>\n",
              "      <th>64</th>\n",
              "    </tr>\n",
              "  </thead>\n",
              "  <tbody>\n",
              "    <tr>\n",
              "      <th>0</th>\n",
              "      <td>0.20055</td>\n",
              "      <td>0.37951</td>\n",
              "      <td>0.39641</td>\n",
              "      <td>2.0472</td>\n",
              "      <td>32.351</td>\n",
              "      <td>0.38825</td>\n",
              "      <td>0.24976</td>\n",
              "      <td>1.3305</td>\n",
              "      <td>1.1389</td>\n",
              "      <td>0.50494</td>\n",
              "      <td>0.24976</td>\n",
              "      <td>0.6598</td>\n",
              "      <td>0.1666</td>\n",
              "      <td>0.24976</td>\n",
              "      <td>497.42</td>\n",
              "      <td>0.73378</td>\n",
              "      <td>2.6349</td>\n",
              "      <td>0.24976</td>\n",
              "      <td>0.14942</td>\n",
              "      <td>43.37</td>\n",
              "      <td>1.2479</td>\n",
              "      <td>0.21402</td>\n",
              "      <td>0.11998</td>\n",
              "      <td>0.47706</td>\n",
              "      <td>0.50494</td>\n",
              "      <td>0.60411</td>\n",
              "      <td>1.4582</td>\n",
              "      <td>1.7615</td>\n",
              "      <td>5.9443</td>\n",
              "      <td>0.11788</td>\n",
              "      <td>0.14942</td>\n",
              "      <td>94.14</td>\n",
              "      <td>3.8772</td>\n",
              "      <td>0.56393</td>\n",
              "      <td>0.21402</td>\n",
              "      <td>1.741</td>\n",
              "      <td>593.27</td>\n",
              "      <td>0.50591</td>\n",
              "      <td>0.12804</td>\n",
              "      <td>0.66295</td>\n",
              "      <td>0.051402</td>\n",
              "      <td>0.12804</td>\n",
              "      <td>114.42</td>\n",
              "      <td>71.05</td>\n",
              "      <td>1.0097</td>\n",
              "      <td>1.5225</td>\n",
              "      <td>49.394</td>\n",
              "      <td>0.1853</td>\n",
              "      <td>0.11085</td>\n",
              "      <td>2.042</td>\n",
              "      <td>0.37854</td>\n",
              "      <td>0.25792</td>\n",
              "      <td>2.2437</td>\n",
              "      <td>2.248</td>\n",
              "      <td>348690</td>\n",
              "      <td>0.12196</td>\n",
              "      <td>0.39718</td>\n",
              "      <td>0.87804</td>\n",
              "      <td>0.001924</td>\n",
              "      <td>8.416</td>\n",
              "      <td>5.1372</td>\n",
              "      <td>82.658</td>\n",
              "      <td>4.4158</td>\n",
              "      <td>7.4277</td>\n",
              "      <td>0</td>\n",
              "    </tr>\n",
              "    <tr>\n",
              "      <th>1</th>\n",
              "      <td>0.20912</td>\n",
              "      <td>0.49988</td>\n",
              "      <td>0.47225</td>\n",
              "      <td>1.9447</td>\n",
              "      <td>14.786</td>\n",
              "      <td>0</td>\n",
              "      <td>0.25834</td>\n",
              "      <td>0.99601</td>\n",
              "      <td>1.6996</td>\n",
              "      <td>0.49788</td>\n",
              "      <td>0.26114</td>\n",
              "      <td>0.5168</td>\n",
              "      <td>0.15835</td>\n",
              "      <td>0.25834</td>\n",
              "      <td>677.96</td>\n",
              "      <td>0.53838</td>\n",
              "      <td>2.0005</td>\n",
              "      <td>0.25834</td>\n",
              "      <td>0.152</td>\n",
              "      <td>87.981</td>\n",
              "      <td>1.4293</td>\n",
              "      <td>0.24806</td>\n",
              "      <td>0.12304</td>\n",
              "      <td>?</td>\n",
              "      <td>0.39542</td>\n",
              "      <td>0.43992</td>\n",
              "      <td>88.444</td>\n",
              "      <td>16.946</td>\n",
              "      <td>3.6884</td>\n",
              "      <td>0.26969</td>\n",
              "      <td>0.152</td>\n",
              "      <td>122.17</td>\n",
              "      <td>2.9876</td>\n",
              "      <td>2.9876</td>\n",
              "      <td>0.20616</td>\n",
              "      <td>1.6996</td>\n",
              "      <td>?</td>\n",
              "      <td>0.49788</td>\n",
              "      <td>0.1213</td>\n",
              "      <td>0.086422</td>\n",
              "      <td>0.064371</td>\n",
              "      <td>0.14595</td>\n",
              "      <td>199.49</td>\n",
              "      <td>111.51</td>\n",
              "      <td>0.51045</td>\n",
              "      <td>1.1252</td>\n",
              "      <td>100.13</td>\n",
              "      <td>0.23727</td>\n",
              "      <td>0.13961</td>\n",
              "      <td>1.9447</td>\n",
              "      <td>0.49988</td>\n",
              "      <td>0.33472</td>\n",
              "      <td>17.866</td>\n",
              "      <td>17.866</td>\n",
              "      <td>2304.6</td>\n",
              "      <td>0.1213</td>\n",
              "      <td>0.42002</td>\n",
              "      <td>0.853</td>\n",
              "      <td>0</td>\n",
              "      <td>4.1486</td>\n",
              "      <td>3.2732</td>\n",
              "      <td>107.35</td>\n",
              "      <td>3.4</td>\n",
              "      <td>60.987</td>\n",
              "      <td>0</td>\n",
              "    </tr>\n",
              "    <tr>\n",
              "      <th>2</th>\n",
              "      <td>0.24866</td>\n",
              "      <td>0.69592</td>\n",
              "      <td>0.26713</td>\n",
              "      <td>1.5548</td>\n",
              "      <td>-1.1523</td>\n",
              "      <td>0</td>\n",
              "      <td>0.30906</td>\n",
              "      <td>0.43695</td>\n",
              "      <td>1.309</td>\n",
              "      <td>0.30408</td>\n",
              "      <td>0.31258</td>\n",
              "      <td>0.64184</td>\n",
              "      <td>0.24435</td>\n",
              "      <td>0.30906</td>\n",
              "      <td>794.16</td>\n",
              "      <td>0.45961</td>\n",
              "      <td>1.4369</td>\n",
              "      <td>0.30906</td>\n",
              "      <td>0.2361</td>\n",
              "      <td>73.133</td>\n",
              "      <td>1.4283</td>\n",
              "      <td>0.3026</td>\n",
              "      <td>0.18996</td>\n",
              "      <td>?</td>\n",
              "      <td>0.28932</td>\n",
              "      <td>0.37282</td>\n",
              "      <td>86.011</td>\n",
              "      <td>1.0627</td>\n",
              "      <td>4.3749</td>\n",
              "      <td>0.41929</td>\n",
              "      <td>0.23815</td>\n",
              "      <td>176.93</td>\n",
              "      <td>2.063</td>\n",
              "      <td>1.4274</td>\n",
              "      <td>0.31565</td>\n",
              "      <td>1.309</td>\n",
              "      <td>2.3019</td>\n",
              "      <td>0.51537</td>\n",
              "      <td>0.24114</td>\n",
              "      <td>0.32202</td>\n",
              "      <td>0.07402</td>\n",
              "      <td>0.23117</td>\n",
              "      <td>165.51</td>\n",
              "      <td>92.381</td>\n",
              "      <td>0.94807</td>\n",
              "      <td>1.0101</td>\n",
              "      <td>96.372</td>\n",
              "      <td>0.29181</td>\n",
              "      <td>0.22293</td>\n",
              "      <td>1.0758</td>\n",
              "      <td>0.48152</td>\n",
              "      <td>0.48474</td>\n",
              "      <td>1.2098</td>\n",
              "      <td>2.0504</td>\n",
              "      <td>6332.7</td>\n",
              "      <td>0.24114</td>\n",
              "      <td>0.81774</td>\n",
              "      <td>0.76599</td>\n",
              "      <td>0.69484</td>\n",
              "      <td>4.9909</td>\n",
              "      <td>3.951</td>\n",
              "      <td>134.27</td>\n",
              "      <td>2.7185</td>\n",
              "      <td>5.2078</td>\n",
              "      <td>0</td>\n",
              "    </tr>\n",
              "    <tr>\n",
              "      <th>3</th>\n",
              "      <td>0.081483</td>\n",
              "      <td>0.30734</td>\n",
              "      <td>0.45879</td>\n",
              "      <td>2.4928</td>\n",
              "      <td>51.952</td>\n",
              "      <td>0.14988</td>\n",
              "      <td>0.092704</td>\n",
              "      <td>1.8661</td>\n",
              "      <td>1.0571</td>\n",
              "      <td>0.57353</td>\n",
              "      <td>0.092704</td>\n",
              "      <td>0.30163</td>\n",
              "      <td>0.094257</td>\n",
              "      <td>0.092704</td>\n",
              "      <td>917.01</td>\n",
              "      <td>0.39803</td>\n",
              "      <td>3.2537</td>\n",
              "      <td>0.092704</td>\n",
              "      <td>0.071428</td>\n",
              "      <td>79.788</td>\n",
              "      <td>1.5069</td>\n",
              "      <td>0.1155</td>\n",
              "      <td>0.062782</td>\n",
              "      <td>0.17193</td>\n",
              "      <td>0.57353</td>\n",
              "      <td>0.36152</td>\n",
              "      <td>0.94076</td>\n",
              "      <td>1.9618</td>\n",
              "      <td>4.6511</td>\n",
              "      <td>0.14343</td>\n",
              "      <td>0.071428</td>\n",
              "      <td>91.37</td>\n",
              "      <td>3.9948</td>\n",
              "      <td>0.37581</td>\n",
              "      <td>0.1155</td>\n",
              "      <td>1.3562</td>\n",
              "      <td>?</td>\n",
              "      <td>0.57353</td>\n",
              "      <td>0.088995</td>\n",
              "      <td>0.40139</td>\n",
              "      <td>0.069622</td>\n",
              "      <td>0.088995</td>\n",
              "      <td>180.77</td>\n",
              "      <td>100.98</td>\n",
              "      <td>0.2872</td>\n",
              "      <td>1.5696</td>\n",
              "      <td>84.344</td>\n",
              "      <td>0.085874</td>\n",
              "      <td>0.066165</td>\n",
              "      <td>2.4928</td>\n",
              "      <td>0.30734</td>\n",
              "      <td>0.25033</td>\n",
              "      <td>2.4524</td>\n",
              "      <td>2.4524</td>\n",
              "      <td>20545</td>\n",
              "      <td>0.054015</td>\n",
              "      <td>0.14207</td>\n",
              "      <td>0.94598</td>\n",
              "      <td>0</td>\n",
              "      <td>4.5746</td>\n",
              "      <td>3.6147</td>\n",
              "      <td>86.435</td>\n",
              "      <td>4.2228</td>\n",
              "      <td>5.5497</td>\n",
              "      <td>0</td>\n",
              "    </tr>\n",
              "    <tr>\n",
              "      <th>4</th>\n",
              "      <td>0.18732</td>\n",
              "      <td>0.61323</td>\n",
              "      <td>0.2296</td>\n",
              "      <td>1.4063</td>\n",
              "      <td>-7.3128</td>\n",
              "      <td>0.18732</td>\n",
              "      <td>0.18732</td>\n",
              "      <td>0.6307</td>\n",
              "      <td>1.1559</td>\n",
              "      <td>0.38677</td>\n",
              "      <td>0.18732</td>\n",
              "      <td>0.33147</td>\n",
              "      <td>0.12182</td>\n",
              "      <td>0.18732</td>\n",
              "      <td>1133.2</td>\n",
              "      <td>0.32211</td>\n",
              "      <td>1.6307</td>\n",
              "      <td>0.18732</td>\n",
              "      <td>0.11553</td>\n",
              "      <td>57.045</td>\n",
              "      <td>?</td>\n",
              "      <td>0.19832</td>\n",
              "      <td>0.11553</td>\n",
              "      <td>0.18732</td>\n",
              "      <td>0.38677</td>\n",
              "      <td>0.32211</td>\n",
              "      <td>1.4138</td>\n",
              "      <td>1.1184</td>\n",
              "      <td>4.1424</td>\n",
              "      <td>0.27884</td>\n",
              "      <td>0.11553</td>\n",
              "      <td>147.04</td>\n",
              "      <td>2.4823</td>\n",
              "      <td>0.3234</td>\n",
              "      <td>0.19832</td>\n",
              "      <td>1.6278</td>\n",
              "      <td>11.247</td>\n",
              "      <td>0.43489</td>\n",
              "      <td>0.12231</td>\n",
              "      <td>0.29304</td>\n",
              "      <td>0.09668</td>\n",
              "      <td>0.12231</td>\n",
              "      <td>141.62</td>\n",
              "      <td>84.574</td>\n",
              "      <td>0.73919</td>\n",
              "      <td>0.95787</td>\n",
              "      <td>65.936</td>\n",
              "      <td>0.18811</td>\n",
              "      <td>0.11601</td>\n",
              "      <td>1.2959</td>\n",
              "      <td>0.56511</td>\n",
              "      <td>0.40285</td>\n",
              "      <td>1.8839</td>\n",
              "      <td>2.1184</td>\n",
              "      <td>3186.6</td>\n",
              "      <td>0.13485</td>\n",
              "      <td>0.48431</td>\n",
              "      <td>0.86515</td>\n",
              "      <td>0.12444</td>\n",
              "      <td>6.3985</td>\n",
              "      <td>4.3158</td>\n",
              "      <td>127.21</td>\n",
              "      <td>2.8692</td>\n",
              "      <td>7.898</td>\n",
              "      <td>0</td>\n",
              "    </tr>\n",
              "    <tr>\n",
              "      <th>...</th>\n",
              "      <td>...</td>\n",
              "      <td>...</td>\n",
              "      <td>...</td>\n",
              "      <td>...</td>\n",
              "      <td>...</td>\n",
              "      <td>...</td>\n",
              "      <td>...</td>\n",
              "      <td>...</td>\n",
              "      <td>...</td>\n",
              "      <td>...</td>\n",
              "      <td>...</td>\n",
              "      <td>...</td>\n",
              "      <td>...</td>\n",
              "      <td>...</td>\n",
              "      <td>...</td>\n",
              "      <td>...</td>\n",
              "      <td>...</td>\n",
              "      <td>...</td>\n",
              "      <td>...</td>\n",
              "      <td>...</td>\n",
              "      <td>...</td>\n",
              "      <td>...</td>\n",
              "      <td>...</td>\n",
              "      <td>...</td>\n",
              "      <td>...</td>\n",
              "      <td>...</td>\n",
              "      <td>...</td>\n",
              "      <td>...</td>\n",
              "      <td>...</td>\n",
              "      <td>...</td>\n",
              "      <td>...</td>\n",
              "      <td>...</td>\n",
              "      <td>...</td>\n",
              "      <td>...</td>\n",
              "      <td>...</td>\n",
              "      <td>...</td>\n",
              "      <td>...</td>\n",
              "      <td>...</td>\n",
              "      <td>...</td>\n",
              "      <td>...</td>\n",
              "      <td>...</td>\n",
              "      <td>...</td>\n",
              "      <td>...</td>\n",
              "      <td>...</td>\n",
              "      <td>...</td>\n",
              "      <td>...</td>\n",
              "      <td>...</td>\n",
              "      <td>...</td>\n",
              "      <td>...</td>\n",
              "      <td>...</td>\n",
              "      <td>...</td>\n",
              "      <td>...</td>\n",
              "      <td>...</td>\n",
              "      <td>...</td>\n",
              "      <td>...</td>\n",
              "      <td>...</td>\n",
              "      <td>...</td>\n",
              "      <td>...</td>\n",
              "      <td>...</td>\n",
              "      <td>...</td>\n",
              "      <td>...</td>\n",
              "      <td>...</td>\n",
              "      <td>...</td>\n",
              "      <td>...</td>\n",
              "      <td>...</td>\n",
              "    </tr>\n",
              "    <tr>\n",
              "      <th>43400</th>\n",
              "      <td>0.012898</td>\n",
              "      <td>0.70621</td>\n",
              "      <td>0.038857</td>\n",
              "      <td>1.1722</td>\n",
              "      <td>-18.907</td>\n",
              "      <td>0</td>\n",
              "      <td>0.013981</td>\n",
              "      <td>0.416</td>\n",
              "      <td>1.6768</td>\n",
              "      <td>0.29379</td>\n",
              "      <td>0.041583</td>\n",
              "      <td>0.061959</td>\n",
              "      <td>0.023622</td>\n",
              "      <td>0.013981</td>\n",
              "      <td>6507.6</td>\n",
              "      <td>0.056089</td>\n",
              "      <td>1.416</td>\n",
              "      <td>0.013981</td>\n",
              "      <td>0.008338</td>\n",
              "      <td>27.092</td>\n",
              "      <td>1.033</td>\n",
              "      <td>0.040401</td>\n",
              "      <td>0.007692</td>\n",
              "      <td>0.90184</td>\n",
              "      <td>0.083706</td>\n",
              "      <td>0.054556</td>\n",
              "      <td>1.4637</td>\n",
              "      <td>0.052831</td>\n",
              "      <td>4.9667</td>\n",
              "      <td>0.41853</td>\n",
              "      <td>0.024762</td>\n",
              "      <td>50.128</td>\n",
              "      <td>7.4</td>\n",
              "      <td>2.3644</td>\n",
              "      <td>0.033819</td>\n",
              "      <td>1.6768</td>\n",
              "      <td>0.3785</td>\n",
              "      <td>0.66377</td>\n",
              "      <td>0.020169</td>\n",
              "      <td>0.022858</td>\n",
              "      <td>0.35651</td>\n",
              "      <td>0.024093</td>\n",
              "      <td>56.452</td>\n",
              "      <td>29.36</td>\n",
              "      <td>0.10363</td>\n",
              "      <td>0.62061</td>\n",
              "      <td>27.207</td>\n",
              "      <td>0.014771</td>\n",
              "      <td>0.008809</td>\n",
              "      <td>0.37454</td>\n",
              "      <td>0.22564</td>\n",
              "      <td>0.13514</td>\n",
              "      <td>0.39944</td>\n",
              "      <td>0.90248</td>\n",
              "      <td>3599.1</td>\n",
              "      <td>0.020169</td>\n",
              "      <td>0.043904</td>\n",
              "      <td>1.0122</td>\n",
              "      <td>1.2594</td>\n",
              "      <td>13.472</td>\n",
              "      <td>12.432</td>\n",
              "      <td>49.117</td>\n",
              "      <td>7.4313</td>\n",
              "      <td>2.2799</td>\n",
              "      <td>1</td>\n",
              "    </tr>\n",
              "    <tr>\n",
              "      <th>43401</th>\n",
              "      <td>-0.57805</td>\n",
              "      <td>0.96702</td>\n",
              "      <td>-0.80085</td>\n",
              "      <td>0.16576</td>\n",
              "      <td>-67.365</td>\n",
              "      <td>-0.57805</td>\n",
              "      <td>-0.57805</td>\n",
              "      <td>-0.40334</td>\n",
              "      <td>0.93979</td>\n",
              "      <td>-0.39004</td>\n",
              "      <td>-0.57805</td>\n",
              "      <td>-0.60216</td>\n",
              "      <td>-0.11022</td>\n",
              "      <td>-0.57805</td>\n",
              "      <td>-742.28</td>\n",
              "      <td>-0.49173</td>\n",
              "      <td>1.0341</td>\n",
              "      <td>-0.57805</td>\n",
              "      <td>-0.13399</td>\n",
              "      <td>3.2965</td>\n",
              "      <td>0.6477</td>\n",
              "      <td>-0.53492</td>\n",
              "      <td>-0.13399</td>\n",
              "      <td>-0.57805</td>\n",
              "      <td>-0.39004</td>\n",
              "      <td>-0.49173</td>\n",
              "      <td>?</td>\n",
              "      <td>-0.9524</td>\n",
              "      <td>4.0622</td>\n",
              "      <td>0.21864</td>\n",
              "      <td>-0.13399</td>\n",
              "      <td>76.33</td>\n",
              "      <td>4.7819</td>\n",
              "      <td>-0.55316</td>\n",
              "      <td>-0.53492</td>\n",
              "      <td>4.3912</td>\n",
              "      <td>17.036</td>\n",
              "      <td>-0.38299</td>\n",
              "      <td>-0.12399</td>\n",
              "      <td>0.024771</td>\n",
              "      <td>-0.073529</td>\n",
              "      <td>-0.12399</td>\n",
              "      <td>11.451</td>\n",
              "      <td>8.1548</td>\n",
              "      <td>-14.836</td>\n",
              "      <td>0.12517</td>\n",
              "      <td>3.098</td>\n",
              "      <td>-0.63746</td>\n",
              "      <td>-0.14776</td>\n",
              "      <td>0.16455</td>\n",
              "      <td>0.95997</td>\n",
              "      <td>0.20912</td>\n",
              "      <td>-0.46385</td>\n",
              "      <td>-0.45546</td>\n",
              "      <td>-9242.1</td>\n",
              "      <td>-0.064073</td>\n",
              "      <td>1.482</td>\n",
              "      <td>1.0641</td>\n",
              "      <td>-0.018084</td>\n",
              "      <td>110.72</td>\n",
              "      <td>44.759</td>\n",
              "      <td>81.22</td>\n",
              "      <td>4.494</td>\n",
              "      <td>5.1305</td>\n",
              "      <td>1</td>\n",
              "    </tr>\n",
              "    <tr>\n",
              "      <th>43402</th>\n",
              "      <td>-0.17905</td>\n",
              "      <td>1.2553</td>\n",
              "      <td>-0.27599</td>\n",
              "      <td>0.74554</td>\n",
              "      <td>-120.44</td>\n",
              "      <td>-0.17905</td>\n",
              "      <td>-0.15493</td>\n",
              "      <td>-0.26018</td>\n",
              "      <td>1.1749</td>\n",
              "      <td>-0.32659</td>\n",
              "      <td>-0.15493</td>\n",
              "      <td>-0.14284</td>\n",
              "      <td>-0.07294</td>\n",
              "      <td>-0.15493</td>\n",
              "      <td>-3298.2</td>\n",
              "      <td>-0.11067</td>\n",
              "      <td>0.79665</td>\n",
              "      <td>-0.15493</td>\n",
              "      <td>-0.08135</td>\n",
              "      <td>37.046</td>\n",
              "      <td>0.83104</td>\n",
              "      <td>0.1767</td>\n",
              "      <td>-0.094015</td>\n",
              "      <td>-0.15493</td>\n",
              "      <td>-0.32659</td>\n",
              "      <td>-0.12988</td>\n",
              "      <td>?</td>\n",
              "      <td>-1.4423</td>\n",
              "      <td>5.3244</td>\n",
              "      <td>0.65813</td>\n",
              "      <td>-0.08135</td>\n",
              "      <td>244.23</td>\n",
              "      <td>1.4945</td>\n",
              "      <td>0.14077</td>\n",
              "      <td>0.1767</td>\n",
              "      <td>1.9515</td>\n",
              "      <td>3.6065</td>\n",
              "      <td>-0.15597</td>\n",
              "      <td>0.09278</td>\n",
              "      <td>0.064095</td>\n",
              "      <td>0.21414</td>\n",
              "      <td>0.09278</td>\n",
              "      <td>141.65</td>\n",
              "      <td>104.61</td>\n",
              "      <td>-0.9263</td>\n",
              "      <td>0.56733</td>\n",
              "      <td>43.526</td>\n",
              "      <td>0.16068</td>\n",
              "      <td>0.08437</td>\n",
              "      <td>0.64421</td>\n",
              "      <td>1.0846</td>\n",
              "      <td>0.66913</td>\n",
              "      <td>-1.7067</td>\n",
              "      <td>-0.81508</td>\n",
              "      <td>-58253</td>\n",
              "      <td>0.14888</td>\n",
              "      <td>0.54824</td>\n",
              "      <td>0.85112</td>\n",
              "      <td>-0.52243</td>\n",
              "      <td>9.8526</td>\n",
              "      <td>3.4892</td>\n",
              "      <td>207.87</td>\n",
              "      <td>1.7559</td>\n",
              "      <td>9.9527</td>\n",
              "      <td>1</td>\n",
              "    </tr>\n",
              "    <tr>\n",
              "      <th>43403</th>\n",
              "      <td>-0.10886</td>\n",
              "      <td>0.74394</td>\n",
              "      <td>0.015449</td>\n",
              "      <td>1.0878</td>\n",
              "      <td>-17.003</td>\n",
              "      <td>-0.10886</td>\n",
              "      <td>-0.10918</td>\n",
              "      <td>0.12531</td>\n",
              "      <td>0.84516</td>\n",
              "      <td>0.093224</td>\n",
              "      <td>-0.10918</td>\n",
              "      <td>-0.62038</td>\n",
              "      <td>-0.065652</td>\n",
              "      <td>-0.10918</td>\n",
              "      <td>-5352.1</td>\n",
              "      <td>-0.068197</td>\n",
              "      <td>1.3442</td>\n",
              "      <td>-0.10918</td>\n",
              "      <td>-0.14128</td>\n",
              "      <td>26.285</td>\n",
              "      <td>1.121</td>\n",
              "      <td>-0.09995</td>\n",
              "      <td>-0.14086</td>\n",
              "      <td>-0.10918</td>\n",
              "      <td>0.093224</td>\n",
              "      <td>-0.067762</td>\n",
              "      <td>?</td>\n",
              "      <td>0.019106</td>\n",
              "      <td>4.8555</td>\n",
              "      <td>0.95181</td>\n",
              "      <td>-0.14128</td>\n",
              "      <td>70.252</td>\n",
              "      <td>5.1956</td>\n",
              "      <td>-0.13435</td>\n",
              "      <td>-0.09995</td>\n",
              "      <td>0.83553</td>\n",
              "      <td>0.23908</td>\n",
              "      <td>0.66118</td>\n",
              "      <td>-0.12934</td>\n",
              "      <td>0.048976</td>\n",
              "      <td>-0.5893</td>\n",
              "      <td>-0.12934</td>\n",
              "      <td>86.348</td>\n",
              "      <td>60.064</td>\n",
              "      <td>-1.9561</td>\n",
              "      <td>0.77157</td>\n",
              "      <td>22.215</td>\n",
              "      <td>-0.1584</td>\n",
              "      <td>-0.20497</td>\n",
              "      <td>0.25733</td>\n",
              "      <td>0.17599</td>\n",
              "      <td>0.19247</td>\n",
              "      <td>0.1153</td>\n",
              "      <td>0.81772</td>\n",
              "      <td>1107.5</td>\n",
              "      <td>-0.1832</td>\n",
              "      <td>-1.1677</td>\n",
              "      <td>1.1832</td>\n",
              "      <td>6.0924</td>\n",
              "      <td>13.886</td>\n",
              "      <td>6.0769</td>\n",
              "      <td>83.122</td>\n",
              "      <td>4.3911</td>\n",
              "      <td>0.95575</td>\n",
              "      <td>1</td>\n",
              "    </tr>\n",
              "    <tr>\n",
              "      <th>43404</th>\n",
              "      <td>-0.10537</td>\n",
              "      <td>0.53629</td>\n",
              "      <td>-0.045578</td>\n",
              "      <td>0.91478</td>\n",
              "      <td>-56.068</td>\n",
              "      <td>-0.10537</td>\n",
              "      <td>-0.10994</td>\n",
              "      <td>0.8646</td>\n",
              "      <td>0.9504</td>\n",
              "      <td>0.46367</td>\n",
              "      <td>-0.10994</td>\n",
              "      <td>-0.20557</td>\n",
              "      <td>-0.066747</td>\n",
              "      <td>-0.10994</td>\n",
              "      <td>-2055.9</td>\n",
              "      <td>-0.17754</td>\n",
              "      <td>1.8647</td>\n",
              "      <td>-0.10994</td>\n",
              "      <td>-0.077072</td>\n",
              "      <td>47.199</td>\n",
              "      <td>0.71351</td>\n",
              "      <td>-0.082947</td>\n",
              "      <td>-0.073868</td>\n",
              "      <td>-0.10994</td>\n",
              "      <td>0.46367</td>\n",
              "      <td>-0.16902</td>\n",
              "      <td>?</td>\n",
              "      <td>-0.089234</td>\n",
              "      <td>3.9698</td>\n",
              "      <td>0.37528</td>\n",
              "      <td>-0.077072</td>\n",
              "      <td>130.06</td>\n",
              "      <td>2.8064</td>\n",
              "      <td>-0.15467</td>\n",
              "      <td>-0.082947</td>\n",
              "      <td>1.4481</td>\n",
              "      <td>205.69</td>\n",
              "      <td>0.46515</td>\n",
              "      <td>-0.058149</td>\n",
              "      <td>0.004456</td>\n",
              "      <td>-0.25846</td>\n",
              "      <td>-0.058149</td>\n",
              "      <td>124.57</td>\n",
              "      <td>77.374</td>\n",
              "      <td>-0.57124</td>\n",
              "      <td>0.56987</td>\n",
              "      <td>44.858</td>\n",
              "      <td>-0.097675</td>\n",
              "      <td>-0.068474</td>\n",
              "      <td>0.91225</td>\n",
              "      <td>0.53481</td>\n",
              "      <td>0.35632</td>\n",
              "      <td>0.90779</td>\n",
              "      <td>0.91069</td>\n",
              "      <td>-425.13</td>\n",
              "      <td>-0.052186</td>\n",
              "      <td>-0.22725</td>\n",
              "      <td>1.0522</td>\n",
              "      <td>0.003196</td>\n",
              "      <td>7.7332</td>\n",
              "      <td>4.7174</td>\n",
              "      <td>136.85</td>\n",
              "      <td>2.6672</td>\n",
              "      <td>2.7927</td>\n",
              "      <td>1</td>\n",
              "    </tr>\n",
              "  </tbody>\n",
              "</table>\n",
              "<p>43405 rows × 65 columns</p>\n",
              "</div>"
            ],
            "text/plain": [
              "             0        1          2        3   ...      61      62       63 64\n",
              "0       0.20055  0.37951    0.39641   2.0472  ...  82.658  4.4158   7.4277  0\n",
              "1       0.20912  0.49988    0.47225   1.9447  ...  107.35     3.4   60.987  0\n",
              "2       0.24866  0.69592    0.26713   1.5548  ...  134.27  2.7185   5.2078  0\n",
              "3      0.081483  0.30734    0.45879   2.4928  ...  86.435  4.2228   5.5497  0\n",
              "4       0.18732  0.61323     0.2296   1.4063  ...  127.21  2.8692    7.898  0\n",
              "...         ...      ...        ...      ...  ...     ...     ...      ... ..\n",
              "43400  0.012898  0.70621   0.038857   1.1722  ...  49.117  7.4313   2.2799  1\n",
              "43401  -0.57805  0.96702   -0.80085  0.16576  ...   81.22   4.494   5.1305  1\n",
              "43402  -0.17905   1.2553   -0.27599  0.74554  ...  207.87  1.7559   9.9527  1\n",
              "43403  -0.10886  0.74394   0.015449   1.0878  ...  83.122  4.3911  0.95575  1\n",
              "43404  -0.10537  0.53629  -0.045578  0.91478  ...  136.85  2.6672   2.7927  1\n",
              "\n",
              "[43405 rows x 65 columns]"
            ]
          },
          "metadata": {
            "tags": []
          },
          "execution_count": 184
        }
      ]
    },
    {
      "cell_type": "markdown",
      "metadata": {
        "id": "kxeKdpKDW9qR"
      },
      "source": [
        "##Βασικές Πληροφορίες"
      ]
    },
    {
      "cell_type": "markdown",
      "metadata": {
        "id": "7xUuWwFzYn9S"
      },
      "source": [
        "###Πληροφορίες dataset\n",
        "Το dataset, πρόκειται επομένως για ένα σύνολο **43405 δειγμάτων**, με κάθε δείγμα να έχει **64 χαρακτηριστικά**. Η τελευταία στήλη είναι η κλάση στην οποία ανήκει το δείγμα, δηλαδή δηλώνει αν πτώχευσε (1) ή όχι (0) η συγκεκριμένη εταιρεία.\n",
        "\n",
        "Πιο συγκεκριμένα, το dataset *Polish companies bankruptcy* αποτελεί ένα σύνολο δεδομένων σχετικά με πολωνικές εταιρείες που πτώχευσαν ή όχι παραθέτοντας αρκετά (64) χαρακτηριστικά τους. Τα στοιχεία έχουν συλλεγεί ως 5 διαφορετικά σύνολα που το καθένα αντιστοιχεί σε 5 διαφορετικά έτη. Παρολαυτά στα πλαίσια της παρούσας εργασίας τα 5 σύνολα δεδομένων θα αντιμετωπιστούν ως ένα ενιαίο σύνολο δεδομένων.\n",
        "\n",
        "Παρακάτω παρατίθεται μία σύντομη περιγραφή του καθενός από τα χαρακτηριστικά των δειγμάτων που υπάρχουν στο dataset:"
      ]
    },
    {
      "cell_type": "markdown",
      "metadata": {
        "id": "BuRmRk3SXd9y"
      },
      "source": [
        "| Attribute | Description                                                                                                         |\n",
        "|-----------|---------------------------------------------------------------------------------------------------------------------|\n",
        "| X1        | net profit / total assets                                                                                           |\n",
        "| X2        | total liabilities / total assets                                                                                    |\n",
        "| X3        | working capital / total assets                                                                                      |\n",
        "| X4        | current assets / short-term liabilities                                                                             |\n",
        "| X5        | [(cash + short-term securities + receivables - short-term liabilities) / (operating expenses - depreciation)] * 365 |\n",
        "| X6        | retained earnings / total assets                                                                                    |\n",
        "| X7        | EBIT / total assets                                                                                                 |\n",
        "| X8        | book value of equity / total liabilities                                                                            |\n",
        "| X9        | sales / total assets                                                                                                |\n",
        "| X10       | equity / total assets                                                                                               |\n",
        "| X11       | (gross profit + extraordinary items + financial expenses) / total assets                                            |\n",
        "| X12       | gross profit / short-term liabilities                                                                               |\n",
        "| X13       | (gross profit + depreciation) / sales                                                                               |\n",
        "| X14       | (gross profit + interest) / total assets                                                                            |\n",
        "| X15       | (total liabilities * 365) / (gross profit + depreciation)                                                           |\n",
        "| X16       | (gross profit + depreciation) / total liabilities                                                                   |\n",
        "| X17       | total assets / total liabilities                                                                                    |\n",
        "| X18       | gross profit / total assets                                                                                         |\n",
        "| X19       | gross profit / sales                                                                                                |\n",
        "| X20       | (inventory * 365) / sales                                                                                           |\n",
        "| X21       | sales (n) / sales (n-1)                                                                                             |\n",
        "| X22       | profit on operating activities / total assets                                                                       |\n",
        "| X23       | net profit / sales                                                                                                  |\n",
        "| X24       | gross profit (in 3 years) / total assets                                                                            |\n",
        "| X25       | (equity - share capital) / total assets                                                                             |\n",
        "| X26       | (net profit + depreciation) / total liabilities                                                                     |\n",
        "| X27       | profit on operating activities / financial expenses                                                                 |\n",
        "| X28       | working capital / fixed assets                                                                                      |\n",
        "| X29       | logarithm of total assets                                                                                           |\n",
        "| X30       | (total liabilities - cash) / sales                                                                                  |\n",
        "| X31       | (gross profit + interest) / sales                                                                                   |\n",
        "| X32       | (current liabilities * 365) / cost of products sold                                                                 |\n",
        "| X33       | operating expenses / short-term liabilities                                                                         |\n",
        "| X34       | operating expenses / total liabilities                                                                              |\n",
        "| X35       | profit on sales / total assets                                                                                      |\n",
        "| X36       | total sales / total assets                                                                                          |\n",
        "| X37       | (current assets - inventories) / long-term liabilities                                                              |\n",
        "| X38       | constant capital / total assets                                                                                     |\n",
        "| X39       | profit on sales / sales                                                                                             |\n",
        "| X40       | (current assets - inventory - receivables) / short-term liabilities                                                 |\n",
        "| X41       | total liabilities / ((profit on operating activities + depreciation) * (12/365))                                    |\n",
        "| X42       | profit on operating activities / sales                                                                              |\n",
        "| X43       | rotation receivables + inventory turnover in days                                                                   |\n",
        "| X44       | (receivables * 365) / sales                                                                                         |\n",
        "| X45       | net profit / inventory                                                                                              |\n",
        "| X46       | (current assets - inventory) / short-term liabilities                                                               |\n",
        "| X47       | (inventory * 365) / cost of products sold                                                                           |\n",
        "| X48       | EBITDA (profit on operating activities - depreciation) / total assets                                               |\n",
        "| X49       | EBITDA (profit on operating activities - depreciation) / sales                                                      |\n",
        "| X50       | current assets / total liabilities                                                                                  |\n",
        "| X51       | short-term liabilities / total assets                                                                               |\n",
        "| X52       | (short-term liabilities * 365) / cost of products sold)                                                             |\n",
        "| X53       | equity / fixed assets                                                                                               |\n",
        "| X54       | constant capital / fixed assets                                                                                     |\n",
        "| X55       | working capital                                                                                                     |\n",
        "| X56       | (sales - cost of products sold) / sales                                                                             |\n",
        "| X57       | (current assets - inventory - short-term liabilities) / (sales - gross profit - depreciation)                       |\n",
        "| X58       | total costs /total sales                                                                                            |\n",
        "| X59       | long-term liabilities / equity                                                                                      |\n",
        "| X60       | sales / inventory                                                                                                   |\n",
        "| X61       | sales / receivables                                                                                                 |\n",
        "| X62       | (short-term liabilities *365) / sales                                                                               |\n",
        "| X63       | sales / short-term liabilities                                                                                      |\n",
        "| X64       | sales / fixed assets                                                                                                |"
      ]
    },
    {
      "cell_type": "markdown",
      "metadata": {
        "id": "cPGd-9K_F3QC"
      },
      "source": [
        "###Περιγραφή χαρακτηριστικών του dataset\n",
        "\n",
        "Όπως είδαμε και προηγουμένως το σύνολο περιλαμβάνει **43405 δείγματα**, με κάθε δείγμα να έχει **64 χαρακτηριστικά**. **Όλα τα χαρακτηριστικά παίρνουν αριθμητικές, μη διατεταγμένες τιμές**.\n",
        "\n",
        "Επίσης, το dataset **δεν** περιλαμβάνει επικεφαλίδες και αρίθμηση γραμμών.\n",
        "\n",
        "Οι ετικέτες των κλάσεων, χρεωκοπεία ή όχι, **αναπαριστόνται με τιμές 1 και 0 αντίστοιχα και βρίσκονται στην τελευταία στήλη**.\n",
        "\n",
        "Οι μοναδικές αλλαγές των αρχικών αρχείων .arff που χρειάστηκε να γίνουν είναι η μετατροπή τους σε αρχεία .csv, που έγινε με όπως περιγράφηκε παραπάνω. Τέλος, τα δεδομένα από τα 5 συνολικά αρχεία συγκεντρώθηκαν σε ένα μόνο αρχείο, το **data.csv**, όπως περιγράφηκε παραπάνω."
      ]
    },
    {
      "cell_type": "markdown",
      "metadata": {
        "id": "tgoZJWICOWVY"
      },
      "source": [
        "###Εντοπισμός απουσιάζουσων τιμών χαρακτηριστικών\n",
        "\n",
        "Στη συνέχεια, θα εντοπίσουμε τις απουσιάζουσες τιμές. Αυτές δηλώνονται στο dataset με τον χαρακτήρα \"?\"."
      ]
    },
    {
      "cell_type": "code",
      "metadata": {
        "id": "a93epkQkOaVq",
        "colab": {
          "base_uri": "https://localhost:8080/"
        },
        "outputId": "585b01fe-b523-428d-b5be-491528f09b38"
      },
      "source": [
        "import numpy as np\n",
        "from sklearn.impute import SimpleImputer\n",
        "from collections import defaultdict\n",
        "\n",
        "# replace \"?\" with np.NaN\n",
        "big_df.replace('?',np.NaN,inplace=True)\n",
        "\n",
        "# calculate the number of samples with at least one missing attribute\n",
        "# big_df.isna() is the mask of big_df where each element is True if is NaN\n",
        "# num_of_incomplete_samples_big is the length of the list of samples that have at least one True(NaN)\n",
        "num_of_incomplete_samples_big = len([i for i in np.array(big_df.isna()) if True in i])\n",
        "\n",
        "print(\"The samples of the dataset that have at least one missing attribute are \", num_of_incomplete_samples_big)\n",
        "print(\"Which means that the \", num_of_incomplete_samples_big*100/big_df.shape[0], \"% of the samples have missing values.\", sep=\"\")"
      ],
      "execution_count": 185,
      "outputs": [
        {
          "output_type": "stream",
          "text": [
            "The samples of the dataset that have at least one missing attribute are  23438\n",
            "Which means that the 53.99838728257113% of the samples have missing values.\n"
          ],
          "name": "stdout"
        }
      ]
    },
    {
      "cell_type": "markdown",
      "metadata": {
        "id": "8UxusBvHPVMq"
      },
      "source": [
        "Σύμφωνα με τα αποτελέσματα, το **53.99% των δειγμάτων έχουν απουσιάζουσες τιμές**.\n",
        "\n",
        "Βλέπουμε, λοιπόν ότι ένα πολύ μεγάλο ποσοστό των δειγμάτων έχουν τουλάχιστον μία απουσιάζουσα τιμή, επομένως η διαγραφή των δειγμάτων με απουσιάζουσες τιμές είναι απαγορευτική.\n",
        "\n",
        "Στη συνέχεια, θα ελέγξουμε πόσες απουσιάζουσες τιμές έχει το κάθε χαρακτηριστικό:"
      ]
    },
    {
      "cell_type": "code",
      "metadata": {
        "id": "x1zBGJGSPz7y",
        "colab": {
          "base_uri": "https://localhost:8080/"
        },
        "outputId": "eb6b1662-20a3-4cee-d202-3cbaf08c63ea"
      },
      "source": [
        "# the list of the number of missing values for each attribute occurs by \n",
        "# summing the elements of the inverse of df, without df's last column.\n",
        "# df's last column is the class attribute and it is alwasy present.\n",
        "incomplete_attrs_big = [sum(i) for i in np.array(big_df.isna())[:,:big_df.shape[1]-1].T]\n",
        "print(\"For each attribute of the dataset, the number of the missing values is\")\n",
        "print(incomplete_attrs_big)"
      ],
      "execution_count": 186,
      "outputs": [
        {
          "output_type": "stream",
          "text": [
            "For each attribute of the dataset, the number of the missing values is\n",
            "[8, 8, 8, 134, 89, 8, 8, 94, 9, 8, 44, 134, 127, 8, 36, 95, 94, 8, 128, 127, 5854, 8, 127, 922, 8, 95, 2764, 812, 8, 127, 127, 368, 134, 94, 8, 8, 18984, 8, 127, 134, 754, 127, 127, 127, 2147, 135, 297, 9, 127, 94, 8, 301, 812, 812, 1, 127, 7, 84, 7, 2152, 102, 127, 134, 812]\n"
          ],
          "name": "stdout"
        }
      ]
    },
    {
      "cell_type": "code",
      "metadata": {
        "id": "lbFJ_U_bQNMe",
        "colab": {
          "base_uri": "https://localhost:8080/"
        },
        "outputId": "f72b0d85-b11a-470a-c142-d55bad13deee"
      },
      "source": [
        "# list of all attributes with more than 30% of their values missing\n",
        "incomplete_attributes = [i for i, x in enumerate(incomplete_attrs_big) if x/big_df.shape[0] > 0.3]\n",
        "print(incomplete_attributes)\n",
        "\n",
        "for x in incomplete_attributes:\n",
        "    print(incomplete_attrs_big[x]*100/big_df.shape[0], \"%\")\n",
        "# print(incomplete_attrs_big[incomplete_attribute]*100/big_df.shape[0], \"%\")"
      ],
      "execution_count": 187,
      "outputs": [
        {
          "output_type": "stream",
          "text": [
            "[36]\n",
            "43.73689667089045 %\n"
          ],
          "name": "stdout"
        }
      ]
    },
    {
      "cell_type": "markdown",
      "metadata": {
        "id": "2ulSghZPQe_-"
      },
      "source": [
        "Παρατηρούμε ότι το 43.7% των τιμών του χαρακτηριστικού 37ου (η αρίθμηση ξεκινάει από το 0) απουσιάζει. Με βάση αυτήν την παρατήρηση θα ήταν μαλλον καλύτερο να διαγραφεί εντελώς αυτή η στήλη ώστε να μην επηρεάσει αρνητικά.\n",
        "\n"
      ]
    },
    {
      "cell_type": "code",
      "metadata": {
        "id": "6KghVrIMSdXV",
        "colab": {
          "base_uri": "https://localhost:8080/",
          "height": 444
        },
        "outputId": "b1704dde-fc0c-47a2-b3fd-d3c6c82c12ac"
      },
      "source": [
        "big_df = big_df.drop(big_df.columns[[incomplete_attributes[0]]], axis=1)\n",
        "big_df"
      ],
      "execution_count": 188,
      "outputs": [
        {
          "output_type": "execute_result",
          "data": {
            "text/html": [
              "<div>\n",
              "<style scoped>\n",
              "    .dataframe tbody tr th:only-of-type {\n",
              "        vertical-align: middle;\n",
              "    }\n",
              "\n",
              "    .dataframe tbody tr th {\n",
              "        vertical-align: top;\n",
              "    }\n",
              "\n",
              "    .dataframe thead th {\n",
              "        text-align: right;\n",
              "    }\n",
              "</style>\n",
              "<table border=\"1\" class=\"dataframe\">\n",
              "  <thead>\n",
              "    <tr style=\"text-align: right;\">\n",
              "      <th></th>\n",
              "      <th>0</th>\n",
              "      <th>1</th>\n",
              "      <th>2</th>\n",
              "      <th>3</th>\n",
              "      <th>4</th>\n",
              "      <th>5</th>\n",
              "      <th>6</th>\n",
              "      <th>7</th>\n",
              "      <th>8</th>\n",
              "      <th>9</th>\n",
              "      <th>10</th>\n",
              "      <th>11</th>\n",
              "      <th>12</th>\n",
              "      <th>13</th>\n",
              "      <th>14</th>\n",
              "      <th>15</th>\n",
              "      <th>16</th>\n",
              "      <th>17</th>\n",
              "      <th>18</th>\n",
              "      <th>19</th>\n",
              "      <th>20</th>\n",
              "      <th>21</th>\n",
              "      <th>22</th>\n",
              "      <th>23</th>\n",
              "      <th>24</th>\n",
              "      <th>25</th>\n",
              "      <th>26</th>\n",
              "      <th>27</th>\n",
              "      <th>28</th>\n",
              "      <th>29</th>\n",
              "      <th>30</th>\n",
              "      <th>31</th>\n",
              "      <th>32</th>\n",
              "      <th>33</th>\n",
              "      <th>34</th>\n",
              "      <th>35</th>\n",
              "      <th>37</th>\n",
              "      <th>38</th>\n",
              "      <th>39</th>\n",
              "      <th>40</th>\n",
              "      <th>41</th>\n",
              "      <th>42</th>\n",
              "      <th>43</th>\n",
              "      <th>44</th>\n",
              "      <th>45</th>\n",
              "      <th>46</th>\n",
              "      <th>47</th>\n",
              "      <th>48</th>\n",
              "      <th>49</th>\n",
              "      <th>50</th>\n",
              "      <th>51</th>\n",
              "      <th>52</th>\n",
              "      <th>53</th>\n",
              "      <th>54</th>\n",
              "      <th>55</th>\n",
              "      <th>56</th>\n",
              "      <th>57</th>\n",
              "      <th>58</th>\n",
              "      <th>59</th>\n",
              "      <th>60</th>\n",
              "      <th>61</th>\n",
              "      <th>62</th>\n",
              "      <th>63</th>\n",
              "      <th>64</th>\n",
              "    </tr>\n",
              "  </thead>\n",
              "  <tbody>\n",
              "    <tr>\n",
              "      <th>0</th>\n",
              "      <td>0.20055</td>\n",
              "      <td>0.37951</td>\n",
              "      <td>0.39641</td>\n",
              "      <td>2.0472</td>\n",
              "      <td>32.351</td>\n",
              "      <td>0.38825</td>\n",
              "      <td>0.24976</td>\n",
              "      <td>1.3305</td>\n",
              "      <td>1.1389</td>\n",
              "      <td>0.50494</td>\n",
              "      <td>0.24976</td>\n",
              "      <td>0.6598</td>\n",
              "      <td>0.1666</td>\n",
              "      <td>0.24976</td>\n",
              "      <td>497.42</td>\n",
              "      <td>0.73378</td>\n",
              "      <td>2.6349</td>\n",
              "      <td>0.24976</td>\n",
              "      <td>0.14942</td>\n",
              "      <td>43.37</td>\n",
              "      <td>1.2479</td>\n",
              "      <td>0.21402</td>\n",
              "      <td>0.11998</td>\n",
              "      <td>0.47706</td>\n",
              "      <td>0.50494</td>\n",
              "      <td>0.60411</td>\n",
              "      <td>1.4582</td>\n",
              "      <td>1.7615</td>\n",
              "      <td>5.9443</td>\n",
              "      <td>0.11788</td>\n",
              "      <td>0.14942</td>\n",
              "      <td>94.14</td>\n",
              "      <td>3.8772</td>\n",
              "      <td>0.56393</td>\n",
              "      <td>0.21402</td>\n",
              "      <td>1.741</td>\n",
              "      <td>0.50591</td>\n",
              "      <td>0.12804</td>\n",
              "      <td>0.66295</td>\n",
              "      <td>0.051402</td>\n",
              "      <td>0.12804</td>\n",
              "      <td>114.42</td>\n",
              "      <td>71.05</td>\n",
              "      <td>1.0097</td>\n",
              "      <td>1.5225</td>\n",
              "      <td>49.394</td>\n",
              "      <td>0.1853</td>\n",
              "      <td>0.11085</td>\n",
              "      <td>2.042</td>\n",
              "      <td>0.37854</td>\n",
              "      <td>0.25792</td>\n",
              "      <td>2.2437</td>\n",
              "      <td>2.248</td>\n",
              "      <td>348690</td>\n",
              "      <td>0.12196</td>\n",
              "      <td>0.39718</td>\n",
              "      <td>0.87804</td>\n",
              "      <td>0.001924</td>\n",
              "      <td>8.416</td>\n",
              "      <td>5.1372</td>\n",
              "      <td>82.658</td>\n",
              "      <td>4.4158</td>\n",
              "      <td>7.4277</td>\n",
              "      <td>0</td>\n",
              "    </tr>\n",
              "    <tr>\n",
              "      <th>1</th>\n",
              "      <td>0.20912</td>\n",
              "      <td>0.49988</td>\n",
              "      <td>0.47225</td>\n",
              "      <td>1.9447</td>\n",
              "      <td>14.786</td>\n",
              "      <td>0</td>\n",
              "      <td>0.25834</td>\n",
              "      <td>0.99601</td>\n",
              "      <td>1.6996</td>\n",
              "      <td>0.49788</td>\n",
              "      <td>0.26114</td>\n",
              "      <td>0.5168</td>\n",
              "      <td>0.15835</td>\n",
              "      <td>0.25834</td>\n",
              "      <td>677.96</td>\n",
              "      <td>0.53838</td>\n",
              "      <td>2.0005</td>\n",
              "      <td>0.25834</td>\n",
              "      <td>0.152</td>\n",
              "      <td>87.981</td>\n",
              "      <td>1.4293</td>\n",
              "      <td>0.24806</td>\n",
              "      <td>0.12304</td>\n",
              "      <td>NaN</td>\n",
              "      <td>0.39542</td>\n",
              "      <td>0.43992</td>\n",
              "      <td>88.444</td>\n",
              "      <td>16.946</td>\n",
              "      <td>3.6884</td>\n",
              "      <td>0.26969</td>\n",
              "      <td>0.152</td>\n",
              "      <td>122.17</td>\n",
              "      <td>2.9876</td>\n",
              "      <td>2.9876</td>\n",
              "      <td>0.20616</td>\n",
              "      <td>1.6996</td>\n",
              "      <td>0.49788</td>\n",
              "      <td>0.1213</td>\n",
              "      <td>0.086422</td>\n",
              "      <td>0.064371</td>\n",
              "      <td>0.14595</td>\n",
              "      <td>199.49</td>\n",
              "      <td>111.51</td>\n",
              "      <td>0.51045</td>\n",
              "      <td>1.1252</td>\n",
              "      <td>100.13</td>\n",
              "      <td>0.23727</td>\n",
              "      <td>0.13961</td>\n",
              "      <td>1.9447</td>\n",
              "      <td>0.49988</td>\n",
              "      <td>0.33472</td>\n",
              "      <td>17.866</td>\n",
              "      <td>17.866</td>\n",
              "      <td>2304.6</td>\n",
              "      <td>0.1213</td>\n",
              "      <td>0.42002</td>\n",
              "      <td>0.853</td>\n",
              "      <td>0</td>\n",
              "      <td>4.1486</td>\n",
              "      <td>3.2732</td>\n",
              "      <td>107.35</td>\n",
              "      <td>3.4</td>\n",
              "      <td>60.987</td>\n",
              "      <td>0</td>\n",
              "    </tr>\n",
              "    <tr>\n",
              "      <th>2</th>\n",
              "      <td>0.24866</td>\n",
              "      <td>0.69592</td>\n",
              "      <td>0.26713</td>\n",
              "      <td>1.5548</td>\n",
              "      <td>-1.1523</td>\n",
              "      <td>0</td>\n",
              "      <td>0.30906</td>\n",
              "      <td>0.43695</td>\n",
              "      <td>1.309</td>\n",
              "      <td>0.30408</td>\n",
              "      <td>0.31258</td>\n",
              "      <td>0.64184</td>\n",
              "      <td>0.24435</td>\n",
              "      <td>0.30906</td>\n",
              "      <td>794.16</td>\n",
              "      <td>0.45961</td>\n",
              "      <td>1.4369</td>\n",
              "      <td>0.30906</td>\n",
              "      <td>0.2361</td>\n",
              "      <td>73.133</td>\n",
              "      <td>1.4283</td>\n",
              "      <td>0.3026</td>\n",
              "      <td>0.18996</td>\n",
              "      <td>NaN</td>\n",
              "      <td>0.28932</td>\n",
              "      <td>0.37282</td>\n",
              "      <td>86.011</td>\n",
              "      <td>1.0627</td>\n",
              "      <td>4.3749</td>\n",
              "      <td>0.41929</td>\n",
              "      <td>0.23815</td>\n",
              "      <td>176.93</td>\n",
              "      <td>2.063</td>\n",
              "      <td>1.4274</td>\n",
              "      <td>0.31565</td>\n",
              "      <td>1.309</td>\n",
              "      <td>0.51537</td>\n",
              "      <td>0.24114</td>\n",
              "      <td>0.32202</td>\n",
              "      <td>0.07402</td>\n",
              "      <td>0.23117</td>\n",
              "      <td>165.51</td>\n",
              "      <td>92.381</td>\n",
              "      <td>0.94807</td>\n",
              "      <td>1.0101</td>\n",
              "      <td>96.372</td>\n",
              "      <td>0.29181</td>\n",
              "      <td>0.22293</td>\n",
              "      <td>1.0758</td>\n",
              "      <td>0.48152</td>\n",
              "      <td>0.48474</td>\n",
              "      <td>1.2098</td>\n",
              "      <td>2.0504</td>\n",
              "      <td>6332.7</td>\n",
              "      <td>0.24114</td>\n",
              "      <td>0.81774</td>\n",
              "      <td>0.76599</td>\n",
              "      <td>0.69484</td>\n",
              "      <td>4.9909</td>\n",
              "      <td>3.951</td>\n",
              "      <td>134.27</td>\n",
              "      <td>2.7185</td>\n",
              "      <td>5.2078</td>\n",
              "      <td>0</td>\n",
              "    </tr>\n",
              "    <tr>\n",
              "      <th>3</th>\n",
              "      <td>0.081483</td>\n",
              "      <td>0.30734</td>\n",
              "      <td>0.45879</td>\n",
              "      <td>2.4928</td>\n",
              "      <td>51.952</td>\n",
              "      <td>0.14988</td>\n",
              "      <td>0.092704</td>\n",
              "      <td>1.8661</td>\n",
              "      <td>1.0571</td>\n",
              "      <td>0.57353</td>\n",
              "      <td>0.092704</td>\n",
              "      <td>0.30163</td>\n",
              "      <td>0.094257</td>\n",
              "      <td>0.092704</td>\n",
              "      <td>917.01</td>\n",
              "      <td>0.39803</td>\n",
              "      <td>3.2537</td>\n",
              "      <td>0.092704</td>\n",
              "      <td>0.071428</td>\n",
              "      <td>79.788</td>\n",
              "      <td>1.5069</td>\n",
              "      <td>0.1155</td>\n",
              "      <td>0.062782</td>\n",
              "      <td>0.17193</td>\n",
              "      <td>0.57353</td>\n",
              "      <td>0.36152</td>\n",
              "      <td>0.94076</td>\n",
              "      <td>1.9618</td>\n",
              "      <td>4.6511</td>\n",
              "      <td>0.14343</td>\n",
              "      <td>0.071428</td>\n",
              "      <td>91.37</td>\n",
              "      <td>3.9948</td>\n",
              "      <td>0.37581</td>\n",
              "      <td>0.1155</td>\n",
              "      <td>1.3562</td>\n",
              "      <td>0.57353</td>\n",
              "      <td>0.088995</td>\n",
              "      <td>0.40139</td>\n",
              "      <td>0.069622</td>\n",
              "      <td>0.088995</td>\n",
              "      <td>180.77</td>\n",
              "      <td>100.98</td>\n",
              "      <td>0.2872</td>\n",
              "      <td>1.5696</td>\n",
              "      <td>84.344</td>\n",
              "      <td>0.085874</td>\n",
              "      <td>0.066165</td>\n",
              "      <td>2.4928</td>\n",
              "      <td>0.30734</td>\n",
              "      <td>0.25033</td>\n",
              "      <td>2.4524</td>\n",
              "      <td>2.4524</td>\n",
              "      <td>20545</td>\n",
              "      <td>0.054015</td>\n",
              "      <td>0.14207</td>\n",
              "      <td>0.94598</td>\n",
              "      <td>0</td>\n",
              "      <td>4.5746</td>\n",
              "      <td>3.6147</td>\n",
              "      <td>86.435</td>\n",
              "      <td>4.2228</td>\n",
              "      <td>5.5497</td>\n",
              "      <td>0</td>\n",
              "    </tr>\n",
              "    <tr>\n",
              "      <th>4</th>\n",
              "      <td>0.18732</td>\n",
              "      <td>0.61323</td>\n",
              "      <td>0.2296</td>\n",
              "      <td>1.4063</td>\n",
              "      <td>-7.3128</td>\n",
              "      <td>0.18732</td>\n",
              "      <td>0.18732</td>\n",
              "      <td>0.6307</td>\n",
              "      <td>1.1559</td>\n",
              "      <td>0.38677</td>\n",
              "      <td>0.18732</td>\n",
              "      <td>0.33147</td>\n",
              "      <td>0.12182</td>\n",
              "      <td>0.18732</td>\n",
              "      <td>1133.2</td>\n",
              "      <td>0.32211</td>\n",
              "      <td>1.6307</td>\n",
              "      <td>0.18732</td>\n",
              "      <td>0.11553</td>\n",
              "      <td>57.045</td>\n",
              "      <td>NaN</td>\n",
              "      <td>0.19832</td>\n",
              "      <td>0.11553</td>\n",
              "      <td>0.18732</td>\n",
              "      <td>0.38677</td>\n",
              "      <td>0.32211</td>\n",
              "      <td>1.4138</td>\n",
              "      <td>1.1184</td>\n",
              "      <td>4.1424</td>\n",
              "      <td>0.27884</td>\n",
              "      <td>0.11553</td>\n",
              "      <td>147.04</td>\n",
              "      <td>2.4823</td>\n",
              "      <td>0.3234</td>\n",
              "      <td>0.19832</td>\n",
              "      <td>1.6278</td>\n",
              "      <td>0.43489</td>\n",
              "      <td>0.12231</td>\n",
              "      <td>0.29304</td>\n",
              "      <td>0.09668</td>\n",
              "      <td>0.12231</td>\n",
              "      <td>141.62</td>\n",
              "      <td>84.574</td>\n",
              "      <td>0.73919</td>\n",
              "      <td>0.95787</td>\n",
              "      <td>65.936</td>\n",
              "      <td>0.18811</td>\n",
              "      <td>0.11601</td>\n",
              "      <td>1.2959</td>\n",
              "      <td>0.56511</td>\n",
              "      <td>0.40285</td>\n",
              "      <td>1.8839</td>\n",
              "      <td>2.1184</td>\n",
              "      <td>3186.6</td>\n",
              "      <td>0.13485</td>\n",
              "      <td>0.48431</td>\n",
              "      <td>0.86515</td>\n",
              "      <td>0.12444</td>\n",
              "      <td>6.3985</td>\n",
              "      <td>4.3158</td>\n",
              "      <td>127.21</td>\n",
              "      <td>2.8692</td>\n",
              "      <td>7.898</td>\n",
              "      <td>0</td>\n",
              "    </tr>\n",
              "    <tr>\n",
              "      <th>...</th>\n",
              "      <td>...</td>\n",
              "      <td>...</td>\n",
              "      <td>...</td>\n",
              "      <td>...</td>\n",
              "      <td>...</td>\n",
              "      <td>...</td>\n",
              "      <td>...</td>\n",
              "      <td>...</td>\n",
              "      <td>...</td>\n",
              "      <td>...</td>\n",
              "      <td>...</td>\n",
              "      <td>...</td>\n",
              "      <td>...</td>\n",
              "      <td>...</td>\n",
              "      <td>...</td>\n",
              "      <td>...</td>\n",
              "      <td>...</td>\n",
              "      <td>...</td>\n",
              "      <td>...</td>\n",
              "      <td>...</td>\n",
              "      <td>...</td>\n",
              "      <td>...</td>\n",
              "      <td>...</td>\n",
              "      <td>...</td>\n",
              "      <td>...</td>\n",
              "      <td>...</td>\n",
              "      <td>...</td>\n",
              "      <td>...</td>\n",
              "      <td>...</td>\n",
              "      <td>...</td>\n",
              "      <td>...</td>\n",
              "      <td>...</td>\n",
              "      <td>...</td>\n",
              "      <td>...</td>\n",
              "      <td>...</td>\n",
              "      <td>...</td>\n",
              "      <td>...</td>\n",
              "      <td>...</td>\n",
              "      <td>...</td>\n",
              "      <td>...</td>\n",
              "      <td>...</td>\n",
              "      <td>...</td>\n",
              "      <td>...</td>\n",
              "      <td>...</td>\n",
              "      <td>...</td>\n",
              "      <td>...</td>\n",
              "      <td>...</td>\n",
              "      <td>...</td>\n",
              "      <td>...</td>\n",
              "      <td>...</td>\n",
              "      <td>...</td>\n",
              "      <td>...</td>\n",
              "      <td>...</td>\n",
              "      <td>...</td>\n",
              "      <td>...</td>\n",
              "      <td>...</td>\n",
              "      <td>...</td>\n",
              "      <td>...</td>\n",
              "      <td>...</td>\n",
              "      <td>...</td>\n",
              "      <td>...</td>\n",
              "      <td>...</td>\n",
              "      <td>...</td>\n",
              "      <td>...</td>\n",
              "    </tr>\n",
              "    <tr>\n",
              "      <th>43400</th>\n",
              "      <td>0.012898</td>\n",
              "      <td>0.70621</td>\n",
              "      <td>0.038857</td>\n",
              "      <td>1.1722</td>\n",
              "      <td>-18.907</td>\n",
              "      <td>0</td>\n",
              "      <td>0.013981</td>\n",
              "      <td>0.416</td>\n",
              "      <td>1.6768</td>\n",
              "      <td>0.29379</td>\n",
              "      <td>0.041583</td>\n",
              "      <td>0.061959</td>\n",
              "      <td>0.023622</td>\n",
              "      <td>0.013981</td>\n",
              "      <td>6507.6</td>\n",
              "      <td>0.056089</td>\n",
              "      <td>1.416</td>\n",
              "      <td>0.013981</td>\n",
              "      <td>0.008338</td>\n",
              "      <td>27.092</td>\n",
              "      <td>1.033</td>\n",
              "      <td>0.040401</td>\n",
              "      <td>0.007692</td>\n",
              "      <td>0.90184</td>\n",
              "      <td>0.083706</td>\n",
              "      <td>0.054556</td>\n",
              "      <td>1.4637</td>\n",
              "      <td>0.052831</td>\n",
              "      <td>4.9667</td>\n",
              "      <td>0.41853</td>\n",
              "      <td>0.024762</td>\n",
              "      <td>50.128</td>\n",
              "      <td>7.4</td>\n",
              "      <td>2.3644</td>\n",
              "      <td>0.033819</td>\n",
              "      <td>1.6768</td>\n",
              "      <td>0.66377</td>\n",
              "      <td>0.020169</td>\n",
              "      <td>0.022858</td>\n",
              "      <td>0.35651</td>\n",
              "      <td>0.024093</td>\n",
              "      <td>56.452</td>\n",
              "      <td>29.36</td>\n",
              "      <td>0.10363</td>\n",
              "      <td>0.62061</td>\n",
              "      <td>27.207</td>\n",
              "      <td>0.014771</td>\n",
              "      <td>0.008809</td>\n",
              "      <td>0.37454</td>\n",
              "      <td>0.22564</td>\n",
              "      <td>0.13514</td>\n",
              "      <td>0.39944</td>\n",
              "      <td>0.90248</td>\n",
              "      <td>3599.1</td>\n",
              "      <td>0.020169</td>\n",
              "      <td>0.043904</td>\n",
              "      <td>1.0122</td>\n",
              "      <td>1.2594</td>\n",
              "      <td>13.472</td>\n",
              "      <td>12.432</td>\n",
              "      <td>49.117</td>\n",
              "      <td>7.4313</td>\n",
              "      <td>2.2799</td>\n",
              "      <td>1</td>\n",
              "    </tr>\n",
              "    <tr>\n",
              "      <th>43401</th>\n",
              "      <td>-0.57805</td>\n",
              "      <td>0.96702</td>\n",
              "      <td>-0.80085</td>\n",
              "      <td>0.16576</td>\n",
              "      <td>-67.365</td>\n",
              "      <td>-0.57805</td>\n",
              "      <td>-0.57805</td>\n",
              "      <td>-0.40334</td>\n",
              "      <td>0.93979</td>\n",
              "      <td>-0.39004</td>\n",
              "      <td>-0.57805</td>\n",
              "      <td>-0.60216</td>\n",
              "      <td>-0.11022</td>\n",
              "      <td>-0.57805</td>\n",
              "      <td>-742.28</td>\n",
              "      <td>-0.49173</td>\n",
              "      <td>1.0341</td>\n",
              "      <td>-0.57805</td>\n",
              "      <td>-0.13399</td>\n",
              "      <td>3.2965</td>\n",
              "      <td>0.6477</td>\n",
              "      <td>-0.53492</td>\n",
              "      <td>-0.13399</td>\n",
              "      <td>-0.57805</td>\n",
              "      <td>-0.39004</td>\n",
              "      <td>-0.49173</td>\n",
              "      <td>NaN</td>\n",
              "      <td>-0.9524</td>\n",
              "      <td>4.0622</td>\n",
              "      <td>0.21864</td>\n",
              "      <td>-0.13399</td>\n",
              "      <td>76.33</td>\n",
              "      <td>4.7819</td>\n",
              "      <td>-0.55316</td>\n",
              "      <td>-0.53492</td>\n",
              "      <td>4.3912</td>\n",
              "      <td>-0.38299</td>\n",
              "      <td>-0.12399</td>\n",
              "      <td>0.024771</td>\n",
              "      <td>-0.073529</td>\n",
              "      <td>-0.12399</td>\n",
              "      <td>11.451</td>\n",
              "      <td>8.1548</td>\n",
              "      <td>-14.836</td>\n",
              "      <td>0.12517</td>\n",
              "      <td>3.098</td>\n",
              "      <td>-0.63746</td>\n",
              "      <td>-0.14776</td>\n",
              "      <td>0.16455</td>\n",
              "      <td>0.95997</td>\n",
              "      <td>0.20912</td>\n",
              "      <td>-0.46385</td>\n",
              "      <td>-0.45546</td>\n",
              "      <td>-9242.1</td>\n",
              "      <td>-0.064073</td>\n",
              "      <td>1.482</td>\n",
              "      <td>1.0641</td>\n",
              "      <td>-0.018084</td>\n",
              "      <td>110.72</td>\n",
              "      <td>44.759</td>\n",
              "      <td>81.22</td>\n",
              "      <td>4.494</td>\n",
              "      <td>5.1305</td>\n",
              "      <td>1</td>\n",
              "    </tr>\n",
              "    <tr>\n",
              "      <th>43402</th>\n",
              "      <td>-0.17905</td>\n",
              "      <td>1.2553</td>\n",
              "      <td>-0.27599</td>\n",
              "      <td>0.74554</td>\n",
              "      <td>-120.44</td>\n",
              "      <td>-0.17905</td>\n",
              "      <td>-0.15493</td>\n",
              "      <td>-0.26018</td>\n",
              "      <td>1.1749</td>\n",
              "      <td>-0.32659</td>\n",
              "      <td>-0.15493</td>\n",
              "      <td>-0.14284</td>\n",
              "      <td>-0.07294</td>\n",
              "      <td>-0.15493</td>\n",
              "      <td>-3298.2</td>\n",
              "      <td>-0.11067</td>\n",
              "      <td>0.79665</td>\n",
              "      <td>-0.15493</td>\n",
              "      <td>-0.08135</td>\n",
              "      <td>37.046</td>\n",
              "      <td>0.83104</td>\n",
              "      <td>0.1767</td>\n",
              "      <td>-0.094015</td>\n",
              "      <td>-0.15493</td>\n",
              "      <td>-0.32659</td>\n",
              "      <td>-0.12988</td>\n",
              "      <td>NaN</td>\n",
              "      <td>-1.4423</td>\n",
              "      <td>5.3244</td>\n",
              "      <td>0.65813</td>\n",
              "      <td>-0.08135</td>\n",
              "      <td>244.23</td>\n",
              "      <td>1.4945</td>\n",
              "      <td>0.14077</td>\n",
              "      <td>0.1767</td>\n",
              "      <td>1.9515</td>\n",
              "      <td>-0.15597</td>\n",
              "      <td>0.09278</td>\n",
              "      <td>0.064095</td>\n",
              "      <td>0.21414</td>\n",
              "      <td>0.09278</td>\n",
              "      <td>141.65</td>\n",
              "      <td>104.61</td>\n",
              "      <td>-0.9263</td>\n",
              "      <td>0.56733</td>\n",
              "      <td>43.526</td>\n",
              "      <td>0.16068</td>\n",
              "      <td>0.08437</td>\n",
              "      <td>0.64421</td>\n",
              "      <td>1.0846</td>\n",
              "      <td>0.66913</td>\n",
              "      <td>-1.7067</td>\n",
              "      <td>-0.81508</td>\n",
              "      <td>-58253</td>\n",
              "      <td>0.14888</td>\n",
              "      <td>0.54824</td>\n",
              "      <td>0.85112</td>\n",
              "      <td>-0.52243</td>\n",
              "      <td>9.8526</td>\n",
              "      <td>3.4892</td>\n",
              "      <td>207.87</td>\n",
              "      <td>1.7559</td>\n",
              "      <td>9.9527</td>\n",
              "      <td>1</td>\n",
              "    </tr>\n",
              "    <tr>\n",
              "      <th>43403</th>\n",
              "      <td>-0.10886</td>\n",
              "      <td>0.74394</td>\n",
              "      <td>0.015449</td>\n",
              "      <td>1.0878</td>\n",
              "      <td>-17.003</td>\n",
              "      <td>-0.10886</td>\n",
              "      <td>-0.10918</td>\n",
              "      <td>0.12531</td>\n",
              "      <td>0.84516</td>\n",
              "      <td>0.093224</td>\n",
              "      <td>-0.10918</td>\n",
              "      <td>-0.62038</td>\n",
              "      <td>-0.065652</td>\n",
              "      <td>-0.10918</td>\n",
              "      <td>-5352.1</td>\n",
              "      <td>-0.068197</td>\n",
              "      <td>1.3442</td>\n",
              "      <td>-0.10918</td>\n",
              "      <td>-0.14128</td>\n",
              "      <td>26.285</td>\n",
              "      <td>1.121</td>\n",
              "      <td>-0.09995</td>\n",
              "      <td>-0.14086</td>\n",
              "      <td>-0.10918</td>\n",
              "      <td>0.093224</td>\n",
              "      <td>-0.067762</td>\n",
              "      <td>NaN</td>\n",
              "      <td>0.019106</td>\n",
              "      <td>4.8555</td>\n",
              "      <td>0.95181</td>\n",
              "      <td>-0.14128</td>\n",
              "      <td>70.252</td>\n",
              "      <td>5.1956</td>\n",
              "      <td>-0.13435</td>\n",
              "      <td>-0.09995</td>\n",
              "      <td>0.83553</td>\n",
              "      <td>0.66118</td>\n",
              "      <td>-0.12934</td>\n",
              "      <td>0.048976</td>\n",
              "      <td>-0.5893</td>\n",
              "      <td>-0.12934</td>\n",
              "      <td>86.348</td>\n",
              "      <td>60.064</td>\n",
              "      <td>-1.9561</td>\n",
              "      <td>0.77157</td>\n",
              "      <td>22.215</td>\n",
              "      <td>-0.1584</td>\n",
              "      <td>-0.20497</td>\n",
              "      <td>0.25733</td>\n",
              "      <td>0.17599</td>\n",
              "      <td>0.19247</td>\n",
              "      <td>0.1153</td>\n",
              "      <td>0.81772</td>\n",
              "      <td>1107.5</td>\n",
              "      <td>-0.1832</td>\n",
              "      <td>-1.1677</td>\n",
              "      <td>1.1832</td>\n",
              "      <td>6.0924</td>\n",
              "      <td>13.886</td>\n",
              "      <td>6.0769</td>\n",
              "      <td>83.122</td>\n",
              "      <td>4.3911</td>\n",
              "      <td>0.95575</td>\n",
              "      <td>1</td>\n",
              "    </tr>\n",
              "    <tr>\n",
              "      <th>43404</th>\n",
              "      <td>-0.10537</td>\n",
              "      <td>0.53629</td>\n",
              "      <td>-0.045578</td>\n",
              "      <td>0.91478</td>\n",
              "      <td>-56.068</td>\n",
              "      <td>-0.10537</td>\n",
              "      <td>-0.10994</td>\n",
              "      <td>0.8646</td>\n",
              "      <td>0.9504</td>\n",
              "      <td>0.46367</td>\n",
              "      <td>-0.10994</td>\n",
              "      <td>-0.20557</td>\n",
              "      <td>-0.066747</td>\n",
              "      <td>-0.10994</td>\n",
              "      <td>-2055.9</td>\n",
              "      <td>-0.17754</td>\n",
              "      <td>1.8647</td>\n",
              "      <td>-0.10994</td>\n",
              "      <td>-0.077072</td>\n",
              "      <td>47.199</td>\n",
              "      <td>0.71351</td>\n",
              "      <td>-0.082947</td>\n",
              "      <td>-0.073868</td>\n",
              "      <td>-0.10994</td>\n",
              "      <td>0.46367</td>\n",
              "      <td>-0.16902</td>\n",
              "      <td>NaN</td>\n",
              "      <td>-0.089234</td>\n",
              "      <td>3.9698</td>\n",
              "      <td>0.37528</td>\n",
              "      <td>-0.077072</td>\n",
              "      <td>130.06</td>\n",
              "      <td>2.8064</td>\n",
              "      <td>-0.15467</td>\n",
              "      <td>-0.082947</td>\n",
              "      <td>1.4481</td>\n",
              "      <td>0.46515</td>\n",
              "      <td>-0.058149</td>\n",
              "      <td>0.004456</td>\n",
              "      <td>-0.25846</td>\n",
              "      <td>-0.058149</td>\n",
              "      <td>124.57</td>\n",
              "      <td>77.374</td>\n",
              "      <td>-0.57124</td>\n",
              "      <td>0.56987</td>\n",
              "      <td>44.858</td>\n",
              "      <td>-0.097675</td>\n",
              "      <td>-0.068474</td>\n",
              "      <td>0.91225</td>\n",
              "      <td>0.53481</td>\n",
              "      <td>0.35632</td>\n",
              "      <td>0.90779</td>\n",
              "      <td>0.91069</td>\n",
              "      <td>-425.13</td>\n",
              "      <td>-0.052186</td>\n",
              "      <td>-0.22725</td>\n",
              "      <td>1.0522</td>\n",
              "      <td>0.003196</td>\n",
              "      <td>7.7332</td>\n",
              "      <td>4.7174</td>\n",
              "      <td>136.85</td>\n",
              "      <td>2.6672</td>\n",
              "      <td>2.7927</td>\n",
              "      <td>1</td>\n",
              "    </tr>\n",
              "  </tbody>\n",
              "</table>\n",
              "<p>43405 rows × 64 columns</p>\n",
              "</div>"
            ],
            "text/plain": [
              "             0        1          2        3   ...      61      62       63 64\n",
              "0       0.20055  0.37951    0.39641   2.0472  ...  82.658  4.4158   7.4277  0\n",
              "1       0.20912  0.49988    0.47225   1.9447  ...  107.35     3.4   60.987  0\n",
              "2       0.24866  0.69592    0.26713   1.5548  ...  134.27  2.7185   5.2078  0\n",
              "3      0.081483  0.30734    0.45879   2.4928  ...  86.435  4.2228   5.5497  0\n",
              "4       0.18732  0.61323     0.2296   1.4063  ...  127.21  2.8692    7.898  0\n",
              "...         ...      ...        ...      ...  ...     ...     ...      ... ..\n",
              "43400  0.012898  0.70621   0.038857   1.1722  ...  49.117  7.4313   2.2799  1\n",
              "43401  -0.57805  0.96702   -0.80085  0.16576  ...   81.22   4.494   5.1305  1\n",
              "43402  -0.17905   1.2553   -0.27599  0.74554  ...  207.87  1.7559   9.9527  1\n",
              "43403  -0.10886  0.74394   0.015449   1.0878  ...  83.122  4.3911  0.95575  1\n",
              "43404  -0.10537  0.53629  -0.045578  0.91478  ...  136.85  2.6672   2.7927  1\n",
              "\n",
              "[43405 rows x 64 columns]"
            ]
          },
          "metadata": {
            "tags": []
          },
          "execution_count": 188
        }
      ]
    },
    {
      "cell_type": "markdown",
      "metadata": {
        "id": "Z8QLm3_xVMIM"
      },
      "source": [
        "Για τις υπόλοιπες τιμές, θα αντικαταστήσουμε κάθε απουσιάζουσα τιμή χαρακτηριστικού με τη μέση τιμή. Αυτό θα γίνει μετά τον διαχωρισμό του dataset σε train και test και πριν την έναρξη του Cross Validation."
      ]
    },
    {
      "cell_type": "markdown",
      "metadata": {
        "id": "sL5TGc3BXKkL"
      },
      "source": [
        "###Κατανομή των κλάσεων\n",
        "\n",
        "Στη συνέχεια, θα εξετάσουμε τι κατανομή έχουν οι δύο κλάσεις στα δεδομένα:"
      ]
    },
    {
      "cell_type": "code",
      "metadata": {
        "id": "dRcFckz5Yvky",
        "colab": {
          "base_uri": "https://localhost:8080/"
        },
        "outputId": "5077ea27-ea92-4fa2-857b-fd3a853cfa80"
      },
      "source": [
        "num_of_rows = big_df.shape[0]\n",
        "num_of_attrs = big_df.shape[1] - 1 #remove one element because of the class attribute\n",
        "\n",
        "# get labesl and features\n",
        "labels_df = big_df.iloc[:, [num_of_attrs]] # τα labels είναι στην τελευταία κολώνα\n",
        "features_df = big_df.iloc[:, 0:num_of_attrs]  # τα features είναι όλες οι προηγούμενες κολώνες\n",
        "\n",
        "labels = labels_df.values.reshape(num_of_rows,)\n",
        "features = features_df.values\n",
        "# convert to int\n",
        "labels.astype(int)\n",
        "labels = np.array(labels, dtype='int64')\n",
        "\n",
        "\n",
        "# find how many of each class\n",
        "bin_count = np.bincount(labels)\n",
        "print (\"bincount:\", bin_count)\n",
        "print(sum(bin_count))\n",
        "print(\"The percentage of 0's in data: \", bin_count[0]*100/sum(bin_count), \"%.\")\n",
        "print(\"The percentage of 1's in data: \", bin_count[1]*100/sum(bin_count), \"%.\")"
      ],
      "execution_count": 189,
      "outputs": [
        {
          "output_type": "stream",
          "text": [
            "bincount: [41314  2091]\n",
            "43405\n",
            "The percentage of 0's in data:  95.18258265176823 %.\n",
            "The percentage of 1's in data:  4.81741734823177 %.\n"
          ],
          "name": "stdout"
        }
      ]
    },
    {
      "cell_type": "markdown",
      "metadata": {
        "id": "jayK-hD4aYUM"
      },
      "source": [
        "Παρατηρούμε ότι το **95%** των δειγμάτων ανήκουν στην κλάση **0**, ενώ μόλις το **4.81%** στην κλάση **1**. Επομένως, **το dataset είναι εντελώς ανισόρροπο**."
      ]
    },
    {
      "cell_type": "markdown",
      "metadata": {
        "id": "o2dKrxCuWiI6"
      },
      "source": [
        "###Διαχωρισμός του dataset\n",
        "Διαχωρίζουμε το dataset σε train και test set, χρησιμοποιώντας το 70% των δεδομένων για το training και το 30% για το testing:"
      ]
    },
    {
      "cell_type": "code",
      "metadata": {
        "id": "oo_kT2rvd3rc"
      },
      "source": [
        "from sklearn.model_selection import train_test_split\n",
        "\n",
        "\n",
        "train, test, big_train_labels, big_test_labels = train_test_split(features, labels, test_size=0.3)"
      ],
      "execution_count": 190,
      "outputs": []
    },
    {
      "cell_type": "code",
      "metadata": {
        "id": "5oYFXJiPd6gP"
      },
      "source": [
        "train_pd = pd.DataFrame(data=train[:,:],    # values\n",
        "                 index=train[:,0])    # 1st column as index\n",
        "                  \n",
        "test_pd = pd.DataFrame(data=test[:,:],    # values\n",
        "                 index=test[:,0])    # 1st column as index"
      ],
      "execution_count": 191,
      "outputs": []
    },
    {
      "cell_type": "code",
      "metadata": {
        "id": "e4YX9wBleC_m",
        "colab": {
          "base_uri": "https://localhost:8080/"
        },
        "outputId": "8f6ff367-58f7-400d-998b-95992b689e14"
      },
      "source": [
        "print(train.shape)\n",
        "print(train_pd.shape)\n",
        "\n",
        "print(test.shape)\n",
        "print(test_pd.shape)"
      ],
      "execution_count": 192,
      "outputs": [
        {
          "output_type": "stream",
          "text": [
            "(30383, 63)\n",
            "(30383, 63)\n",
            "(13022, 63)\n",
            "(13022, 63)\n"
          ],
          "name": "stdout"
        }
      ]
    },
    {
      "cell_type": "markdown",
      "metadata": {
        "id": "V_L1wklKeT4r"
      },
      "source": [
        "##Ταξινόμηση"
      ]
    },
    {
      "cell_type": "markdown",
      "metadata": {
        "id": "uQnP7OCAosAV"
      },
      "source": [
        "Θα χρησιμποιηθούν οι ίδιες συναρτήσεις που χρησιμοποιήθηκαν στο μικρό Dataset, αφού το μόνο που αρκεί είναι η κλήση τους με τις κατάλληλες παραμέτρους.\n",
        "\n",
        "Αρχικά, όμως θα αντικαταστήσουμε τις απουσιάζουσες με τον μέσο όρο των τιμών στο αντίστοιχο χαρακτηριστικό:"
      ]
    },
    {
      "cell_type": "code",
      "metadata": {
        "id": "r2qWZ_rEqdVl"
      },
      "source": [
        "from sklearn.impute import SimpleImputer\n",
        "\n",
        "# create imputer that will replace NaN with the most frequent value\n",
        "imp=SimpleImputer(missing_values=np.NaN,strategy=\"mean\")\n",
        "# fit and transform train data by replacing NaN with the most frequent value of the attribute\n",
        "big_train=pd.DataFrame(imp.fit_transform(train_pd))\n",
        "big_train.columns=train_pd.columns\n",
        "big_train.index=train_pd.index\n",
        "\n",
        "# transform the test data using the same model\n",
        "big_test = imp.transform(test_pd.values)"
      ],
      "execution_count": 193,
      "outputs": []
    },
    {
      "cell_type": "markdown",
      "metadata": {
        "id": "D69o3iBxqzsd"
      },
      "source": [
        "Κατηγορικές μεταβλητές δεν υπάρχουν στο dataset, επομένως μπορούμε να εισάγουμε τα δεδομένα στο Pipeline και να δοκιμάσουμε τους διάφορους ταξινομητές που προκύπτουν."
      ]
    },
    {
      "cell_type": "markdown",
      "metadata": {
        "id": "u28JfWCHpG8E"
      },
      "source": [
        "###Baseline Classification - Ταξινόμηση χωρίς προεπεξεργασία"
      ]
    },
    {
      "cell_type": "code",
      "metadata": {
        "colab": {
          "base_uri": "https://localhost:8080/",
          "height": 1000
        },
        "id": "OyciSQ7fvKcl",
        "outputId": "66dd8d93-aac8-4d4e-fc0c-3809ebcee6e2"
      },
      "source": [
        "classifiers = {\n",
        "    'dummy': dummy,\n",
        "    'gnb': gnb,\n",
        "    'kNN': knn,\n",
        "    'mlp': mlp,\n",
        "    'svm': svc\n",
        "\n",
        "}\n",
        "\n",
        "big_scores_default = runEstimators(big_train, big_test, big_train_labels, big_test_labels, \n",
        "                                  my_transformers={}, my_classifiers=classifiers, \n",
        "                                  est_values_mapper={}, cv=None, showResults=True)"
      ],
      "execution_count": 194,
      "outputs": [
        {
          "output_type": "stream",
          "text": [
            "The average f1-micro average of the dummy classifier is:  0.906926739364153\n",
            "The average f1-macro average of the dummy classifier is:  0.5013525661221901\n",
            "The classification report:\n",
            "              precision    recall  f1-score   support\n",
            "\n",
            "    rejected       0.95      0.95      0.95     12383\n",
            "     granted       0.05      0.05      0.05       639\n",
            "\n",
            "    accuracy                           0.91     13022\n",
            "   macro avg       0.50      0.50      0.50     13022\n",
            "weighted avg       0.91      0.91      0.91     13022\n",
            "\n"
          ],
          "name": "stdout"
        },
        {
          "output_type": "stream",
          "text": [
            "/usr/local/lib/python3.6/dist-packages/sklearn/dummy.py:132: FutureWarning: The default value of strategy will change from stratified to prior in 0.24.\n",
            "  \"stratified to prior in 0.24.\", FutureWarning)\n"
          ],
          "name": "stderr"
        },
        {
          "output_type": "display_data",
          "data": {
            "image/png": "[encoded data removed]",
            "text/plain": [
              "<Figure size 432x288 with 2 Axes>"
            ]
          },
          "metadata": {
            "tags": [],
            "needs_background": "light"
          }
        },
        {
          "output_type": "stream",
          "text": [
            "================================================================================\n",
            "The average f1-micro average of the gnb classifier is:  0.072185532176317\n",
            "The average f1-macro average of the gnb classifier is:  0.0716993872212357\n",
            "The classification report:\n",
            "              precision    recall  f1-score   support\n",
            "\n",
            "    rejected       0.94      0.03      0.05     12383\n",
            "     granted       0.05      0.97      0.09       639\n",
            "\n",
            "    accuracy                           0.07     13022\n",
            "   macro avg       0.50      0.50      0.07     13022\n",
            "weighted avg       0.90      0.07      0.05     13022\n",
            "\n"
          ],
          "name": "stdout"
        },
        {
          "output_type": "display_data",
          "data": {
            "image/png": "[encoded data removed]",
            "text/plain": [
              "<Figure size 432x288 with 2 Axes>"
            ]
          },
          "metadata": {
            "tags": [],
            "needs_background": "light"
          }
        },
        {
          "output_type": "stream",
          "text": [
            "================================================================================\n",
            "The average f1-micro average of the kNN classifier is:  0.9508524036246352\n",
            "The average f1-macro average of the kNN classifier is:  0.5560859320753012\n",
            "The classification report:\n",
            "              precision    recall  f1-score   support\n",
            "\n",
            "    rejected       0.95      1.00      0.97     12383\n",
            "     granted       0.50      0.08      0.14       639\n",
            "\n",
            "    accuracy                           0.95     13022\n",
            "   macro avg       0.72      0.54      0.56     13022\n",
            "weighted avg       0.93      0.95      0.93     13022\n",
            "\n"
          ],
          "name": "stdout"
        },
        {
          "output_type": "display_data",
          "data": {
            "image/png": "[encoded data removed]",
            "text/plain": [
              "<Figure size 432x288 with 2 Axes>"
            ]
          },
          "metadata": {
            "tags": [],
            "needs_background": "light"
          }
        },
        {
          "output_type": "stream",
          "text": [
            "================================================================================\n",
            "The average f1-micro average of the mlp classifier is:  0.9263553985562893\n",
            "The average f1-macro average of the mlp classifier is:  0.5807837449568476\n",
            "The classification report:\n",
            "              precision    recall  f1-score   support\n",
            "\n",
            "    rejected       0.96      0.96      0.96     12383\n",
            "     granted       0.21      0.19      0.20       639\n",
            "\n",
            "    accuracy                           0.93     13022\n",
            "   macro avg       0.59      0.58      0.58     13022\n",
            "weighted avg       0.92      0.93      0.92     13022\n",
            "\n"
          ],
          "name": "stdout"
        },
        {
          "output_type": "display_data",
          "data": {
            "image/png": "[encoded data removed]",
            "text/plain": [
              "<Figure size 432x288 with 2 Axes>"
            ]
          },
          "metadata": {
            "tags": [],
            "needs_background": "light"
          }
        },
        {
          "output_type": "stream",
          "text": [
            "================================================================================\n",
            "The average f1-micro average of the svm classifier is:  0.9510059898633082\n",
            "The average f1-macro average of the svm classifier is:  0.48900542237442923\n",
            "The classification report:\n",
            "              precision    recall  f1-score   support\n",
            "\n",
            "    rejected       0.95      1.00      0.97     12383\n",
            "     granted       1.00      0.00      0.00       639\n",
            "\n",
            "    accuracy                           0.95     13022\n",
            "   macro avg       0.98      0.50      0.49     13022\n",
            "weighted avg       0.95      0.95      0.93     13022\n",
            "\n"
          ],
          "name": "stdout"
        },
        {
          "output_type": "display_data",
          "data": {
            "image/png": "[encoded data removed]",
            "text/plain": [
              "<Figure size 432x288 with 2 Axes>"
            ]
          },
          "metadata": {
            "tags": [],
            "needs_background": "light"
          }
        },
        {
          "output_type": "stream",
          "text": [
            "================================================================================\n",
            "5\n"
          ],
          "name": "stdout"
        }
      ]
    },
    {
      "cell_type": "markdown",
      "metadata": {
        "id": "YGwCeySQCfoq"
      },
      "source": [
        "####Σχολιασμός αποτελεσμάτων"
      ]
    },
    {
      "cell_type": "markdown",
      "metadata": {
        "id": "k7CEP3CS9UoF"
      },
      "source": [
        "Για την μελέτη των αποτελεσμάτων έχουν τυπωθεί οι τιμές f1-micro average και f1-macro average, τα classification reports και οι πίνακες σύγχυσης.\n",
        "Η εξήγηση των παραπάνω έχει γίνει στην μελέτη του μικρού dataset, οπότε ακολουθεί η ερμηνεία τους.\n",
        "\n",
        "Μελετώντας τα παραπάνω classification reports μπορούμε να βγάλουμε ορισμένα συμπεράσματα, αλλά και να καταλήξουμε αν τα αποτελέσματα από το train των classifiers με τις default τους τιμές είναι αναμενόμενο.\n",
        "\n",
        "* Για τον **Dummy Classifier**: Έχει χρησιμοποιηθεί η deafult στρατηγική του, δηλαδή η *stratified*, η οποία ταξινομεί το κάθε δείγμα ανεξάρτητα από τα χαρακτηριστικά του, λαμβάνοντας μόνον υπόψιν να διατηρείται σταθερή η κατανομή των κλάσεων και να είναι ίδια με αυτή στα train data. Όπως ήταν αναμενόμενο, και όπως φαίνεται και από τους πίνακες σύγχυσης, ο ταξινομητής έχει ταξινομήσει στην κλάση 0 (μη πτώχευση) 12415 δείγματα, δηλαδή το 95.3% των συνολικών δειγμάτων, ακριβώς όσο ήταν και η κατανομή 0 και 1 στο training data. Ακριβώς επειδή έχουν ταξινομηθεί τα περισσότερα δείγματα στην κλάση 0 και επειδή όντως τα περισσότερα ανήκαν σε αυτήν οι τιμές των **Precision** (κατά πόσο ήταν θετικά αυτά που το μοντέλο δήλωσε ως θετικά), **Recall** (ποσοστό από τα positives για την κάθε κλάση προβλέψαμε σωστά) και **f1 score** (ποσοστό των θετικών προβλέψεων που ήταν σωστά) είναι πολύ κοντά στη μονάδα. Παρόλα αυτά το ίδια δεν ισχύει καθόλου για τις παραπάνω τιμές της κλάσης 1.\n",
        "\n",
        "* Για τον **Gaussian Naive Bayes Classifier**: Παρατηρούμε ότι ταξινομεί τη συντριπτική πλειοψηφία των δειγμάτων στην κλάση 1.\n",
        "\n",
        "* Για τον **k_Nearest Neighbors Classifier**, όπου η default τιμή για την υπερπαράμετρο k είναι k=5, παρατηρούμε"
      ]
    },
    {
      "cell_type": "code",
      "metadata": {
        "id": "FsPVeetFzNJC",
        "colab": {
          "base_uri": "https://localhost:8080/",
          "height": 715
        },
        "outputId": "781f6a02-c2f3-445c-cf29-0dd4df5a72cc"
      },
      "source": [
        "# plot for f1-macro average\n",
        "fig = plt.figure()\n",
        "ax = fig.add_axes([0,0,1,1])\n",
        "clfs = f1_scores_default['preds'].keys()\n",
        "big_f1_macro = [f1_score(big_test_labels, pred, average='macro') for pred in big_scores_default['preds'].values()]\n",
        "ax.bar(clfs,big_f1_macro, color='cyan', width=0.3)\n",
        "plt.title(\"F1 Macro Average\")\n",
        "plt.xlabel(\"Classifiers\")\n",
        "plt.ylabel(\"F1 Macro Score\")\n",
        "plt.grid()\n",
        "plt.show()\n",
        "\n",
        "\n",
        "# plot for f1-micro average\n",
        "fig = plt.figure()\n",
        "ax = fig.add_axes([0,0,1,1])\n",
        "clfs = f1_scores_default['preds'].keys()\n",
        "big_f1_micro = [f1_score(big_test_labels, pred, average='micro') for pred in big_scores_default['preds'].values()]\n",
        "ax.bar(clfs,big_f1_micro, color='b', width=0.3)\n",
        "plt.title(\"F1 Micro Average\")\n",
        "plt.xlabel(\"Classifiers\")\n",
        "plt.ylabel(\"F1 Micro Score\")\n",
        "plt.grid()\n",
        "plt.show()\n"
      ],
      "execution_count": 195,
      "outputs": [
        {
          "output_type": "display_data",
          "data": {
            "image/png": "[encoded data removed]",
            "text/plain": [
              "<Figure size 432x288 with 1 Axes>"
            ]
          },
          "metadata": {
            "tags": [],
            "needs_background": "light"
          }
        },
        {
          "output_type": "display_data",
          "data": {
            "image/png": "[encoded data removed]",
            "text/plain": [
              "<Figure size 432x288 with 1 Axes>"
            ]
          },
          "metadata": {
            "tags": [],
            "needs_background": "light"
          }
        }
      ]
    },
    {
      "cell_type": "markdown",
      "metadata": {
        "id": "WosDKWA7CubW"
      },
      "source": [
        "##Βελτιστοποίηση ταξινομητών"
      ]
    },
    {
      "cell_type": "markdown",
      "metadata": {
        "id": "8tNVM0Z73x5-"
      },
      "source": [
        "Εκτελούμε τις παρακάτω εντολές για να βρούμε τη διακύμανση στις τιμές των διαφόρων χαρακτηριστικών:"
      ]
    },
    {
      "cell_type": "code",
      "metadata": {
        "id": "YZUXF8pHpiHE"
      },
      "source": [
        "# train_variance = i_train.var(axis=0)\n",
        "# print(train_variance)\n",
        "# print(np.max(train_variance))\n",
        "# print(train_variance.shape)"
      ],
      "execution_count": 196,
      "outputs": []
    },
    {
      "cell_type": "markdown",
      "metadata": {
        "id": "99g2ZY4rGdbL"
      },
      "source": [
        "###Μετρική απόδοσης f1-macro"
      ]
    },
    {
      "cell_type": "markdown",
      "metadata": {
        "id": "0pnEG1f9Gk5c"
      },
      "source": [
        "####Dummy"
      ]
    },
    {
      "cell_type": "code",
      "metadata": {
        "id": "Z8Amlu73NMLB"
      },
      "source": [
        "# dict that maps the transformer/classifier with the values of its arguments\n",
        "est_values_mapper = {\n",
        "    'selector': [0, 5, 10],\n",
        "    'pca': [5, 10, 20, 30],\n",
        "    'dummy': ['uniform', 'constant_0', 'constant_1', 'most_frequent', 'stratified'],\n",
        "    'kNN': [2, 5, 7, 9, 11]\n",
        "}"
      ],
      "execution_count": 197,
      "outputs": []
    },
    {
      "cell_type": "code",
      "metadata": {
        "colab": {
          "base_uri": "https://localhost:8080/",
          "height": 1000
        },
        "id": "ASf_9N4rH8aS",
        "outputId": "3ac990df-0a8b-477d-ff9b-d98772f8faf2"
      },
      "source": [
        "transformers = {\n",
        "    'selector': selector,\n",
        "    'scaler': scaler,\n",
        "    'min_max_scaler': min_max_scaler,\n",
        "    'ros': ros,\n",
        "    'rus': rus,\n",
        "    'pca': pca\n",
        "}\n",
        "\n",
        "\n",
        "big_scores_dummy = runEstimators(big_train, big_test, big_train_labels, big_test_labels, \n",
        "                                 my_transformers=transformers, my_classifiers={'dummy':dummy}, \n",
        "                                 est_values_mapper=est_values_mapper, cv=5, scoring='f1_macro')\n",
        "\n",
        "\n",
        "# compute f1-macro\n",
        "dummy_macro_big = {k: f1_score(big_test_labels, v, average='macro') for k,v in big_scores_dummy['preds'].items()}\n",
        "# get the estimator with the maximum f1-macro\n",
        "opt_dummy_macro = max(dummy_macro_big.items(), key=operator.itemgetter(1))[0]\n",
        "\n",
        "getResults(big_scores_dummy, opt_dummy_macro, big_test, big_test_labels, \"solvent\", \"bankrupt\")"
      ],
      "execution_count": 199,
      "outputs": [
        {
          "output_type": "stream",
          "text": [
            "Fitting 2 folds for each of 5 candidates, totalling 10 fits\n"
          ],
          "name": "stdout"
        },
        {
          "output_type": "stream",
          "text": [
            "[Parallel(n_jobs=-1)]: Using backend LokyBackend with 2 concurrent workers.\n",
            "[Parallel(n_jobs=-1)]: Done   1 tasks      | elapsed:    1.7s\n",
            "[Parallel(n_jobs=-1)]: Done   4 tasks      | elapsed:    1.8s\n",
            "[Parallel(n_jobs=-1)]: Done  10 out of  10 | elapsed:    2.0s finished\n",
            "[Parallel(n_jobs=-1)]: Using backend LokyBackend with 2 concurrent workers.\n",
            "[Parallel(n_jobs=-1)]: Done   1 tasks      | elapsed:    0.1s\n",
            "[Parallel(n_jobs=-1)]: Batch computation too fast (0.0660s.) Setting batch_size=2.\n"
          ],
          "name": "stderr"
        },
        {
          "output_type": "stream",
          "text": [
            "Fitting 2 folds for each of 5 candidates, totalling 10 fits\n"
          ],
          "name": "stdout"
        },
        {
          "output_type": "stream",
          "text": [
            "[Parallel(n_jobs=-1)]: Done   4 tasks      | elapsed:    0.1s\n",
            "[Parallel(n_jobs=-1)]: Batch computation too fast (0.0798s.) Setting batch_size=4.\n",
            "[Parallel(n_jobs=-1)]: Done  10 out of  10 | elapsed:    0.2s finished\n"
          ],
          "name": "stderr"
        },
        {
          "output_type": "stream",
          "text": [
            "Fitting 2 folds for each of 5 candidates, totalling 10 fits\n"
          ],
          "name": "stdout"
        },
        {
          "output_type": "stream",
          "text": [
            "[Parallel(n_jobs=-1)]: Using backend LokyBackend with 2 concurrent workers.\n",
            "[Parallel(n_jobs=-1)]: Done   1 tasks      | elapsed:    0.1s\n",
            "[Parallel(n_jobs=-1)]: Batch computation too fast (0.0657s.) Setting batch_size=2.\n",
            "[Parallel(n_jobs=-1)]: Done   4 tasks      | elapsed:    0.1s\n",
            "[Parallel(n_jobs=-1)]: Batch computation too fast (0.0780s.) Setting batch_size=4.\n",
            "[Parallel(n_jobs=-1)]: Done  10 out of  10 | elapsed:    0.2s finished\n",
            "[Parallel(n_jobs=-1)]: Using backend LokyBackend with 2 concurrent workers.\n",
            "[Parallel(n_jobs=-1)]: Done   1 tasks      | elapsed:    0.1s\n",
            "[Parallel(n_jobs=-1)]: Batch computation too fast (0.0715s.) Setting batch_size=2.\n"
          ],
          "name": "stderr"
        },
        {
          "output_type": "stream",
          "text": [
            "Fitting 2 folds for each of 5 candidates, totalling 10 fits\n"
          ],
          "name": "stdout"
        },
        {
          "output_type": "stream",
          "text": [
            "[Parallel(n_jobs=-1)]: Done   4 tasks      | elapsed:    0.1s\n",
            "[Parallel(n_jobs=-1)]: Batch computation too fast (0.0791s.) Setting batch_size=4.\n",
            "[Parallel(n_jobs=-1)]: Done  10 out of  10 | elapsed:    0.2s finished\n"
          ],
          "name": "stderr"
        },
        {
          "output_type": "stream",
          "text": [
            "Fitting 2 folds for each of 5 candidates, totalling 10 fits\n"
          ],
          "name": "stdout"
        },
        {
          "output_type": "stream",
          "text": [
            "[Parallel(n_jobs=-1)]: Using backend LokyBackend with 2 concurrent workers.\n",
            "[Parallel(n_jobs=-1)]: Done   1 tasks      | elapsed:    0.1s\n",
            "[Parallel(n_jobs=-1)]: Batch computation too fast (0.0655s.) Setting batch_size=2.\n",
            "[Parallel(n_jobs=-1)]: Done   4 tasks      | elapsed:    0.1s\n",
            "[Parallel(n_jobs=-1)]: Batch computation too fast (0.0792s.) Setting batch_size=4.\n",
            "[Parallel(n_jobs=-1)]: Done  10 out of  10 | elapsed:    0.2s finished\n",
            "[Parallel(n_jobs=-1)]: Using backend LokyBackend with 2 concurrent workers.\n",
            "[Parallel(n_jobs=-1)]: Done   1 tasks      | elapsed:    0.1s\n",
            "[Parallel(n_jobs=-1)]: Batch computation too fast (0.0693s.) Setting batch_size=2.\n"
          ],
          "name": "stderr"
        },
        {
          "output_type": "stream",
          "text": [
            "Fitting 2 folds for each of 5 candidates, totalling 10 fits\n"
          ],
          "name": "stdout"
        },
        {
          "output_type": "stream",
          "text": [
            "[Parallel(n_jobs=-1)]: Done   4 tasks      | elapsed:    0.1s\n",
            "[Parallel(n_jobs=-1)]: Batch computation too fast (0.0907s.) Setting batch_size=4.\n",
            "[Parallel(n_jobs=-1)]: Done  10 out of  10 | elapsed:    0.2s finished\n"
          ],
          "name": "stderr"
        },
        {
          "output_type": "stream",
          "text": [
            "Fitting 2 folds for each of 5 candidates, totalling 10 fits\n"
          ],
          "name": "stdout"
        },
        {
          "output_type": "stream",
          "text": [
            "[Parallel(n_jobs=-1)]: Using backend LokyBackend with 2 concurrent workers.\n",
            "[Parallel(n_jobs=-1)]: Done   1 tasks      | elapsed:    0.1s\n",
            "[Parallel(n_jobs=-1)]: Batch computation too fast (0.0660s.) Setting batch_size=2.\n",
            "[Parallel(n_jobs=-1)]: Done   4 tasks      | elapsed:    0.1s\n",
            "[Parallel(n_jobs=-1)]: Batch computation too fast (0.0987s.) Setting batch_size=4.\n",
            "[Parallel(n_jobs=-1)]: Done  10 out of  10 | elapsed:    0.2s finished\n",
            "[Parallel(n_jobs=-1)]: Using backend LokyBackend with 2 concurrent workers.\n"
          ],
          "name": "stderr"
        },
        {
          "output_type": "stream",
          "text": [
            "Fitting 2 folds for each of 15 candidates, totalling 30 fits\n"
          ],
          "name": "stdout"
        },
        {
          "output_type": "stream",
          "text": [
            "[Parallel(n_jobs=-1)]: Done   1 tasks      | elapsed:    0.2s\n",
            "[Parallel(n_jobs=-1)]: Done   4 tasks      | elapsed:    0.4s\n",
            "[Parallel(n_jobs=-1)]: Done   9 tasks      | elapsed:    0.9s\n",
            "[Parallel(n_jobs=-1)]: Done  14 tasks      | elapsed:    1.3s\n",
            "[Parallel(n_jobs=-1)]: Done  21 tasks      | elapsed:    1.9s\n",
            "[Parallel(n_jobs=-1)]: Done  30 out of  30 | elapsed:    2.7s finished\n"
          ],
          "name": "stderr"
        },
        {
          "output_type": "stream",
          "text": [
            "Fitting 2 folds for each of 15 candidates, totalling 30 fits\n"
          ],
          "name": "stdout"
        },
        {
          "output_type": "stream",
          "text": [
            "[Parallel(n_jobs=-1)]: Using backend LokyBackend with 2 concurrent workers.\n",
            "[Parallel(n_jobs=-1)]: Done   1 tasks      | elapsed:    0.2s\n",
            "[Parallel(n_jobs=-1)]: Batch computation too fast (0.1874s.) Setting batch_size=2.\n",
            "[Parallel(n_jobs=-1)]: Done   4 tasks      | elapsed:    0.4s\n",
            "[Parallel(n_jobs=-1)]: Done  14 tasks      | elapsed:    1.3s\n",
            "[Parallel(n_jobs=-1)]: Done  24 tasks      | elapsed:    2.1s\n",
            "[Parallel(n_jobs=-1)]: Done  27 out of  30 | elapsed:    2.4s remaining:    0.3s\n",
            "[Parallel(n_jobs=-1)]: Done  30 out of  30 | elapsed:    2.5s finished\n"
          ],
          "name": "stderr"
        },
        {
          "output_type": "stream",
          "text": [
            "Fitting 2 folds for each of 15 candidates, totalling 30 fits\n"
          ],
          "name": "stdout"
        },
        {
          "output_type": "stream",
          "text": [
            "[Parallel(n_jobs=-1)]: Using backend LokyBackend with 2 concurrent workers.\n",
            "[Parallel(n_jobs=-1)]: Done   1 tasks      | elapsed:    0.2s\n",
            "[Parallel(n_jobs=-1)]: Done   4 tasks      | elapsed:    0.4s\n",
            "[Parallel(n_jobs=-1)]: Done   9 tasks      | elapsed:    0.9s\n",
            "[Parallel(n_jobs=-1)]: Done  14 tasks      | elapsed:    1.3s\n",
            "[Parallel(n_jobs=-1)]: Done  21 tasks      | elapsed:    1.9s\n",
            "[Parallel(n_jobs=-1)]: Done  30 out of  30 | elapsed:    2.7s finished\n"
          ],
          "name": "stderr"
        },
        {
          "output_type": "stream",
          "text": [
            "Fitting 2 folds for each of 15 candidates, totalling 30 fits\n"
          ],
          "name": "stdout"
        },
        {
          "output_type": "stream",
          "text": [
            "[Parallel(n_jobs=-1)]: Using backend LokyBackend with 2 concurrent workers.\n",
            "[Parallel(n_jobs=-1)]: Done   1 tasks      | elapsed:    0.2s\n",
            "[Parallel(n_jobs=-1)]: Batch computation too fast (0.1853s.) Setting batch_size=2.\n",
            "[Parallel(n_jobs=-1)]: Done   4 tasks      | elapsed:    0.4s\n",
            "[Parallel(n_jobs=-1)]: Done  14 tasks      | elapsed:    1.3s\n",
            "[Parallel(n_jobs=-1)]: Done  24 tasks      | elapsed:    2.0s\n",
            "[Parallel(n_jobs=-1)]: Done  30 out of  30 | elapsed:    2.5s finished\n"
          ],
          "name": "stderr"
        },
        {
          "output_type": "stream",
          "text": [
            "Fitting 2 folds for each of 15 candidates, totalling 30 fits\n"
          ],
          "name": "stdout"
        },
        {
          "output_type": "stream",
          "text": [
            "[Parallel(n_jobs=-1)]: Using backend LokyBackend with 2 concurrent workers.\n",
            "[Parallel(n_jobs=-1)]: Done   1 tasks      | elapsed:    0.2s\n",
            "[Parallel(n_jobs=-1)]: Done   4 tasks      | elapsed:    0.4s\n",
            "[Parallel(n_jobs=-1)]: Done   9 tasks      | elapsed:    0.9s\n",
            "[Parallel(n_jobs=-1)]: Done  14 tasks      | elapsed:    1.3s\n",
            "[Parallel(n_jobs=-1)]: Done  21 tasks      | elapsed:    1.9s\n",
            "[Parallel(n_jobs=-1)]: Done  30 out of  30 | elapsed:    2.7s finished\n"
          ],
          "name": "stderr"
        },
        {
          "output_type": "stream",
          "text": [
            "Fitting 2 folds for each of 5 candidates, totalling 10 fits\n"
          ],
          "name": "stdout"
        },
        {
          "output_type": "stream",
          "text": [
            "[Parallel(n_jobs=-1)]: Using backend LokyBackend with 2 concurrent workers.\n",
            "[Parallel(n_jobs=-1)]: Done   1 tasks      | elapsed:    0.2s\n",
            "[Parallel(n_jobs=-1)]: Batch computation too fast (0.1935s.) Setting batch_size=2.\n",
            "[Parallel(n_jobs=-1)]: Done   4 tasks      | elapsed:    0.4s\n",
            "[Parallel(n_jobs=-1)]: Done  10 out of  10 | elapsed:    0.9s finished\n"
          ],
          "name": "stderr"
        },
        {
          "output_type": "stream",
          "text": [
            "Fitting 2 folds for each of 5 candidates, totalling 10 fits\n"
          ],
          "name": "stdout"
        },
        {
          "output_type": "stream",
          "text": [
            "[Parallel(n_jobs=-1)]: Using backend LokyBackend with 2 concurrent workers.\n",
            "[Parallel(n_jobs=-1)]: Done   1 tasks      | elapsed:    0.2s\n",
            "[Parallel(n_jobs=-1)]: Done   4 tasks      | elapsed:    0.4s\n",
            "[Parallel(n_jobs=-1)]: Done  10 out of  10 | elapsed:    0.9s finished\n"
          ],
          "name": "stderr"
        },
        {
          "output_type": "stream",
          "text": [
            "Fitting 2 folds for each of 5 candidates, totalling 10 fits\n"
          ],
          "name": "stdout"
        },
        {
          "output_type": "stream",
          "text": [
            "[Parallel(n_jobs=-1)]: Using backend LokyBackend with 2 concurrent workers.\n",
            "[Parallel(n_jobs=-1)]: Done   1 tasks      | elapsed:    0.2s\n",
            "[Parallel(n_jobs=-1)]: Done   4 tasks      | elapsed:    0.4s\n",
            "[Parallel(n_jobs=-1)]: Done  10 out of  10 | elapsed:    0.9s finished\n",
            "[Parallel(n_jobs=-1)]: Using backend LokyBackend with 2 concurrent workers.\n"
          ],
          "name": "stderr"
        },
        {
          "output_type": "stream",
          "text": [
            "Fitting 2 folds for each of 5 candidates, totalling 10 fits\n"
          ],
          "name": "stdout"
        },
        {
          "output_type": "stream",
          "text": [
            "[Parallel(n_jobs=-1)]: Done   1 tasks      | elapsed:    0.2s\n",
            "[Parallel(n_jobs=-1)]: Batch computation too fast (0.1993s.) Setting batch_size=2.\n",
            "[Parallel(n_jobs=-1)]: Done   4 tasks      | elapsed:    0.4s\n",
            "[Parallel(n_jobs=-1)]: Done  10 out of  10 | elapsed:    0.9s finished\n"
          ],
          "name": "stderr"
        },
        {
          "output_type": "stream",
          "text": [
            "Fitting 2 folds for each of 5 candidates, totalling 10 fits\n"
          ],
          "name": "stdout"
        },
        {
          "output_type": "stream",
          "text": [
            "[Parallel(n_jobs=-1)]: Using backend LokyBackend with 2 concurrent workers.\n",
            "[Parallel(n_jobs=-1)]: Done   1 tasks      | elapsed:    0.2s\n",
            "[Parallel(n_jobs=-1)]: Batch computation too fast (0.1864s.) Setting batch_size=2.\n",
            "[Parallel(n_jobs=-1)]: Done   4 tasks      | elapsed:    0.4s\n",
            "[Parallel(n_jobs=-1)]: Done  10 out of  10 | elapsed:    0.9s finished\n"
          ],
          "name": "stderr"
        },
        {
          "output_type": "stream",
          "text": [
            "Fitting 2 folds for each of 5 candidates, totalling 10 fits\n"
          ],
          "name": "stdout"
        },
        {
          "output_type": "stream",
          "text": [
            "[Parallel(n_jobs=-1)]: Using backend LokyBackend with 2 concurrent workers.\n",
            "[Parallel(n_jobs=-1)]: Done   1 tasks      | elapsed:    0.2s\n",
            "[Parallel(n_jobs=-1)]: Batch computation too fast (0.1873s.) Setting batch_size=2.\n",
            "[Parallel(n_jobs=-1)]: Done   4 tasks      | elapsed:    0.4s\n",
            "[Parallel(n_jobs=-1)]: Done  10 out of  10 | elapsed:    0.9s finished\n"
          ],
          "name": "stderr"
        },
        {
          "output_type": "stream",
          "text": [
            "Fitting 2 folds for each of 5 candidates, totalling 10 fits\n"
          ],
          "name": "stdout"
        },
        {
          "output_type": "stream",
          "text": [
            "[Parallel(n_jobs=-1)]: Using backend LokyBackend with 2 concurrent workers.\n",
            "[Parallel(n_jobs=-1)]: Done   1 tasks      | elapsed:    0.2s\n",
            "[Parallel(n_jobs=-1)]: Done   4 tasks      | elapsed:    0.5s\n",
            "[Parallel(n_jobs=-1)]: Done  10 out of  10 | elapsed:    1.0s finished\n"
          ],
          "name": "stderr"
        },
        {
          "output_type": "stream",
          "text": [
            "Fitting 2 folds for each of 5 candidates, totalling 10 fits\n"
          ],
          "name": "stdout"
        },
        {
          "output_type": "stream",
          "text": [
            "[Parallel(n_jobs=-1)]: Using backend LokyBackend with 2 concurrent workers.\n",
            "[Parallel(n_jobs=-1)]: Done   1 tasks      | elapsed:    0.2s\n",
            "[Parallel(n_jobs=-1)]: Batch computation too fast (0.1930s.) Setting batch_size=2.\n",
            "[Parallel(n_jobs=-1)]: Done   4 tasks      | elapsed:    0.4s\n",
            "[Parallel(n_jobs=-1)]: Done  10 out of  10 | elapsed:    0.9s finished\n"
          ],
          "name": "stderr"
        },
        {
          "output_type": "stream",
          "text": [
            "Fitting 2 folds for each of 15 candidates, totalling 30 fits\n"
          ],
          "name": "stdout"
        },
        {
          "output_type": "stream",
          "text": [
            "[Parallel(n_jobs=-1)]: Using backend LokyBackend with 2 concurrent workers.\n",
            "[Parallel(n_jobs=-1)]: Done   1 tasks      | elapsed:    0.2s\n",
            "[Parallel(n_jobs=-1)]: Done   4 tasks      | elapsed:    0.5s\n",
            "[Parallel(n_jobs=-1)]: Done   9 tasks      | elapsed:    1.1s\n",
            "[Parallel(n_jobs=-1)]: Done  14 tasks      | elapsed:    1.5s\n",
            "[Parallel(n_jobs=-1)]: Done  21 tasks      | elapsed:    2.2s\n",
            "[Parallel(n_jobs=-1)]: Done  30 out of  30 | elapsed:    3.2s finished\n"
          ],
          "name": "stderr"
        },
        {
          "output_type": "stream",
          "text": [
            "Fitting 2 folds for each of 15 candidates, totalling 30 fits\n"
          ],
          "name": "stdout"
        },
        {
          "output_type": "stream",
          "text": [
            "[Parallel(n_jobs=-1)]: Using backend LokyBackend with 2 concurrent workers.\n",
            "[Parallel(n_jobs=-1)]: Done   1 tasks      | elapsed:    0.2s\n",
            "[Parallel(n_jobs=-1)]: Done   4 tasks      | elapsed:    0.5s\n",
            "[Parallel(n_jobs=-1)]: Done   9 tasks      | elapsed:    1.1s\n",
            "[Parallel(n_jobs=-1)]: Done  14 tasks      | elapsed:    1.5s\n",
            "[Parallel(n_jobs=-1)]: Done  21 tasks      | elapsed:    2.3s\n",
            "[Parallel(n_jobs=-1)]: Done  30 out of  30 | elapsed:    3.2s finished\n"
          ],
          "name": "stderr"
        },
        {
          "output_type": "stream",
          "text": [
            "Fitting 2 folds for each of 15 candidates, totalling 30 fits\n"
          ],
          "name": "stdout"
        },
        {
          "output_type": "stream",
          "text": [
            "[Parallel(n_jobs=-1)]: Using backend LokyBackend with 2 concurrent workers.\n",
            "[Parallel(n_jobs=-1)]: Done   1 tasks      | elapsed:    0.3s\n",
            "[Parallel(n_jobs=-1)]: Done   4 tasks      | elapsed:    0.5s\n",
            "[Parallel(n_jobs=-1)]: Done   9 tasks      | elapsed:    1.1s\n",
            "[Parallel(n_jobs=-1)]: Done  14 tasks      | elapsed:    1.5s\n",
            "[Parallel(n_jobs=-1)]: Done  21 tasks      | elapsed:    2.3s\n",
            "[Parallel(n_jobs=-1)]: Done  30 out of  30 | elapsed:    3.2s finished\n"
          ],
          "name": "stderr"
        },
        {
          "output_type": "stream",
          "text": [
            "Fitting 2 folds for each of 15 candidates, totalling 30 fits\n"
          ],
          "name": "stdout"
        },
        {
          "output_type": "stream",
          "text": [
            "[Parallel(n_jobs=-1)]: Using backend LokyBackend with 2 concurrent workers.\n",
            "[Parallel(n_jobs=-1)]: Done   1 tasks      | elapsed:    0.2s\n",
            "[Parallel(n_jobs=-1)]: Done   4 tasks      | elapsed:    0.5s\n",
            "[Parallel(n_jobs=-1)]: Done   9 tasks      | elapsed:    1.0s\n",
            "[Parallel(n_jobs=-1)]: Done  14 tasks      | elapsed:    1.5s\n",
            "[Parallel(n_jobs=-1)]: Done  21 tasks      | elapsed:    2.2s\n",
            "[Parallel(n_jobs=-1)]: Done  30 out of  30 | elapsed:    3.1s finished\n"
          ],
          "name": "stderr"
        },
        {
          "output_type": "stream",
          "text": [
            "Fitting 2 folds for each of 15 candidates, totalling 30 fits\n"
          ],
          "name": "stdout"
        },
        {
          "output_type": "stream",
          "text": [
            "[Parallel(n_jobs=-1)]: Using backend LokyBackend with 2 concurrent workers.\n",
            "[Parallel(n_jobs=-1)]: Done   1 tasks      | elapsed:    0.2s\n",
            "[Parallel(n_jobs=-1)]: Done   4 tasks      | elapsed:    0.5s\n",
            "[Parallel(n_jobs=-1)]: Done   9 tasks      | elapsed:    1.1s\n",
            "[Parallel(n_jobs=-1)]: Done  14 tasks      | elapsed:    1.5s\n",
            "[Parallel(n_jobs=-1)]: Done  21 tasks      | elapsed:    2.3s\n",
            "[Parallel(n_jobs=-1)]: Done  30 out of  30 | elapsed:    3.2s finished\n"
          ],
          "name": "stderr"
        },
        {
          "output_type": "stream",
          "text": [
            "Fitting 2 folds for each of 15 candidates, totalling 30 fits\n"
          ],
          "name": "stdout"
        },
        {
          "output_type": "stream",
          "text": [
            "[Parallel(n_jobs=-1)]: Using backend LokyBackend with 2 concurrent workers.\n",
            "[Parallel(n_jobs=-1)]: Done   1 tasks      | elapsed:    0.2s\n",
            "[Parallel(n_jobs=-1)]: Done   4 tasks      | elapsed:    0.5s\n",
            "[Parallel(n_jobs=-1)]: Done   9 tasks      | elapsed:    1.1s\n",
            "[Parallel(n_jobs=-1)]: Done  14 tasks      | elapsed:    1.5s\n",
            "[Parallel(n_jobs=-1)]: Done  21 tasks      | elapsed:    2.3s\n",
            "[Parallel(n_jobs=-1)]: Done  30 out of  30 | elapsed:    3.2s finished\n"
          ],
          "name": "stderr"
        },
        {
          "output_type": "stream",
          "text": [
            "Fitting 2 folds for each of 15 candidates, totalling 30 fits\n"
          ],
          "name": "stdout"
        },
        {
          "output_type": "stream",
          "text": [
            "[Parallel(n_jobs=-1)]: Using backend LokyBackend with 2 concurrent workers.\n",
            "[Parallel(n_jobs=-1)]: Done   1 tasks      | elapsed:    0.2s\n",
            "[Parallel(n_jobs=-1)]: Done   4 tasks      | elapsed:    0.5s\n",
            "[Parallel(n_jobs=-1)]: Done   9 tasks      | elapsed:    1.0s\n",
            "[Parallel(n_jobs=-1)]: Done  14 tasks      | elapsed:    1.5s\n",
            "[Parallel(n_jobs=-1)]: Done  21 tasks      | elapsed:    2.2s\n",
            "[Parallel(n_jobs=-1)]: Done  30 out of  30 | elapsed:    3.2s finished\n"
          ],
          "name": "stderr"
        },
        {
          "output_type": "stream",
          "text": [
            "Fitting 2 folds for each of 15 candidates, totalling 30 fits\n"
          ],
          "name": "stdout"
        },
        {
          "output_type": "stream",
          "text": [
            "[Parallel(n_jobs=-1)]: Using backend LokyBackend with 2 concurrent workers.\n",
            "[Parallel(n_jobs=-1)]: Done   1 tasks      | elapsed:    0.2s\n",
            "[Parallel(n_jobs=-1)]: Done   4 tasks      | elapsed:    0.5s\n",
            "[Parallel(n_jobs=-1)]: Done   9 tasks      | elapsed:    1.0s\n",
            "[Parallel(n_jobs=-1)]: Done  14 tasks      | elapsed:    1.4s\n",
            "[Parallel(n_jobs=-1)]: Done  21 tasks      | elapsed:    2.1s\n",
            "[Parallel(n_jobs=-1)]: Done  30 out of  30 | elapsed:    3.0s finished\n"
          ],
          "name": "stderr"
        },
        {
          "output_type": "stream",
          "text": [
            "Fitting 2 folds for each of 5 candidates, totalling 10 fits\n"
          ],
          "name": "stdout"
        },
        {
          "output_type": "stream",
          "text": [
            "[Parallel(n_jobs=-1)]: Using backend LokyBackend with 2 concurrent workers.\n",
            "[Parallel(n_jobs=-1)]: Done   1 tasks      | elapsed:    0.2s\n",
            "[Parallel(n_jobs=-1)]: Done   4 tasks      | elapsed:    0.5s\n",
            "[Parallel(n_jobs=-1)]: Done  10 out of  10 | elapsed:    1.2s finished\n"
          ],
          "name": "stderr"
        },
        {
          "output_type": "stream",
          "text": [
            "Fitting 2 folds for each of 5 candidates, totalling 10 fits\n"
          ],
          "name": "stdout"
        },
        {
          "output_type": "stream",
          "text": [
            "[Parallel(n_jobs=-1)]: Using backend LokyBackend with 2 concurrent workers.\n",
            "[Parallel(n_jobs=-1)]: Done   1 tasks      | elapsed:    0.3s\n",
            "[Parallel(n_jobs=-1)]: Done   4 tasks      | elapsed:    0.5s\n",
            "[Parallel(n_jobs=-1)]: Done  10 out of  10 | elapsed:    1.1s finished\n"
          ],
          "name": "stderr"
        },
        {
          "output_type": "stream",
          "text": [
            "Fitting 2 folds for each of 5 candidates, totalling 10 fits\n"
          ],
          "name": "stdout"
        },
        {
          "output_type": "stream",
          "text": [
            "[Parallel(n_jobs=-1)]: Using backend LokyBackend with 2 concurrent workers.\n",
            "[Parallel(n_jobs=-1)]: Done   1 tasks      | elapsed:    0.3s\n",
            "[Parallel(n_jobs=-1)]: Done   4 tasks      | elapsed:    0.6s\n",
            "[Parallel(n_jobs=-1)]: Done  10 out of  10 | elapsed:    1.2s finished\n"
          ],
          "name": "stderr"
        },
        {
          "output_type": "stream",
          "text": [
            "Fitting 2 folds for each of 5 candidates, totalling 10 fits\n"
          ],
          "name": "stdout"
        },
        {
          "output_type": "stream",
          "text": [
            "[Parallel(n_jobs=-1)]: Using backend LokyBackend with 2 concurrent workers.\n",
            "[Parallel(n_jobs=-1)]: Done   1 tasks      | elapsed:    0.3s\n",
            "[Parallel(n_jobs=-1)]: Done   4 tasks      | elapsed:    0.5s\n",
            "[Parallel(n_jobs=-1)]: Done  10 out of  10 | elapsed:    1.1s finished\n"
          ],
          "name": "stderr"
        },
        {
          "output_type": "stream",
          "text": [
            "Fitting 2 folds for each of 15 candidates, totalling 30 fits\n"
          ],
          "name": "stdout"
        },
        {
          "output_type": "stream",
          "text": [
            "[Parallel(n_jobs=-1)]: Using backend LokyBackend with 2 concurrent workers.\n",
            "[Parallel(n_jobs=-1)]: Done   1 tasks      | elapsed:    0.3s\n",
            "[Parallel(n_jobs=-1)]: Done   4 tasks      | elapsed:    0.7s\n",
            "[Parallel(n_jobs=-1)]: Done   9 tasks      | elapsed:    1.4s\n",
            "[Parallel(n_jobs=-1)]: Done  14 tasks      | elapsed:    1.9s\n",
            "[Parallel(n_jobs=-1)]: Done  21 tasks      | elapsed:    2.7s\n",
            "[Parallel(n_jobs=-1)]: Done  30 out of  30 | elapsed:    3.8s finished\n"
          ],
          "name": "stderr"
        },
        {
          "output_type": "stream",
          "text": [
            "Fitting 2 folds for each of 15 candidates, totalling 30 fits\n"
          ],
          "name": "stdout"
        },
        {
          "output_type": "stream",
          "text": [
            "[Parallel(n_jobs=-1)]: Using backend LokyBackend with 2 concurrent workers.\n",
            "[Parallel(n_jobs=-1)]: Done   1 tasks      | elapsed:    0.3s\n",
            "[Parallel(n_jobs=-1)]: Done   4 tasks      | elapsed:    0.6s\n",
            "[Parallel(n_jobs=-1)]: Done   9 tasks      | elapsed:    1.3s\n",
            "[Parallel(n_jobs=-1)]: Done  14 tasks      | elapsed:    1.7s\n",
            "[Parallel(n_jobs=-1)]: Done  21 tasks      | elapsed:    2.7s\n",
            "[Parallel(n_jobs=-1)]: Done  30 out of  30 | elapsed:    3.6s finished\n"
          ],
          "name": "stderr"
        },
        {
          "output_type": "stream",
          "text": [
            "Fitting 2 folds for each of 15 candidates, totalling 30 fits\n"
          ],
          "name": "stdout"
        },
        {
          "output_type": "stream",
          "text": [
            "[Parallel(n_jobs=-1)]: Using backend LokyBackend with 2 concurrent workers.\n",
            "[Parallel(n_jobs=-1)]: Done   1 tasks      | elapsed:    0.3s\n",
            "[Parallel(n_jobs=-1)]: Done   4 tasks      | elapsed:    0.7s\n",
            "[Parallel(n_jobs=-1)]: Done   9 tasks      | elapsed:    1.3s\n",
            "[Parallel(n_jobs=-1)]: Done  14 tasks      | elapsed:    1.9s\n",
            "[Parallel(n_jobs=-1)]: Done  21 tasks      | elapsed:    2.8s\n",
            "[Parallel(n_jobs=-1)]: Done  30 out of  30 | elapsed:    3.9s finished\n"
          ],
          "name": "stderr"
        },
        {
          "output_type": "stream",
          "text": [
            "Fitting 2 folds for each of 15 candidates, totalling 30 fits\n"
          ],
          "name": "stdout"
        },
        {
          "output_type": "stream",
          "text": [
            "[Parallel(n_jobs=-1)]: Using backend LokyBackend with 2 concurrent workers.\n",
            "[Parallel(n_jobs=-1)]: Done   1 tasks      | elapsed:    0.2s\n",
            "[Parallel(n_jobs=-1)]: Done   4 tasks      | elapsed:    0.6s\n",
            "[Parallel(n_jobs=-1)]: Done   9 tasks      | elapsed:    1.2s\n",
            "[Parallel(n_jobs=-1)]: Done  14 tasks      | elapsed:    1.8s\n",
            "[Parallel(n_jobs=-1)]: Done  21 tasks      | elapsed:    2.5s\n",
            "[Parallel(n_jobs=-1)]: Done  30 out of  30 | elapsed:    3.6s finished\n"
          ],
          "name": "stderr"
        },
        {
          "output_type": "stream",
          "text": [
            "36\n",
            "\n",
            "=========================================================================\n",
            "RESULTS\n",
            "Best estimator is:  Pipeline(memory='tmp',\n",
            "         steps=[('scaler', StandardScaler()),\n",
            "                ('dummy', DummyClassifier(strategy='stratified'))])\n"
          ],
          "name": "stdout"
        },
        {
          "output_type": "display_data",
          "data": {
            "image/png": "[encoded data removed]",
            "text/plain": [
              "<Figure size 432x288 with 2 Axes>"
            ]
          },
          "metadata": {
            "tags": [],
            "needs_background": "light"
          }
        },
        {
          "output_type": "stream",
          "text": [
            "The average f1-micro average is:  0.506679494866576\n",
            "The average f1-macro average is:  0.9097680847796037\n",
            "Classification report:\n",
            "               precision    recall  f1-score   support\n",
            "\n",
            "     solvent       0.95      0.95      0.95     12383\n",
            "    bankrupt       0.06      0.06      0.06       639\n",
            "\n",
            "    accuracy                           0.91     13022\n",
            "   macro avg       0.51      0.51      0.51     13022\n",
            "weighted avg       0.91      0.91      0.91     13022\n",
            "\n",
            "Fit time:  1.205425500869751\n",
            "Predict time:  0.0051059722900390625\n"
          ],
          "name": "stdout"
        }
      ]
    },
    {
      "cell_type": "markdown",
      "metadata": {
        "id": "kRwpQk80Gz2A"
      },
      "source": [
        "####Gaussian Naive Bayes Classifier"
      ]
    },
    {
      "cell_type": "code",
      "metadata": {
        "colab": {
          "base_uri": "https://localhost:8080/",
          "height": 1000
        },
        "id": "gABsZQUjLQ1R",
        "outputId": "6c8db2ec-b95b-4d94-957d-53f10985c0e9"
      },
      "source": [
        "big_scores_gnb = runEstimators(big_train, big_test, big_train_labels, big_test_labels, \n",
        "                               my_transformers=transformers, my_classifiers={'gnb':gnb}, \n",
        "                               est_values_mapper=est_values_mapper, cv=5, scoring='f1_macro')\n",
        "\n",
        "\n",
        "\n",
        "# compute f1-macro\n",
        "gnb_macro_big = {k: f1_score(big_test_labels, v, average='macro') for k,v in big_scores_gnb['preds'].items()}\n",
        "# get the estimator with the maximum f1-macro\n",
        "opt_gnb_macro = max(gnb_macro_big.items(), key=operator.itemgetter(1))[0]\n",
        "\n",
        "getResults(big_scores_gnb, opt_gnb_macro, big_test, big_test_labels, \"solvent\", \"bankrupt\")"
      ],
      "execution_count": 200,
      "outputs": [
        {
          "output_type": "stream",
          "text": [
            "Fitting 2 folds for each of 1 candidates, totalling 2 fits\n"
          ],
          "name": "stdout"
        },
        {
          "output_type": "stream",
          "text": [
            "[Parallel(n_jobs=-1)]: Using backend LokyBackend with 2 concurrent workers.\n",
            "[Parallel(n_jobs=-1)]: Batch computation too fast (0.1122s.) Setting batch_size=2.\n",
            "[Parallel(n_jobs=-1)]: Done   2 out of   2 | elapsed:    0.1s remaining:    0.0s\n",
            "[Parallel(n_jobs=-1)]: Done   2 out of   2 | elapsed:    0.1s finished\n"
          ],
          "name": "stderr"
        },
        {
          "output_type": "stream",
          "text": [
            "Fitting 2 folds for each of 1 candidates, totalling 2 fits\n"
          ],
          "name": "stdout"
        },
        {
          "output_type": "stream",
          "text": [
            "[Parallel(n_jobs=-1)]: Using backend LokyBackend with 2 concurrent workers.\n",
            "[Parallel(n_jobs=-1)]: Batch computation too fast (0.1060s.) Setting batch_size=2.\n",
            "[Parallel(n_jobs=-1)]: Done   2 out of   2 | elapsed:    0.1s remaining:    0.0s\n",
            "[Parallel(n_jobs=-1)]: Done   2 out of   2 | elapsed:    0.1s finished\n"
          ],
          "name": "stderr"
        },
        {
          "output_type": "stream",
          "text": [
            "Fitting 2 folds for each of 1 candidates, totalling 2 fits\n"
          ],
          "name": "stdout"
        },
        {
          "output_type": "stream",
          "text": [
            "[Parallel(n_jobs=-1)]: Using backend LokyBackend with 2 concurrent workers.\n",
            "[Parallel(n_jobs=-1)]: Batch computation too fast (0.1028s.) Setting batch_size=2.\n",
            "[Parallel(n_jobs=-1)]: Done   2 out of   2 | elapsed:    0.1s remaining:    0.0s\n",
            "[Parallel(n_jobs=-1)]: Done   2 out of   2 | elapsed:    0.1s finished\n"
          ],
          "name": "stderr"
        },
        {
          "output_type": "stream",
          "text": [
            "Fitting 2 folds for each of 1 candidates, totalling 2 fits\n"
          ],
          "name": "stdout"
        },
        {
          "output_type": "stream",
          "text": [
            "[Parallel(n_jobs=-1)]: Using backend LokyBackend with 2 concurrent workers.\n",
            "[Parallel(n_jobs=-1)]: Batch computation too fast (0.1157s.) Setting batch_size=2.\n",
            "[Parallel(n_jobs=-1)]: Done   2 out of   2 | elapsed:    0.1s remaining:    0.0s\n",
            "[Parallel(n_jobs=-1)]: Done   2 out of   2 | elapsed:    0.1s finished\n"
          ],
          "name": "stderr"
        },
        {
          "output_type": "stream",
          "text": [
            "Fitting 2 folds for each of 1 candidates, totalling 2 fits\n"
          ],
          "name": "stdout"
        },
        {
          "output_type": "stream",
          "text": [
            "[Parallel(n_jobs=-1)]: Using backend LokyBackend with 2 concurrent workers.\n",
            "[Parallel(n_jobs=-1)]: Batch computation too fast (0.1025s.) Setting batch_size=2.\n",
            "[Parallel(n_jobs=-1)]: Done   2 out of   2 | elapsed:    0.1s remaining:    0.0s\n",
            "[Parallel(n_jobs=-1)]: Done   2 out of   2 | elapsed:    0.1s finished\n"
          ],
          "name": "stderr"
        },
        {
          "output_type": "stream",
          "text": [
            "Fitting 2 folds for each of 1 candidates, totalling 2 fits\n"
          ],
          "name": "stdout"
        },
        {
          "output_type": "stream",
          "text": [
            "[Parallel(n_jobs=-1)]: Using backend LokyBackend with 2 concurrent workers.\n",
            "[Parallel(n_jobs=-1)]: Batch computation too fast (0.1050s.) Setting batch_size=2.\n",
            "[Parallel(n_jobs=-1)]: Done   2 out of   2 | elapsed:    0.1s remaining:    0.0s\n",
            "[Parallel(n_jobs=-1)]: Done   2 out of   2 | elapsed:    0.1s finished\n"
          ],
          "name": "stderr"
        },
        {
          "output_type": "stream",
          "text": [
            "Fitting 2 folds for each of 1 candidates, totalling 2 fits\n"
          ],
          "name": "stdout"
        },
        {
          "output_type": "stream",
          "text": [
            "[Parallel(n_jobs=-1)]: Using backend LokyBackend with 2 concurrent workers.\n",
            "[Parallel(n_jobs=-1)]: Batch computation too fast (0.1042s.) Setting batch_size=2.\n",
            "[Parallel(n_jobs=-1)]: Done   2 out of   2 | elapsed:    0.1s remaining:    0.0s\n",
            "[Parallel(n_jobs=-1)]: Done   2 out of   2 | elapsed:    0.1s finished\n"
          ],
          "name": "stderr"
        },
        {
          "output_type": "stream",
          "text": [
            "Fitting 2 folds for each of 3 candidates, totalling 6 fits\n"
          ],
          "name": "stdout"
        },
        {
          "output_type": "stream",
          "text": [
            "[Parallel(n_jobs=-1)]: Using backend LokyBackend with 2 concurrent workers.\n",
            "[Parallel(n_jobs=-1)]: Done   1 tasks      | elapsed:    0.2s\n",
            "[Parallel(n_jobs=-1)]: Done   4 out of   6 | elapsed:    0.5s remaining:    0.3s\n",
            "[Parallel(n_jobs=-1)]: Done   6 out of   6 | elapsed:    0.7s remaining:    0.0s\n",
            "[Parallel(n_jobs=-1)]: Done   6 out of   6 | elapsed:    0.7s finished\n"
          ],
          "name": "stderr"
        },
        {
          "output_type": "stream",
          "text": [
            "Fitting 2 folds for each of 3 candidates, totalling 6 fits\n"
          ],
          "name": "stdout"
        },
        {
          "output_type": "stream",
          "text": [
            "[Parallel(n_jobs=-1)]: Using backend LokyBackend with 2 concurrent workers.\n",
            "[Parallel(n_jobs=-1)]: Done   1 tasks      | elapsed:    0.2s\n",
            "[Parallel(n_jobs=-1)]: Done   4 out of   6 | elapsed:    0.5s remaining:    0.3s\n",
            "[Parallel(n_jobs=-1)]: Done   6 out of   6 | elapsed:    0.7s remaining:    0.0s\n",
            "[Parallel(n_jobs=-1)]: Done   6 out of   6 | elapsed:    0.7s finished\n"
          ],
          "name": "stderr"
        },
        {
          "output_type": "stream",
          "text": [
            "Fitting 2 folds for each of 3 candidates, totalling 6 fits\n"
          ],
          "name": "stdout"
        },
        {
          "output_type": "stream",
          "text": [
            "[Parallel(n_jobs=-1)]: Using backend LokyBackend with 2 concurrent workers.\n",
            "[Parallel(n_jobs=-1)]: Done   1 tasks      | elapsed:    0.2s\n",
            "[Parallel(n_jobs=-1)]: Done   4 out of   6 | elapsed:    0.5s remaining:    0.3s\n",
            "[Parallel(n_jobs=-1)]: Done   6 out of   6 | elapsed:    0.7s remaining:    0.0s\n",
            "[Parallel(n_jobs=-1)]: Done   6 out of   6 | elapsed:    0.7s finished\n"
          ],
          "name": "stderr"
        },
        {
          "output_type": "stream",
          "text": [
            "Fitting 2 folds for each of 3 candidates, totalling 6 fits\n"
          ],
          "name": "stdout"
        },
        {
          "output_type": "stream",
          "text": [
            "[Parallel(n_jobs=-1)]: Using backend LokyBackend with 2 concurrent workers.\n",
            "[Parallel(n_jobs=-1)]: Done   1 tasks      | elapsed:    0.2s\n",
            "[Parallel(n_jobs=-1)]: Done   4 out of   6 | elapsed:    0.5s remaining:    0.3s\n",
            "[Parallel(n_jobs=-1)]: Done   6 out of   6 | elapsed:    0.7s remaining:    0.0s\n",
            "[Parallel(n_jobs=-1)]: Done   6 out of   6 | elapsed:    0.7s finished\n"
          ],
          "name": "stderr"
        },
        {
          "output_type": "stream",
          "text": [
            "Fitting 2 folds for each of 3 candidates, totalling 6 fits\n"
          ],
          "name": "stdout"
        },
        {
          "output_type": "stream",
          "text": [
            "[Parallel(n_jobs=-1)]: Using backend LokyBackend with 2 concurrent workers.\n",
            "[Parallel(n_jobs=-1)]: Done   1 tasks      | elapsed:    0.2s\n",
            "[Parallel(n_jobs=-1)]: Done   4 out of   6 | elapsed:    0.5s remaining:    0.3s\n",
            "[Parallel(n_jobs=-1)]: Done   6 out of   6 | elapsed:    0.7s remaining:    0.0s\n",
            "[Parallel(n_jobs=-1)]: Done   6 out of   6 | elapsed:    0.7s finished\n"
          ],
          "name": "stderr"
        },
        {
          "output_type": "stream",
          "text": [
            "Fitting 2 folds for each of 1 candidates, totalling 2 fits\n"
          ],
          "name": "stdout"
        },
        {
          "output_type": "stream",
          "text": [
            "[Parallel(n_jobs=-1)]: Using backend LokyBackend with 2 concurrent workers.\n",
            "[Parallel(n_jobs=-1)]: Done   2 out of   2 | elapsed:    0.3s remaining:    0.0s\n",
            "[Parallel(n_jobs=-1)]: Done   2 out of   2 | elapsed:    0.3s finished\n"
          ],
          "name": "stderr"
        },
        {
          "output_type": "stream",
          "text": [
            "Fitting 2 folds for each of 1 candidates, totalling 2 fits\n"
          ],
          "name": "stdout"
        },
        {
          "output_type": "stream",
          "text": [
            "[Parallel(n_jobs=-1)]: Using backend LokyBackend with 2 concurrent workers.\n",
            "[Parallel(n_jobs=-1)]: Done   2 out of   2 | elapsed:    0.3s remaining:    0.0s\n",
            "[Parallel(n_jobs=-1)]: Done   2 out of   2 | elapsed:    0.3s finished\n"
          ],
          "name": "stderr"
        },
        {
          "output_type": "stream",
          "text": [
            "Fitting 2 folds for each of 1 candidates, totalling 2 fits\n"
          ],
          "name": "stdout"
        },
        {
          "output_type": "stream",
          "text": [
            "[Parallel(n_jobs=-1)]: Using backend LokyBackend with 2 concurrent workers.\n",
            "[Parallel(n_jobs=-1)]: Done   2 out of   2 | elapsed:    0.3s remaining:    0.0s\n",
            "[Parallel(n_jobs=-1)]: Done   2 out of   2 | elapsed:    0.3s finished\n"
          ],
          "name": "stderr"
        },
        {
          "output_type": "stream",
          "text": [
            "Fitting 2 folds for each of 1 candidates, totalling 2 fits\n"
          ],
          "name": "stdout"
        },
        {
          "output_type": "stream",
          "text": [
            "[Parallel(n_jobs=-1)]: Using backend LokyBackend with 2 concurrent workers.\n",
            "[Parallel(n_jobs=-1)]: Done   2 out of   2 | elapsed:    0.3s remaining:    0.0s\n",
            "[Parallel(n_jobs=-1)]: Done   2 out of   2 | elapsed:    0.3s finished\n"
          ],
          "name": "stderr"
        },
        {
          "output_type": "stream",
          "text": [
            "Fitting 2 folds for each of 1 candidates, totalling 2 fits\n"
          ],
          "name": "stdout"
        },
        {
          "output_type": "stream",
          "text": [
            "[Parallel(n_jobs=-1)]: Using backend LokyBackend with 2 concurrent workers.\n",
            "[Parallel(n_jobs=-1)]: Done   2 out of   2 | elapsed:    0.3s remaining:    0.0s\n",
            "[Parallel(n_jobs=-1)]: Done   2 out of   2 | elapsed:    0.3s finished\n"
          ],
          "name": "stderr"
        },
        {
          "output_type": "stream",
          "text": [
            "Fitting 2 folds for each of 1 candidates, totalling 2 fits\n"
          ],
          "name": "stdout"
        },
        {
          "output_type": "stream",
          "text": [
            "[Parallel(n_jobs=-1)]: Using backend LokyBackend with 2 concurrent workers.\n",
            "[Parallel(n_jobs=-1)]: Done   2 out of   2 | elapsed:    0.3s remaining:    0.0s\n",
            "[Parallel(n_jobs=-1)]: Done   2 out of   2 | elapsed:    0.3s finished\n"
          ],
          "name": "stderr"
        },
        {
          "output_type": "stream",
          "text": [
            "Fitting 2 folds for each of 1 candidates, totalling 2 fits\n"
          ],
          "name": "stdout"
        },
        {
          "output_type": "stream",
          "text": [
            "[Parallel(n_jobs=-1)]: Using backend LokyBackend with 2 concurrent workers.\n",
            "[Parallel(n_jobs=-1)]: Done   2 out of   2 | elapsed:    0.3s remaining:    0.0s\n",
            "[Parallel(n_jobs=-1)]: Done   2 out of   2 | elapsed:    0.3s finished\n"
          ],
          "name": "stderr"
        },
        {
          "output_type": "stream",
          "text": [
            "Fitting 2 folds for each of 1 candidates, totalling 2 fits\n"
          ],
          "name": "stdout"
        },
        {
          "output_type": "stream",
          "text": [
            "[Parallel(n_jobs=-1)]: Using backend LokyBackend with 2 concurrent workers.\n",
            "[Parallel(n_jobs=-1)]: Done   2 out of   2 | elapsed:    0.2s remaining:    0.0s\n",
            "[Parallel(n_jobs=-1)]: Done   2 out of   2 | elapsed:    0.2s finished\n"
          ],
          "name": "stderr"
        },
        {
          "output_type": "stream",
          "text": [
            "Fitting 2 folds for each of 3 candidates, totalling 6 fits\n"
          ],
          "name": "stdout"
        },
        {
          "output_type": "stream",
          "text": [
            "[Parallel(n_jobs=-1)]: Using backend LokyBackend with 2 concurrent workers.\n",
            "[Parallel(n_jobs=-1)]: Done   1 tasks      | elapsed:    0.3s\n",
            "[Parallel(n_jobs=-1)]: Done   4 out of   6 | elapsed:    0.6s remaining:    0.3s\n",
            "[Parallel(n_jobs=-1)]: Done   6 out of   6 | elapsed:    0.8s remaining:    0.0s\n",
            "[Parallel(n_jobs=-1)]: Done   6 out of   6 | elapsed:    0.8s finished\n"
          ],
          "name": "stderr"
        },
        {
          "output_type": "stream",
          "text": [
            "Fitting 2 folds for each of 3 candidates, totalling 6 fits\n"
          ],
          "name": "stdout"
        },
        {
          "output_type": "stream",
          "text": [
            "[Parallel(n_jobs=-1)]: Using backend LokyBackend with 2 concurrent workers.\n",
            "[Parallel(n_jobs=-1)]: Done   1 tasks      | elapsed:    0.3s\n",
            "[Parallel(n_jobs=-1)]: Done   4 out of   6 | elapsed:    0.6s remaining:    0.3s\n",
            "[Parallel(n_jobs=-1)]: Done   6 out of   6 | elapsed:    0.8s remaining:    0.0s\n",
            "[Parallel(n_jobs=-1)]: Done   6 out of   6 | elapsed:    0.8s finished\n"
          ],
          "name": "stderr"
        },
        {
          "output_type": "stream",
          "text": [
            "Fitting 2 folds for each of 3 candidates, totalling 6 fits\n"
          ],
          "name": "stdout"
        },
        {
          "output_type": "stream",
          "text": [
            "[Parallel(n_jobs=-1)]: Using backend LokyBackend with 2 concurrent workers.\n",
            "[Parallel(n_jobs=-1)]: Done   1 tasks      | elapsed:    0.3s\n",
            "[Parallel(n_jobs=-1)]: Done   4 out of   6 | elapsed:    0.6s remaining:    0.3s\n",
            "[Parallel(n_jobs=-1)]: Done   6 out of   6 | elapsed:    0.8s remaining:    0.0s\n",
            "[Parallel(n_jobs=-1)]: Done   6 out of   6 | elapsed:    0.8s finished\n"
          ],
          "name": "stderr"
        },
        {
          "output_type": "stream",
          "text": [
            "Fitting 2 folds for each of 3 candidates, totalling 6 fits\n"
          ],
          "name": "stdout"
        },
        {
          "output_type": "stream",
          "text": [
            "[Parallel(n_jobs=-1)]: Using backend LokyBackend with 2 concurrent workers.\n",
            "[Parallel(n_jobs=-1)]: Done   1 tasks      | elapsed:    0.3s\n",
            "[Parallel(n_jobs=-1)]: Done   4 out of   6 | elapsed:    0.6s remaining:    0.3s\n",
            "[Parallel(n_jobs=-1)]: Done   6 out of   6 | elapsed:    0.8s remaining:    0.0s\n",
            "[Parallel(n_jobs=-1)]: Done   6 out of   6 | elapsed:    0.8s finished\n"
          ],
          "name": "stderr"
        },
        {
          "output_type": "stream",
          "text": [
            "Fitting 2 folds for each of 3 candidates, totalling 6 fits\n"
          ],
          "name": "stdout"
        },
        {
          "output_type": "stream",
          "text": [
            "[Parallel(n_jobs=-1)]: Using backend LokyBackend with 2 concurrent workers.\n",
            "[Parallel(n_jobs=-1)]: Done   1 tasks      | elapsed:    0.3s\n",
            "[Parallel(n_jobs=-1)]: Done   4 out of   6 | elapsed:    0.6s remaining:    0.3s\n",
            "[Parallel(n_jobs=-1)]: Done   6 out of   6 | elapsed:    0.8s remaining:    0.0s\n",
            "[Parallel(n_jobs=-1)]: Done   6 out of   6 | elapsed:    0.8s finished\n"
          ],
          "name": "stderr"
        },
        {
          "output_type": "stream",
          "text": [
            "Fitting 2 folds for each of 3 candidates, totalling 6 fits\n"
          ],
          "name": "stdout"
        },
        {
          "output_type": "stream",
          "text": [
            "[Parallel(n_jobs=-1)]: Using backend LokyBackend with 2 concurrent workers.\n",
            "[Parallel(n_jobs=-1)]: Done   1 tasks      | elapsed:    0.3s\n",
            "[Parallel(n_jobs=-1)]: Done   4 out of   6 | elapsed:    0.6s remaining:    0.3s\n",
            "[Parallel(n_jobs=-1)]: Done   6 out of   6 | elapsed:    0.8s remaining:    0.0s\n",
            "[Parallel(n_jobs=-1)]: Done   6 out of   6 | elapsed:    0.8s finished\n"
          ],
          "name": "stderr"
        },
        {
          "output_type": "stream",
          "text": [
            "Fitting 2 folds for each of 3 candidates, totalling 6 fits\n"
          ],
          "name": "stdout"
        },
        {
          "output_type": "stream",
          "text": [
            "[Parallel(n_jobs=-1)]: Using backend LokyBackend with 2 concurrent workers.\n",
            "[Parallel(n_jobs=-1)]: Done   1 tasks      | elapsed:    0.3s\n",
            "[Parallel(n_jobs=-1)]: Done   4 out of   6 | elapsed:    0.6s remaining:    0.3s\n",
            "[Parallel(n_jobs=-1)]: Done   6 out of   6 | elapsed:    0.9s remaining:    0.0s\n",
            "[Parallel(n_jobs=-1)]: Done   6 out of   6 | elapsed:    0.9s finished\n"
          ],
          "name": "stderr"
        },
        {
          "output_type": "stream",
          "text": [
            "Fitting 2 folds for each of 3 candidates, totalling 6 fits\n"
          ],
          "name": "stdout"
        },
        {
          "output_type": "stream",
          "text": [
            "[Parallel(n_jobs=-1)]: Using backend LokyBackend with 2 concurrent workers.\n",
            "[Parallel(n_jobs=-1)]: Done   1 tasks      | elapsed:    0.2s\n",
            "[Parallel(n_jobs=-1)]: Done   4 out of   6 | elapsed:    0.5s remaining:    0.3s\n",
            "[Parallel(n_jobs=-1)]: Done   6 out of   6 | elapsed:    0.7s remaining:    0.0s\n",
            "[Parallel(n_jobs=-1)]: Done   6 out of   6 | elapsed:    0.7s finished\n"
          ],
          "name": "stderr"
        },
        {
          "output_type": "stream",
          "text": [
            "Fitting 2 folds for each of 1 candidates, totalling 2 fits\n"
          ],
          "name": "stdout"
        },
        {
          "output_type": "stream",
          "text": [
            "[Parallel(n_jobs=-1)]: Using backend LokyBackend with 2 concurrent workers.\n",
            "[Parallel(n_jobs=-1)]: Done   2 out of   2 | elapsed:    0.3s remaining:    0.0s\n",
            "[Parallel(n_jobs=-1)]: Done   2 out of   2 | elapsed:    0.3s finished\n"
          ],
          "name": "stderr"
        },
        {
          "output_type": "stream",
          "text": [
            "Fitting 2 folds for each of 1 candidates, totalling 2 fits\n"
          ],
          "name": "stdout"
        },
        {
          "output_type": "stream",
          "text": [
            "[Parallel(n_jobs=-1)]: Using backend LokyBackend with 2 concurrent workers.\n",
            "[Parallel(n_jobs=-1)]: Done   2 out of   2 | elapsed:    0.3s remaining:    0.0s\n",
            "[Parallel(n_jobs=-1)]: Done   2 out of   2 | elapsed:    0.3s finished\n"
          ],
          "name": "stderr"
        },
        {
          "output_type": "stream",
          "text": [
            "Fitting 2 folds for each of 1 candidates, totalling 2 fits\n"
          ],
          "name": "stdout"
        },
        {
          "output_type": "stream",
          "text": [
            "[Parallel(n_jobs=-1)]: Using backend LokyBackend with 2 concurrent workers.\n",
            "[Parallel(n_jobs=-1)]: Done   2 out of   2 | elapsed:    0.3s remaining:    0.0s\n",
            "[Parallel(n_jobs=-1)]: Done   2 out of   2 | elapsed:    0.3s finished\n"
          ],
          "name": "stderr"
        },
        {
          "output_type": "stream",
          "text": [
            "Fitting 2 folds for each of 1 candidates, totalling 2 fits\n"
          ],
          "name": "stdout"
        },
        {
          "output_type": "stream",
          "text": [
            "[Parallel(n_jobs=-1)]: Using backend LokyBackend with 2 concurrent workers.\n",
            "[Parallel(n_jobs=-1)]: Done   2 out of   2 | elapsed:    0.3s remaining:    0.0s\n",
            "[Parallel(n_jobs=-1)]: Done   2 out of   2 | elapsed:    0.3s finished\n"
          ],
          "name": "stderr"
        },
        {
          "output_type": "stream",
          "text": [
            "Fitting 2 folds for each of 3 candidates, totalling 6 fits\n"
          ],
          "name": "stdout"
        },
        {
          "output_type": "stream",
          "text": [
            "[Parallel(n_jobs=-1)]: Using backend LokyBackend with 2 concurrent workers.\n",
            "[Parallel(n_jobs=-1)]: Done   1 tasks      | elapsed:    0.3s\n",
            "[Parallel(n_jobs=-1)]: Done   4 out of   6 | elapsed:    0.7s remaining:    0.4s\n",
            "[Parallel(n_jobs=-1)]: Done   6 out of   6 | elapsed:    1.0s remaining:    0.0s\n",
            "[Parallel(n_jobs=-1)]: Done   6 out of   6 | elapsed:    1.0s finished\n"
          ],
          "name": "stderr"
        },
        {
          "output_type": "stream",
          "text": [
            "Fitting 2 folds for each of 3 candidates, totalling 6 fits\n"
          ],
          "name": "stdout"
        },
        {
          "output_type": "stream",
          "text": [
            "[Parallel(n_jobs=-1)]: Using backend LokyBackend with 2 concurrent workers.\n",
            "[Parallel(n_jobs=-1)]: Done   1 tasks      | elapsed:    0.3s\n",
            "[Parallel(n_jobs=-1)]: Done   4 out of   6 | elapsed:    0.6s remaining:    0.3s\n",
            "[Parallel(n_jobs=-1)]: Done   6 out of   6 | elapsed:    0.8s remaining:    0.0s\n",
            "[Parallel(n_jobs=-1)]: Done   6 out of   6 | elapsed:    0.8s finished\n"
          ],
          "name": "stderr"
        },
        {
          "output_type": "stream",
          "text": [
            "Fitting 2 folds for each of 3 candidates, totalling 6 fits\n"
          ],
          "name": "stdout"
        },
        {
          "output_type": "stream",
          "text": [
            "[Parallel(n_jobs=-1)]: Using backend LokyBackend with 2 concurrent workers.\n",
            "[Parallel(n_jobs=-1)]: Done   1 tasks      | elapsed:    0.3s\n",
            "[Parallel(n_jobs=-1)]: Done   4 out of   6 | elapsed:    0.7s remaining:    0.3s\n",
            "[Parallel(n_jobs=-1)]: Done   6 out of   6 | elapsed:    1.0s remaining:    0.0s\n",
            "[Parallel(n_jobs=-1)]: Done   6 out of   6 | elapsed:    1.0s finished\n"
          ],
          "name": "stderr"
        },
        {
          "output_type": "stream",
          "text": [
            "Fitting 2 folds for each of 3 candidates, totalling 6 fits\n"
          ],
          "name": "stdout"
        },
        {
          "output_type": "stream",
          "text": [
            "[Parallel(n_jobs=-1)]: Using backend LokyBackend with 2 concurrent workers.\n",
            "[Parallel(n_jobs=-1)]: Done   1 tasks      | elapsed:    0.3s\n",
            "[Parallel(n_jobs=-1)]: Done   4 out of   6 | elapsed:    0.6s remaining:    0.3s\n",
            "[Parallel(n_jobs=-1)]: Done   6 out of   6 | elapsed:    0.8s remaining:    0.0s\n",
            "[Parallel(n_jobs=-1)]: Done   6 out of   6 | elapsed:    0.8s finished\n"
          ],
          "name": "stderr"
        },
        {
          "output_type": "stream",
          "text": [
            "36\n",
            "\n",
            "=========================================================================\n",
            "RESULTS\n",
            "Best estimator is:  Pipeline(memory='tmp',\n",
            "         steps=[('selector', VarianceThreshold(threshold=5)),\n",
            "                ('scaler', StandardScaler()), ('rus', RandomUnderSampler()),\n",
            "                ('gnb', GaussianNB())])\n"
          ],
          "name": "stdout"
        },
        {
          "output_type": "display_data",
          "data": {
            "image/png": "[encoded data removed]",
            "text/plain": [
              "<Figure size 432x288 with 2 Axes>"
            ]
          },
          "metadata": {
            "tags": [],
            "needs_background": "light"
          }
        },
        {
          "output_type": "stream",
          "text": [
            "The average f1-micro average is:  0.5470606395737935\n",
            "The average f1-macro average is:  0.9158347412071879\n",
            "Classification report:\n",
            "               precision    recall  f1-score   support\n",
            "\n",
            "     solvent       0.96      0.96      0.96     12383\n",
            "    bankrupt       0.14      0.14      0.14       639\n",
            "\n",
            "    accuracy                           0.92     13022\n",
            "   macro avg       0.55      0.55      0.55     13022\n",
            "weighted avg       0.92      0.92      0.92     13022\n",
            "\n",
            "Fit time:  1.2320890426635742\n",
            "Predict time:  0.01522064208984375\n"
          ],
          "name": "stdout"
        }
      ]
    },
    {
      "cell_type": "markdown",
      "metadata": {
        "id": "2gnM4tABG3tn"
      },
      "source": [
        "####k_Nearest Neighbors Classifier"
      ]
    },
    {
      "cell_type": "code",
      "metadata": {
        "id": "Deuql4dhOsQm"
      },
      "source": [
        "# big_scores_knn = runEstimators(big_train, big_test, big_train_labels, big_test_labels, \n",
        "#                                my_transformers=transformers, my_classifiers={'kNN':knn}, \n",
        "#                                est_values_mapper=est_values_mapper, cv=5, scoring='f1_macro')\n",
        "# macros = [(k,v) for k, v in sorted(big_scores_knn['macro'].items(), key=lambda item: item[1], reverse=True)]\n",
        "# print(macros)\n",
        "# getResults(big_scores_knn, macros, big_test, big_test_labels, \"solvent\", \"bankrupt\")"
      ],
      "execution_count": 201,
      "outputs": []
    },
    {
      "cell_type": "markdown",
      "metadata": {
        "id": "UYwa0OuauCn8"
      },
      "source": [
        "Βλέπουμε ότι ο καλύτερος ταξινομητής προέκυψυε με κανονικοποιήση Min-Max, RandomOverSampling και παράμετρο k του ταξινομητή kNN k=2. Ωστόσο, η παράμετρος αυτή ήταν η ελάχιστη που έχουμε θέσει στο σύνολο των τιμών της παράμετρου k για δοκιμή στο Cross Validation. Επομένως, θα ξανατρέξουμε τη συνάρτηση για τις τιμές: k = [1,2,3,4]. \n",
        "\n",
        "Αυτό θα μας κοστίσει χρονικά, ωστόσο θα επιλέξουμε με σιγουριά την καλύτερη δυνατή τιμή για το k."
      ]
    },
    {
      "cell_type": "code",
      "metadata": {
        "colab": {
          "base_uri": "https://localhost:8080/",
          "height": 382
        },
        "id": "hJEOo6rJu7v7",
        "outputId": "db334789-75a1-460e-ea08-f6ffa3bd253a"
      },
      "source": [
        "optimize_knn_macro = {\n",
        "    'selector': [0, 5, 10],\n",
        "    'pca': [5, 10, 20, 30],\n",
        "    'kNN': {\n",
        "        \"kNN\":[i for i in range(1, 51, 2)]\n",
        "}\n",
        "\n",
        "\n",
        "big_scores_knn = runEstimators(big_train, big_test, big_train_labels, big_test_labels, \n",
        "                               my_transformers=transformers, my_classifiers={'kNN':knn}, \n",
        "                               est_values_mapper=optimize_knn_macro, cv=5, scoring='f1_macro')\n",
        "\n",
        "\n",
        "# compute f1-macro\n",
        "knn_macro_big = {k: f1_score(big_test_labels, v, average='macro') for k,v in big_scores_knn['preds'].items()}\n",
        "# get the estimator with the maximum f1-macro\n",
        "opt_knn_macro = max(knn_macro_big.items(), key=operator.itemgetter(1))[0]\n",
        "\n",
        "getResults(big_scores_knn, opt_knn_macro, big_test, big_test_labels, \"solvent\", \"bankrupt\")"
      ],
      "execution_count": 202,
      "outputs": [
        {
          "output_type": "error",
          "ename": "IndexError",
          "evalue": "ignored",
          "traceback": [
            "\u001b[0;31m---------------------------------------------------------------------------\u001b[0m",
            "\u001b[0;31mIndexError\u001b[0m                                Traceback (most recent call last)",
            "\u001b[0;32m<ipython-input-202-57e1582dbb6c>\u001b[0m in \u001b[0;36m<module>\u001b[0;34m()\u001b[0m\n\u001b[1;32m      8\u001b[0m big_scores_knn = runEstimators(big_train, big_test, big_train_labels, big_test_labels, \n\u001b[1;32m      9\u001b[0m                                \u001b[0mmy_transformers\u001b[0m\u001b[0;34m=\u001b[0m\u001b[0mtransformers\u001b[0m\u001b[0;34m,\u001b[0m \u001b[0mmy_classifiers\u001b[0m\u001b[0;34m=\u001b[0m\u001b[0;34m{\u001b[0m\u001b[0;34m'kNN'\u001b[0m\u001b[0;34m:\u001b[0m\u001b[0mknn\u001b[0m\u001b[0;34m}\u001b[0m\u001b[0;34m,\u001b[0m\u001b[0;34m\u001b[0m\u001b[0;34m\u001b[0m\u001b[0m\n\u001b[0;32m---> 10\u001b[0;31m                                est_values_mapper=optimize_knn_macro, cv=5, scoring='f1_macro')\n\u001b[0m\u001b[1;32m     11\u001b[0m \u001b[0;34m\u001b[0m\u001b[0m\n\u001b[1;32m     12\u001b[0m \u001b[0;34m\u001b[0m\u001b[0m\n",
            "\u001b[0;32m<ipython-input-176-49022bee57ca>\u001b[0m in \u001b[0;36mrunEstimators\u001b[0;34m(train, test, train_labels, test_labels, my_transformers, my_classifiers, est_values_mapper, cv, scoring, showResults)\u001b[0m\n\u001b[1;32m    107\u001b[0m             \u001b[0;32mif\u001b[0m \u001b[0mcv\u001b[0m\u001b[0;34m:\u001b[0m\u001b[0;34m\u001b[0m\u001b[0;34m\u001b[0m\u001b[0m\n\u001b[1;32m    108\u001b[0m                 \u001b[0;31m# create gridsearch parameters\u001b[0m\u001b[0;34m\u001b[0m\u001b[0;34m\u001b[0m\u001b[0;34m\u001b[0m\u001b[0m\n\u001b[0;32m--> 109\u001b[0;31m                 \u001b[0mestimator_dict\u001b[0m \u001b[0;34m=\u001b[0m \u001b[0mgetEstDict\u001b[0m\u001b[0;34m(\u001b[0m\u001b[0msteps\u001b[0m\u001b[0;34m,\u001b[0m \u001b[0mest_values_mapper\u001b[0m\u001b[0;34m)\u001b[0m\u001b[0;34m\u001b[0m\u001b[0;34m\u001b[0m\u001b[0m\n\u001b[0m\u001b[1;32m    110\u001b[0m                 \u001b[0;31m# create Estimator\u001b[0m\u001b[0;34m\u001b[0m\u001b[0;34m\u001b[0m\u001b[0;34m\u001b[0m\u001b[0m\n\u001b[1;32m    111\u001b[0m                 \u001b[0mestimator\u001b[0m \u001b[0;34m=\u001b[0m \u001b[0mGridSearchCV\u001b[0m\u001b[0;34m(\u001b[0m\u001b[0mpipe\u001b[0m\u001b[0;34m,\u001b[0m \u001b[0mestimator_dict\u001b[0m\u001b[0;34m,\u001b[0m \u001b[0mcv\u001b[0m\u001b[0;34m=\u001b[0m\u001b[0;36m2\u001b[0m\u001b[0;34m,\u001b[0m \u001b[0mscoring\u001b[0m\u001b[0;34m=\u001b[0m\u001b[0mscoring\u001b[0m\u001b[0;34m,\u001b[0m \u001b[0mn_jobs\u001b[0m\u001b[0;34m=\u001b[0m\u001b[0;34m-\u001b[0m\u001b[0;36m1\u001b[0m\u001b[0;34m,\u001b[0m \u001b[0mverbose\u001b[0m\u001b[0;34m=\u001b[0m\u001b[0;36m10\u001b[0m\u001b[0;34m)\u001b[0m\u001b[0;34m\u001b[0m\u001b[0;34m\u001b[0m\u001b[0m\n",
            "\u001b[0;32m<ipython-input-176-49022bee57ca>\u001b[0m in \u001b[0;36mgetEstDict\u001b[0;34m(steps, est_values_mapper)\u001b[0m\n\u001b[1;32m     68\u001b[0m             \u001b[0;32melse\u001b[0m\u001b[0;34m:\u001b[0m\u001b[0;34m\u001b[0m\u001b[0;34m\u001b[0m\u001b[0m\n\u001b[1;32m     69\u001b[0m                 \u001b[0;32mfor\u001b[0m \u001b[0mkey\u001b[0m \u001b[0;32min\u001b[0m \u001b[0mest_values_mapper\u001b[0m\u001b[0;34m[\u001b[0m\u001b[0mstep\u001b[0m\u001b[0;34m[\u001b[0m\u001b[0;36m0\u001b[0m\u001b[0;34m]\u001b[0m\u001b[0;34m]\u001b[0m\u001b[0;34m:\u001b[0m\u001b[0;34m\u001b[0m\u001b[0;34m\u001b[0m\u001b[0m\n\u001b[0;32m---> 70\u001b[0;31m                     \u001b[0mdict\u001b[0m\u001b[0;34m[\u001b[0m\u001b[0mest_mapper_keys\u001b[0m\u001b[0;34m[\u001b[0m\u001b[0mstep\u001b[0m\u001b[0;34m[\u001b[0m\u001b[0;36m0\u001b[0m\u001b[0;34m]\u001b[0m\u001b[0;34m]\u001b[0m\u001b[0;34m]\u001b[0m \u001b[0;34m=\u001b[0m \u001b[0mest_values_mapper\u001b[0m\u001b[0;34m[\u001b[0m\u001b[0mstep\u001b[0m\u001b[0;34m[\u001b[0m\u001b[0;36m0\u001b[0m\u001b[0;34m]\u001b[0m\u001b[0;34m]\u001b[0m\u001b[0;34m[\u001b[0m\u001b[0mkey\u001b[0m\u001b[0;34m]\u001b[0m\u001b[0;34m\u001b[0m\u001b[0;34m\u001b[0m\u001b[0m\n\u001b[0m\u001b[1;32m     71\u001b[0m \u001b[0;34m\u001b[0m\u001b[0m\n\u001b[1;32m     72\u001b[0m     \u001b[0;32mreturn\u001b[0m \u001b[0mdict\u001b[0m\u001b[0;34m\u001b[0m\u001b[0;34m\u001b[0m\u001b[0m\n",
            "\u001b[0;31mIndexError\u001b[0m: list index out of range"
          ]
        }
      ]
    },
    {
      "cell_type": "markdown",
      "metadata": {
        "id": "XaNus8uYG_7j"
      },
      "source": [
        "####Multilayer Perceptron"
      ]
    },
    {
      "cell_type": "code",
      "metadata": {
        "id": "3YDM-RqL0tuI"
      },
      "source": [
        "est_values_mapper = {\n",
        "    'selector': [0, 5, 10],\n",
        "    'pca': [5, 10, 20, 30],\n",
        "    'dummy': ['uniform', 'constant_0', 'constant_1', 'most_frequent', 'stratified'],\n",
        "    'mlp': {\n",
        "        'hidden_layer_sizes': [(5, ), (10, ), (15, )],\n",
        "        'activation': [\"tanh\", \"relu\"],\n",
        "        'solver': [\"lbfgs\", \"sgd\"],\n",
        "        'max_iter': [40, 80, 120],\n",
        "        'alpha': [0.00001, 0.0001, 0.001],\n",
        "        'learning_rate': [\"constant\", \"invscaling\"]\n",
        "    }\n",
        "}\n",
        "transformers = {\n",
        "    'selector': selector,\n",
        "    'scaler': scaler,\n",
        "    'min_max_scaler': min_max_scaler,\n",
        "    'ros': ros,\n",
        "    'rus': rus,\n",
        "    'pca': pca\n",
        "}\n",
        "\n",
        "\n",
        "big_scores_mlp = runEstimators(big_train, big_test, big_train_labels, big_test_labels, \n",
        "                                 my_transformers=transformers, my_classifiers={'mlpc':mlp}, \n",
        "                                 est_values_mapper=est_values_mapper, cv=5, scoring='f1_macro')\n",
        "\n",
        "\n",
        "# compute f1-macro\n",
        "mlp_macro_big = {k: f1_score(big_test_labels, v, average='macro') for k,v in big_scores_mlp['preds'].items()}\n",
        "# get the estimator with the maximum f1-macro\n",
        "opt_mlp_macro = max(mlp_macro_big.items(), key=operator.itemgetter(1))[0]\n",
        "\n",
        "getResults(big_scores_mlp, opt_mlp_macro, big_test, big_test_labels, \"solvent\", \"bankrupt\")"
      ],
      "execution_count": null,
      "outputs": []
    },
    {
      "cell_type": "code",
      "metadata": {
        "id": "vOX_BgDSE1hh"
      },
      "source": [
        "macros = [(k,v) for k, v in sorted(big_scores_mlp['macro'].items(), key=lambda item: item[1], reverse=True)]\n",
        "print(macros)\n",
        "getResults(big_scores_mlp, macros, big_test, big_test_labels, \"solvent\", \"bankrupt\")"
      ],
      "execution_count": null,
      "outputs": []
    },
    {
      "cell_type": "markdown",
      "metadata": {
        "id": "QiK526cUHGO3"
      },
      "source": [
        "####Support vector machine"
      ]
    },
    {
      "cell_type": "markdown",
      "metadata": {
        "id": "DhUEjpi71MdC"
      },
      "source": [
        "#####Linear"
      ]
    },
    {
      "cell_type": "code",
      "metadata": {
        "id": "hUu2zuhO8oXS"
      },
      "source": [
        "# est_values_mapper = {\n",
        "#     'selector': [0, 5, 10],\n",
        "#     'pca': [5, 10, 20, 30],\n",
        "#     'svc': {\n",
        "#             'svc__kernel': ['linear', 'rbf', 'poly'],\n",
        "#             'svc__C': [1, 5, 10, 50],\n",
        "#             'svc__gamma': [0.0001, 0.0005, 0.001, 0.005],\n",
        "#             'svc__tol': [1e-3, 1e-4],\n",
        "#             'svc__loss': [\"hinge\", \"squared_hinge\"],\n",
        "#             'svc__degree': [2,3,4]\n",
        "#             }\n",
        "# }\n",
        "# transformers = {\n",
        "#     'selector': selector,\n",
        "#     'scaler': scaler,\n",
        "#     'min_max_scaler': min_max_scaler,\n",
        "#     'ros': ros,\n",
        "#     'rus': rus,\n",
        "#     'pca': pca\n",
        "# }\n",
        "\n",
        "\n",
        "# big_scores_svm = runEstimators(big_train, big_test, big_train_labels, big_test_labels, \n",
        "#                                  my_transformers=transformers, my_classifiers={'svc':svc}, \n",
        "#                                  est_values_mapper=est_values_mapper, cv=5, scoring='f1_macro')\n",
        "\n",
        "# macros = [(k,v) for k, v in sorted(big_scores_svm['micro'].items(), key=lambda item: item[1], reverse=True)]\n",
        "# print(macros)\n",
        "# getResults(big_scores_svm, macros, big_test, big_test_labels, \"solvent\", \"bankrupt\")"
      ],
      "execution_count": null,
      "outputs": []
    },
    {
      "cell_type": "markdown",
      "metadata": {
        "id": "m6k5iCvmGh04"
      },
      "source": [
        "###Μετρική απόδοσης f1-micro"
      ]
    },
    {
      "cell_type": "markdown",
      "metadata": {
        "id": "Tief2c4aHUVh"
      },
      "source": [
        "####Dummy"
      ]
    },
    {
      "cell_type": "code",
      "metadata": {
        "id": "yfiA2tROLy7N"
      },
      "source": [
        "transformers = {\n",
        "    'selector': selector,\n",
        "    'scaler': scaler,\n",
        "    'min_max_scaler': min_max_scaler,\n",
        "    'ros': ros,\n",
        "    'rus': rus,\n",
        "    'pca': pca\n",
        "}\n",
        "\n",
        "\n",
        "big_scores_dummy_micro = runEstimators(big_train, big_test, big_train_labels, big_test_labels, \n",
        "                                       my_transformers=transformers, my_classifiers={'dummy':dummy}, \n",
        "                                       est_values_mapper=est_values_mapper, cv=5, scoring='f1_micro')\n",
        "\n",
        "\n",
        "# compute f1-micro\n",
        "dummy_micro_big = {k: f1_score(big_test_labels, v, average='micro') for k,v in big_scores_dummy_micro['preds'].items()}\n",
        "# get the estimator with the maximum f1-macro\n",
        "opt_dummy_micro = max(dummy_micro_big.items(), key=operator.itemgetter(1))[0]\n",
        "\n",
        "getResults(big_scores_dummy_micro, opt_dummy_micro, big_test, big_test_labels, \"solvent\", \"bankrupt\")"
      ],
      "execution_count": null,
      "outputs": []
    },
    {
      "cell_type": "markdown",
      "metadata": {
        "id": "OC0ByZ51HVc0"
      },
      "source": [
        "####Gaussian Naive Bayes Classifier"
      ]
    },
    {
      "cell_type": "code",
      "metadata": {
        "id": "UxWiAsaUL_5z"
      },
      "source": [
        "big_scores_gnb_micro = runEstimators(big_train, big_test, big_train_labels, big_test_labels, \n",
        "                               my_transformers=transformers, my_classifiers={'gnb':gnb}, \n",
        "                               est_values_mapper=est_values_mapper, cv=5, scoring='f1_micro')\n",
        "\n",
        "\n",
        "# compute f1-micro\n",
        "gnb_micro_big = {k: f1_score(big_test_labels, v, average='micro') for k,v in big_scores_gnb_micro['preds'].items()}\n",
        "# get the estimator with the maximum f1-micro\n",
        "opt_gnb_micro = max(gnb_micro_big.items(), key=operator.itemgetter(1))[0]\n",
        "\n",
        "getResults(big_scores_gnb_micro, opt_gnb_micro, big_test, big_test_labels, \"solvent\", \"bankrupt\")"
      ],
      "execution_count": null,
      "outputs": []
    },
    {
      "cell_type": "markdown",
      "metadata": {
        "id": "F7c6jKT5HZA4"
      },
      "source": [
        "####k_Nearest Neighbors Classifier"
      ]
    },
    {
      "cell_type": "code",
      "metadata": {
        "id": "XRQOQhdxOT6G"
      },
      "source": [
        "optimize_knn_micro = {\n",
        "    'selector': [0, 5, 10],\n",
        "    'pca': [5, 10, 20, 30],\n",
        "    'kNN': {\n",
        "        \"kNN\":[i for i in range(1, 51, 2)]\n",
        "}\n",
        "\n",
        "\n",
        "big_scores_knn_micro = runEstimators(big_train, big_test, big_train_labels, big_test_labels, \n",
        "                               my_transformers=transformers, my_classifiers={'kNN':knn}, \n",
        "                               est_values_mapper=optimize_knn_micro, cv=5, scoring='f1_micro')\n",
        "\n",
        "\n",
        "# compute f1-micro\n",
        "knn_micro_big = {k: f1_score(big_test_labels, v, average='micro') for k,v in big_scores_knn_micro['preds'].items()}\n",
        "# get the estimator with the maximum f1-micro\n",
        "opt_knn_micro = max(knn_micro_big.items(), key=operator.itemgetter(1))[0]\n",
        "\n",
        "getResults(big_scores_knn_micro, opt_knn_micro, big_test, big_test_labels, \"solvent\", \"bankrupt\")"
      ],
      "execution_count": null,
      "outputs": []
    },
    {
      "cell_type": "code",
      "metadata": {
        "id": "_oYJqKek7m6f"
      },
      "source": [
        "optimize_knn_micro = {\n",
        "    'selector': [0, 5, 10],\n",
        "    'pca': [5, 10, 20, 30],\n",
        "    'kNN': [5, 7, 9, 11]\n",
        "}\n",
        "\n",
        "\n",
        "big_scores_knn_micro_2 = runEstimators(big_train, big_test, big_train_labels, big_test_labels, \n",
        "                               my_transformers=transformers, my_classifiers={'kNN':knn}, \n",
        "                               est_values_mapper=optimize_knn_micro, cv=5, scoring='f1_micro')\n",
        "micros = [(k,v) for k, v in sorted(big_scores_knn_micro_2['micro'].items(), key=lambda item: item[1], reverse=True)]\n",
        "print(micros)\n",
        "getResults(big_scores_knn_micro_2, micros, big_test, big_test_labels)"
      ],
      "execution_count": null,
      "outputs": []
    },
    {
      "cell_type": "markdown",
      "metadata": {
        "id": "ZTalQEFHHbl2"
      },
      "source": [
        "####Multilayer Perceptron"
      ]
    },
    {
      "cell_type": "code",
      "metadata": {
        "id": "jxyX_40-8TcO"
      },
      "source": [
        "est_values_mapper = {\n",
        "    'selector': [0, 5, 10],\n",
        "    'pca': [5, 10, 20, 30],\n",
        "    'dummy': ['uniform', 'constant_0', 'constant_1', 'most_frequent', 'stratified'],\n",
        "    'mlp': {\n",
        "        'hidden_layer_sizes': [(5, ), (10, ), (15, )],\n",
        "        'activation': [\"tanh\", \"relu\"],\n",
        "        'solver': [\"lbfgs\", \"sgd\"],\n",
        "        'max_iter': [40, 80, 120],\n",
        "        'alpha': [0.00001, 0.0001, 0.001],\n",
        "        'learning_rate': [\"constant\", \"invscaling\"]\n",
        "    }\n",
        "}\n",
        "transformers = {\n",
        "    'selector': selector,\n",
        "    'scaler': scaler,\n",
        "    'min_max_scaler': min_max_scaler,\n",
        "    'ros': ros,\n",
        "    'rus': rus,\n",
        "    'pca': pca\n",
        "}\n",
        "\n",
        "\n",
        "big_scores_mlp_micro = runEstimators(big_train, big_test, big_train_labels, big_test_labels, \n",
        "                                 my_transformers=transformers, my_classifiers={'mlpc':mlp}, \n",
        "                                 est_values_mapper=est_values_mapper, cv=5, scoring='f1_micro')\n",
        "\n",
        "\n",
        "\n",
        "# compute f1-micro\n",
        "mlp_micro_big = {k: f1_score(big_test_labels, v, average='micro') for k,v in big_scores_mlp_micro['preds'].items()}\n",
        "# get the estimator with the maximum f1-micro\n",
        "opt_mlp_micro = max(mlp_micro_big.items(), key=operator.itemgetter(1))[0]\n",
        "\n",
        "getResults(big_scores_mlp_micro, opt_mlp_micro, big_test, big_test_labels, \"solvent\", \"bankrupt\")"
      ],
      "execution_count": null,
      "outputs": []
    },
    {
      "cell_type": "markdown",
      "metadata": {
        "id": "Fk7BOHRwHcp9"
      },
      "source": [
        "####Support vector machine"
      ]
    },
    {
      "cell_type": "code",
      "metadata": {
        "id": "chhxSLESBnl4"
      },
      "source": [
        "# est_values_mapper = {\n",
        "#     'selector': [0, 5, 10],\n",
        "#     'pca': [5, 10, 20, 30],\n",
        "#     'dummy': ['uniform', 'constant_0', 'constant_1', 'most_frequent', 'stratified'],\n",
        "#     'svc': {'pca__n_components': [100, 150, 200],\n",
        "#               'svc__kernel': ['linear', 'rbf', 'poly'],\n",
        "#               'svc__C': [1, 5, 10, 50],\n",
        "#               'svc__gamma': [0.0001, 0.0005, 0.001, 0.005],\n",
        "#               'svc__tol': [1e-3, 1e-4],\n",
        "#               'svc__loss': [\"hinge\", \"squared_hinge\"],\n",
        "#               'svc__degree': [2,3,4]\n",
        "#             }\n",
        "# }\n",
        "# transformers = {\n",
        "#     'selector': selector,\n",
        "#     'scaler': scaler,\n",
        "#     'min_max_scaler': min_max_scaler,\n",
        "#     'ros': ros,\n",
        "#     'rus': rus,\n",
        "#     'pca': pca\n",
        "# }\n",
        "\n",
        "\n",
        "# big_scores_svm_micro = runEstimators(big_train, big_test, big_train_labels, big_test_labels, \n",
        "#                                  my_transformers=transformers, my_classifiers={'svc':svc}, \n",
        "#                                  est_values_mapper=est_values_mapper, cv=5, scoring='f1_micro')\n",
        "\n",
        "# micros = [(k,v) for k, v in sorted(big_scores_svm_micro['micro'].items(), key=lambda item: item[1], reverse=True)]\n",
        "# print(micros)\n",
        "# getResults(big_scores_svm_micro, micros, big_test, big_test_labels, \"solvent\", \"bankrupt\")"
      ],
      "execution_count": null,
      "outputs": []
    }
  ]
}