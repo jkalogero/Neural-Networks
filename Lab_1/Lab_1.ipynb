{
  "nbformat": 4,
  "nbformat_minor": 0,
  "metadata": {
    "orig_nbformat": 2,
    "kernelspec": {
      "name": "python3",
      "display_name": "Python 3"
    },
    "colab": {
      "name": "Lab_1.ipynb",
      "provenance": [],
      "toc_visible": true
    }
  },
  "cells": [
    {
      "cell_type": "markdown",
      "metadata": {
        "id": "LgM-C62wlQTm"
      },
      "source": [
        "---\n",
        "#Άσκηση 1. Επιβλεπόμενη Μάθηση: Ταξινόμηση\n",
        "---\n"
      ]
    },
    {
      "cell_type": "markdown",
      "metadata": {
        "id": "rTjsQhI7orML"
      },
      "source": [
        "#Στοιχεία Ομάδας\n",
        "<u>Συνεργάτες</u>:\n",
        "\n",
        "Δούλης Κωνσταντίνος 03116175\n",
        "\n",
        "Καλογερόπουλος Ιωάννης 03116117\n",
        "\n",
        "Κατσίκας-Μουρούτσος Γεώργιος 03116132\n",
        "\n",
        "---"
      ]
    },
    {
      "cell_type": "markdown",
      "metadata": {
        "id": "Ik7SPquAmwND"
      },
      "source": [
        "Αρχικά, ενημερώνουμε τις βιβλιοθήκες που θα χρησιμοποιηθούν (έχει προστεθεί στην αρχή του κελιού η magic command %%capture ώστε να μην εμφανίζονται στο stdouput οι πληροφορίες των εγκαταστάσεων, για να είναι πιο ευανάγνωστο):"
      ]
    },
    {
      "cell_type": "code",
      "metadata": {
        "id": "N7_jP0HklpR1",
        "colab": {
          "base_uri": "https://localhost:8080/",
          "height": 1000
        },
        "outputId": "219bdc74-c070-419f-d044-1856d2fc7037"
      },
      "source": [
        "!pip install --upgrade pip #upgrade pip package installer\n",
        "!pip install scikit-learn --upgrade #upgrade scikit-learn package\n",
        "!pip install numpy --upgrade #upgrade numpy package\n",
        "!pip install pandas --upgrade #--upgrade #upgrade pandas package\n",
        "!pip install -U tensorflow\n",
        "!pip install --upgrade imbalanced-learn"
      ],
      "execution_count": 1,
      "outputs": [
        {
          "output_type": "stream",
          "text": [
            "Collecting pip\n",
            "\u001b[?25l  Downloading https://files.pythonhosted.org/packages/cb/28/91f26bd088ce8e22169032100d4260614fc3da435025ff389ef1d396a433/pip-20.2.4-py2.py3-none-any.whl (1.5MB)\n",
            "\r\u001b[K     |▏                               | 10kB 17.6MB/s eta 0:00:01\r\u001b[K     |▍                               | 20kB 24.5MB/s eta 0:00:01\r\u001b[K     |▋                               | 30kB 16.5MB/s eta 0:00:01\r\u001b[K     |▉                               | 40kB 13.3MB/s eta 0:00:01\r\u001b[K     |█                               | 51kB 11.5MB/s eta 0:00:01\r\u001b[K     |█▎                              | 61kB 12.1MB/s eta 0:00:01\r\u001b[K     |█▌                              | 71kB 12.9MB/s eta 0:00:01\r\u001b[K     |█▊                              | 81kB 11.9MB/s eta 0:00:01\r\u001b[K     |██                              | 92kB 11.7MB/s eta 0:00:01\r\u001b[K     |██▏                             | 102kB 12.1MB/s eta 0:00:01\r\u001b[K     |██▍                             | 112kB 12.1MB/s eta 0:00:01\r\u001b[K     |██▋                             | 122kB 12.1MB/s eta 0:00:01\r\u001b[K     |██▉                             | 133kB 12.1MB/s eta 0:00:01\r\u001b[K     |███                             | 143kB 12.1MB/s eta 0:00:01\r\u001b[K     |███▎                            | 153kB 12.1MB/s eta 0:00:01\r\u001b[K     |███▌                            | 163kB 12.1MB/s eta 0:00:01\r\u001b[K     |███▊                            | 174kB 12.1MB/s eta 0:00:01\r\u001b[K     |████                            | 184kB 12.1MB/s eta 0:00:01\r\u001b[K     |████▏                           | 194kB 12.1MB/s eta 0:00:01\r\u001b[K     |████▍                           | 204kB 12.1MB/s eta 0:00:01\r\u001b[K     |████▋                           | 215kB 12.1MB/s eta 0:00:01\r\u001b[K     |████▉                           | 225kB 12.1MB/s eta 0:00:01\r\u001b[K     |█████                           | 235kB 12.1MB/s eta 0:00:01\r\u001b[K     |█████▎                          | 245kB 12.1MB/s eta 0:00:01\r\u001b[K     |█████▍                          | 256kB 12.1MB/s eta 0:00:01\r\u001b[K     |█████▋                          | 266kB 12.1MB/s eta 0:00:01\r\u001b[K     |█████▉                          | 276kB 12.1MB/s eta 0:00:01\r\u001b[K     |██████                          | 286kB 12.1MB/s eta 0:00:01\r\u001b[K     |██████▎                         | 296kB 12.1MB/s eta 0:00:01\r\u001b[K     |██████▌                         | 307kB 12.1MB/s eta 0:00:01\r\u001b[K     |██████▊                         | 317kB 12.1MB/s eta 0:00:01\r\u001b[K     |███████                         | 327kB 12.1MB/s eta 0:00:01\r\u001b[K     |███████▏                        | 337kB 12.1MB/s eta 0:00:01\r\u001b[K     |███████▍                        | 348kB 12.1MB/s eta 0:00:01\r\u001b[K     |███████▋                        | 358kB 12.1MB/s eta 0:00:01\r\u001b[K     |███████▉                        | 368kB 12.1MB/s eta 0:00:01\r\u001b[K     |████████                        | 378kB 12.1MB/s eta 0:00:01\r\u001b[K     |████████▎                       | 389kB 12.1MB/s eta 0:00:01\r\u001b[K     |████████▌                       | 399kB 12.1MB/s eta 0:00:01\r\u001b[K     |████████▊                       | 409kB 12.1MB/s eta 0:00:01\r\u001b[K     |█████████                       | 419kB 12.1MB/s eta 0:00:01\r\u001b[K     |█████████▏                      | 430kB 12.1MB/s eta 0:00:01\r\u001b[K     |█████████▍                      | 440kB 12.1MB/s eta 0:00:01\r\u001b[K     |█████████▋                      | 450kB 12.1MB/s eta 0:00:01\r\u001b[K     |█████████▉                      | 460kB 12.1MB/s eta 0:00:01\r\u001b[K     |██████████                      | 471kB 12.1MB/s eta 0:00:01\r\u001b[K     |██████████▎                     | 481kB 12.1MB/s eta 0:00:01\r\u001b[K     |██████████▌                     | 491kB 12.1MB/s eta 0:00:01\r\u001b[K     |██████████▊                     | 501kB 12.1MB/s eta 0:00:01\r\u001b[K     |██████████▉                     | 512kB 12.1MB/s eta 0:00:01\r\u001b[K     |███████████                     | 522kB 12.1MB/s eta 0:00:01\r\u001b[K     |███████████▎                    | 532kB 12.1MB/s eta 0:00:01\r\u001b[K     |███████████▌                    | 542kB 12.1MB/s eta 0:00:01\r\u001b[K     |███████████▊                    | 552kB 12.1MB/s eta 0:00:01\r\u001b[K     |████████████                    | 563kB 12.1MB/s eta 0:00:01\r\u001b[K     |████████████▏                   | 573kB 12.1MB/s eta 0:00:01\r\u001b[K     |████████████▍                   | 583kB 12.1MB/s eta 0:00:01\r\u001b[K     |████████████▋                   | 593kB 12.1MB/s eta 0:00:01\r\u001b[K     |████████████▉                   | 604kB 12.1MB/s eta 0:00:01\r\u001b[K     |█████████████                   | 614kB 12.1MB/s eta 0:00:01\r\u001b[K     |█████████████▎                  | 624kB 12.1MB/s eta 0:00:01\r\u001b[K     |█████████████▌                  | 634kB 12.1MB/s eta 0:00:01\r\u001b[K     |█████████████▊                  | 645kB 12.1MB/s eta 0:00:01\r\u001b[K     |██████████████                  | 655kB 12.1MB/s eta 0:00:01\r\u001b[K     |██████████████▏                 | 665kB 12.1MB/s eta 0:00:01\r\u001b[K     |██████████████▍                 | 675kB 12.1MB/s eta 0:00:01\r\u001b[K     |██████████████▋                 | 686kB 12.1MB/s eta 0:00:01\r\u001b[K     |██████████████▉                 | 696kB 12.1MB/s eta 0:00:01\r\u001b[K     |███████████████                 | 706kB 12.1MB/s eta 0:00:01\r\u001b[K     |███████████████▎                | 716kB 12.1MB/s eta 0:00:01\r\u001b[K     |███████████████▌                | 727kB 12.1MB/s eta 0:00:01\r\u001b[K     |███████████████▊                | 737kB 12.1MB/s eta 0:00:01\r\u001b[K     |████████████████                | 747kB 12.1MB/s eta 0:00:01\r\u001b[K     |████████████████▏               | 757kB 12.1MB/s eta 0:00:01\r\u001b[K     |████████████████▎               | 768kB 12.1MB/s eta 0:00:01\r\u001b[K     |████████████████▌               | 778kB 12.1MB/s eta 0:00:01\r\u001b[K     |████████████████▊               | 788kB 12.1MB/s eta 0:00:01\r\u001b[K     |█████████████████               | 798kB 12.1MB/s eta 0:00:01\r\u001b[K     |█████████████████▏              | 808kB 12.1MB/s eta 0:00:01\r\u001b[K     |█████████████████▍              | 819kB 12.1MB/s eta 0:00:01\r\u001b[K     |█████████████████▋              | 829kB 12.1MB/s eta 0:00:01\r\u001b[K     |█████████████████▉              | 839kB 12.1MB/s eta 0:00:01\r\u001b[K     |██████████████████              | 849kB 12.1MB/s eta 0:00:01\r\u001b[K     |██████████████████▎             | 860kB 12.1MB/s eta 0:00:01\r\u001b[K     |██████████████████▌             | 870kB 12.1MB/s eta 0:00:01\r\u001b[K     |██████████████████▊             | 880kB 12.1MB/s eta 0:00:01\r\u001b[K     |███████████████████             | 890kB 12.1MB/s eta 0:00:01\r\u001b[K     |███████████████████▏            | 901kB 12.1MB/s eta 0:00:01\r\u001b[K     |███████████████████▍            | 911kB 12.1MB/s eta 0:00:01\r\u001b[K     |███████████████████▋            | 921kB 12.1MB/s eta 0:00:01\r\u001b[K     |███████████████████▉            | 931kB 12.1MB/s eta 0:00:01\r\u001b[K     |████████████████████            | 942kB 12.1MB/s eta 0:00:01\r\u001b[K     |████████████████████▎           | 952kB 12.1MB/s eta 0:00:01\r\u001b[K     |████████████████████▌           | 962kB 12.1MB/s eta 0:00:01\r\u001b[K     |████████████████████▊           | 972kB 12.1MB/s eta 0:00:01\r\u001b[K     |█████████████████████           | 983kB 12.1MB/s eta 0:00:01\r\u001b[K     |█████████████████████▏          | 993kB 12.1MB/s eta 0:00:01\r\u001b[K     |█████████████████████▍          | 1.0MB 12.1MB/s eta 0:00:01\r\u001b[K     |█████████████████████▋          | 1.0MB 12.1MB/s eta 0:00:01\r\u001b[K     |█████████████████████▊          | 1.0MB 12.1MB/s eta 0:00:01\r\u001b[K     |██████████████████████          | 1.0MB 12.1MB/s eta 0:00:01\r\u001b[K     |██████████████████████▏         | 1.0MB 12.1MB/s eta 0:00:01\r\u001b[K     |██████████████████████▍         | 1.1MB 12.1MB/s eta 0:00:01\r\u001b[K     |██████████████████████▋         | 1.1MB 12.1MB/s eta 0:00:01\r\u001b[K     |██████████████████████▉         | 1.1MB 12.1MB/s eta 0:00:01\r\u001b[K     |███████████████████████         | 1.1MB 12.1MB/s eta 0:00:01\r\u001b[K     |███████████████████████▎        | 1.1MB 12.1MB/s eta 0:00:01\r\u001b[K     |███████████████████████▌        | 1.1MB 12.1MB/s eta 0:00:01\r\u001b[K     |███████████████████████▊        | 1.1MB 12.1MB/s eta 0:00:01\r\u001b[K     |████████████████████████        | 1.1MB 12.1MB/s eta 0:00:01\r\u001b[K     |████████████████████████▏       | 1.1MB 12.1MB/s eta 0:00:01\r\u001b[K     |████████████████████████▍       | 1.1MB 12.1MB/s eta 0:00:01\r\u001b[K     |████████████████████████▋       | 1.2MB 12.1MB/s eta 0:00:01\r\u001b[K     |████████████████████████▉       | 1.2MB 12.1MB/s eta 0:00:01\r\u001b[K     |█████████████████████████       | 1.2MB 12.1MB/s eta 0:00:01\r\u001b[K     |█████████████████████████▎      | 1.2MB 12.1MB/s eta 0:00:01\r\u001b[K     |█████████████████████████▌      | 1.2MB 12.1MB/s eta 0:00:01\r\u001b[K     |█████████████████████████▊      | 1.2MB 12.1MB/s eta 0:00:01\r\u001b[K     |██████████████████████████      | 1.2MB 12.1MB/s eta 0:00:01\r\u001b[K     |██████████████████████████▏     | 1.2MB 12.1MB/s eta 0:00:01\r\u001b[K     |██████████████████████████▍     | 1.2MB 12.1MB/s eta 0:00:01\r\u001b[K     |██████████████████████████▋     | 1.2MB 12.1MB/s eta 0:00:01\r\u001b[K     |██████████████████████████▉     | 1.3MB 12.1MB/s eta 0:00:01\r\u001b[K     |███████████████████████████     | 1.3MB 12.1MB/s eta 0:00:01\r\u001b[K     |███████████████████████████▏    | 1.3MB 12.1MB/s eta 0:00:01\r\u001b[K     |███████████████████████████▍    | 1.3MB 12.1MB/s eta 0:00:01\r\u001b[K     |███████████████████████████▋    | 1.3MB 12.1MB/s eta 0:00:01\r\u001b[K     |███████████████████████████▉    | 1.3MB 12.1MB/s eta 0:00:01\r\u001b[K     |████████████████████████████    | 1.3MB 12.1MB/s eta 0:00:01\r\u001b[K     |████████████████████████████▎   | 1.3MB 12.1MB/s eta 0:00:01\r\u001b[K     |████████████████████████████▌   | 1.3MB 12.1MB/s eta 0:00:01\r\u001b[K     |████████████████████████████▊   | 1.4MB 12.1MB/s eta 0:00:01\r\u001b[K     |█████████████████████████████   | 1.4MB 12.1MB/s eta 0:00:01\r\u001b[K     |█████████████████████████████▏  | 1.4MB 12.1MB/s eta 0:00:01\r\u001b[K     |█████████████████████████████▍  | 1.4MB 12.1MB/s eta 0:00:01\r\u001b[K     |█████████████████████████████▋  | 1.4MB 12.1MB/s eta 0:00:01\r\u001b[K     |█████████████████████████████▉  | 1.4MB 12.1MB/s eta 0:00:01\r\u001b[K     |██████████████████████████████  | 1.4MB 12.1MB/s eta 0:00:01\r\u001b[K     |██████████████████████████████▎ | 1.4MB 12.1MB/s eta 0:00:01\r\u001b[K     |██████████████████████████████▌ | 1.4MB 12.1MB/s eta 0:00:01\r\u001b[K     |██████████████████████████████▊ | 1.4MB 12.1MB/s eta 0:00:01\r\u001b[K     |███████████████████████████████ | 1.5MB 12.1MB/s eta 0:00:01\r\u001b[K     |███████████████████████████████▏| 1.5MB 12.1MB/s eta 0:00:01\r\u001b[K     |███████████████████████████████▍| 1.5MB 12.1MB/s eta 0:00:01\r\u001b[K     |███████████████████████████████▋| 1.5MB 12.1MB/s eta 0:00:01\r\u001b[K     |███████████████████████████████▉| 1.5MB 12.1MB/s eta 0:00:01\r\u001b[K     |████████████████████████████████| 1.5MB 12.1MB/s \n",
            "\u001b[?25hInstalling collected packages: pip\n",
            "  Found existing installation: pip 19.3.1\n",
            "    Uninstalling pip-19.3.1:\n",
            "      Successfully uninstalled pip-19.3.1\n",
            "Successfully installed pip-20.2.4\n",
            "Collecting scikit-learn\n",
            "  Downloading scikit_learn-0.23.2-cp36-cp36m-manylinux1_x86_64.whl (6.8 MB)\n",
            "\u001b[K     |████████████████████████████████| 6.8 MB 11.2 MB/s \n",
            "\u001b[?25hRequirement already satisfied, skipping upgrade: numpy>=1.13.3 in /usr/local/lib/python3.6/dist-packages (from scikit-learn) (1.18.5)\n",
            "Collecting threadpoolctl>=2.0.0\n",
            "  Downloading threadpoolctl-2.1.0-py3-none-any.whl (12 kB)\n",
            "Requirement already satisfied, skipping upgrade: scipy>=0.19.1 in /usr/local/lib/python3.6/dist-packages (from scikit-learn) (1.4.1)\n",
            "Requirement already satisfied, skipping upgrade: joblib>=0.11 in /usr/local/lib/python3.6/dist-packages (from scikit-learn) (0.17.0)\n",
            "Installing collected packages: threadpoolctl, scikit-learn\n",
            "  Attempting uninstall: scikit-learn\n",
            "    Found existing installation: scikit-learn 0.22.2.post1\n",
            "    Uninstalling scikit-learn-0.22.2.post1:\n",
            "      Successfully uninstalled scikit-learn-0.22.2.post1\n",
            "Successfully installed scikit-learn-0.23.2 threadpoolctl-2.1.0\n",
            "Collecting numpy\n",
            "  Downloading numpy-1.19.4-cp36-cp36m-manylinux2010_x86_64.whl (14.5 MB)\n",
            "\u001b[K     |████████████████████████████████| 14.5 MB 91 kB/s \n",
            "\u001b[?25hInstalling collected packages: numpy\n",
            "  Attempting uninstall: numpy\n",
            "    Found existing installation: numpy 1.18.5\n",
            "    Uninstalling numpy-1.18.5:\n",
            "      Successfully uninstalled numpy-1.18.5\n",
            "\u001b[31mERROR: After October 2020 you may experience errors when installing or updating packages. This is because pip will change the way that it resolves dependency conflicts.\n",
            "\n",
            "We recommend you use --use-feature=2020-resolver to test your packages with the new resolver before it becomes the default.\n",
            "\n",
            "tensorflow 2.3.0 requires numpy<1.19.0,>=1.16.0, but you'll have numpy 1.19.4 which is incompatible.\n",
            "datascience 0.10.6 requires folium==0.2.1, but you'll have folium 0.8.3 which is incompatible.\n",
            "albumentations 0.1.12 requires imgaug<0.2.7,>=0.2.5, but you'll have imgaug 0.2.9 which is incompatible.\u001b[0m\n",
            "Successfully installed numpy-1.19.4\n"
          ],
          "name": "stdout"
        },
        {
          "output_type": "display_data",
          "data": {
            "application/vnd.colab-display-data+json": {
              "pip_warning": {
                "packages": [
                  "numpy"
                ]
              }
            }
          },
          "metadata": {
            "tags": []
          }
        },
        {
          "output_type": "stream",
          "text": [
            "Requirement already up-to-date: pandas in /usr/local/lib/python3.6/dist-packages (1.1.4)\n",
            "Requirement already satisfied, skipping upgrade: numpy>=1.15.4 in /usr/local/lib/python3.6/dist-packages (from pandas) (1.19.4)\n",
            "Requirement already satisfied, skipping upgrade: python-dateutil>=2.7.3 in /usr/local/lib/python3.6/dist-packages (from pandas) (2.8.1)\n",
            "Requirement already satisfied, skipping upgrade: pytz>=2017.2 in /usr/local/lib/python3.6/dist-packages (from pandas) (2018.9)\n",
            "Requirement already satisfied, skipping upgrade: six>=1.5 in /usr/local/lib/python3.6/dist-packages (from python-dateutil>=2.7.3->pandas) (1.15.0)\n",
            "Collecting tensorflow\n",
            "  Downloading tensorflow-2.3.1-cp36-cp36m-manylinux2010_x86_64.whl (320.4 MB)\n",
            "\u001b[K     |████████████████████████████████| 320.4 MB 36 kB/s \n",
            "\u001b[?25hRequirement already satisfied, skipping upgrade: wrapt>=1.11.1 in /usr/local/lib/python3.6/dist-packages (from tensorflow) (1.12.1)\n",
            "Requirement already satisfied, skipping upgrade: wheel>=0.26 in /usr/local/lib/python3.6/dist-packages (from tensorflow) (0.35.1)\n",
            "Requirement already satisfied, skipping upgrade: grpcio>=1.8.6 in /usr/local/lib/python3.6/dist-packages (from tensorflow) (1.33.2)\n",
            "Requirement already satisfied, skipping upgrade: astunparse==1.6.3 in /usr/local/lib/python3.6/dist-packages (from tensorflow) (1.6.3)\n",
            "Requirement already satisfied, skipping upgrade: keras-preprocessing<1.2,>=1.1.1 in /usr/local/lib/python3.6/dist-packages (from tensorflow) (1.1.2)\n",
            "Requirement already satisfied, skipping upgrade: opt-einsum>=2.3.2 in /usr/local/lib/python3.6/dist-packages (from tensorflow) (3.3.0)\n",
            "Requirement already satisfied, skipping upgrade: h5py<2.11.0,>=2.10.0 in /usr/local/lib/python3.6/dist-packages (from tensorflow) (2.10.0)\n",
            "Requirement already satisfied, skipping upgrade: absl-py>=0.7.0 in /usr/local/lib/python3.6/dist-packages (from tensorflow) (0.10.0)\n",
            "Requirement already satisfied, skipping upgrade: google-pasta>=0.1.8 in /usr/local/lib/python3.6/dist-packages (from tensorflow) (0.2.0)\n",
            "Collecting numpy<1.19.0,>=1.16.0\n",
            "  Downloading numpy-1.18.5-cp36-cp36m-manylinux1_x86_64.whl (20.1 MB)\n",
            "\u001b[K     |████████████████████████████████| 20.1 MB 1.1 MB/s \n",
            "\u001b[?25hRequirement already satisfied, skipping upgrade: protobuf>=3.9.2 in /usr/local/lib/python3.6/dist-packages (from tensorflow) (3.12.4)\n",
            "Requirement already satisfied, skipping upgrade: tensorflow-estimator<2.4.0,>=2.3.0 in /usr/local/lib/python3.6/dist-packages (from tensorflow) (2.3.0)\n",
            "Requirement already satisfied, skipping upgrade: tensorboard<3,>=2.3.0 in /usr/local/lib/python3.6/dist-packages (from tensorflow) (2.3.0)\n",
            "Requirement already satisfied, skipping upgrade: termcolor>=1.1.0 in /usr/local/lib/python3.6/dist-packages (from tensorflow) (1.1.0)\n",
            "Requirement already satisfied, skipping upgrade: six>=1.12.0 in /usr/local/lib/python3.6/dist-packages (from tensorflow) (1.15.0)\n",
            "Requirement already satisfied, skipping upgrade: gast==0.3.3 in /usr/local/lib/python3.6/dist-packages (from tensorflow) (0.3.3)\n",
            "Requirement already satisfied, skipping upgrade: setuptools in /usr/local/lib/python3.6/dist-packages (from protobuf>=3.9.2->tensorflow) (50.3.2)\n",
            "Requirement already satisfied, skipping upgrade: markdown>=2.6.8 in /usr/local/lib/python3.6/dist-packages (from tensorboard<3,>=2.3.0->tensorflow) (3.3.3)\n",
            "Requirement already satisfied, skipping upgrade: google-auth<2,>=1.6.3 in /usr/local/lib/python3.6/dist-packages (from tensorboard<3,>=2.3.0->tensorflow) (1.17.2)\n",
            "Requirement already satisfied, skipping upgrade: tensorboard-plugin-wit>=1.6.0 in /usr/local/lib/python3.6/dist-packages (from tensorboard<3,>=2.3.0->tensorflow) (1.7.0)\n",
            "Requirement already satisfied, skipping upgrade: requests<3,>=2.21.0 in /usr/local/lib/python3.6/dist-packages (from tensorboard<3,>=2.3.0->tensorflow) (2.23.0)\n",
            "Requirement already satisfied, skipping upgrade: werkzeug>=0.11.15 in /usr/local/lib/python3.6/dist-packages (from tensorboard<3,>=2.3.0->tensorflow) (1.0.1)\n",
            "Requirement already satisfied, skipping upgrade: google-auth-oauthlib<0.5,>=0.4.1 in /usr/local/lib/python3.6/dist-packages (from tensorboard<3,>=2.3.0->tensorflow) (0.4.2)\n",
            "Requirement already satisfied, skipping upgrade: importlib-metadata; python_version < \"3.8\" in /usr/local/lib/python3.6/dist-packages (from markdown>=2.6.8->tensorboard<3,>=2.3.0->tensorflow) (2.0.0)\n",
            "Requirement already satisfied, skipping upgrade: rsa<5,>=3.1.4; python_version >= \"3\" in /usr/local/lib/python3.6/dist-packages (from google-auth<2,>=1.6.3->tensorboard<3,>=2.3.0->tensorflow) (4.6)\n",
            "Requirement already satisfied, skipping upgrade: pyasn1-modules>=0.2.1 in /usr/local/lib/python3.6/dist-packages (from google-auth<2,>=1.6.3->tensorboard<3,>=2.3.0->tensorflow) (0.2.8)\n",
            "Requirement already satisfied, skipping upgrade: cachetools<5.0,>=2.0.0 in /usr/local/lib/python3.6/dist-packages (from google-auth<2,>=1.6.3->tensorboard<3,>=2.3.0->tensorflow) (4.1.1)\n",
            "Requirement already satisfied, skipping upgrade: urllib3!=1.25.0,!=1.25.1,<1.26,>=1.21.1 in /usr/local/lib/python3.6/dist-packages (from requests<3,>=2.21.0->tensorboard<3,>=2.3.0->tensorflow) (1.24.3)\n",
            "Requirement already satisfied, skipping upgrade: chardet<4,>=3.0.2 in /usr/local/lib/python3.6/dist-packages (from requests<3,>=2.21.0->tensorboard<3,>=2.3.0->tensorflow) (3.0.4)\n",
            "Requirement already satisfied, skipping upgrade: certifi>=2017.4.17 in /usr/local/lib/python3.6/dist-packages (from requests<3,>=2.21.0->tensorboard<3,>=2.3.0->tensorflow) (2020.11.8)\n",
            "Requirement already satisfied, skipping upgrade: idna<3,>=2.5 in /usr/local/lib/python3.6/dist-packages (from requests<3,>=2.21.0->tensorboard<3,>=2.3.0->tensorflow) (2.10)\n",
            "Requirement already satisfied, skipping upgrade: requests-oauthlib>=0.7.0 in /usr/local/lib/python3.6/dist-packages (from google-auth-oauthlib<0.5,>=0.4.1->tensorboard<3,>=2.3.0->tensorflow) (1.3.0)\n",
            "Requirement already satisfied, skipping upgrade: zipp>=0.5 in /usr/local/lib/python3.6/dist-packages (from importlib-metadata; python_version < \"3.8\"->markdown>=2.6.8->tensorboard<3,>=2.3.0->tensorflow) (3.4.0)\n",
            "Requirement already satisfied, skipping upgrade: pyasn1>=0.1.3 in /usr/local/lib/python3.6/dist-packages (from rsa<5,>=3.1.4; python_version >= \"3\"->google-auth<2,>=1.6.3->tensorboard<3,>=2.3.0->tensorflow) (0.4.8)\n",
            "Requirement already satisfied, skipping upgrade: oauthlib>=3.0.0 in /usr/local/lib/python3.6/dist-packages (from requests-oauthlib>=0.7.0->google-auth-oauthlib<0.5,>=0.4.1->tensorboard<3,>=2.3.0->tensorflow) (3.1.0)\n",
            "Installing collected packages: numpy, tensorflow\n",
            "  Attempting uninstall: numpy\n",
            "    Found existing installation: numpy 1.19.4\n",
            "    Uninstalling numpy-1.19.4:\n",
            "      Successfully uninstalled numpy-1.19.4\n",
            "  Attempting uninstall: tensorflow\n",
            "    Found existing installation: tensorflow 2.3.0\n",
            "    Uninstalling tensorflow-2.3.0:\n",
            "      Successfully uninstalled tensorflow-2.3.0\n",
            "\u001b[31mERROR: After October 2020 you may experience errors when installing or updating packages. This is because pip will change the way that it resolves dependency conflicts.\n",
            "\n",
            "We recommend you use --use-feature=2020-resolver to test your packages with the new resolver before it becomes the default.\n",
            "\n",
            "datascience 0.10.6 requires folium==0.2.1, but you'll have folium 0.8.3 which is incompatible.\n",
            "albumentations 0.1.12 requires imgaug<0.2.7,>=0.2.5, but you'll have imgaug 0.2.9 which is incompatible.\u001b[0m\n",
            "Successfully installed numpy-1.18.5 tensorflow-2.3.1\n"
          ],
          "name": "stdout"
        },
        {
          "output_type": "display_data",
          "data": {
            "application/vnd.colab-display-data+json": {
              "pip_warning": {
                "packages": [
                  "numpy"
                ]
              }
            }
          },
          "metadata": {
            "tags": []
          }
        },
        {
          "output_type": "stream",
          "text": [
            "Collecting imbalanced-learn\n",
            "  Downloading imbalanced_learn-0.7.0-py3-none-any.whl (167 kB)\n",
            "\u001b[?25l\r\u001b[K     |██                              | 10 kB 19.3 MB/s eta 0:00:01\r\u001b[K     |████                            | 20 kB 24.4 MB/s eta 0:00:01\r\u001b[K     |█████▉                          | 30 kB 29.6 MB/s eta 0:00:01\r\u001b[K     |███████▉                        | 40 kB 21.2 MB/s eta 0:00:01\r\u001b[K     |█████████▉                      | 51 kB 16.8 MB/s eta 0:00:01\r\u001b[K     |███████████▊                    | 61 kB 15.7 MB/s eta 0:00:01\r\u001b[K     |█████████████▊                  | 71 kB 13.8 MB/s eta 0:00:01\r\u001b[K     |███████████████▊                | 81 kB 13.6 MB/s eta 0:00:01\r\u001b[K     |█████████████████▋              | 92 kB 13.0 MB/s eta 0:00:01\r\u001b[K     |███████████████████▋            | 102 kB 12.3 MB/s eta 0:00:01\r\u001b[K     |█████████████████████▋          | 112 kB 12.3 MB/s eta 0:00:01\r\u001b[K     |███████████████████████▌        | 122 kB 12.3 MB/s eta 0:00:01\r\u001b[K     |█████████████████████████▌      | 133 kB 12.3 MB/s eta 0:00:01\r\u001b[K     |███████████████████████████▌    | 143 kB 12.3 MB/s eta 0:00:01\r\u001b[K     |█████████████████████████████▍  | 153 kB 12.3 MB/s eta 0:00:01\r\u001b[K     |███████████████████████████████▍| 163 kB 12.3 MB/s eta 0:00:01\r\u001b[K     |████████████████████████████████| 167 kB 12.3 MB/s \n",
            "\u001b[?25hRequirement already satisfied, skipping upgrade: numpy>=1.13.3 in /usr/local/lib/python3.6/dist-packages (from imbalanced-learn) (1.18.5)\n",
            "Requirement already satisfied, skipping upgrade: scipy>=0.19.1 in /usr/local/lib/python3.6/dist-packages (from imbalanced-learn) (1.4.1)\n",
            "Requirement already satisfied, skipping upgrade: joblib>=0.11 in /usr/local/lib/python3.6/dist-packages (from imbalanced-learn) (0.17.0)\n",
            "Requirement already satisfied, skipping upgrade: scikit-learn>=0.23 in /usr/local/lib/python3.6/dist-packages (from imbalanced-learn) (0.23.2)\n",
            "Requirement already satisfied, skipping upgrade: threadpoolctl>=2.0.0 in /usr/local/lib/python3.6/dist-packages (from scikit-learn>=0.23->imbalanced-learn) (2.1.0)\n",
            "Installing collected packages: imbalanced-learn\n",
            "  Attempting uninstall: imbalanced-learn\n",
            "    Found existing installation: imbalanced-learn 0.4.3\n",
            "    Uninstalling imbalanced-learn-0.4.3:\n",
            "      Successfully uninstalled imbalanced-learn-0.4.3\n",
            "Successfully installed imbalanced-learn-0.7.0\n"
          ],
          "name": "stdout"
        }
      ]
    },
    {
      "cell_type": "code",
      "metadata": {
        "id": "jUYHWBBvjb9w"
      },
      "source": [
        "import warnings \n",
        "warnings.filterwarnings('ignore')"
      ],
      "execution_count": 2,
      "outputs": []
    },
    {
      "cell_type": "code",
      "metadata": {
        "id": "F9L1ZXDKncGu",
        "colab": {
          "base_uri": "https://localhost:8080/"
        },
        "outputId": "ac7b7b1e-4cba-4b6e-d68d-9f677ce1a1bb"
      },
      "source": [
        "from urllib.request import urlretrieve\n",
        "import os\n",
        "import zipfile\n",
        "\n",
        "def download(url, file):\n",
        "    if not os.path.isfile(file):\n",
        "        urlretrieve(url,file)\n",
        "        print(\"File downloaded\")\n",
        "\n",
        "download('http://archive.ics.uci.edu/ml/machine-learning-databases/credit-screening/crx.data', 'crx.data')"
      ],
      "execution_count": 3,
      "outputs": [
        {
          "output_type": "stream",
          "text": [
            "File downloaded\n"
          ],
          "name": "stdout"
        }
      ]
    },
    {
      "cell_type": "markdown",
      "metadata": {
        "id": "OuojFZSVqK3y"
      },
      "source": [
        "#Mικρό Dataset: Japanese Credit Screening\n"
      ]
    },
    {
      "cell_type": "markdown",
      "metadata": {
        "id": "8q2QlhnxrYXY"
      },
      "source": [
        "##Πληροφορίες dataset\n",
        "\n",
        "Το dataset που εξετάζουμε παρέχει πληροφορίες σχετικά με άτομα στα οποία χορηγήθηκε ή όχι πίστωση από Ιαπωνική εταιρεία. Τα δεδομένα παράχθηκαν ύστερα από σχετικές ερωτήσεις στους πελάτες τις εταιρείας."
      ]
    },
    {
      "cell_type": "markdown",
      "metadata": {
        "id": "OAMbop8Pr0B8"
      },
      "source": [
        "##Περιγραφή χαρακτηριστικών του dataset\n",
        "\n",
        "To dataset διαθέτει <b>690 δείγματα</b>, με το καθένα από αυτά να διαθέτει <b>15 χαρακτηριστικά συν 1 που είναι η κλάση</b>.\n",
        "\n",
        "Το κάθε δείγμα αντιστοιχεί σε μία γραμμή του αρχείου, ενώ η κάθε στήλη σε ένα χαρακτηριστικό του. <b>Η τελευταία στήλη δηλώνει την κλάση που ανήκει το δείγμα</b>. Συγκεκριμένα, το σύμβολο <b>\"+\"</b> δηλώνει ότι η πίστωση <b>εγκρίθηκε</b>, ενώ το σύμβολο <b>\"-\"</b> δηλώνει ότι <b>δεν εγκρίθηκε</b>.\n",
        "Επομένως, η δομή του αρχείου είναι κατάλληλη για να ξεκινήσουμε την προεπεξεργασία του dataset.\n",
        "\n",
        "Για λόγους απορήτου τα attribute names και values έχουν αντικατασταθεί με τυχαία σύμβολα, που δεν παρέχουν κάποια σχετική πληροφορία σχετικά με το τι περιγράφουν.\n",
        "\n",
        "Το είδος των χαρακτηριστικών φαίνεται παρακάτω:\n",
        "\n",
        "| Attribute | Type of Data                                 | Description    |\n",
        "|-----------|----------------------------------------------|----------------|\n",
        "| A1        | b, a.                                        | Male           |\n",
        "| A2        | continuous.                                  | Age            |\n",
        "| A3        | continuous.                                  | Debt           |\n",
        "| A4        | u, y, l, t.                                  | Married        |\n",
        "| A5        | g, p, gg.                                    | BankCustomer   |\n",
        "| A6        | c, d, cc, i, j, k, m, r, q, w, x, e, aa, ff. | EducationLevel |\n",
        "| A7        | v, h, bb, j, n, z, dd, ff, o.                | Ethnicity      |\n",
        "| A8        | continuous.                                  | YearsEmployed  |\n",
        "| A9        | t, f.                                        | PriorDefault   |\n",
        "| A10       | t, f.                                        | Employed       |\n",
        "| A11       | continuous.                                  | CreditScore    |\n",
        "| A12       | t, f.                                        | DriversLicense |\n",
        "| A13       | g, p, s.                                     | Citizen        |\n",
        "| A14       | continuous.                                  | ZipCode        |\n",
        "| A15       | continuous.                                  | Income         |\n",
        "| A16       | +,-                                          | Approved (CLASS ATTRIBUTE)       |\n",
        "\n",
        "\n",
        "\n",
        "* Τα χαρακτηριστικά που έχουν continuous τιμές αποτελουν <b>διατεταγμένα </b>χαρακτηριστικά, ενώ αυτά που έχουν διακριτές τιμές, δηλαδή σύμβολα, <b>μη διατεταγμένα</b>.\n",
        "\n",
        "* Στο dataset <b>δεν</b> υπάρχουν επικεφαλίδες, καθώς ούτε και αρίθμηση γραμμών.\n",
        "\n",
        "* Οι ετικέτες και οι σημασίες τους είναι:\n",
        "    * \"+\": Εγκρίθηκε η πίστωση\n",
        "    * \"-\": Απορρίφθηκε η πίστωση\n",
        "\n",
        "    Οι ετικέτες αυτές βρίσκονται στην τελευταία στήλη, ενώ οι τιμές τους θα πρέπει να μετατραπούν όπως φαίνεται παρακάτω:\n",
        "    * \"+\" -> 1\n",
        "    * \"-\" -> 0\n",
        "\n",
        "* <b>Υπάρχουν απουσιάζουσες τιμές</b>. Συγκεκριμένα, 37 δείγματα (5%) του συνολικού αριθμού δειγμάτων παρουσιάζουν μία ή παραπάνω απώλειες δεδομένων. \n",
        "\n",
        "Όλα τα παραπάνω φαίνονται παρακάτω:"
      ]
    },
    {
      "cell_type": "markdown",
      "metadata": {
        "id": "oW4faeHk8TKM"
      },
      "source": [
        "##Προεπεξεργασία των δεδομένων\n",
        "Aρχικά διαβάζουμε το αρχείο <b>crx.data</b>."
      ]
    },
    {
      "cell_type": "code",
      "metadata": {
        "id": "XNOetXVa77M7",
        "colab": {
          "base_uri": "https://localhost:8080/"
        },
        "outputId": "81cb4163-2f9d-4143-a42b-de57efd00510"
      },
      "source": [
        "import pandas as pd\n",
        "\n",
        "df = pd.read_csv(\"crx.data\", header=None)\n",
        "# print the five first samples\n",
        "print(df[:5])\n",
        "print(df.shape)"
      ],
      "execution_count": 4,
      "outputs": [
        {
          "output_type": "stream",
          "text": [
            "  0      1      2  3  4  5  6     7  8  9   10 11 12     13   14 15\n",
            "0  b  30.83  0.000  u  g  w  v  1.25  t  t   1  f  g  00202    0  +\n",
            "1  a  58.67  4.460  u  g  q  h  3.04  t  t   6  f  g  00043  560  +\n",
            "2  a  24.50  0.500  u  g  q  h  1.50  t  f   0  f  g  00280  824  +\n",
            "3  b  27.83  1.540  u  g  w  v  3.75  t  t   5  t  g  00100    3  +\n",
            "4  b  20.17  5.625  u  g  w  v  1.71  t  f   0  f  s  00120    0  +\n",
            "(690, 16)\n"
          ],
          "name": "stdout"
        }
      ]
    },
    {
      "cell_type": "markdown",
      "metadata": {
        "id": "NdZtApI_9Fab"
      },
      "source": [
        "###Αντιστοίχιση κλάσεων\n",
        "Παρατηρούμε, όπως ειπώθηκε και παραπάνω, ότι οι κλάσεις δηλώνονται στην τελευταία στήλη με τα σύμβολα +/-. \n",
        "\n",
        "Μετατρέπουμε τα \"+\" σε 1 και τα \"-\" σε 0:"
      ]
    },
    {
      "cell_type": "code",
      "metadata": {
        "id": "J3M1H7ST9O9x",
        "colab": {
          "base_uri": "https://localhost:8080/"
        },
        "outputId": "1e0b94f3-c3c3-4fda-ce28-3479021f6fa9"
      },
      "source": [
        "# create mapper for each symbol\n",
        "class_mapper = {\"+\": 1, \"-\": 0}\n",
        "# since these symbols occur only on the last column we dont specify the column\n",
        "df = df.replace(class_mapper)\n",
        "print(df[:5])"
      ],
      "execution_count": 5,
      "outputs": [
        {
          "output_type": "stream",
          "text": [
            "  0      1      2  3  4  5  6     7  8  9   10 11 12     13   14  15\n",
            "0  b  30.83  0.000  u  g  w  v  1.25  t  t   1  f  g  00202    0   1\n",
            "1  a  58.67  4.460  u  g  q  h  3.04  t  t   6  f  g  00043  560   1\n",
            "2  a  24.50  0.500  u  g  q  h  1.50  t  f   0  f  g  00280  824   1\n",
            "3  b  27.83  1.540  u  g  w  v  3.75  t  t   5  t  g  00100    3   1\n",
            "4  b  20.17  5.625  u  g  w  v  1.71  t  f   0  f  s  00120    0   1\n"
          ],
          "name": "stdout"
        }
      ]
    },
    {
      "cell_type": "markdown",
      "metadata": {
        "id": "p35rb4qAuRYR"
      },
      "source": [
        "###Εντοπισμός απουσιάζουσων τιμών χαρακτηριστικών\n",
        "\n",
        "Στη συνέχεια, θα εντοπίσουμε τις απουσιάζουσες τιμές. Αυτές δηλώνονται στο dataset με τον χαρακτήρα \"?\"."
      ]
    },
    {
      "cell_type": "code",
      "metadata": {
        "id": "s4snaGwf-KV3",
        "colab": {
          "base_uri": "https://localhost:8080/"
        },
        "outputId": "ecfde02e-f141-4b13-a61b-b395b756c152"
      },
      "source": [
        "import numpy as np\n",
        "from sklearn.impute import SimpleImputer\n",
        "\n",
        "# replace \"?\" with np.NaN\n",
        "df.replace('?',np.NaN,inplace=True)\n",
        "\n",
        "# calculate the number of samples with at least one missing attribute\n",
        "# df.isna() is the mask of df where each element is True if is NaN\n",
        "# s is the length of the list of samples that have at least one True(NaN)\n",
        "num_of_incomplete_samples = len([i for i in np.array(df.isna()) if True in i])\n",
        "\n",
        "print(\"The samples of the dataset that have at least one missing attribute are \", num_of_incomplete_samples)\n",
        "print(\"Which means that the \", num_of_incomplete_samples*100/df.shape[0], \"% of the samples have missing values.\", sep=\"\")"
      ],
      "execution_count": 6,
      "outputs": [
        {
          "output_type": "stream",
          "text": [
            "The samples of the dataset that have at least one missing attribute are  37\n",
            "Which means that the 5.36231884057971% of the samples have missing values.\n"
          ],
          "name": "stdout"
        }
      ]
    },
    {
      "cell_type": "markdown",
      "metadata": {
        "id": "mdHVwDC30eRv"
      },
      "source": [
        "Από τα παραπάνω βλέπουμε ότι αν θέλαμε να αγνοήσουμε τα δείγματα που έχουν missing values θα έπρεπε να \"πετάξουμε\" το 5% των δειγμάτων, αριθμός που <b>θα επηρέαζε αρνητικά τα αποτελέσματα</b>.\n",
        "\n",
        "Προκειμένου να εξετάσουμε αν οι περισσότερες τιμές που λείπουν προέρχονται απο συγκεκριμένα (λίγα) χαρακτηριστικά (και αν αυτά έχουν ίσως και μηδενική διακύμανση, δηλαδή  χαρακτηριστικά με σταθερές τιμές), οπότε θα μπορούσαμε να τα αγνοήσουμε, εκτελούμε:"
      ]
    },
    {
      "cell_type": "code",
      "metadata": {
        "id": "tkPRNBdi32T1",
        "colab": {
          "base_uri": "https://localhost:8080/"
        },
        "outputId": "eae18dd8-111f-4a8b-d488-c2c2d0b40539"
      },
      "source": [
        "# the list of the number of missing values for each attribute occurs by \n",
        "# summing the elements of the inverse of df, without df's last column.\n",
        "# df's last column is the class attribute and it is alwasy present.\n",
        "incomplete_attrs = [sum(i) for i in np.array(df.isna())[:,:df.shape[1]-1].T]\n",
        "print(\"For each attribute of the dataset, the number of the missing values is\")\n",
        "print(incomplete_attrs)\n",
        "# print(sum(incomplete_attrs))"
      ],
      "execution_count": 7,
      "outputs": [
        {
          "output_type": "stream",
          "text": [
            "For each attribute of the dataset, the number of the missing values is\n",
            "[12, 12, 0, 6, 6, 9, 9, 0, 0, 0, 0, 0, 0, 13, 0]\n"
          ],
          "name": "stdout"
        }
      ]
    },
    {
      "cell_type": "markdown",
      "metadata": {
        "id": "0fXm2-b_32zj"
      },
      "source": [
        "Βλέπουμε, επομένως, ότι από τα 690 δείγματα το πολύ σε 13 από αυτά ένα χαρακτηριστικό δεν έχει τιμές. Επομένως, δεν έχει νόημα να αγνοήσουμε το χαρακτηριστικό αυτό, ακόμα και αν είναι αυτό με τις περισσότερες ελλείψεις, αφού αυτές είναι πολύ λίγες και θα χάναμε πολύ πληροφορία.\n",
        "\n",
        "Τελικά η πιο συμφέρουσα λύση είναι να αντικαταστήσουμε τα NaN με τιμές που προκύπτουν με βάση τις τιμές των χαρακτηριστικών σε προηγούμενα δείγματα. <u>Συγκεκριμένα, αντικαθιστούμε τα NaN με την τιμή του χαρακτηριστικού που εμφανίζεται πιο συχνά</u>.\n",
        "\n",
        "Την αντικατάσταση των απουσιάζουσων τιμών θα τη χειρίζεται το πρώτο κομμάτι προεπεξεργασίας του Pipeline, που θα οριστεί στη συνέχεια και θα πρόκειται για έναν μετασχηματιστή Imputer."
      ]
    },
    {
      "cell_type": "markdown",
      "metadata": {
        "id": "3iIfeNp-F20h"
      },
      "source": [
        "Οι κλάσεις βρίσκονται στην τελευταία στήλη του συνόλου δεδομένων. Οπότε για να βρούμε το πλήθος τους και τα ποσοστά δειγμάτων τους επί του συνόλου:"
      ]
    },
    {
      "cell_type": "code",
      "metadata": {
        "id": "cc32MgrVGpPE",
        "colab": {
          "base_uri": "https://localhost:8080/"
        },
        "outputId": "6c74ac5c-0ecd-4b56-e21a-033b2b6bea08"
      },
      "source": [
        "num_of_rows = df.shape[0]\n",
        "num_of_attrs = df.shape[1] - 1 #remove one element because of the class attribute\n",
        "\n",
        "# get labesl and features\n",
        "labels_df = df.iloc[:, [num_of_attrs]] # τα labels είναι στην τελευταία κολώνα\n",
        "features_df = df.iloc[:, 0:num_of_attrs]  # τα features είναι όλες οι προηγούμενες κολώνες\n",
        "\n",
        "labels = labels_df.values.reshape(num_of_rows,)\n",
        "features = features_df.values\n",
        "# convert to int\n",
        "labels.astype(int)\n",
        "labels = np.array(labels, dtype='int64')\n",
        "# print(labels.shape)\n",
        "\n",
        "# find how many of each class\n",
        "bin_count = np.bincount(labels)\n",
        "print (\"frequencies:\", bin_count)\n",
        "print(\"The percentage of 0's in data: \", bin_count[0]*100/sum(bin_count), \"%.\")\n",
        "print(\"The percentage of 1's in data: \", bin_count[1]*100/sum(bin_count), \"%.\")"
      ],
      "execution_count": 8,
      "outputs": [
        {
          "output_type": "stream",
          "text": [
            "frequencies: [383 307]\n",
            "The percentage of 0's in data:  55.507246376811594 %.\n",
            "The percentage of 1's in data:  44.492753623188406 %.\n"
          ],
          "name": "stdout"
        }
      ]
    },
    {
      "cell_type": "markdown",
      "metadata": {
        "id": "gW0hDxy-LS28"
      },
      "source": [
        "Καταλήγουμε, λοιπόν, ότι τα ποσοστά είναι περίπου 55.5% για την κλάση 0 και 44.5% για την κλάση 1. Επομένως, το dataset είναι <b>ισορροπημένο</b>."
      ]
    },
    {
      "cell_type": "code",
      "metadata": {
        "colab": {
          "base_uri": "https://localhost:8080/"
        },
        "id": "sqMTLEANH4ST",
        "outputId": "99e481de-ecfd-42da-d7cc-e2ea1a7efa6e"
      },
      "source": [
        "# print(labels[:5])\n",
        "print(features.shape)"
      ],
      "execution_count": 9,
      "outputs": [
        {
          "output_type": "stream",
          "text": [
            "(690, 15)\n"
          ],
          "name": "stdout"
        }
      ]
    },
    {
      "cell_type": "markdown",
      "metadata": {
        "id": "Fe7knthjExus"
      },
      "source": [
        "###Εντοπισμός κατηγορικών χαρακτηριστικών\n",
        "Το dataset περιλαμβάνει εκτός από χαρακτηριστικά με συνεχείς αριθμητικές τιμές και κατηγορικά χαρακτηριστικά. Από τις πληροφορίες που έχουμε για το dataset, τα χαρακτηριστικά που είναι κατηγορικά είναι αυτά που αντιστοιχούν στις στήλες:\n",
        "\n",
        "    0,3,4,5,6,8,9,11,12\n",
        "\n",
        "Ο χειρισμός των κατηγορικών συμβόλων θα γίνει μετά το χειρισμό των απουσιάζουσων τιμών και πριν το Cross Validation."
      ]
    },
    {
      "cell_type": "markdown",
      "metadata": {
        "id": "Yni1P1F6D-89"
      },
      "source": [
        "##Διαχωρισμός του dataset\n",
        "Διαχωρίζουμε το dataset σε train και test set, χρησιμοποιώντας το 80% των δεδομένων για το training και το 20% για το testing:"
      ]
    },
    {
      "cell_type": "code",
      "metadata": {
        "id": "Hze8obkLEg0K"
      },
      "source": [
        "from sklearn.model_selection import train_test_split\n",
        "\n",
        "\n",
        "train, test, train_labels, test_labels = train_test_split(features, labels, test_size=0.2, random_state=78)"
      ],
      "execution_count": 10,
      "outputs": []
    },
    {
      "cell_type": "code",
      "metadata": {
        "id": "nOLwbo9dBD4a"
      },
      "source": [
        "train_pd = pd.DataFrame(data=train[:,:],    # values\n",
        "                 index=train[:,0])    # 1st column as index\n",
        "                  \n",
        "test_pd = pd.DataFrame(data=test[:,:],    # values\n",
        "                 index=test[:,0])    # 1st column as index"
      ],
      "execution_count": 11,
      "outputs": []
    },
    {
      "cell_type": "code",
      "metadata": {
        "colab": {
          "base_uri": "https://localhost:8080/"
        },
        "id": "IrNfyxLaBd8Y",
        "outputId": "b3348717-4f64-4300-e3d2-d74fb937b060"
      },
      "source": [
        "print(train.shape)\n",
        "print(train_pd.shape)\n",
        "\n",
        "print(test.shape)\n",
        "print(test_pd.shape)"
      ],
      "execution_count": 12,
      "outputs": [
        {
          "output_type": "stream",
          "text": [
            "(552, 15)\n",
            "(552, 15)\n",
            "(138, 15)\n",
            "(138, 15)\n"
          ],
          "name": "stdout"
        }
      ]
    },
    {
      "cell_type": "code",
      "metadata": {
        "id": "Yo0VGdmqlTjd",
        "colab": {
          "base_uri": "https://localhost:8080/"
        },
        "outputId": "0c91399b-eecd-44df-c86b-31110e902444"
      },
      "source": [
        "from collections import defaultdict\n",
        "# just for checking...\n",
        "print(train.shape)\n",
        "print(test.shape)\n",
        "check = defaultdict(int)\n",
        "for i in range(0,len(train_labels)):\n",
        "    check['pos_train'] += train_labels[i] == 1\n",
        "    check['neg_train'] += train_labels[i] == 0\n",
        "    \n",
        "\n",
        "# for i in range(0,len(test_labels)):\n",
        "#     check['pos_test'] += test_labels[i] == 1\n",
        "#     check['neg_test'] += test_labels[i] == 0\n",
        "    \n",
        "# print(check)"
      ],
      "execution_count": 13,
      "outputs": [
        {
          "output_type": "stream",
          "text": [
            "(552, 15)\n",
            "(138, 15)\n"
          ],
          "name": "stdout"
        }
      ]
    },
    {
      "cell_type": "markdown",
      "metadata": {
        "id": "G6hs-A0Q5a1j"
      },
      "source": [
        "##Ορισμός μετασχηματιστών"
      ]
    },
    {
      "cell_type": "markdown",
      "metadata": {
        "id": "K5QAIBec92x_"
      },
      "source": [
        "###Variance Threshold\n",
        "\n",
        "Παρακάτω υλοποιείται η συνάρτηση που αρχικοποιεί selector Variance Threshold, με κατόφλι που δίνεται από το όρισμα threshold"
      ]
    },
    {
      "cell_type": "code",
      "metadata": {
        "id": "jV9JVV6X68pn"
      },
      "source": [
        "# from sklearn.feature_selection import VarianceThreshold\n",
        "\n",
        "# def Variance_Threshold(data, threshold=0):\n",
        "#     # αρχικοποιούμε έναν selector\n",
        "#     train, test, train_labels, test_labels = data\n",
        "#     selector = VarianceThreshold(threshold = threshold)\n",
        "#     train_reduced = selector.fit_transform(train)\n",
        "#     test_reduced = selector.transform(test)\n",
        "\n",
        "#     return (train_reduced, test_reduced, train_labels, test_labels)"
      ],
      "execution_count": 14,
      "outputs": []
    },
    {
      "cell_type": "markdown",
      "metadata": {
        "id": "Ug166UU_88B1"
      },
      "source": [
        "###PCA"
      ]
    },
    {
      "cell_type": "code",
      "metadata": {
        "id": "JHoEFrk689m2"
      },
      "source": [
        "# from sklearn.decomposition import PCA\n",
        "\n",
        "# def PCA_selector(data, n):\n",
        "#     \"\"\"\n",
        "#     Function that creates a PCA selector that learns the train data\n",
        "#     and transforms train and test data.\n",
        "#     \"\"\"\n",
        "#     train, test, train_labels, test_labels = data\n",
        "#     # αρχικοποιούμε τον selector\n",
        "#     pca = PCA(n_components=n)\n",
        "#     trainPCA = pca.fit_transform(train)\n",
        "#     testPCA = pca.transform(test)\n",
        "\n",
        "#     return (trainPCA, testPCA, train_labels, test_labels)"
      ],
      "execution_count": 15,
      "outputs": []
    },
    {
      "cell_type": "markdown",
      "metadata": {
        "id": "d2gtTLCt9zko"
      },
      "source": [
        "###Κανονικοποίηση"
      ]
    },
    {
      "cell_type": "code",
      "metadata": {
        "id": "hIz6YOlw-KEu"
      },
      "source": [
        "# from scipy import stats as st\n",
        "\n",
        "# def StandarizerTransformer(data, method):\n",
        "#     \"\"\"\n",
        "#     Function that standarizes the data using two different methods.\n",
        "#     minmax and zscore.    \n",
        "#     \"\"\"\n",
        "#     train, test, train_labels, test_labels = data\n",
        "#     if method==\"zscore\":\n",
        "#         std_train = st.zscore(train)\n",
        "#     elif method==\"minmax\":\n",
        "#         std_train = (train - np.min(train) )/ (np.max(train) - np.min(train))\n",
        "#     else:\n",
        "#         std_train = train\n",
        "#     return (std_train, test, train_labels, test_labels)"
      ],
      "execution_count": 16,
      "outputs": []
    },
    {
      "cell_type": "markdown",
      "metadata": {
        "id": "A1qXIMpk_x--"
      },
      "source": [
        "###Εξισορρόπηση dataset - Sampling"
      ]
    },
    {
      "cell_type": "code",
      "metadata": {
        "id": "_QaC5aRuVZlL"
      },
      "source": [
        "# !pip install six"
      ],
      "execution_count": 17,
      "outputs": []
    },
    {
      "cell_type": "code",
      "metadata": {
        "id": "MLjaejVoANn9"
      },
      "source": [
        "# # from sklearn.externals import six\n",
        "# # from imblearn.over_sampling import RandomOverSampler\n",
        "# # from imblearn.under_sampling import RandomUnderSampler\n",
        "\n",
        "# def sampling(data, method):\n",
        "#     train, test, train_labels, test_labels = data\n",
        "#     if method == \"over\":\n",
        "#         ros = RandomOverSampler()\n",
        "#         # mlb = MultiLabelBinarizer().fit(['0', '1', '2', '3', '4'])\n",
        "#         # tmplabels = np.asarray(mlb.inverse_transform(C_trainDataTargets)).flatten()\n",
        "#         train_resampled, train_labels_resampled = ros.fit_sample(train,train_labels)\n",
        "#         trainTargets_resampled = mlb.transform(trainTargets_resampled)\n",
        "#     elif method == 'under':\n",
        "#         ros = RandomUnderSampler()\n",
        "#         # mlb = MultiLabelBinarizer().fit(['0', '1', '2', '3', '4'])\n",
        "#         # tmplabels = np.asarray(mlb.inverse_transform(C_trainDataTargets)).flatten()\n",
        "#         train_resampled, train_labels_resampled = ros.fit_sample(train,train_labels)\n",
        "#         trainTargets_resampled = mlb.transform(trainTargets_resampled)\n",
        "    \n",
        "#     return (train_resampled, test, train_labels_resampled, test_labels)"
      ],
      "execution_count": 18,
      "outputs": []
    },
    {
      "cell_type": "markdown",
      "metadata": {
        "id": "MvnXfmKlVr06"
      },
      "source": [
        "##Ορισμός ταξινομητών"
      ]
    },
    {
      "cell_type": "code",
      "metadata": {
        "id": "KIZND57tVwK0"
      },
      "source": [
        "# from sklearn.dummy import DummyClassifier\n",
        "# from sklearn.naive_bayes import GaussianNB\n",
        "\n",
        "\n",
        "# def createClassifier(classifier, argument=5):\n",
        "\n",
        "#     if classifier == 'dummy':\n",
        "#         clf = DummyClassifier(strategy=argument)\n",
        "#     elif classifier == 'gnb':\n",
        "#         clf = GaussianNB()\n",
        "#     elif classifier == 'knn':\n",
        "#         clf = KNeighborsClassifier(n_neighbors=argument)\n",
        "    \n",
        "#     return clf"
      ],
      "execution_count": 19,
      "outputs": []
    },
    {
      "cell_type": "markdown",
      "metadata": {
        "id": "-aZdMfMTZGUE"
      },
      "source": [
        "##Ορισμός Pipeline"
      ]
    },
    {
      "cell_type": "code",
      "metadata": {
        "id": "yCPJcKB9ZJm0"
      },
      "source": [
        "# def Pipeline (data, steps):\n",
        "#     \"\"\"\n",
        "#     Args:\n",
        "#         * data: (train, train_labels, test, test_labels)\n",
        "#         * steps: list of tuples, where each tuple's 1st el \n",
        "#         is the transformer/classifier and the 2nd el\n",
        "#         is the arguments of the function for the\n",
        "#         transformer/classifier\n",
        "#     \"\"\"\n",
        "\n",
        "#     mapper = {\n",
        "#         'selector': Variance_Threshold,\n",
        "#         'scaler': StandarizerTransformer,\n",
        "#         'sampler': sampling,\n",
        "#         'pca': PCA_selector,\n",
        "#         'kNN': createClassifier,\n",
        "#         'dummy': createClassifier\n",
        "#     }\n",
        "\n",
        "#     classifiers = set(['kNN', 'uniform', 'constant_0', 'constant_1', 'most_frequent', 'stratified'])\n",
        "\n",
        "#     for step in steps:\n",
        "#         if step[0] not in classifiers:\n",
        "#             # update data\n",
        "#             data = mapper[step[0]](step[1])\n",
        "\n",
        "#         else:\n",
        "#             # return model\n",
        "#             return (data, createClassifier(step[0], step[1]))\n",
        "\n",
        "\n"
      ],
      "execution_count": 20,
      "outputs": []
    },
    {
      "cell_type": "markdown",
      "metadata": {
        "id": "Myc4SzW_5CKC"
      },
      "source": [
        "##Κατασκευή Pipeline"
      ]
    },
    {
      "cell_type": "markdown",
      "metadata": {
        "id": "VNwAJkIN_XGK"
      },
      "source": [
        "###Χειρισμός απουσιάζουσων τιμών\n",
        "Όπως καταλήξαμε θα χρησιμοποιηθεί ο μετασχηματιστής Imputer, για τον χειρισμό των απουσιάζουσων τιμών, θέτοντας σε αυτές την πιο συχνή τιμή του χαρακτηριστικού"
      ]
    },
    {
      "cell_type": "code",
      "metadata": {
        "id": "N-EJG3JR_wjD"
      },
      "source": [
        "# create imputer that will replace NaN with the most frequent value\n",
        "imp=SimpleImputer(missing_values=np.NaN,strategy=\"most_frequent\")\n",
        "# fit and transform train data by replacing NaN with the most frequent value of the attribute\n",
        "i_train=pd.DataFrame(imp.fit_transform(train_pd))\n",
        "i_train.columns=train_pd.columns\n",
        "i_train.index=train_pd.index\n",
        "\n",
        "# transform the test data using the same model\n",
        "i_test = imp.transform(test_pd.values)"
      ],
      "execution_count": 21,
      "outputs": []
    },
    {
      "cell_type": "code",
      "metadata": {
        "colab": {
          "base_uri": "https://localhost:8080/"
        },
        "id": "vtvh5TWcEQnj",
        "outputId": "5899adf8-2ad5-4e08-d61d-820640fc696e"
      },
      "source": [
        "print(train_pd.shape)\n",
        "print(i_train.shape)\n",
        "\n",
        "print(test_pd.shape)\n",
        "print(i_test.shape)"
      ],
      "execution_count": 22,
      "outputs": [
        {
          "output_type": "stream",
          "text": [
            "(552, 15)\n",
            "(552, 15)\n",
            "(138, 15)\n",
            "(138, 15)\n"
          ],
          "name": "stdout"
        }
      ]
    },
    {
      "cell_type": "markdown",
      "metadata": {
        "id": "CuYB4UObEuGh"
      },
      "source": [
        "###Χειρισμός κατηγορικών χαρακτηριστικών\n",
        "\n",
        "Για τον χειρισμό των κατηγορικών χαρακτηριστικών θα μετατρέψουμε τα μη διατεταγμένα χαρακτηριστικά με m τιμές σε m binary χαρακτηριστικά από τα οποία μόνο ένα είναι ενεργό κάθε φορά. Τα μη διατεταγμένα χαρακτηριστικά είναι τα: \n",
        "    0,3,4,5,6,8,9,11,12\n",
        "Επομένως εκτελούμε:"
      ]
    },
    {
      "cell_type": "code",
      "metadata": {
        "id": "Dg0Co3aQHerv"
      },
      "source": [
        "# οι κολόνες 0,3,4,5,6,8,9,11,12 έχουν κατηγορικές μεταβλητές. \n",
        "# Using \"get_dummies\" we convert to binary characteristics\n",
        "\n",
        "# converting train data\n",
        "dummies_train = pd.get_dummies(i_train, columns=[0,3,4,5,6,8,9,11,12])\n",
        "\n",
        "\n",
        "# converting test data\n",
        "# convert to dataframe \n",
        "mtdf = pd.DataFrame(i_test)\n",
        "dummies_test = pd.get_dummies(mtdf, columns=[0,3,4,5,6,8,9,11,12])"
      ],
      "execution_count": 23,
      "outputs": []
    },
    {
      "cell_type": "markdown",
      "metadata": {
        "id": "FtXtMrtVQuzN"
      },
      "source": [
        "Σε αυτό το σημείο θα πρέπει να έχουν δημιουργηθεί για κάθε τιμή των χαρακτηριστικών του συνόλου δεδομένων στο train dataset δυαδικά χαρακτηριστικά που δηλώνουν αν έχει ή όχι το δείγμα για το συγκεκριμένο χαρακτηριστικό αυτήν τιμή. Το ίδιο ισχύει και για το σύνολο δεδομένων στο test dataset. Ωστόσο, το δεύτερο είναι πολύ μικρότερο από το πρώτο και ανάλογα το πώς έγινε το split κάποιες τιμές για ορισμένα χαρακτηριστικά μπορεί να μην περιέχονται και στα 2 σύνολα, με αποτέλεσμα διαφορετικά σύνολα στηλών στα train και test. Για να αντιμετωπίσουμε αυτό το ζήτημα βρίσκουμε τις στήλες που εμφανίζονται μόνο στο ένα σύνολο δεδομένων και τις προσθέτουμε στο άλλο θέτοντας τιμή **0**. Αυτό το κάνουμε και για τα δύο σύνολα, αφού αν και λιγότερο πιθανό, μία τιμή ενός χαρακτηριστικού δύναται να περιέχεται στο test dataset και όχι στο train dataset. Ακολουθεί η υλοποίηση των παραπάνω:"
      ]
    },
    {
      "cell_type": "code",
      "metadata": {
        "colab": {
          "base_uri": "https://localhost:8080/"
        },
        "id": "w1-Z7DCYIX8n",
        "outputId": "b2105eb3-fcb8-4d34-cdae-d58936b2646f"
      },
      "source": [
        "add_to_test = set(dummies_train.columns.values) - set(dummies_test.columns.values)\n",
        "for col in add_to_test:\n",
        "    dummies_test[col] = 0\n",
        "dummies_test = dummies_test[dummies_train.columns]\n",
        "print(dummies_test.shape[1] == dummies_test.shape[1])\n",
        "\n",
        "# MAYBE DO IT FOR TRAIN TO"
      ],
      "execution_count": 24,
      "outputs": [
        {
          "output_type": "stream",
          "text": [
            "True\n"
          ],
          "name": "stdout"
        }
      ]
    },
    {
      "cell_type": "markdown",
      "metadata": {
        "id": "DT_QqvfRWIOe"
      },
      "source": [
        "Επομένως, με αυτόν τον τρόπο διασφαλίζουμε ότι τα δύο σύνολα έχουν <u>τα ίδια χαρακτηριστικά και με την ίδια σειρά</u>. \n",
        "\n",
        "Τέλος, μετατρέπουμε σε αριθμητικές τιμές:"
      ]
    },
    {
      "cell_type": "code",
      "metadata": {
        "colab": {
          "base_uri": "https://localhost:8080/"
        },
        "id": "uTIxsYqhWaWu",
        "outputId": "726f94d8-cbfe-4b4f-97bb-eb3b774366cf"
      },
      "source": [
        "# Μετατρέπουμε σε αριθμητικές τιμές (pd.to_numeric) και σε numpy array (.values)\n",
        "final_train = dummies_train.apply(pd.to_numeric).values\n",
        "print(final_train.shape)\n",
        "# Μετατρέπουμε σε αριθμητικές τιμές (pd.to_numeric) και σε numpy array (.values)\n",
        "final_test = dummies_test.apply(pd.to_numeric).values\n",
        "print(final_test.shape)"
      ],
      "execution_count": 25,
      "outputs": [
        {
          "output_type": "stream",
          "text": [
            "(552, 46)\n",
            "(138, 46)\n"
          ],
          "name": "stdout"
        }
      ]
    },
    {
      "cell_type": "markdown",
      "metadata": {
        "id": "EYmrUc66NnUJ"
      },
      "source": [
        "Βλέπουμε, όπως αναμενόταν, ότι το πλήθος των χαρακτηριστικών φαίνεται έχει πλέον αυξηθεί.\n",
        "Στην πραγματικότητα παραμένουν τα ίδια χαρακτηριστικά, ωστόσο για κάθε κατηγορικό χαρακτηριστικό Κ, δημιουργούμε το χαρακτηριστικό έχειΚ_V για κάθε δυνατή τιμή του K, V, το οποίο έχει τιμή 1 μόνο αν το συγκεκριμένο δείγμα έχει την τιμή V για το χαρακτηριστικό αυτό."
      ]
    },
    {
      "cell_type": "code",
      "metadata": {
        "id": "RmD18iivv6_8"
      },
      "source": [
        "from itertools import combinations\n",
        "\n",
        "def get_transformers(my_list):\n",
        "    \"\"\"\n",
        "    Function that gets a list of all the transformers that can be used\n",
        "    and returns a list of subists, where each sublist is a unique combination\n",
        "    of the transformers.\n",
        "    \"\"\"\n",
        "    sublists = []\n",
        "    for i in range(0, len(my_list)+1):\n",
        "        temp = [list(x) for x in combinations(my_list, i) if not (('scaler' in x and 'min_max_scaler' in x) or ('ros' in x and 'rus' in x))]  #get the combinations with i elements\n",
        "        # scaler and min_max_scaler will not be used in the same pipeline. The same for ros and rus\n",
        "        sublists.extend(temp)    #and add to initial list\n",
        "    return sublists\n"
      ],
      "execution_count": 26,
      "outputs": []
    },
    {
      "cell_type": "code",
      "metadata": {
        "id": "Y5l4kqHEiVaf"
      },
      "source": [
        "import time\n",
        "import numpy as np\n",
        "import pandas as pd\n",
        "import matplotlib.pyplot as plt\n",
        "from sklearn.utils import shuffle\n",
        "from sklearn import neighbors\n",
        "from sklearn.metrics import classification_report\n",
        "\n",
        "from imblearn.pipeline import Pipeline\n",
        "\n",
        "# import the packages for the transformers and classifiers we will use\n",
        "from sklearn.dummy import DummyClassifier\n",
        "from sklearn.feature_selection import VarianceThreshold\n",
        "from sklearn.preprocessing import StandardScaler # φέρνουμε τον StandarScaler ως transformer που έχει .transform kai ΄όχι ως scale()\n",
        "from imblearn.over_sampling import RandomOverSampler\n",
        "from imblearn.under_sampling import RandomUnderSampler\n",
        "from sklearn.decomposition import PCA\n",
        "from sklearn.model_selection import GridSearchCV\n",
        "from sklearn import preprocessing\n",
        "from sklearn.naive_bayes import GaussianNB\n",
        "\n",
        "from sklearn.metrics import plot_confusion_matrix, accuracy_score, f1_score\n",
        "\n",
        "\n",
        "\n",
        "selector = VarianceThreshold()\n",
        "min_max_scaler = preprocessing.MinMaxScaler()\n",
        "scaler = StandardScaler()\n",
        "ros = RandomOverSampler()\n",
        "rus = RandomUnderSampler()\n",
        "pca = PCA()\n",
        "dummy = DummyClassifier()\n",
        "gnb = GaussianNB()\n",
        "knn = neighbors.KNeighborsClassifier(n_jobs=-1) # η παράμετρος n_jobs = 1 χρησιμοποιεί όλους τους πυρήνες του υπολογιστή\n",
        "\n",
        "\n",
        "# vthresholds = [0, 1000, 10000, 1000000] #προσαρμόζουμε τις τιμές μας στο variance που παρατηρήσαμε\n",
        "# scalers = [None, min_max_scaler, scaler]\n",
        "# samplers = [None, ros, rus]\n",
        "# num_n_components = [10, 20, 30, 40, 50, 60]\n",
        "\n",
        "# k = [1, 6] # η υπερπαράμετρος του ταξινομητή\n",
        "scoring = ['f1_macro', 'f1_micro']\n",
        "\n",
        "\n",
        "# dict that maps the transformer with its model\n",
        "transformers = {'selector': selector,\n",
        "         'scaler': scaler,\n",
        "         'min_max_scaler': min_max_scaler,\n",
        "         'ros': ros,\n",
        "         'rus': rus,\n",
        "         'pca': pca\n",
        "        }\n",
        "\n",
        "# dict that maps the classifier with its model\n",
        "classifiers = {\n",
        "    'dummy': dummy,\n",
        "    'gnb': gnb,\n",
        "    'kNN': knn\n",
        "\n",
        "}\n",
        "\n",
        "# dict that maps the classifier with the appropriate syntax of the\n",
        "# gridsearchCV attribute\n",
        "est_mapper_keys = {\n",
        "    'selector': 'selector__threshold',\n",
        "    'pca': 'pca__n_components',\n",
        "    'dummy': 'dummy__strategy',\n",
        "    'kNN': 'kNN__n_neighbors'\n",
        "}\n",
        "\n",
        "# dict that maps the transformer/classifier with the values of its arguments\n",
        "est_values_mapper = {\n",
        "    'selector': [0, 1000, 10000, 1000000],\n",
        "    'pca': [10, 20, 30, 40, 50, 60],\n",
        "    'dummy': ['uniform', 'constant_0', 'constant_1', 'most_frequent', 'stratified'],\n",
        "    'kNN': [2, 5, 7, 9, 11]\n",
        "}\n",
        "\n",
        "\n",
        "def getEstDict(steps):\n",
        "    \"\"\"\n",
        "    Function that returns the dictionary that will be used as argument\n",
        "    for the GridSearchCV.\n",
        "    For every step in the steps of the pipeline it checks whether\n",
        "    there can be any argument for the GridSearchCV function and if there is, \n",
        "    it adds to the dictionary the proper attribute name and its value.\n",
        "    \"\"\"\n",
        "    dict = {}\n",
        "    for step in steps:\n",
        "        if step[0] in est_mapper_keys:\n",
        "            dict[est_mapper_keys[step[0]]] = est_values_mapper[step[0]]\n",
        "    return dict\n",
        "\n",
        "\n",
        "def runEstimators(my_transformers = transformers.keys(), my_classifiers =classifiers.keys() , cv=10, scoring='f1_macro', showResults = False):\n",
        "    f1_scores = defaultdict(str)\n",
        "    f1_scores['micro'] = {}\n",
        "    f1_scores['macro'] = {}\n",
        "    f1_scores['best_estimator'] = {}\n",
        "    f1_scores['fit_time'] = {}\n",
        "    f1_scores['predict_time'] = {}\n",
        "    \n",
        "    counter = 0\n",
        "    for sequence in get_transformers(my_transformers):\n",
        "        \n",
        "        # add trasformers\n",
        "        steps = []  #initialize\n",
        "        steps = [(trans, transformers[trans]) for trans in sequence]\n",
        "        \n",
        "        # add classifier\n",
        "        for classifier in my_classifiers:\n",
        "            counter+=1\n",
        "            # print(classifier)\n",
        "            if len(steps): steps.pop()  #delete previous classifier\n",
        "            steps.append((classifier, my_classifiers[classifier])) #add new classifier\n",
        "            \n",
        "            # create Pipe\n",
        "            pipe = Pipeline(steps=steps, memory = 'tmp')\n",
        "            if cv:\n",
        "                # create Estimator\n",
        "                estimator_dict = getEstDict(steps)\n",
        "                estimator = GridSearchCV(pipe, estimator_dict, cv=2, scoring=scoring, n_jobs=-1)\n",
        "                fit_start_time = time.time()    #start counting fit time\n",
        "                # fit estimator\n",
        "                estimator.fit(final_train, train_labels)\n",
        "                f1_scores['fit_time'][classifier+str(counter)] = time.time() - fit_start_time\n",
        "            else:\n",
        "                estimator = pipe.fit(final_train, train_labels)\n",
        "            \n",
        "            # test on test data\n",
        "            predict_start_time = time.time()    #start counting predict time\n",
        "            preds = estimator.predict(final_test)\n",
        "            # print(\"Total time fit and predict: %s seconds\" % (time.time() - start_time))\n",
        "            f1_scores['predict_time'][classifier+str(counter)] = time.time() - predict_start_time\n",
        "            f1_scores['micro'][classifier+str(counter)] = f1_score(test_labels, preds, average='micro')\n",
        "            f1_scores['macro'][classifier+str(counter)] = f1_score(test_labels, preds, average='macro')\n",
        "            if cv:\n",
        "                f1_scores['best_estimator'][classifier+str(counter)] =  estimator.best_estimator_\n",
        "                # print(estimator.best_params_)\n",
        "            if showResults:\n",
        "                print(\"The average f1-micro average of the \"+ classifier +\" classifier is: \", f1_score(test_labels, preds, average='micro'))\n",
        "                print(\"The average f1-macro average of the \"+ classifier +\" classifier is: \", f1_score(test_labels, preds, average='macro'))\n",
        "                print(\"The classification report:\")\n",
        "                print(classification_report(test_labels, preds, target_names=[\"rejected\", \"granted\"]))\n",
        "                disp1 = plot_confusion_matrix(estimator, final_test, test_labels,\n",
        "                                    display_labels=[\"rejected\", \"granted\"],\n",
        "                                    cmap=plt.cm.Blues)\n",
        "                plt.show()\n",
        "                print(\"================================================================================\")\n",
        "        #     break\n",
        "        # break\n",
        "    print(counter)\n",
        "    return f1_scores\n"
      ],
      "execution_count": 27,
      "outputs": []
    },
    {
      "cell_type": "code",
      "metadata": {
        "id": "_ObxRFPVj1mb"
      },
      "source": [
        "# estimator.get_params().keys()"
      ],
      "execution_count": 28,
      "outputs": []
    },
    {
      "cell_type": "code",
      "metadata": {
        "id": "AkpJu5odkVO3"
      },
      "source": [
        "# print(estimator.best_estimator_)\n",
        "# print(estimator.best_params_)"
      ],
      "execution_count": 29,
      "outputs": []
    },
    {
      "cell_type": "markdown",
      "metadata": {
        "id": "J5mNVBXGdNRE"
      },
      "source": [
        "##Baseline Classification - Ταξινόμηση χωρίς προεπεξεργασία"
      ]
    },
    {
      "cell_type": "markdown",
      "metadata": {
        "id": "LQB2ODT4dUbU"
      },
      "source": [
        "Έχοντας υλοποιήσει τα παραπάνω, θα εκπαιδευτούν στο train dataset οι διάφοροι ταξινομητές (Dummy, Gausian Naive Bayes και K-Nearest Neighbors), χωρίς κάποια προεπεξεργασία των δεδομένων, εκτός από τον χειρισμό των απουσιάζουσων τιμών και των κατηγορικών χαρακτηριστικών και με τις default παραμέτρους τους:"
      ]
    },
    {
      "cell_type": "code",
      "metadata": {
        "colab": {
          "base_uri": "https://localhost:8080/"
        },
        "id": "DtOKCdXtcTcR",
        "outputId": "29ef0f4c-2be6-4467-d688-2dd51fe26e39"
      },
      "source": [
        "a = {1:11, 2:22}\n",
        "print(a.keys())"
      ],
      "execution_count": 30,
      "outputs": [
        {
          "output_type": "stream",
          "text": [
            "dict_keys([1, 2])\n"
          ],
          "name": "stdout"
        }
      ]
    },
    {
      "cell_type": "code",
      "metadata": {
        "colab": {
          "base_uri": "https://localhost:8080/",
          "height": 1000
        },
        "id": "7592my4QlkWK",
        "outputId": "41bf37ac-5e12-483e-e594-0c58a06bc78c"
      },
      "source": [
        "# dict that maps the classifier with its model\n",
        "classifiers = {\n",
        "    'dummy': dummy,\n",
        "    'gnb': gnb,\n",
        "    'kNN': knn\n",
        "\n",
        "}\n",
        "\n",
        "f1_scores_default = runEstimators(my_transformers={}, my_classifiers=classifiers, cv=None, showResults=True)"
      ],
      "execution_count": 31,
      "outputs": [
        {
          "output_type": "stream",
          "text": [
            "The average f1-micro average of the dummy classifier is:  0.5289855072463768\n",
            "The average f1-macro average of the dummy classifier is:  0.5198843868757694\n",
            "The classification report:\n",
            "              precision    recall  f1-score   support\n",
            "\n",
            "    rejected       0.58      0.59      0.59        78\n",
            "     granted       0.46      0.45      0.45        60\n",
            "\n",
            "    accuracy                           0.53       138\n",
            "   macro avg       0.52      0.52      0.52       138\n",
            "weighted avg       0.53      0.53      0.53       138\n",
            "\n"
          ],
          "name": "stdout"
        },
        {
          "output_type": "display_data",
          "data": {
            "image/png": "[encoded data removed]",
            "text/plain": [
              "<Figure size 432x288 with 2 Axes>"
            ]
          },
          "metadata": {
            "tags": [],
            "needs_background": "light"
          }
        },
        {
          "output_type": "stream",
          "text": [
            "================================================================================\n",
            "The average f1-micro average of the gnb classifier is:  0.8333333333333334\n",
            "The average f1-macro average of the gnb classifier is:  0.8266994266994266\n",
            "The classification report:\n",
            "              precision    recall  f1-score   support\n",
            "\n",
            "    rejected       0.82      0.91      0.86        78\n",
            "     granted       0.86      0.73      0.79        60\n",
            "\n",
            "    accuracy                           0.83       138\n",
            "   macro avg       0.84      0.82      0.83       138\n",
            "weighted avg       0.84      0.83      0.83       138\n",
            "\n"
          ],
          "name": "stdout"
        },
        {
          "output_type": "display_data",
          "data": {
            "image/png": "[encoded data removed]",
            "text/plain": [
              "<Figure size 432x288 with 2 Axes>"
            ]
          },
          "metadata": {
            "tags": [],
            "needs_background": "light"
          }
        },
        {
          "output_type": "stream",
          "text": [
            "================================================================================\n",
            "The average f1-micro average of the kNN classifier is:  0.7028985507246377\n",
            "The average f1-macro average of the kNN classifier is:  0.6848788638262324\n",
            "The classification report:\n",
            "              precision    recall  f1-score   support\n",
            "\n",
            "    rejected       0.70      0.83      0.76        78\n",
            "     granted       0.71      0.53      0.61        60\n",
            "\n",
            "    accuracy                           0.70       138\n",
            "   macro avg       0.71      0.68      0.68       138\n",
            "weighted avg       0.70      0.70      0.69       138\n",
            "\n"
          ],
          "name": "stdout"
        },
        {
          "output_type": "display_data",
          "data": {
            "image/png": "[encoded data removed]",
            "text/plain": [
              "<Figure size 432x288 with 2 Axes>"
            ]
          },
          "metadata": {
            "tags": [],
            "needs_background": "light"
          }
        },
        {
          "output_type": "stream",
          "text": [
            "================================================================================\n",
            "3\n"
          ],
          "name": "stdout"
        }
      ]
    },
    {
      "cell_type": "markdown",
      "metadata": {
        "id": "JeE5j1aUNA0P"
      },
      "source": [
        "Στη συνέχεια, έχοντας αποθηκεύσει τις τιμές των μετρικών F1-micro average και F1-macro average, τις αναπαριστούμε γραφικά:"
      ]
    },
    {
      "cell_type": "code",
      "metadata": {
        "id": "N3lXy5jkqduh",
        "colab": {
          "base_uri": "https://localhost:8080/",
          "height": 715
        },
        "outputId": "5625db5b-f9e5-4980-f7d4-f16694961456"
      },
      "source": [
        "# plot for f1-macro average\n",
        "fig = plt.figure()\n",
        "ax = fig.add_axes([0,0,1,1])\n",
        "clfs = f1_scores_default['macro'].keys()\n",
        "f1_macro_scores = f1_scores_default['macro'].values()\n",
        "ax.bar(clfs,f1_macro_scores, color='cyan', width=0.3)\n",
        "plt.title(\"F1 Macro Average\")\n",
        "plt.xlabel(\"Classifiers\")\n",
        "plt.ylabel(\"F1 Macro Score\")\n",
        "plt.grid()\n",
        "plt.show()\n",
        "\n",
        "\n",
        "# plot for f1-micro average\n",
        "fig = plt.figure()\n",
        "ax = fig.add_axes([0,0,1,1])\n",
        "clfs = f1_scores_default['micro'].keys()\n",
        "f1_macro_scores = f1_scores_default['micro'].values()\n",
        "ax.bar(clfs,f1_macro_scores, color='b', width=0.3)\n",
        "plt.title(\"F1 Micro Average\")\n",
        "plt.xlabel(\"Classifiers\")\n",
        "plt.ylabel(\"F1 Micro Score\")\n",
        "plt.grid()\n",
        "plt.show()\n"
      ],
      "execution_count": 32,
      "outputs": [
        {
          "output_type": "display_data",
          "data": {
            "image/png": "[encoded data removed]",
            "text/plain": [
              "<Figure size 432x288 with 1 Axes>"
            ]
          },
          "metadata": {
            "tags": [],
            "needs_background": "light"
          }
        },
        {
          "output_type": "display_data",
          "data": {
            "image/png": "[encoded data removed]",
            "text/plain": [
              "<Figure size 432x288 with 1 Axes>"
            ]
          },
          "metadata": {
            "tags": [],
            "needs_background": "light"
          }
        }
      ]
    },
    {
      "cell_type": "markdown",
      "metadata": {
        "id": "ZtOHr7PXNPxv"
      },
      "source": [
        "###Σχολιασμός αποτελεσμάτων\n",
        "\n",
        "Για την απόδοση των τριών ταξινομητών στα δεδομένα εισόδου έχουμε στη διάθεσή μας τις μετρικές:\n",
        "\n",
        "* **Precision**: Δηλώνει για κάθε κλάση την ακρίβεια των positive προβλέψεων, δηλαδή κατά πόσο ήταν θετικά αυτά που το μοντέλο δήλωσε ως θετικά. Προκύπτει από τον τύπο: **TP/ (TP + FP)**. Αν εφαρμόσουμε τον τύπο στα κατάλληλα δεδομένα των πινάκων σύγχυσης προκύπτουν οι τιμές που εφμανίζονται στο πεδίο  Precision του classification report για την αντίστοιχη κλάση. \n",
        "\n",
        "\n",
        "* **Recall**: Δηλώνει τι ποσοστό από τα positives για την κάθε κλάση προβλέψαμε σωστά. Προκύπτει από τον τύπο: TP /(TP + FN). Αν εφαρμόσουμε τον τύπο στα κατάλληλα δεδομένα των πινάκων σύγχυσης προκύπτουν οι τιμές που εφμανίζονται στο πεδίο  Recall του classification report για την αντίστοιχη κλάση. \n",
        "\n",
        "\n",
        "* **f1 -score**: Δηλώνει τι ποσοστό των θετικών προβλέψεων, για κάθε κλάση, ήταν σωστά. Προκύπτει από τον τύπο :\n",
        "\n",
        "    F1 Score = 2*(Recall * Precision) / (Recall + Precision)    \n",
        "και αν εφαρμόσουμε τις τιμές που προέκψαν προηγουμένως καταλήγουμε στα ίδια αποτελέσματα που υπάρχουν στo classification report, για την αντίστοιχη κλάση.\n",
        "\n",
        "Μελετώντας τις τιμές για τους τρεις classifiers:\n",
        "\n",
        "* Για τον **dummy**: Τα αποτελέσματα δεν ήταν ικανοποιητικά. Η μέθοδος που χρησιμοποιείται από default στον dummy classifier ονομάζεται \"stratified\" και για την αντιστοίχιση των κλάσεων λαμβάνει υπόψιν μόνο τη διατήρηση της ίδιας κατανομής των κλάσεων με αυτή στο train data. Σε κάθε επανάληψη του predict τα αποτελέσματα παρουσιάζουν μεταβολές, ωστόσο σε κάθε περίπτωση οι όλοι δείκτες κινούνται σε αναμενόμενες τιμές. Συγκεκριμένα, είναι λογικό να προβλέπει σταθερά περισσότερα *rejected*, δεδομένου ότι στο αρχικό dataset η κατανομή rejected-granted ήταν περίπου 55%- 45% και με ένα τυχαίο split η κατανομή στο train dataset θα είναι περίπου η ίδια. \n",
        "\n",
        "* Για τον **Naive Gaussain Bayes**: Συγκέτρωσε πολλά δείγματα στην κύρια διαγώνιο του confusion matrix.\n",
        "\n",
        "* Για τον **k-NN**: Τα αποτελέσματά του ήταν καλύτερα από τον \"dummy\", αλλά χειρότερα από τον gnb. Σημείωσε μετριο precision και σχετικά καλό Recall για το rejected, αλλά κακό για το Granted. Μια πιθανή εξήγηση σε αυτό θα ήταν ότι μπορεί να υπάρχουν συγκεκριμένα κριτήρια απόρριψης για την πίστωση, οπότε τα διανύσματα των δειγμάτων θα ήταν κοντινά. Αντίθετα, για την έγκριση πίστωσης μπορεί να είναι περισσότεροι οι παράγοντες και τα διανύσματα των δειγμάτων πολύ διαφορετικά. Επομένως, με μεγαλύτερο k, μπορεί να είχαμε μεγαλύτερο Recall για την κλάση granted."
      ]
    },
    {
      "cell_type": "markdown",
      "metadata": {
        "id": "PLoHK9vJsY83"
      },
      "source": [
        "###Βελτιστοποίηση ταξινομητών\n",
        "\n",
        "Ασχολούμαστε με τον κάθε ταξινομητή ξεχωριστά:"
      ]
    },
    {
      "cell_type": "markdown",
      "metadata": {
        "id": "PYeTjRtIs3vw"
      },
      "source": [
        "####Dummy Classifier\n",
        "\n",
        "#####Mετρική απόδοσης: **f1-macro**:"
      ]
    },
    {
      "cell_type": "code",
      "metadata": {
        "id": "mfUzT2bL0heM"
      },
      "source": [
        "def getResults(scores, macros):\n",
        "    best_estimator = scores['best_estimator'][macros[0][0]]\n",
        "    print(\"Best estimator is: \", best_estimator)\n",
        "    # confusion matrix\n",
        "    disp1 = plot_confusion_matrix(best_estimator, final_test, test_labels,\n",
        "                                        display_labels=[\"rejected\", \"granted\"],\n",
        "                                        cmap=plt.cm.Blues)\n",
        "    plt.show()\n",
        "\n",
        "    # print macros\n",
        "    print(\"The average f1-micro average is: \", scores['micro'][macros[0][0]])\n",
        "    print(\"The average f1-macro average is: \", scores['macro'][macros[0][0]])\n",
        "    print(\"Fit time: \", scores['fit_time'][macros[0][0]])\n",
        "    print(\"Predict time: \", scores['predict_time'][macros[0][0]])"
      ],
      "execution_count": 33,
      "outputs": []
    },
    {
      "cell_type": "code",
      "metadata": {
        "colab": {
          "base_uri": "https://localhost:8080/",
          "height": 459
        },
        "id": "l7dQhnfltaC1",
        "outputId": "1b2caaf0-11f4-464b-e4d4-a3916cd03a50"
      },
      "source": [
        "# dict that maps the transformer with its model\n",
        "transformers = {'selector': selector,\n",
        "         'scaler': scaler,\n",
        "         'min_max_scaler': min_max_scaler,\n",
        "         'ros': ros,\n",
        "         'rus': rus,\n",
        "         'pca': pca\n",
        "        }\n",
        "\n",
        "\n",
        "f1_scores = runEstimators(my_transformers=transformers, my_classifiers={'dummy': dummy})\n",
        "macros = [(k,v) for k, v in sorted(f1_scores['macro'].items(), key=lambda item: item[1], reverse=True)]\n",
        "print(macros)\n",
        "getResults(f1_scores, macros)"
      ],
      "execution_count": 34,
      "outputs": [
        {
          "output_type": "stream",
          "text": [
            "36\n",
            "[('dummy13', 0.601923076923077), ('dummy20', 0.5938616775278537), ('dummy36', 0.5648517973512719), ('dummy3', 0.5576923076923077), ('dummy18', 0.5494299630680297), ('dummy33', 0.5473015873015874), ('dummy8', 0.5405591079638535), ('dummy4', 0.5393907284768212), ('dummy1', 0.5326984126984127), ('dummy26', 0.5289607729874495), ('dummy7', 0.5259736828198489), ('dummy35', 0.5247682119205299), ('dummy5', 0.519214527027027), ('dummy29', 0.5138545664861454), ('dummy14', 0.5124189210567949), ('dummy15', 0.5092672413793102), ('dummy19', 0.5071428571428571), ('dummy11', 0.5068320369981081), ('dummy30', 0.49667453336193945), ('dummy6', 0.49516789516789517), ('dummy27', 0.49264705882352944), ('dummy21', 0.4922953878965609), ('dummy28', 0.4917929292929293), ('dummy25', 0.49033881068350904), ('dummy32', 0.4858420268256334), ('dummy9', 0.48330960291093183), ('dummy31', 0.48221740738783486), ('dummy16', 0.4795258620689655), ('dummy34', 0.4742857142857143), ('dummy2', 0.47115179902065146), ('dummy12', 0.4696499078704922), ('dummy10', 0.4619599578503688), ('dummy22', 0.45580735054419264), ('dummy17', 0.4450793650793651), ('dummy24', 0.44354838709677424), ('dummy23', 0.441999684923594)]\n",
            "Best estimator is:  Pipeline(memory='tmp',\n",
            "         steps=[('scaler', StandardScaler()),\n",
            "                ('dummy', DummyClassifier(strategy='stratified'))])\n"
          ],
          "name": "stdout"
        },
        {
          "output_type": "display_data",
          "data": {
            "image/png": "[encoded data removed]",
            "text/plain": [
              "<Figure size 432x288 with 2 Axes>"
            ]
          },
          "metadata": {
            "tags": [],
            "needs_background": "light"
          }
        },
        {
          "output_type": "stream",
          "text": [
            "The average f1-micro average is:  0.6086956521739131\n",
            "The average f1-macro average is:  0.601923076923077\n",
            "Fit time:  0.06811118125915527\n",
            "Predict time:  0.0004627704620361328\n"
          ],
          "name": "stdout"
        }
      ]
    },
    {
      "cell_type": "markdown",
      "metadata": {
        "id": "gNphu5l_nS6y"
      },
      "source": [
        "Παρατηρούμε ότι με βάση τη μετρική απόδοσης f1-macro η βέλτιστη λύση που προτείνει ο εκτιμητής dummy Classifier είναι ΧΡΗΣΗ ΣΤΡΑΓΙΚΗΣ UNIFORM ΚΑΙ ΚΑΘΟΛΟΥ ΠΡΟΕΠΕΞΕΡΓΑΣΙΑ ΤΩΝ ΔΕΔΟΜΕΝΩΝ.\n"
      ]
    },
    {
      "cell_type": "code",
      "metadata": {
        "colab": {
          "base_uri": "https://localhost:8080/",
          "height": 439
        },
        "id": "mH4pUSk9wWqW",
        "outputId": "80b6c2fd-0eaa-4c9e-be86-acb8be0d5eef"
      },
      "source": [
        "f1_scores_gnb = runEstimators(my_transformers=transformers, my_classifiers={'gnb': gnb})\n",
        "macros_gnb = [(k,v) for k, v in sorted(f1_scores_gnb['macro'].items(), key=lambda item: item[1], reverse=True)]\n",
        "print(macros_gnb)\n",
        "getResults(f1_scores_gnb, macros_gnb)"
      ],
      "execution_count": 35,
      "outputs": [
        {
          "output_type": "stream",
          "text": [
            "36\n",
            "[('gnb19', 0.834712543554007), ('gnb27', 0.834712543554007), ('gnb20', 0.8276779412563114), ('gnb28', 0.8276779412563114), ('gnb1', 0.8266994266994266), ('gnb2', 0.8266994266994266), ('gnb3', 0.8266994266994266), ('gnb4', 0.8266994266994266), ('gnb5', 0.8266994266994266), ('gnb6', 0.8266994266994266), ('gnb7', 0.8266994266994266), ('gnb8', 0.8266994266994266), ('gnb9', 0.8266994266994266), ('gnb10', 0.8266994266994266), ('gnb11', 0.8266994266994266), ('gnb12', 0.8266994266994266), ('gnb31', 0.8048090523338048), ('gnb35', 0.8048090523338048), ('gnb16', 0.7961363636363636), ('gnb17', 0.7961363636363636), ('gnb18', 0.7961363636363636), ('gnb24', 0.7961363636363636), ('gnb25', 0.7961363636363636), ('gnb26', 0.7961363636363636), ('gnb29', 0.7873651771956858), ('gnb33', 0.7873651771956858), ('gnb30', 0.7741407528641572), ('gnb34', 0.7741407528641572), ('gnb13', 0.7580079494973112), ('gnb14', 0.7580079494973112), ('gnb15', 0.7580079494973112), ('gnb21', 0.7580079494973112), ('gnb22', 0.7580079494973112), ('gnb23', 0.7580079494973112), ('gnb32', 0.7230432402846196), ('gnb36', 0.7230432402846196)]\n",
            "Best estimator is:  Pipeline(memory='tmp',\n",
            "         steps=[('ros', RandomOverSampler()), ('gnb', GaussianNB())])\n"
          ],
          "name": "stdout"
        },
        {
          "output_type": "display_data",
          "data": {
            "image/png": "[encoded data removed]",
            "text/plain": [
              "<Figure size 432x288 with 2 Axes>"
            ]
          },
          "metadata": {
            "tags": [],
            "needs_background": "light"
          }
        },
        {
          "output_type": "stream",
          "text": [
            "The average f1-micro average is:  0.8405797101449275\n",
            "The average f1-macro average is:  0.834712543554007\n",
            "Fit time:  0.019684791564941406\n",
            "Predict time:  0.000347137451171875\n"
          ],
          "name": "stdout"
        }
      ]
    },
    {
      "cell_type": "code",
      "metadata": {
        "colab": {
          "base_uri": "https://localhost:8080/",
          "height": 459
        },
        "id": "PzUe0cWKxUI4",
        "outputId": "a6d9a038-ff85-424b-88bf-bec9f65f0ae8"
      },
      "source": [
        "f1_scores_knn = runEstimators(my_transformers=transformers, my_classifiers={'kNN': knn})\n",
        "macros_knn = [(k,v) for k, v in sorted(f1_scores_knn['macro'].items(), key=lambda item: item[1], reverse=True)]\n",
        "print(macros_knn)\n",
        "getResults(f1_scores_knn, macros_knn)"
      ],
      "execution_count": 36,
      "outputs": [
        {
          "output_type": "stream",
          "text": [
            "36\n",
            "[('kNN16', 0.8512931034482759), ('kNN17', 0.8512931034482759), ('kNN18', 0.8512931034482759), ('kNN24', 0.8512931034482759), ('kNN25', 0.8512931034482759), ('kNN26', 0.8512931034482759), ('kNN31', 0.830112936894503), ('kNN32', 0.830112936894503), ('kNN35', 0.8230769230769232), ('kNN36', 0.8223557176571551), ('kNN13', 0.8196864111498257), ('kNN14', 0.8196864111498257), ('kNN15', 0.8196864111498257), ('kNN21', 0.8196864111498257), ('kNN22', 0.8196864111498257), ('kNN23', 0.8196864111498257), ('kNN29', 0.8153401487983728), ('kNN33', 0.8083333333333333), ('kNN34', 0.7927483372666808), ('kNN30', 0.7918103448275862), ('kNN20', 0.7346153846153847), ('kNN19', 0.7335335764857327), ('kNN28', 0.7267326732673267), ('kNN1', 0.7176353481170159), ('kNN2', 0.7176353481170159), ('kNN3', 0.7176353481170159), ('kNN4', 0.7176353481170159), ('kNN5', 0.7176353481170159), ('kNN6', 0.7176353481170159), ('kNN7', 0.7176353481170159), ('kNN8', 0.7119306321254617), ('kNN9', 0.7119306321254617), ('kNN10', 0.7119306321254617), ('kNN11', 0.7119306321254617), ('kNN12', 0.7119306321254617), ('kNN27', 0.6778438030560272)]\n",
            "Best estimator is:  Pipeline(memory='tmp',\n",
            "         steps=[('min_max_scaler', MinMaxScaler()),\n",
            "                ('kNN', KNeighborsClassifier(n_jobs=-1, n_neighbors=9))])\n"
          ],
          "name": "stdout"
        },
        {
          "output_type": "display_data",
          "data": {
            "image/png": "[encoded data removed]",
            "text/plain": [
              "<Figure size 432x288 with 2 Axes>"
            ]
          },
          "metadata": {
            "tags": [],
            "needs_background": "light"
          }
        },
        {
          "output_type": "stream",
          "text": [
            "The average f1-micro average is:  0.855072463768116\n",
            "The average f1-macro average is:  0.8512931034482759\n",
            "Fit time:  0.6437606811523438\n",
            "Predict time:  0.10764241218566895\n"
          ],
          "name": "stdout"
        }
      ]
    },
    {
      "cell_type": "markdown",
      "metadata": {
        "id": "LiM5ViNO4pTp"
      },
      "source": [
        "ΧΡΟΝΟΙ"
      ]
    },
    {
      "cell_type": "code",
      "metadata": {
        "id": "IHkGm1Pk4qto"
      },
      "source": [
        "def printRunTimes(dummy_scores, gnb_scores, knn_scores, dummy_metrics, gnb_metrics, knn_metrics):\n",
        "\n",
        "    values = [[dummy_scores['fit_time'][dummy_metrics[0][0]], gnb_scores['fit_time'][gnb_metrics[0][0]], knn_scores['fit_time'][knn_metrics[0][0]]],\n",
        "              [dummy_scores['predict_time'][dummy_metrics[0][0]], gnb_scores['predict_time'][gnb_metrics[0][0]], knn_scores['predict_time'][knn_metrics[0][0]]]]\n",
        "\n",
        "    tmp = [sum(i) for i in np.array(values).T]\n",
        "\n",
        "    values.append(tmp)\n",
        "\n",
        "    cols = ['Dummy', 'GNB', 'KNN']\n",
        "    df = pd.DataFrame(values, columns=cols, index=['Fit Time', 'Predict Time', 'Total Time'])\n",
        "    print(df)\n"
      ],
      "execution_count": 37,
      "outputs": []
    },
    {
      "cell_type": "code",
      "metadata": {
        "colab": {
          "base_uri": "https://localhost:8080/"
        },
        "id": "cYr3gGzIDYva",
        "outputId": "4686a922-47da-431c-c346-4fc7ff402f59"
      },
      "source": [
        "printRunTimes(f1_scores, f1_scores_gnb, f1_scores_knn, macros , macros_gnb, macros_knn)"
      ],
      "execution_count": 38,
      "outputs": [
        {
          "output_type": "stream",
          "text": [
            "                 Dummy       GNB       KNN\n",
            "Fit Time      0.068111  0.019685  0.643761\n",
            "Predict Time  0.000463  0.000347  0.107642\n",
            "Total Time    0.068574  0.020032  0.751403\n"
          ],
          "name": "stdout"
        }
      ]
    },
    {
      "cell_type": "markdown",
      "metadata": {
        "id": "6V7EyPyd8308"
      },
      "source": [
        "barplot for every classifier"
      ]
    },
    {
      "cell_type": "code",
      "metadata": {
        "colab": {
          "base_uri": "https://localhost:8080/",
          "height": 366
        },
        "id": "K37aXy9j87oF",
        "outputId": "ba02f5e0-2dad-4979-ab65-d7bbae6c56e2"
      },
      "source": [
        "# plot for f1-macro average\n",
        "def plotMetrics(dummy_scores, gnb_scores, knn_scores, dummy_metrics, gnb_metrics, knn_metrics, metric):\n",
        "    fig = plt.figure()\n",
        "    ax = fig.add_axes([0,0,1,1])\n",
        "    clfs = ['dummy', 'gnb', 'knn']\n",
        "    f1_macro_scores = [dummy_scores[metric][dummy_metrics[0][0]], gnb_scores[metric][gnb_metrics[0][0]], knn_scores[metric][knn_metrics[0][0]]]\n",
        "    ax.bar(clfs,f1_macro_scores, color='cyan', width=0.3)\n",
        "    plt.title(\"F1 \"+metric+\" Average\")\n",
        "    plt.xlabel(\"Classifiers\")\n",
        "    plt.ylabel(\"F1 \"+metric+\" Score\")\n",
        "    plt.grid()\n",
        "    plt.show()\n",
        "\n",
        "plotMetrics(f1_scores, f1_scores_gnb, f1_scores_knn, macros , macros_gnb, macros_knn, \"macro\")"
      ],
      "execution_count": 39,
      "outputs": [
        {
          "output_type": "display_data",
          "data": {
            "image/png": "[encoded data removed]",
            "text/plain": [
              "<Figure size 432x288 with 1 Axes>"
            ]
          },
          "metadata": {
            "tags": [],
            "needs_background": "light"
          }
        }
      ]
    },
    {
      "cell_type": "markdown",
      "metadata": {
        "id": "NeQeQiHsHgjr"
      },
      "source": [
        "μεταβολή της επίδοσης των ταξινομητών πριν και μετά τη βελτιστοποίησή τους.\n"
      ]
    },
    {
      "cell_type": "code",
      "metadata": {
        "colab": {
          "base_uri": "https://localhost:8080/"
        },
        "id": "24tFozITHjB4",
        "outputId": "b018b9d2-3e91-47d9-c322-5ddf35ec3a02"
      },
      "source": [
        "# dummy\n",
        "def printPerformanceProgress(dummy_scores, gnb_scores, knn_scores, dummy_metrics, gnb_metrics, knn_metrics, default_scores, metric):\n",
        "\n",
        "    values = [\n",
        "              [default_scores[metric]['dummy1'], default_scores[metric]['gnb2'], default_scores[metric]['kNN3']],\n",
        "              [dummy_scores[metric][dummy_metrics[0][0]], gnb_scores[metric][gnb_metrics[0][0]], knn_scores[metric][knn_metrics[0][0]]]\n",
        "              ]\n",
        "\n",
        "\n",
        "    cols = ['Dummy', 'GNB', 'KNN']\n",
        "    df = pd.DataFrame(values, columns=cols, index=['Default', 'Optimized'])\n",
        "    print(df)\n",
        "\n",
        "\n",
        "\n",
        "printPerformanceProgress(f1_scores, f1_scores_gnb, f1_scores_knn, macros , macros_gnb, macros_knn, f1_scores_default, 'macro')"
      ],
      "execution_count": 40,
      "outputs": [
        {
          "output_type": "stream",
          "text": [
            "              Dummy       GNB       KNN\n",
            "Default    0.519884  0.826699  0.684879\n",
            "Optimized  0.601923  0.834713  0.851293\n"
          ],
          "name": "stdout"
        }
      ]
    },
    {
      "cell_type": "markdown",
      "metadata": {
        "id": "PHC8hOq7_FfM"
      },
      "source": [
        "#####Μετρική απόδοσης **f1-micro**"
      ]
    },
    {
      "cell_type": "code",
      "metadata": {
        "colab": {
          "base_uri": "https://localhost:8080/",
          "height": 455
        },
        "id": "_0DYeRc-_a-K",
        "outputId": "c0e922aa-c965-4e97-9384-ca0c7756f402"
      },
      "source": [
        "f1_scores_micro = runEstimators(my_transformers=transformers, my_classifiers={'dummy': dummy}, scoring='f1_micro')\n",
        "micros = [(k,v) for k, v in sorted(f1_scores['micro'].items(), key=lambda item: item[1], reverse=True)]\n",
        "print(micros)\n",
        "getResults(f1_scores_micro, micros)"
      ],
      "execution_count": 41,
      "outputs": [
        {
          "output_type": "stream",
          "text": [
            "36\n",
            "[('dummy13', 0.6086956521739131), ('dummy20', 0.5942028985507246), ('dummy3', 0.5652173913043478), ('dummy36', 0.5652173913043478), ('dummy18', 0.5579710144927537), ('dummy33', 0.5507246376811594), ('dummy4', 0.5434782608695652), ('dummy8', 0.5434782608695652), ('dummy1', 0.5362318840579711), ('dummy7', 0.5289855072463768), ('dummy26', 0.5289855072463768), ('dummy35', 0.5289855072463768), ('dummy5', 0.5217391304347826), ('dummy15', 0.5217391304347826), ('dummy6', 0.5144927536231884), ('dummy14', 0.5144927536231884), ('dummy29', 0.5144927536231884), ('dummy11', 0.5072463768115942), ('dummy19', 0.5072463768115942), ('dummy30', 0.5072463768115942), ('dummy21', 0.5), ('dummy25', 0.5), ('dummy16', 0.4927536231884058), ('dummy27', 0.4927536231884058), ('dummy28', 0.4927536231884058), ('dummy32', 0.4927536231884058), ('dummy9', 0.4855072463768116), ('dummy31', 0.4855072463768116), ('dummy2', 0.4782608695652174), ('dummy34', 0.4782608695652174), ('dummy12', 0.47101449275362317), ('dummy10', 0.463768115942029), ('dummy22', 0.45652173913043476), ('dummy17', 0.4492753623188406), ('dummy24', 0.4492753623188406), ('dummy23', 0.4420289855072464)]\n",
            "Best estimator is:  Pipeline(memory='tmp',\n",
            "         steps=[('scaler', StandardScaler()),\n",
            "                ('dummy', DummyClassifier(strategy='most_frequent'))])\n"
          ],
          "name": "stdout"
        },
        {
          "output_type": "display_data",
          "data": {
            "image/png": "[encoded data removed]",
            "text/plain": [
              "<Figure size 432x288 with 2 Axes>"
            ]
          },
          "metadata": {
            "tags": [],
            "needs_background": "light"
          }
        },
        {
          "output_type": "stream",
          "text": [
            "The average f1-micro average is:  0.5652173913043478\n",
            "The average f1-macro average is:  0.3611111111111111\n",
            "Fit time:  0.05562305450439453\n",
            "Predict time:  0.00032782554626464844\n"
          ],
          "name": "stdout"
        }
      ]
    },
    {
      "cell_type": "code",
      "metadata": {
        "colab": {
          "base_uri": "https://localhost:8080/",
          "height": 402
        },
        "id": "EqT7gvNTAoPa",
        "outputId": "721fdf81-af69-4ca8-88ea-c24b5ed758fd"
      },
      "source": [
        "f1_scores_gnb_micro = runEstimators(my_transformers=transformers, my_classifiers={'gnb': gnb}, scoring='f1_micro')\n",
        "micros_gnb = [(k,v) for k, v in sorted(f1_scores_gnb['micro'].items(), key=lambda item: item[1], reverse=True)]\n",
        "# print(micros_gnb)\n",
        "getResults(f1_scores_gnb_micro, micros_gnb)"
      ],
      "execution_count": 42,
      "outputs": [
        {
          "output_type": "stream",
          "text": [
            "36\n",
            "Best estimator is:  Pipeline(memory='tmp',\n",
            "         steps=[('ros', RandomOverSampler()), ('gnb', GaussianNB())])\n"
          ],
          "name": "stdout"
        },
        {
          "output_type": "display_data",
          "data": {
            "image/png": "[encoded data removed]",
            "text/plain": [
              "<Figure size 432x288 with 2 Axes>"
            ]
          },
          "metadata": {
            "tags": [],
            "needs_background": "light"
          }
        },
        {
          "output_type": "stream",
          "text": [
            "The average f1-micro average is:  0.8405797101449275\n",
            "The average f1-macro average is:  0.834712543554007\n",
            "Fit time:  0.02069544792175293\n",
            "Predict time:  0.0004734992980957031\n"
          ],
          "name": "stdout"
        }
      ]
    },
    {
      "cell_type": "code",
      "metadata": {
        "colab": {
          "base_uri": "https://localhost:8080/",
          "height": 422
        },
        "id": "v3AI3X2zByce",
        "outputId": "9b4fcf31-d189-4678-d4dd-7afee962a91f"
      },
      "source": [
        "f1_scores_knn_micro = runEstimators(my_transformers=transformers, my_classifiers={'kNN': knn}, scoring='f1_micro')\n",
        "micros_knn = [(k,v) for k, v in sorted(f1_scores_knn['micro'].items(), key=lambda item: item[1], reverse=True)]\n",
        "# print(micros_knn)\n",
        "getResults(f1_scores_knn_micro, micros_knn)"
      ],
      "execution_count": 43,
      "outputs": [
        {
          "output_type": "stream",
          "text": [
            "36\n",
            "Best estimator is:  Pipeline(memory='tmp',\n",
            "         steps=[('min_max_scaler', MinMaxScaler()),\n",
            "                ('kNN', KNeighborsClassifier(n_jobs=-1, n_neighbors=9))])\n"
          ],
          "name": "stdout"
        },
        {
          "output_type": "display_data",
          "data": {
            "image/png": "[encoded data removed]",
            "text/plain": [
              "<Figure size 432x288 with 2 Axes>"
            ]
          },
          "metadata": {
            "tags": [],
            "needs_background": "light"
          }
        },
        {
          "output_type": "stream",
          "text": [
            "The average f1-micro average is:  0.855072463768116\n",
            "The average f1-macro average is:  0.8512931034482759\n",
            "Fit time:  0.6322493553161621\n",
            "Predict time:  0.1067814826965332\n"
          ],
          "name": "stdout"
        }
      ]
    },
    {
      "cell_type": "code",
      "metadata": {
        "colab": {
          "base_uri": "https://localhost:8080/"
        },
        "id": "hq1vmKQ0EqfJ",
        "outputId": "d4030ce8-346a-439d-c9a5-2e9dfc760a8a"
      },
      "source": [
        "printRunTimes(f1_scores_micro, f1_scores_gnb_micro, f1_scores_knn_micro, micros , micros_gnb, micros_knn)"
      ],
      "execution_count": 44,
      "outputs": [
        {
          "output_type": "stream",
          "text": [
            "                 Dummy       GNB       KNN\n",
            "Fit Time      0.055623  0.020695  0.632249\n",
            "Predict Time  0.000328  0.000473  0.106781\n",
            "Total Time    0.055951  0.021169  0.739031\n"
          ],
          "name": "stdout"
        }
      ]
    },
    {
      "cell_type": "code",
      "metadata": {
        "colab": {
          "base_uri": "https://localhost:8080/",
          "height": 366
        },
        "id": "_V95MaB9GP7J",
        "outputId": "ac6a49bf-ac21-4001-df75-9ca33c978ce3"
      },
      "source": [
        "plotMetrics(f1_scores_micro, f1_scores_gnb_micro, f1_scores_knn_micro, micros , micros_gnb, micros_knn, \"micro\")"
      ],
      "execution_count": 45,
      "outputs": [
        {
          "output_type": "display_data",
          "data": {
            "image/png": "[encoded data removed]",
            "text/plain": [
              "<Figure size 432x288 with 1 Axes>"
            ]
          },
          "metadata": {
            "tags": [],
            "needs_background": "light"
          }
        }
      ]
    },
    {
      "cell_type": "code",
      "metadata": {
        "colab": {
          "base_uri": "https://localhost:8080/"
        },
        "id": "knXJgKi3LgSL",
        "outputId": "1198d62b-72f6-4afa-a776-cadc1c45271a"
      },
      "source": [
        "printPerformanceProgress(f1_scores_micro, f1_scores_gnb_micro, f1_scores_knn_micro, micros , micros_gnb, micros_knn, f1_scores_default, 'micro')"
      ],
      "execution_count": 46,
      "outputs": [
        {
          "output_type": "stream",
          "text": [
            "              Dummy       GNB       KNN\n",
            "Default    0.528986  0.833333  0.702899\n",
            "Optimized  0.565217  0.840580  0.855072\n"
          ],
          "name": "stdout"
        }
      ]
    },
    {
      "cell_type": "markdown",
      "metadata": {
        "id": "8tNVM0Z73x5-"
      },
      "source": [
        "Εκτελούμε τις παρακάτω εντολές για να βρούμε τη διακύμανση στις τιμές των διαφόρων χαρακτηριστικών:"
      ]
    },
    {
      "cell_type": "code",
      "metadata": {
        "id": "YZUXF8pHpiHE"
      },
      "source": [
        "# train_variance = train.var(axis=0)\n",
        "# print(train_variance)\n",
        "# print(np.max(train_variance))\n",
        "# print(train_variance.shape)"
      ],
      "execution_count": 47,
      "outputs": []
    },
    {
      "cell_type": "markdown",
      "metadata": {
        "id": "E93Uww5vMf_9"
      },
      "source": [
        "#Μεγάλο Dataset"
      ]
    },
    {
      "cell_type": "markdown",
      "metadata": {
        "id": "M_UcSR06YtXm"
      },
      "source": [
        "Αρχικά κατεβάζουμε το συμπιεσμένο αρχείο, το αποθηκεύουμε ως data.zip και στη συνέχεια το αποσυμπιέζουμε, οπότε παράγονται 5 αρχείο τύπου .arff"
      ]
    },
    {
      "cell_type": "code",
      "metadata": {
        "colab": {
          "base_uri": "https://localhost:8080/"
        },
        "id": "0UTSjkZzGS01",
        "outputId": "412a9090-3445-47fe-c01f-16317dbe3c6b"
      },
      "source": [
        "download(\"http://archive.ics.uci.edu/ml/machine-learning-databases/00365/data.zip\", 'data.zip')\n",
        "!unzip data.zip"
      ],
      "execution_count": 48,
      "outputs": [
        {
          "output_type": "stream",
          "text": [
            "File downloaded\n"
          ],
          "name": "stdout"
        }
      ]
    },
    {
      "cell_type": "markdown",
      "metadata": {
        "id": "2VT06Xa8Y7c1"
      },
      "source": [
        "Για να μετατρέψουμε τα αρχεία σε .csv, αρκεί να κρατήσουμε μόνο τις γραμμές που δεν ξεκινάνε με “%”, “@” και δεν είναι κενές.\n",
        "Επομένως, για καθένα από τα .arff αρχεία εκτελούμε την εντολή:\n",
        "```\n",
        "cat ${file} | grep -ve \"^@\\|^%\" | grep -v \"^[[:space:]]*$\" >> data.csv\n",
        "```\n",
        "Η εντολή αυτή θα τυπώσει μόνο τις επιθυμητές γραμμές και θα ανακατευθύνει το αποτέλεσμα στο αρχείο data.csv, προσθέτοντάς το στο τέλος του.\n",
        "\n",
        "Για να πραγματοποιήσουμε αυτήν τη διαδικασία για όλα τα .arff εκτελούμε τα παρακάτω:"
      ]
    },
    {
      "cell_type": "code",
      "metadata": {
        "colab": {
          "base_uri": "https://localhost:8080/"
        },
        "id": "BL6_s3nxQjZH",
        "outputId": "b49a828c-20ba-429a-d124-ae543ab745d5"
      },
      "source": [
        "%%shell\n",
        "truncate -s 0 data.csv  #create or empty the data.csv file\n",
        "for file in ./*.arff    #for every .arff file in the current directory\n",
        "do\n",
        "    echo ${file}        #print file name for checking the progress purposes\n",
        "    cat ${file} | grep -ve \"^@\\|^%\" | grep -v \"^[[:space:]]*$\" >> data.csv  #print the lines with the samples in the end of data.csv file\n",
        "done\n",
        "wc -l data.csv          #check the length of the final file"
      ],
      "execution_count": 60,
      "outputs": [
        {
          "output_type": "stream",
          "text": [
            "./1year.arff\n",
            "./2year.arff\n",
            "./3year.arff\n",
            "./4year.arff\n",
            "./5year.arff\n",
            "43405 data.csv\n"
          ],
          "name": "stdout"
        },
        {
          "output_type": "execute_result",
          "data": {
            "text/plain": [
              ""
            ]
          },
          "metadata": {
            "tags": []
          },
          "execution_count": 60
        }
      ]
    },
    {
      "cell_type": "code",
      "metadata": {
        "colab": {
          "base_uri": "https://localhost:8080/",
          "height": 444
        },
        "id": "-7GN32b9XOkW",
        "outputId": "a2db0538-54b9-4c55-8727-037f08913542"
      },
      "source": [
        "df = pd.read_csv(\"data.csv\", header=None)\n",
        "# print df\n",
        "df"
      ],
      "execution_count": 59,
      "outputs": [
        {
          "output_type": "execute_result",
          "data": {
            "text/html": [
              "<div>\n",
              "<style scoped>\n",
              "    .dataframe tbody tr th:only-of-type {\n",
              "        vertical-align: middle;\n",
              "    }\n",
              "\n",
              "    .dataframe tbody tr th {\n",
              "        vertical-align: top;\n",
              "    }\n",
              "\n",
              "    .dataframe thead th {\n",
              "        text-align: right;\n",
              "    }\n",
              "</style>\n",
              "<table border=\"1\" class=\"dataframe\">\n",
              "  <thead>\n",
              "    <tr style=\"text-align: right;\">\n",
              "      <th></th>\n",
              "      <th>0</th>\n",
              "      <th>1</th>\n",
              "      <th>2</th>\n",
              "      <th>3</th>\n",
              "      <th>4</th>\n",
              "      <th>5</th>\n",
              "      <th>6</th>\n",
              "      <th>7</th>\n",
              "      <th>8</th>\n",
              "      <th>9</th>\n",
              "      <th>10</th>\n",
              "      <th>11</th>\n",
              "      <th>12</th>\n",
              "      <th>13</th>\n",
              "      <th>14</th>\n",
              "      <th>15</th>\n",
              "      <th>16</th>\n",
              "      <th>17</th>\n",
              "      <th>18</th>\n",
              "      <th>19</th>\n",
              "      <th>20</th>\n",
              "      <th>21</th>\n",
              "      <th>22</th>\n",
              "      <th>23</th>\n",
              "      <th>24</th>\n",
              "      <th>25</th>\n",
              "      <th>26</th>\n",
              "      <th>27</th>\n",
              "      <th>28</th>\n",
              "      <th>29</th>\n",
              "      <th>30</th>\n",
              "      <th>31</th>\n",
              "      <th>32</th>\n",
              "      <th>33</th>\n",
              "      <th>34</th>\n",
              "      <th>35</th>\n",
              "      <th>36</th>\n",
              "      <th>37</th>\n",
              "      <th>38</th>\n",
              "      <th>39</th>\n",
              "      <th>40</th>\n",
              "      <th>41</th>\n",
              "      <th>42</th>\n",
              "      <th>43</th>\n",
              "      <th>44</th>\n",
              "      <th>45</th>\n",
              "      <th>46</th>\n",
              "      <th>47</th>\n",
              "      <th>48</th>\n",
              "      <th>49</th>\n",
              "      <th>50</th>\n",
              "      <th>51</th>\n",
              "      <th>52</th>\n",
              "      <th>53</th>\n",
              "      <th>54</th>\n",
              "      <th>55</th>\n",
              "      <th>56</th>\n",
              "      <th>57</th>\n",
              "      <th>58</th>\n",
              "      <th>59</th>\n",
              "      <th>60</th>\n",
              "      <th>61</th>\n",
              "      <th>62</th>\n",
              "      <th>63</th>\n",
              "      <th>64</th>\n",
              "    </tr>\n",
              "  </thead>\n",
              "  <tbody>\n",
              "    <tr>\n",
              "      <th>0</th>\n",
              "      <td>0.20055</td>\n",
              "      <td>0.37951</td>\n",
              "      <td>0.39641</td>\n",
              "      <td>2.0472</td>\n",
              "      <td>32.351</td>\n",
              "      <td>0.38825</td>\n",
              "      <td>0.24976</td>\n",
              "      <td>1.3305</td>\n",
              "      <td>1.1389</td>\n",
              "      <td>0.50494</td>\n",
              "      <td>0.24976</td>\n",
              "      <td>0.6598</td>\n",
              "      <td>0.1666</td>\n",
              "      <td>0.24976</td>\n",
              "      <td>497.42</td>\n",
              "      <td>0.73378</td>\n",
              "      <td>2.6349</td>\n",
              "      <td>0.24976</td>\n",
              "      <td>0.14942</td>\n",
              "      <td>43.37</td>\n",
              "      <td>1.2479</td>\n",
              "      <td>0.21402</td>\n",
              "      <td>0.11998</td>\n",
              "      <td>0.47706</td>\n",
              "      <td>0.50494</td>\n",
              "      <td>0.60411</td>\n",
              "      <td>1.4582</td>\n",
              "      <td>1.7615</td>\n",
              "      <td>5.9443</td>\n",
              "      <td>0.11788</td>\n",
              "      <td>0.14942</td>\n",
              "      <td>94.14</td>\n",
              "      <td>3.8772</td>\n",
              "      <td>0.56393</td>\n",
              "      <td>0.21402</td>\n",
              "      <td>1.741</td>\n",
              "      <td>593.27</td>\n",
              "      <td>0.50591</td>\n",
              "      <td>0.12804</td>\n",
              "      <td>0.66295</td>\n",
              "      <td>0.051402</td>\n",
              "      <td>0.12804</td>\n",
              "      <td>114.42</td>\n",
              "      <td>71.05</td>\n",
              "      <td>1.0097</td>\n",
              "      <td>1.5225</td>\n",
              "      <td>49.394</td>\n",
              "      <td>0.1853</td>\n",
              "      <td>0.11085</td>\n",
              "      <td>2.042</td>\n",
              "      <td>0.37854</td>\n",
              "      <td>0.25792</td>\n",
              "      <td>2.2437</td>\n",
              "      <td>2.248</td>\n",
              "      <td>348690</td>\n",
              "      <td>0.12196</td>\n",
              "      <td>0.39718</td>\n",
              "      <td>0.87804</td>\n",
              "      <td>0.001924</td>\n",
              "      <td>8.416</td>\n",
              "      <td>5.1372</td>\n",
              "      <td>82.658</td>\n",
              "      <td>4.4158</td>\n",
              "      <td>7.4277</td>\n",
              "      <td>0</td>\n",
              "    </tr>\n",
              "    <tr>\n",
              "      <th>1</th>\n",
              "      <td>0.20912</td>\n",
              "      <td>0.49988</td>\n",
              "      <td>0.47225</td>\n",
              "      <td>1.9447</td>\n",
              "      <td>14.786</td>\n",
              "      <td>0</td>\n",
              "      <td>0.25834</td>\n",
              "      <td>0.99601</td>\n",
              "      <td>1.6996</td>\n",
              "      <td>0.49788</td>\n",
              "      <td>0.26114</td>\n",
              "      <td>0.5168</td>\n",
              "      <td>0.15835</td>\n",
              "      <td>0.25834</td>\n",
              "      <td>677.96</td>\n",
              "      <td>0.53838</td>\n",
              "      <td>2.0005</td>\n",
              "      <td>0.25834</td>\n",
              "      <td>0.152</td>\n",
              "      <td>87.981</td>\n",
              "      <td>1.4293</td>\n",
              "      <td>0.24806</td>\n",
              "      <td>0.12304</td>\n",
              "      <td>?</td>\n",
              "      <td>0.39542</td>\n",
              "      <td>0.43992</td>\n",
              "      <td>88.444</td>\n",
              "      <td>16.946</td>\n",
              "      <td>3.6884</td>\n",
              "      <td>0.26969</td>\n",
              "      <td>0.152</td>\n",
              "      <td>122.17</td>\n",
              "      <td>2.9876</td>\n",
              "      <td>2.9876</td>\n",
              "      <td>0.20616</td>\n",
              "      <td>1.6996</td>\n",
              "      <td>?</td>\n",
              "      <td>0.49788</td>\n",
              "      <td>0.1213</td>\n",
              "      <td>0.086422</td>\n",
              "      <td>0.064371</td>\n",
              "      <td>0.14595</td>\n",
              "      <td>199.49</td>\n",
              "      <td>111.51</td>\n",
              "      <td>0.51045</td>\n",
              "      <td>1.1252</td>\n",
              "      <td>100.13</td>\n",
              "      <td>0.23727</td>\n",
              "      <td>0.13961</td>\n",
              "      <td>1.9447</td>\n",
              "      <td>0.49988</td>\n",
              "      <td>0.33472</td>\n",
              "      <td>17.866</td>\n",
              "      <td>17.866</td>\n",
              "      <td>2304.6</td>\n",
              "      <td>0.1213</td>\n",
              "      <td>0.42002</td>\n",
              "      <td>0.853</td>\n",
              "      <td>0</td>\n",
              "      <td>4.1486</td>\n",
              "      <td>3.2732</td>\n",
              "      <td>107.35</td>\n",
              "      <td>3.4</td>\n",
              "      <td>60.987</td>\n",
              "      <td>0</td>\n",
              "    </tr>\n",
              "    <tr>\n",
              "      <th>2</th>\n",
              "      <td>0.24866</td>\n",
              "      <td>0.69592</td>\n",
              "      <td>0.26713</td>\n",
              "      <td>1.5548</td>\n",
              "      <td>-1.1523</td>\n",
              "      <td>0</td>\n",
              "      <td>0.30906</td>\n",
              "      <td>0.43695</td>\n",
              "      <td>1.309</td>\n",
              "      <td>0.30408</td>\n",
              "      <td>0.31258</td>\n",
              "      <td>0.64184</td>\n",
              "      <td>0.24435</td>\n",
              "      <td>0.30906</td>\n",
              "      <td>794.16</td>\n",
              "      <td>0.45961</td>\n",
              "      <td>1.4369</td>\n",
              "      <td>0.30906</td>\n",
              "      <td>0.2361</td>\n",
              "      <td>73.133</td>\n",
              "      <td>1.4283</td>\n",
              "      <td>0.3026</td>\n",
              "      <td>0.18996</td>\n",
              "      <td>?</td>\n",
              "      <td>0.28932</td>\n",
              "      <td>0.37282</td>\n",
              "      <td>86.011</td>\n",
              "      <td>1.0627</td>\n",
              "      <td>4.3749</td>\n",
              "      <td>0.41929</td>\n",
              "      <td>0.23815</td>\n",
              "      <td>176.93</td>\n",
              "      <td>2.063</td>\n",
              "      <td>1.4274</td>\n",
              "      <td>0.31565</td>\n",
              "      <td>1.309</td>\n",
              "      <td>2.3019</td>\n",
              "      <td>0.51537</td>\n",
              "      <td>0.24114</td>\n",
              "      <td>0.32202</td>\n",
              "      <td>0.07402</td>\n",
              "      <td>0.23117</td>\n",
              "      <td>165.51</td>\n",
              "      <td>92.381</td>\n",
              "      <td>0.94807</td>\n",
              "      <td>1.0101</td>\n",
              "      <td>96.372</td>\n",
              "      <td>0.29181</td>\n",
              "      <td>0.22293</td>\n",
              "      <td>1.0758</td>\n",
              "      <td>0.48152</td>\n",
              "      <td>0.48474</td>\n",
              "      <td>1.2098</td>\n",
              "      <td>2.0504</td>\n",
              "      <td>6332.7</td>\n",
              "      <td>0.24114</td>\n",
              "      <td>0.81774</td>\n",
              "      <td>0.76599</td>\n",
              "      <td>0.69484</td>\n",
              "      <td>4.9909</td>\n",
              "      <td>3.951</td>\n",
              "      <td>134.27</td>\n",
              "      <td>2.7185</td>\n",
              "      <td>5.2078</td>\n",
              "      <td>0</td>\n",
              "    </tr>\n",
              "    <tr>\n",
              "      <th>3</th>\n",
              "      <td>0.081483</td>\n",
              "      <td>0.30734</td>\n",
              "      <td>0.45879</td>\n",
              "      <td>2.4928</td>\n",
              "      <td>51.952</td>\n",
              "      <td>0.14988</td>\n",
              "      <td>0.092704</td>\n",
              "      <td>1.8661</td>\n",
              "      <td>1.0571</td>\n",
              "      <td>0.57353</td>\n",
              "      <td>0.092704</td>\n",
              "      <td>0.30163</td>\n",
              "      <td>0.094257</td>\n",
              "      <td>0.092704</td>\n",
              "      <td>917.01</td>\n",
              "      <td>0.39803</td>\n",
              "      <td>3.2537</td>\n",
              "      <td>0.092704</td>\n",
              "      <td>0.071428</td>\n",
              "      <td>79.788</td>\n",
              "      <td>1.5069</td>\n",
              "      <td>0.1155</td>\n",
              "      <td>0.062782</td>\n",
              "      <td>0.17193</td>\n",
              "      <td>0.57353</td>\n",
              "      <td>0.36152</td>\n",
              "      <td>0.94076</td>\n",
              "      <td>1.9618</td>\n",
              "      <td>4.6511</td>\n",
              "      <td>0.14343</td>\n",
              "      <td>0.071428</td>\n",
              "      <td>91.37</td>\n",
              "      <td>3.9948</td>\n",
              "      <td>0.37581</td>\n",
              "      <td>0.1155</td>\n",
              "      <td>1.3562</td>\n",
              "      <td>?</td>\n",
              "      <td>0.57353</td>\n",
              "      <td>0.088995</td>\n",
              "      <td>0.40139</td>\n",
              "      <td>0.069622</td>\n",
              "      <td>0.088995</td>\n",
              "      <td>180.77</td>\n",
              "      <td>100.98</td>\n",
              "      <td>0.2872</td>\n",
              "      <td>1.5696</td>\n",
              "      <td>84.344</td>\n",
              "      <td>0.085874</td>\n",
              "      <td>0.066165</td>\n",
              "      <td>2.4928</td>\n",
              "      <td>0.30734</td>\n",
              "      <td>0.25033</td>\n",
              "      <td>2.4524</td>\n",
              "      <td>2.4524</td>\n",
              "      <td>20545</td>\n",
              "      <td>0.054015</td>\n",
              "      <td>0.14207</td>\n",
              "      <td>0.94598</td>\n",
              "      <td>0</td>\n",
              "      <td>4.5746</td>\n",
              "      <td>3.6147</td>\n",
              "      <td>86.435</td>\n",
              "      <td>4.2228</td>\n",
              "      <td>5.5497</td>\n",
              "      <td>0</td>\n",
              "    </tr>\n",
              "    <tr>\n",
              "      <th>4</th>\n",
              "      <td>0.18732</td>\n",
              "      <td>0.61323</td>\n",
              "      <td>0.2296</td>\n",
              "      <td>1.4063</td>\n",
              "      <td>-7.3128</td>\n",
              "      <td>0.18732</td>\n",
              "      <td>0.18732</td>\n",
              "      <td>0.6307</td>\n",
              "      <td>1.1559</td>\n",
              "      <td>0.38677</td>\n",
              "      <td>0.18732</td>\n",
              "      <td>0.33147</td>\n",
              "      <td>0.12182</td>\n",
              "      <td>0.18732</td>\n",
              "      <td>1133.2</td>\n",
              "      <td>0.32211</td>\n",
              "      <td>1.6307</td>\n",
              "      <td>0.18732</td>\n",
              "      <td>0.11553</td>\n",
              "      <td>57.045</td>\n",
              "      <td>?</td>\n",
              "      <td>0.19832</td>\n",
              "      <td>0.11553</td>\n",
              "      <td>0.18732</td>\n",
              "      <td>0.38677</td>\n",
              "      <td>0.32211</td>\n",
              "      <td>1.4138</td>\n",
              "      <td>1.1184</td>\n",
              "      <td>4.1424</td>\n",
              "      <td>0.27884</td>\n",
              "      <td>0.11553</td>\n",
              "      <td>147.04</td>\n",
              "      <td>2.4823</td>\n",
              "      <td>0.3234</td>\n",
              "      <td>0.19832</td>\n",
              "      <td>1.6278</td>\n",
              "      <td>11.247</td>\n",
              "      <td>0.43489</td>\n",
              "      <td>0.12231</td>\n",
              "      <td>0.29304</td>\n",
              "      <td>0.09668</td>\n",
              "      <td>0.12231</td>\n",
              "      <td>141.62</td>\n",
              "      <td>84.574</td>\n",
              "      <td>0.73919</td>\n",
              "      <td>0.95787</td>\n",
              "      <td>65.936</td>\n",
              "      <td>0.18811</td>\n",
              "      <td>0.11601</td>\n",
              "      <td>1.2959</td>\n",
              "      <td>0.56511</td>\n",
              "      <td>0.40285</td>\n",
              "      <td>1.8839</td>\n",
              "      <td>2.1184</td>\n",
              "      <td>3186.6</td>\n",
              "      <td>0.13485</td>\n",
              "      <td>0.48431</td>\n",
              "      <td>0.86515</td>\n",
              "      <td>0.12444</td>\n",
              "      <td>6.3985</td>\n",
              "      <td>4.3158</td>\n",
              "      <td>127.21</td>\n",
              "      <td>2.8692</td>\n",
              "      <td>7.898</td>\n",
              "      <td>0</td>\n",
              "    </tr>\n",
              "    <tr>\n",
              "      <th>...</th>\n",
              "      <td>...</td>\n",
              "      <td>...</td>\n",
              "      <td>...</td>\n",
              "      <td>...</td>\n",
              "      <td>...</td>\n",
              "      <td>...</td>\n",
              "      <td>...</td>\n",
              "      <td>...</td>\n",
              "      <td>...</td>\n",
              "      <td>...</td>\n",
              "      <td>...</td>\n",
              "      <td>...</td>\n",
              "      <td>...</td>\n",
              "      <td>...</td>\n",
              "      <td>...</td>\n",
              "      <td>...</td>\n",
              "      <td>...</td>\n",
              "      <td>...</td>\n",
              "      <td>...</td>\n",
              "      <td>...</td>\n",
              "      <td>...</td>\n",
              "      <td>...</td>\n",
              "      <td>...</td>\n",
              "      <td>...</td>\n",
              "      <td>...</td>\n",
              "      <td>...</td>\n",
              "      <td>...</td>\n",
              "      <td>...</td>\n",
              "      <td>...</td>\n",
              "      <td>...</td>\n",
              "      <td>...</td>\n",
              "      <td>...</td>\n",
              "      <td>...</td>\n",
              "      <td>...</td>\n",
              "      <td>...</td>\n",
              "      <td>...</td>\n",
              "      <td>...</td>\n",
              "      <td>...</td>\n",
              "      <td>...</td>\n",
              "      <td>...</td>\n",
              "      <td>...</td>\n",
              "      <td>...</td>\n",
              "      <td>...</td>\n",
              "      <td>...</td>\n",
              "      <td>...</td>\n",
              "      <td>...</td>\n",
              "      <td>...</td>\n",
              "      <td>...</td>\n",
              "      <td>...</td>\n",
              "      <td>...</td>\n",
              "      <td>...</td>\n",
              "      <td>...</td>\n",
              "      <td>...</td>\n",
              "      <td>...</td>\n",
              "      <td>...</td>\n",
              "      <td>...</td>\n",
              "      <td>...</td>\n",
              "      <td>...</td>\n",
              "      <td>...</td>\n",
              "      <td>...</td>\n",
              "      <td>...</td>\n",
              "      <td>...</td>\n",
              "      <td>...</td>\n",
              "      <td>...</td>\n",
              "      <td>...</td>\n",
              "    </tr>\n",
              "    <tr>\n",
              "      <th>43400</th>\n",
              "      <td>0.012898</td>\n",
              "      <td>0.70621</td>\n",
              "      <td>0.038857</td>\n",
              "      <td>1.1722</td>\n",
              "      <td>-18.907</td>\n",
              "      <td>0</td>\n",
              "      <td>0.013981</td>\n",
              "      <td>0.416</td>\n",
              "      <td>1.6768</td>\n",
              "      <td>0.29379</td>\n",
              "      <td>0.041583</td>\n",
              "      <td>0.061959</td>\n",
              "      <td>0.023622</td>\n",
              "      <td>0.013981</td>\n",
              "      <td>6507.6</td>\n",
              "      <td>0.056089</td>\n",
              "      <td>1.416</td>\n",
              "      <td>0.013981</td>\n",
              "      <td>0.008338</td>\n",
              "      <td>27.092</td>\n",
              "      <td>1.033</td>\n",
              "      <td>0.040401</td>\n",
              "      <td>0.007692</td>\n",
              "      <td>0.90184</td>\n",
              "      <td>0.083706</td>\n",
              "      <td>0.054556</td>\n",
              "      <td>1.4637</td>\n",
              "      <td>0.052831</td>\n",
              "      <td>4.9667</td>\n",
              "      <td>0.41853</td>\n",
              "      <td>0.024762</td>\n",
              "      <td>50.128</td>\n",
              "      <td>7.4</td>\n",
              "      <td>2.3644</td>\n",
              "      <td>0.033819</td>\n",
              "      <td>1.6768</td>\n",
              "      <td>0.3785</td>\n",
              "      <td>0.66377</td>\n",
              "      <td>0.020169</td>\n",
              "      <td>0.022858</td>\n",
              "      <td>0.35651</td>\n",
              "      <td>0.024093</td>\n",
              "      <td>56.452</td>\n",
              "      <td>29.36</td>\n",
              "      <td>0.10363</td>\n",
              "      <td>0.62061</td>\n",
              "      <td>27.207</td>\n",
              "      <td>0.014771</td>\n",
              "      <td>0.008809</td>\n",
              "      <td>0.37454</td>\n",
              "      <td>0.22564</td>\n",
              "      <td>0.13514</td>\n",
              "      <td>0.39944</td>\n",
              "      <td>0.90248</td>\n",
              "      <td>3599.1</td>\n",
              "      <td>0.020169</td>\n",
              "      <td>0.043904</td>\n",
              "      <td>1.0122</td>\n",
              "      <td>1.2594</td>\n",
              "      <td>13.472</td>\n",
              "      <td>12.432</td>\n",
              "      <td>49.117</td>\n",
              "      <td>7.4313</td>\n",
              "      <td>2.2799</td>\n",
              "      <td>1</td>\n",
              "    </tr>\n",
              "    <tr>\n",
              "      <th>43401</th>\n",
              "      <td>-0.57805</td>\n",
              "      <td>0.96702</td>\n",
              "      <td>-0.80085</td>\n",
              "      <td>0.16576</td>\n",
              "      <td>-67.365</td>\n",
              "      <td>-0.57805</td>\n",
              "      <td>-0.57805</td>\n",
              "      <td>-0.40334</td>\n",
              "      <td>0.93979</td>\n",
              "      <td>-0.39004</td>\n",
              "      <td>-0.57805</td>\n",
              "      <td>-0.60216</td>\n",
              "      <td>-0.11022</td>\n",
              "      <td>-0.57805</td>\n",
              "      <td>-742.28</td>\n",
              "      <td>-0.49173</td>\n",
              "      <td>1.0341</td>\n",
              "      <td>-0.57805</td>\n",
              "      <td>-0.13399</td>\n",
              "      <td>3.2965</td>\n",
              "      <td>0.6477</td>\n",
              "      <td>-0.53492</td>\n",
              "      <td>-0.13399</td>\n",
              "      <td>-0.57805</td>\n",
              "      <td>-0.39004</td>\n",
              "      <td>-0.49173</td>\n",
              "      <td>?</td>\n",
              "      <td>-0.9524</td>\n",
              "      <td>4.0622</td>\n",
              "      <td>0.21864</td>\n",
              "      <td>-0.13399</td>\n",
              "      <td>76.33</td>\n",
              "      <td>4.7819</td>\n",
              "      <td>-0.55316</td>\n",
              "      <td>-0.53492</td>\n",
              "      <td>4.3912</td>\n",
              "      <td>17.036</td>\n",
              "      <td>-0.38299</td>\n",
              "      <td>-0.12399</td>\n",
              "      <td>0.024771</td>\n",
              "      <td>-0.073529</td>\n",
              "      <td>-0.12399</td>\n",
              "      <td>11.451</td>\n",
              "      <td>8.1548</td>\n",
              "      <td>-14.836</td>\n",
              "      <td>0.12517</td>\n",
              "      <td>3.098</td>\n",
              "      <td>-0.63746</td>\n",
              "      <td>-0.14776</td>\n",
              "      <td>0.16455</td>\n",
              "      <td>0.95997</td>\n",
              "      <td>0.20912</td>\n",
              "      <td>-0.46385</td>\n",
              "      <td>-0.45546</td>\n",
              "      <td>-9242.1</td>\n",
              "      <td>-0.064073</td>\n",
              "      <td>1.482</td>\n",
              "      <td>1.0641</td>\n",
              "      <td>-0.018084</td>\n",
              "      <td>110.72</td>\n",
              "      <td>44.759</td>\n",
              "      <td>81.22</td>\n",
              "      <td>4.494</td>\n",
              "      <td>5.1305</td>\n",
              "      <td>1</td>\n",
              "    </tr>\n",
              "    <tr>\n",
              "      <th>43402</th>\n",
              "      <td>-0.17905</td>\n",
              "      <td>1.2553</td>\n",
              "      <td>-0.27599</td>\n",
              "      <td>0.74554</td>\n",
              "      <td>-120.44</td>\n",
              "      <td>-0.17905</td>\n",
              "      <td>-0.15493</td>\n",
              "      <td>-0.26018</td>\n",
              "      <td>1.1749</td>\n",
              "      <td>-0.32659</td>\n",
              "      <td>-0.15493</td>\n",
              "      <td>-0.14284</td>\n",
              "      <td>-0.07294</td>\n",
              "      <td>-0.15493</td>\n",
              "      <td>-3298.2</td>\n",
              "      <td>-0.11067</td>\n",
              "      <td>0.79665</td>\n",
              "      <td>-0.15493</td>\n",
              "      <td>-0.08135</td>\n",
              "      <td>37.046</td>\n",
              "      <td>0.83104</td>\n",
              "      <td>0.1767</td>\n",
              "      <td>-0.094015</td>\n",
              "      <td>-0.15493</td>\n",
              "      <td>-0.32659</td>\n",
              "      <td>-0.12988</td>\n",
              "      <td>?</td>\n",
              "      <td>-1.4423</td>\n",
              "      <td>5.3244</td>\n",
              "      <td>0.65813</td>\n",
              "      <td>-0.08135</td>\n",
              "      <td>244.23</td>\n",
              "      <td>1.4945</td>\n",
              "      <td>0.14077</td>\n",
              "      <td>0.1767</td>\n",
              "      <td>1.9515</td>\n",
              "      <td>3.6065</td>\n",
              "      <td>-0.15597</td>\n",
              "      <td>0.09278</td>\n",
              "      <td>0.064095</td>\n",
              "      <td>0.21414</td>\n",
              "      <td>0.09278</td>\n",
              "      <td>141.65</td>\n",
              "      <td>104.61</td>\n",
              "      <td>-0.9263</td>\n",
              "      <td>0.56733</td>\n",
              "      <td>43.526</td>\n",
              "      <td>0.16068</td>\n",
              "      <td>0.08437</td>\n",
              "      <td>0.64421</td>\n",
              "      <td>1.0846</td>\n",
              "      <td>0.66913</td>\n",
              "      <td>-1.7067</td>\n",
              "      <td>-0.81508</td>\n",
              "      <td>-58253</td>\n",
              "      <td>0.14888</td>\n",
              "      <td>0.54824</td>\n",
              "      <td>0.85112</td>\n",
              "      <td>-0.52243</td>\n",
              "      <td>9.8526</td>\n",
              "      <td>3.4892</td>\n",
              "      <td>207.87</td>\n",
              "      <td>1.7559</td>\n",
              "      <td>9.9527</td>\n",
              "      <td>1</td>\n",
              "    </tr>\n",
              "    <tr>\n",
              "      <th>43403</th>\n",
              "      <td>-0.10886</td>\n",
              "      <td>0.74394</td>\n",
              "      <td>0.015449</td>\n",
              "      <td>1.0878</td>\n",
              "      <td>-17.003</td>\n",
              "      <td>-0.10886</td>\n",
              "      <td>-0.10918</td>\n",
              "      <td>0.12531</td>\n",
              "      <td>0.84516</td>\n",
              "      <td>0.093224</td>\n",
              "      <td>-0.10918</td>\n",
              "      <td>-0.62038</td>\n",
              "      <td>-0.065652</td>\n",
              "      <td>-0.10918</td>\n",
              "      <td>-5352.1</td>\n",
              "      <td>-0.068197</td>\n",
              "      <td>1.3442</td>\n",
              "      <td>-0.10918</td>\n",
              "      <td>-0.14128</td>\n",
              "      <td>26.285</td>\n",
              "      <td>1.121</td>\n",
              "      <td>-0.09995</td>\n",
              "      <td>-0.14086</td>\n",
              "      <td>-0.10918</td>\n",
              "      <td>0.093224</td>\n",
              "      <td>-0.067762</td>\n",
              "      <td>?</td>\n",
              "      <td>0.019106</td>\n",
              "      <td>4.8555</td>\n",
              "      <td>0.95181</td>\n",
              "      <td>-0.14128</td>\n",
              "      <td>70.252</td>\n",
              "      <td>5.1956</td>\n",
              "      <td>-0.13435</td>\n",
              "      <td>-0.09995</td>\n",
              "      <td>0.83553</td>\n",
              "      <td>0.23908</td>\n",
              "      <td>0.66118</td>\n",
              "      <td>-0.12934</td>\n",
              "      <td>0.048976</td>\n",
              "      <td>-0.5893</td>\n",
              "      <td>-0.12934</td>\n",
              "      <td>86.348</td>\n",
              "      <td>60.064</td>\n",
              "      <td>-1.9561</td>\n",
              "      <td>0.77157</td>\n",
              "      <td>22.215</td>\n",
              "      <td>-0.1584</td>\n",
              "      <td>-0.20497</td>\n",
              "      <td>0.25733</td>\n",
              "      <td>0.17599</td>\n",
              "      <td>0.19247</td>\n",
              "      <td>0.1153</td>\n",
              "      <td>0.81772</td>\n",
              "      <td>1107.5</td>\n",
              "      <td>-0.1832</td>\n",
              "      <td>-1.1677</td>\n",
              "      <td>1.1832</td>\n",
              "      <td>6.0924</td>\n",
              "      <td>13.886</td>\n",
              "      <td>6.0769</td>\n",
              "      <td>83.122</td>\n",
              "      <td>4.3911</td>\n",
              "      <td>0.95575</td>\n",
              "      <td>1</td>\n",
              "    </tr>\n",
              "    <tr>\n",
              "      <th>43404</th>\n",
              "      <td>-0.10537</td>\n",
              "      <td>0.53629</td>\n",
              "      <td>-0.045578</td>\n",
              "      <td>0.91478</td>\n",
              "      <td>-56.068</td>\n",
              "      <td>-0.10537</td>\n",
              "      <td>-0.10994</td>\n",
              "      <td>0.8646</td>\n",
              "      <td>0.9504</td>\n",
              "      <td>0.46367</td>\n",
              "      <td>-0.10994</td>\n",
              "      <td>-0.20557</td>\n",
              "      <td>-0.066747</td>\n",
              "      <td>-0.10994</td>\n",
              "      <td>-2055.9</td>\n",
              "      <td>-0.17754</td>\n",
              "      <td>1.8647</td>\n",
              "      <td>-0.10994</td>\n",
              "      <td>-0.077072</td>\n",
              "      <td>47.199</td>\n",
              "      <td>0.71351</td>\n",
              "      <td>-0.082947</td>\n",
              "      <td>-0.073868</td>\n",
              "      <td>-0.10994</td>\n",
              "      <td>0.46367</td>\n",
              "      <td>-0.16902</td>\n",
              "      <td>?</td>\n",
              "      <td>-0.089234</td>\n",
              "      <td>3.9698</td>\n",
              "      <td>0.37528</td>\n",
              "      <td>-0.077072</td>\n",
              "      <td>130.06</td>\n",
              "      <td>2.8064</td>\n",
              "      <td>-0.15467</td>\n",
              "      <td>-0.082947</td>\n",
              "      <td>1.4481</td>\n",
              "      <td>205.69</td>\n",
              "      <td>0.46515</td>\n",
              "      <td>-0.058149</td>\n",
              "      <td>0.004456</td>\n",
              "      <td>-0.25846</td>\n",
              "      <td>-0.058149</td>\n",
              "      <td>124.57</td>\n",
              "      <td>77.374</td>\n",
              "      <td>-0.57124</td>\n",
              "      <td>0.56987</td>\n",
              "      <td>44.858</td>\n",
              "      <td>-0.097675</td>\n",
              "      <td>-0.068474</td>\n",
              "      <td>0.91225</td>\n",
              "      <td>0.53481</td>\n",
              "      <td>0.35632</td>\n",
              "      <td>0.90779</td>\n",
              "      <td>0.91069</td>\n",
              "      <td>-425.13</td>\n",
              "      <td>-0.052186</td>\n",
              "      <td>-0.22725</td>\n",
              "      <td>1.0522</td>\n",
              "      <td>0.003196</td>\n",
              "      <td>7.7332</td>\n",
              "      <td>4.7174</td>\n",
              "      <td>136.85</td>\n",
              "      <td>2.6672</td>\n",
              "      <td>2.7927</td>\n",
              "      <td>1</td>\n",
              "    </tr>\n",
              "  </tbody>\n",
              "</table>\n",
              "<p>43405 rows × 65 columns</p>\n",
              "</div>"
            ],
            "text/plain": [
              "             0        1          2        3   ...      61      62       63 64\n",
              "0       0.20055  0.37951    0.39641   2.0472  ...  82.658  4.4158   7.4277  0\n",
              "1       0.20912  0.49988    0.47225   1.9447  ...  107.35     3.4   60.987  0\n",
              "2       0.24866  0.69592    0.26713   1.5548  ...  134.27  2.7185   5.2078  0\n",
              "3      0.081483  0.30734    0.45879   2.4928  ...  86.435  4.2228   5.5497  0\n",
              "4       0.18732  0.61323     0.2296   1.4063  ...  127.21  2.8692    7.898  0\n",
              "...         ...      ...        ...      ...  ...     ...     ...      ... ..\n",
              "43400  0.012898  0.70621   0.038857   1.1722  ...  49.117  7.4313   2.2799  1\n",
              "43401  -0.57805  0.96702   -0.80085  0.16576  ...   81.22   4.494   5.1305  1\n",
              "43402  -0.17905   1.2553   -0.27599  0.74554  ...  207.87  1.7559   9.9527  1\n",
              "43403  -0.10886  0.74394   0.015449   1.0878  ...  83.122  4.3911  0.95575  1\n",
              "43404  -0.10537  0.53629  -0.045578  0.91478  ...  136.85  2.6672   2.7927  1\n",
              "\n",
              "[43405 rows x 65 columns]"
            ]
          },
          "metadata": {
            "tags": []
          },
          "execution_count": 59
        }
      ]
    },
    {
      "cell_type": "markdown",
      "metadata": {
        "id": "7xUuWwFzYn9S"
      },
      "source": [
        "##Πληροφορίες dataset\n",
        "Το dataset, πρόκειται επομένως για ένα σύνολο **43405 δειγμάτων**, με κάθε δείγμα να έχει **64 χαρακτηριστικά**. Η τελευταία στήλη είναι η κλάση στην οποία ανήκει το δείγμα, δηλαδή δηλώνει αν πτώχευσε (0) ή όχι (1) η συγκεκριμένη εταιρεία.\n",
        "\n",
        "Πιο συγκεκριμένα, το dataset *Polish companies bankruptcy* αποτελεί ένα σύνολο δεδομένων σχετικά με πολωνικές εταιρείες που πτώχευσαν ή όχι παραθέτοντας αρκετά (64) χαρακτηριστικά τους. Τα στοιχεία έχουν συλλεγεί ως 5 διαφορετικά σύνολα που το καθένα αντιστοιχεί σε 5 διαφορετικά έτη. Παρολαυτά στα πλαίσια της παρούσας εργασίας τα 5 σύνολα δεδομένων θα αντιμετωπιστούν ως ένα ενιαίο σύνολο δεδομένων.\n",
        "\n",
        "Παρακάτω παρατίθεται μία σύντομη περιγραφή του καθενός από τα χαρακτηριστικά των δειγμάτων που υπάρχουν στο dataset:"
      ]
    },
    {
      "cell_type": "markdown",
      "metadata": {
        "id": "BuRmRk3SXd9y"
      },
      "source": [
        "| Attribute | Description                                                                                                         |\n",
        "|-----------|---------------------------------------------------------------------------------------------------------------------|\n",
        "| X1        | net profit / total assets                                                                                           |\n",
        "| X2        | total liabilities / total assets                                                                                    |\n",
        "| X3        | working capital / total assets                                                                                      |\n",
        "| X4        | current assets / short-term liabilities                                                                             |\n",
        "| X5        | [(cash + short-term securities + receivables - short-term liabilities) / (operating expenses - depreciation)] * 365 |\n",
        "| X6        | retained earnings / total assets                                                                                    |\n",
        "| X7        | EBIT / total assets                                                                                                 |\n",
        "| X8        | book value of equity / total liabilities                                                                            |\n",
        "| X9        | sales / total assets                                                                                                |\n",
        "| X10       | equity / total assets                                                                                               |\n",
        "| X11       | (gross profit + extraordinary items + financial expenses) / total assets                                            |\n",
        "| X12       | gross profit / short-term liabilities                                                                               |\n",
        "| X13       | (gross profit + depreciation) / sales                                                                               |\n",
        "| X14       | (gross profit + interest) / total assets                                                                            |\n",
        "| X15       | (total liabilities * 365) / (gross profit + depreciation)                                                           |\n",
        "| X16       | (gross profit + depreciation) / total liabilities                                                                   |\n",
        "| X17       | total assets / total liabilities                                                                                    |\n",
        "| X18       | gross profit / total assets                                                                                         |\n",
        "| X19       | gross profit / sales                                                                                                |\n",
        "| X20       | (inventory * 365) / sales                                                                                           |\n",
        "| X21       | sales (n) / sales (n-1)                                                                                             |\n",
        "| X22       | profit on operating activities / total assets                                                                       |\n",
        "| X23       | net profit / sales                                                                                                  |\n",
        "| X24       | gross profit (in 3 years) / total assets                                                                            |\n",
        "| X25       | (equity - share capital) / total assets                                                                             |\n",
        "| X26       | (net profit + depreciation) / total liabilities                                                                     |\n",
        "| X27       | profit on operating activities / financial expenses                                                                 |\n",
        "| X28       | working capital / fixed assets                                                                                      |\n",
        "| X29       | logarithm of total assets                                                                                           |\n",
        "| X30       | (total liabilities - cash) / sales                                                                                  |\n",
        "| X31       | (gross profit + interest) / sales                                                                                   |\n",
        "| X32       | (current liabilities * 365) / cost of products sold                                                                 |\n",
        "| X33       | operating expenses / short-term liabilities                                                                         |\n",
        "| X34       | operating expenses / total liabilities                                                                              |\n",
        "| X35       | profit on sales / total assets                                                                                      |\n",
        "| X36       | total sales / total assets                                                                                          |\n",
        "| X37       | (current assets - inventories) / long-term liabilities                                                              |\n",
        "| X38       | constant capital / total assets                                                                                     |\n",
        "| X39       | profit on sales / sales                                                                                             |\n",
        "| X40       | (current assets - inventory - receivables) / short-term liabilities                                                 |\n",
        "| X41       | total liabilities / ((profit on operating activities + depreciation) * (12/365))                                    |\n",
        "| X42       | profit on operating activities / sales                                                                              |\n",
        "| X43       | rotation receivables + inventory turnover in days                                                                   |\n",
        "| X44       | (receivables * 365) / sales                                                                                         |\n",
        "| X45       | net profit / inventory                                                                                              |\n",
        "| X46       | (current assets - inventory) / short-term liabilities                                                               |\n",
        "| X47       | (inventory * 365) / cost of products sold                                                                           |\n",
        "| X48       | EBITDA (profit on operating activities - depreciation) / total assets                                               |\n",
        "| X49       | EBITDA (profit on operating activities - depreciation) / sales                                                      |\n",
        "| X50       | current assets / total liabilities                                                                                  |\n",
        "| X51       | short-term liabilities / total assets                                                                               |\n",
        "| X52       | (short-term liabilities * 365) / cost of products sold)                                                             |\n",
        "| X53       | equity / fixed assets                                                                                               |\n",
        "| X54       | constant capital / fixed assets                                                                                     |\n",
        "| X55       | working capital                                                                                                     |\n",
        "| X56       | (sales - cost of products sold) / sales                                                                             |\n",
        "| X57       | (current assets - inventory - short-term liabilities) / (sales - gross profit - depreciation)                       |\n",
        "| X58       | total costs /total sales                                                                                            |\n",
        "| X59       | long-term liabilities / equity                                                                                      |\n",
        "| X60       | sales / inventory                                                                                                   |\n",
        "| X61       | sales / receivables                                                                                                 |\n",
        "| X62       | (short-term liabilities *365) / sales                                                                               |\n",
        "| X63       | sales / short-term liabilities                                                                                      |\n",
        "| X64       | sales / fixed assets                                                                                                |"
      ]
    },
    {
      "cell_type": "markdown",
      "metadata": {
        "id": "cPGd-9K_F3QC"
      },
      "source": [
        "##Περιγραφή χαρακτηριστικών του dataset\n",
        "\n",
        "Όπως είδαμε και προηγουμένως το σύνολο περιλαμβάνει **43405 δείγματα**, με κάθε δείγμα να έχει **64 χαρακτηριστικά**. **Όλα τα χαρακτηριστικά παίρνουν αριθμητικές, μη διατεταγμένες τιμές**.\n",
        "\n",
        "Επίσης, το dataset **δεν** περιλαμβάνει επικεφαλίδες και αρίθμηση γραμμών.\n",
        "\n",
        "Οι ετικέτες των κλάσεων, χρεωκοπεία ή όχι, **αναπαριστόνται με τιμές 0 και 1 αντίστοιχα και βρίσκονται στην τελευταία στήλη**.\n",
        "\n",
        "Οι μοναδικές αλλαγές των αρχικών αρχείων .arff που χρειάστηκε να γίνουν είναι η μετατροπή τους σε αρχεία .csv, που έγινε με όπως περιγράφηκε παραπάνω. Τέλος, τα δεδομένα από τα 5 συνολικά αρχεία συγκεντρώθηκαν σε ένα μόνο αρχείο, το **data.csv**, όπως περιγράφηκε παραπάνω."
      ]
    }
  ]
}