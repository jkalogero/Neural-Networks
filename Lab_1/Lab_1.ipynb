{
 "metadata": {
  "orig_nbformat": 2,
  "kernelspec": {
   "name": "python3",
   "display_name": "Python 3"
  }
 },
 "nbformat": 4,
 "nbformat_minor": 2,
 "cells": [
  {
   "source": [
    "---\n",
    "#Άσκηση 1. Επιβλεπόμενη Μάθηση: Ταξινόμηση\n",
    "---\n",
    "Mικρό Dataset"
   ],
   "cell_type": "markdown",
   "metadata": {}
  }
 ]
}